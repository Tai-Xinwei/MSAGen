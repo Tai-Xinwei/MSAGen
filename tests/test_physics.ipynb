{
 "cells": [
  {
   "cell_type": "code",
   "execution_count": 1,
   "metadata": {},
   "outputs": [
    {
     "name": "stdout",
     "output_type": "stream",
     "text": [
      "loss:  tensor(1.1186e+11)\n"
     ]
    },
    {
     "name": "stderr",
     "output_type": "stream",
     "text": [
      "/home/pis/Documents/git/SFM_framework/sfm/models/tox/modules/physics.py:25: UserWarning: To copy construct from a tensor, it is recommended to use sourceTensor.clone().detach() or sourceTensor.clone().detach().requires_grad_(True), rather than torch.tensor(sourceTensor).\n",
      "  self.sigma = torch.tensor(sigma).to(self.device)\n"
     ]
    }
   ],
   "source": [
    "\"\"\" Test the MixtureGaussian class \"\"\"\n",
    "\n",
    "import SFM_framework.sfm.models.tox.modules.physics as physics\n",
    "import numpy as np\n",
    "import importlib\n",
    "importlib.reload(physics)\n",
    "import torch\n",
    "\n",
    "x = torch.randn(5,2) * 10 # given the 5 gassian centers\n",
    "sigma = torch.tensor(0.5) # given the 5 gassian standard deviation\n",
    "mixture_gaussian = physics.MixtureGaussian(sigma=sigma) # sample number is equal to the number of gassian centers\n",
    "\n",
    "\"\"\" Test the MixtureGaussian class \"\"\"\n",
    "\n",
    "# # test the sampler\n",
    "# data = mixture_gaussian.sampler(x, sample_number=1000) # sample 1000 points from the mixture gassian\n",
    "# import matplotlib.pyplot as plt\n",
    "# plt.scatter(data[:,0], data[:,1])\n",
    "# plt.show()\n",
    "\n",
    "N = 50\n",
    "L = 10000\n",
    "D = 3\n",
    "\n",
    "# # test the Gaussian values \n",
    "# # FIXME:only the dimension test is done without testing values\n",
    "x = torch.randn(N, L, D) # given the N gassian centers\n",
    "q_point, nabla_phi_term, laplace_phi_term = mixture_gaussian(x)\n",
    "# print(\"nabla_phi_term: \", nabla_phi_term)   \n",
    "# print(\"laplace_phi_term: \", laplace_phi_term)\n",
    "\n",
    "\"\"\" test compute_PDEloss \"\"\"\n",
    "\n",
    "q_output = torch.randn(N, L, D)\n",
    "q_output_mtq = torch.randn(N, L, D)\n",
    "q_output_ptq = torch.randn(N, L, D)\n",
    "time_pos = torch.rand(N, L, D)\n",
    "padding_mask = torch.randn(N, L, D)\n",
    "hp, hm = physics.set_time_step(time_pos) \n",
    "\n",
    "loss = physics.compute_PDEloss(q_output, time_pos, q_point, nabla_phi_term, laplace_phi_term,  \n",
    "                   q_output_mtq, q_output_ptq, padding_mask, hp, hm, is_clip=False)\n",
    "\n",
    "print(\"loss: \", loss)"
   ]
  },
  {
   "cell_type": "code",
   "execution_count": null,
   "metadata": {},
   "outputs": [],
   "source": []
  }
 ],
 "metadata": {
  "kernelspec": {
   "display_name": "sfm",
   "language": "python",
   "name": "python3"
  },
  "language_info": {
   "codemirror_mode": {
    "name": "ipython",
    "version": 3
   },
   "file_extension": ".py",
   "mimetype": "text/x-python",
   "name": "python",
   "nbconvert_exporter": "python",
   "pygments_lexer": "ipython3",
   "version": "3.9.18"
  }
 },
 "nbformat": 4,
 "nbformat_minor": 2
}
