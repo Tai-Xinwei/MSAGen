{
 "cells": [
  {
   "cell_type": "code",
   "execution_count": 5,
   "metadata": {},
   "outputs": [],
   "source": [
    "import sys\n",
    "import os\n",
    "\n",
    "import transformers\n",
    "from accelerate import init_empty_weights\n",
    "from transformers import AutoConfig, AutoModelForCausalLM\n",
    "from tqdm import tqdm\n",
    "import torch\n",
    "\n",
    "from sfm.models.pfm.pfm_config import PFMConfig\n",
    "from sfm.models.pfm.pfmmodel import PFMModel\n",
    "from sfm.pipeline.accelerator.dataclasses import DistributedTrainConfig\n",
    "from sfm.criterions.mae3d import ProteinMAE3dCriterions\n",
    "\n",
    "from sfm.utils.cli_utils import cli\n"
   ]
  },
  {
   "cell_type": "code",
   "execution_count": 7,
   "metadata": {},
   "outputs": [],
   "source": [
    "@cli(DistributedTrainConfig, PFMConfig)\n",
    "def infer(args) -> None:\n",
    "    args.sample_mode = True\n",
    "    args.layers=12\n",
    "    args.num_pred_attn_layer=2\n",
    "    args.hidden_size=512\n",
    "    args.ffn_size=2048\n",
    "    args.num_head=32\n",
    "    args.num_3d_bias_kernel=8\n",
    "\n",
    "    model = PFMModel(args, loss_fn=ProteinMAE3dCriterions)\n",
    "\n",
    "infer()\n",
    "\n"
   ]
  },
  {
   "cell_type": "code",
   "execution_count": null,
   "metadata": {},
   "outputs": [],
   "source": [
    "from accelerate import load_checkpoint_and_dispatch\n",
    "\n",
    "device_map = {\"graphormer_encoder\": 0, \"decoder.model.embed_tokens\": 0, \"adaptor\": 0}\n",
    "for i in range(8):\n",
    "    for j in range(i * 10, i * 10 + 10):\n",
    "        device_map[f'decoder.model.layers.{j}'] = i\n",
    "device_map[\"decoder.model.norm\"] = 7\n",
    "device_map[\"decoder.lm_head\"] = 0\n",
    "\n",
    "model = load_checkpoint_and_dispatch(\n",
    "    model, \"/mnt/shiyu/models/converted/ft_100MMFM_70Bllama2_full_mix1/global_step2000/\", device_map=device_map, no_split_module_classes=[\"LlamaDecoderLayer\"]\n",
    ")"
   ]
  }
 ],
 "metadata": {
  "kernelspec": {
   "display_name": "alpaca_mfm_pp",
   "language": "python",
   "name": "python3"
  },
  "language_info": {
   "codemirror_mode": {
    "name": "ipython",
    "version": 3
   },
   "file_extension": ".py",
   "mimetype": "text/x-python",
   "name": "python",
   "nbconvert_exporter": "python",
   "pygments_lexer": "ipython3",
   "version": "3.9.17"
  },
  "orig_nbformat": 4
 },
 "nbformat": 4,
 "nbformat_minor": 2
}
