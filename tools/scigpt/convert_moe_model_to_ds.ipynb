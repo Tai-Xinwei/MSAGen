{
 "cells": [
  {
   "cell_type": "code",
   "execution_count": 1,
   "metadata": {},
   "outputs": [],
   "source": [
    "# convert MoE model to DeepSpeed PP checkpoint"
   ]
  },
  {
   "cell_type": "code",
   "execution_count": 3,
   "metadata": {},
   "outputs": [],
   "source": [
    "import torch\n",
    "import json\n",
    "import safetensors"
   ]
  },
  {
   "cell_type": "code",
   "execution_count": 4,
   "metadata": {},
   "outputs": [],
   "source": [
    "ckpt_home = '/hai1/shufxi/Mixtral-8x7B-v0.1'"
   ]
  },
  {
   "cell_type": "code",
   "execution_count": 5,
   "metadata": {},
   "outputs": [],
   "source": [
    "with open(f'{ckpt_home}/model.safetensors.index.json') as f:\n",
    "    st_index = json.load(f)"
   ]
  },
  {
   "cell_type": "code",
   "execution_count": 11,
   "metadata": {},
   "outputs": [],
   "source": [
    "procssed_keys = set()\n",
    "def get_tensor_by_name(name):\n",
    "    procssed_keys.add(name)\n",
    "    st_file = f'{ckpt_home}/{st_index[\"weight_map\"][name]}'\n",
    "    with safetensors.safe_open(st_file, framework='pt', device='cpu') as f:\n",
    "        return f.get_tensor(name)"
   ]
  },
  {
   "cell_type": "code",
   "execution_count": 12,
   "metadata": {},
   "outputs": [],
   "source": [
    "# input embedding\n",
    "state_dict = {}\n",
    "state_dict['embed_tokens.weight'] = get_tensor_by_name('model.embed_tokens.weight')\n",
    "\n",
    "torch.save(state_dict, f'{ckpt_home}/layer_00-model_states.pt')"
   ]
  },
  {
   "cell_type": "code",
   "execution_count": 14,
   "metadata": {},
   "outputs": [],
   "source": [
    "from tqdm import tqdm"
   ]
  },
  {
   "cell_type": "code",
   "execution_count": 20,
   "metadata": {},
   "outputs": [
    {
     "name": "stderr",
     "output_type": "stream",
     "text": [
      "100%|██████████| 32/32 [13:23<00:00, 25.10s/it]\n"
     ]
    }
   ],
   "source": [
    "# each layers\n",
    "\n",
    "for idx in tqdm(range(32)):\n",
    "    state_dict = {}\n",
    "    state_dict['self_attn.q_proj.weight'] = get_tensor_by_name(f'model.layers.{idx}.self_attn.q_proj.weight')\n",
    "    state_dict['self_attn.k_proj.weight'] = get_tensor_by_name(f'model.layers.{idx}.self_attn.k_proj.weight')\n",
    "    state_dict['self_attn.v_proj.weight'] = get_tensor_by_name(f'model.layers.{idx}.self_attn.v_proj.weight')\n",
    "    state_dict['self_attn.o_proj.weight'] = get_tensor_by_name(f'model.layers.{idx}.self_attn.o_proj.weight')\n",
    "\n",
    "    for eid in range(8):\n",
    "        state_dict[f'block_sparse_moe.experts.{eid}.w1.weight'] = get_tensor_by_name(f'model.layers.{idx}.block_sparse_moe.experts.{eid}.w1.weight')\n",
    "        state_dict[f'block_sparse_moe.experts.{eid}.w2.weight'] = get_tensor_by_name(f'model.layers.{idx}.block_sparse_moe.experts.{eid}.w2.weight')\n",
    "        state_dict[f'block_sparse_moe.experts.{eid}.w3.weight'] = get_tensor_by_name(f'model.layers.{idx}.block_sparse_moe.experts.{eid}.w3.weight')\n",
    "\n",
    "    state_dict['block_sparse_moe.gate.weight'] = get_tensor_by_name(f'model.layers.{idx}.block_sparse_moe.gate.weight')\n",
    "\n",
    "    state_dict['input_layernorm.weight'] = get_tensor_by_name(f'model.layers.{idx}.input_layernorm.weight')\n",
    "    state_dict['post_attention_layernorm.weight'] = get_tensor_by_name(f'model.layers.{idx}.post_attention_layernorm.weight')\n",
    "\n",
    "    torch.save(state_dict, f'{ckpt_home}/layer_{idx+1:02d}-model_states.pt')"
   ]
  },
  {
   "cell_type": "code",
   "execution_count": 16,
   "metadata": {},
   "outputs": [],
   "source": [
    "# final norm\n",
    "state_dict = {}\n",
    "state_dict['norm.weight'] = get_tensor_by_name('model.norm.weight')\n",
    "torch.save(state_dict, f'{ckpt_home}/layer_33-model_states.pt')"
   ]
  },
  {
   "cell_type": "code",
   "execution_count": 17,
   "metadata": {},
   "outputs": [],
   "source": [
    "# lm head\n",
    "state_dict = {}\n",
    "state_dict['lm_head.weight'] = get_tensor_by_name('lm_head.weight')\n",
    "torch.save(state_dict, f'{ckpt_home}/layer_34-model_states.pt')"
   ]
  },
  {
   "cell_type": "code",
   "execution_count": 21,
   "metadata": {},
   "outputs": [],
   "source": [
    "# check if all tensors are processed\n",
    "for k in st_index['weight_map']:\n",
    "    if k not in procssed_keys:\n",
    "        print(f'Warning: {k} not processed')"
   ]
  },
  {
   "cell_type": "code",
   "execution_count": null,
   "metadata": {},
   "outputs": [],
   "source": []
  }
 ],
 "metadata": {
  "kernelspec": {
   "display_name": "sfm_moe",
   "language": "python",
   "name": "python3"
  },
  "language_info": {
   "codemirror_mode": {
    "name": "ipython",
    "version": 3
   },
   "file_extension": ".py",
   "mimetype": "text/x-python",
   "name": "python",
   "nbconvert_exporter": "python",
   "pygments_lexer": "ipython3",
   "version": "3.9.19"
  }
 },
 "nbformat": 4,
 "nbformat_minor": 2
}
