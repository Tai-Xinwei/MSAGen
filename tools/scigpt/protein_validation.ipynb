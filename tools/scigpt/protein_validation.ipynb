{
 "cells": [
  {
   "cell_type": "code",
   "execution_count": 2,
   "metadata": {},
   "outputs": [],
   "source": [
    "valid_file_path = '/blob/shufxi/data/ur50split/uniref50_2023_05.shorten.valid.seqs'\n",
    "\n",
    "seqs = []\n",
    "with open(valid_file_path, 'r') as f:\n",
    "    for line in f:\n",
    "        seqs.append(line.strip())\n"
   ]
  },
  {
   "cell_type": "code",
   "execution_count": 3,
   "metadata": {},
   "outputs": [
    {
     "data": {
      "text/plain": [
       "759891"
      ]
     },
     "execution_count": 3,
     "metadata": {},
     "output_type": "execute_result"
    }
   ],
   "source": [
    "len(seqs)"
   ]
  },
  {
   "cell_type": "code",
   "execution_count": 4,
   "metadata": {},
   "outputs": [],
   "source": [
    "# sort by length\n",
    "seqs = sorted(seqs, key=len)"
   ]
  },
  {
   "cell_type": "code",
   "execution_count": 5,
   "metadata": {},
   "outputs": [
    {
     "name": "stdout",
     "output_type": "stream",
     "text": [
      "466: 100\n",
      "IQGNITPHAIVILPKTEGMEMLVCYEDEGVYVNTYGRITKDVVLQWGEMPTSVAYIHSNQIMGWGEKAIEIRSVETGHLDGVFMHKRAQRLKFLCERNDK\n",
      "\n",
      "1438: 200\n",
      "MGTHEHALDVVVYYHHPDKAPLLRGALLPLAEACAARGTAAHVERHWLHGPHLRLRLQGPPRQVEEASESAASALRDWLREHPSHGDLTETELLERAALAGRAELVPPPYGPIEPDNTVRIQAVDRSSVRGLLGEDGAALREDLLRAGLGALRAGAGFLGEHGDGERARIRLAVTALAAHAGAHPGGLAGGHWSYVSHLE\n",
      "\n",
      "3544: 300\n",
      "FFLLLLREILDPKYGMFKEYEETRTIWFAENSFEDNDVYFLIGMILGLAIYNFTIIDIPFPLALYKKLLSEPIGLSDLKGLSPMMANSLQSLLDYEGNDMQDVFSLSFDISRDMFGEAVTIPLKPNGSNVPVTQENKQEYVNLYINYIFNESVKHQYEAFHKGFMKVCGGRVLQLFHSHELMAVVIGNENYDWHALEEAAEYKNGYKSSDQTIRWFWEVLHEMSLTDKKKFLVYLTGSYRIPIQGMKAIKIVVQPTNDDKFLPVAHTCFNLLDLPRYKTKERLRYKLMQAIQQTEGFSLV\n",
      "\n",
      "134678: 400\n",
      "MIDVPVVEAFMFSSFLNSMIAALALLGIIQATKKPNLMISTHAGMEELGVGAEFHLLVCLHNAIDVPCSINLIESCRGSGAFSLSVNTMHLIEYNERTAAQLLYRRDITHMLVGGESKQISDAFEAYRSKVAISMRHSTTISFLFNMHEDICRSADEVAASMIVLPYHMLYRDDGKMQVRNSEIRKLNQRVISHATCPVGIIIDRGLGDTSLTSAAHLSHNRNVFGLFFGGPSDREAITLGGRLSEHPDIRFTLLHFLCSRHSDGLEQSGTRVSSNSAMVQMPQQKSNPKLDSFPEIEKDQMFLNSFRRKYEKNSRVFYEERTLGTEKDLVPALQALDAECTLFIVGQGQSLAPAGLVRSTECPELGPVGDLLTHSYSSITSSVLVVIKSRSHKSFSRYS\n",
      "\n",
      "346449: 500\n",
      "STTTTTTSSNHRRLFGGGVGTNNNNALSPESAMKQYMNKLSAFEHHEIFNYPQVYFVGPTAKKRQGIVGGNNNNGYDDENGSYLHVPHDHIAYRYEVLKIIGKGSFGQVVKAYDHKAQQHVALKMVRNEKRFHRQAQEEIRILEHLKKQDRDNSMNIVHMLEHFTFRNHICITFELLSMNLYELIKKNKFQGFTLQLVRKFAHSILQCLDSLHNNSIIHCDLKPENILLKQQGRSGIKVIDFGSSCYEHQRIYTYIQSRFYRAPEVILGGKYGMPIDIWSLGCILAELLTGYPLFPGEDEGDQLACIIEMLGMPPQKLLDHSKRARNFISSKGFPRYCTVSTLPDGSSVINGGRSRRGKPRGSPGSKEIMAALKGCDDPLFLDFMRRCLEWDPNSRMTPSQALRHSWLRRRLPKPPPNENRDTNSMSTTIATIGNNGTDTNVGTLNRRNSTGNNRNGAVPKLANGTSSGNKTRQIIPDDVVITSSQFNSRTKLPQIGSTL\n",
      "\n",
      "473215: 600\n",
      "MASAEDNDWGKRLAHIKKEDCEWAAPDNLCMKLEDLEGTISVFKKESSKEKTVDIKVEDLEDFSVSPELQNHETEKVFKQEDCEEFHSSVQHWVVTHTGQLASQQNSMKLKSEFEEKVKRGNRREADESSGSVGTNFQGNGSFSTSSSAQSFLHCTMQEKQDNGKMKKPTRGLENMTVASLQYGTYLAGKLTETGVISTDEQHVYHSNQEFLHPIQGCGETFDNKSDCKDHELVHRTLSPYSCSEFVKRFLHNSSLQAQISIHTGEKTHCCSECGKRFSDSYNLQRHTRIHTGEKPYACVECGKRFTVSSQLLCHTRIHTGERPYGCSECGKRFYYSSHLQRHTQIHTGEKPFSCPECGKRFYYSSHLQNHIRIHTGEKPYCCSECGKRFSEFSSLHRHARIHTGEKPFGCSECGKRFSRNSRLQNHLRIHTGEKPYVCPECGKQFSNSGSLHSHKRTHAGEKPYVCPECGKNFSNSSSLQSHKRIHAGEKPYVCHECGKKFSHSSSLQRHTQIHTGEKPFNCSKCDKRFSQSSALQRHIQIHTGEKPYSCSECCKRFYHSSSLQRHTQIHTGEKPYVCSECGKRFYHSSSLQRHTQIHA\n",
      "\n",
      "553598: 700\n",
      "MSGAALAIEIVVVFFLALFLLHRYGDFKKQQRMVLFSTLLAWYLCFLIVFILPLDVSTTIYRQCVSSHQTPTPGPQISNQTTGNATVAPTISIATVCHKPWSYIPDGIMPVFWRVVYWTSQCLTWLLLPFMQSYARSGGFSITGKIKTALIENAIYYGTYLFIFGSLLIYVAVHPQWSLSWYELQTIGITAANTWGLFLLVLLMGYGLVEIPRSYWEASKQGHLLIKTYFKAAKLMTEKADAEENLEDVIEEVRKVNESIKYNHPFRKYVDTILRKCPVEYQEKMGRNMDDYEDFDDKQNTYPSERSLVKLHKQVIYAVQRHNRTQVQWQILLDQAFHLEDVAKNETSSSHQFIHSFAPTEPASWFNRYIYTPTVEWYWECFLKKWFYRVLAVVLSLFSVAVVWSECTFFSTRPVLSLFAVFIQLAERDYNYLYIEMACFITIFFLCTCVYSTVFRIRVFNYYYLASHHQTDAYSLQFSGMLFCRLTPPLCLNFLGLIHMDSAISHQAKEQTAYTSIMGSMRVLSFIANGFYIYYPMLIVILCIATYFSLGTRCLNLLGFQQFMGDSEMTSDLIDEGRELLRRERRKRQRIEDGENRRREWRERYSHQRDEAGARNRASASEMKETNYADTLSSNSNRQAKYSRGGGTRSERDRIELLQDAEPLDFNAETVSDDPLESNRHTGGRYLSMSSSQSRIFDDV\n",
      "\n",
      "608029: 800\n",
      "MEEADAKREAEEEERRKKRDAEKAAQKAAEEANKKTNAEEADRKLREQEREMERLEEEKEKRREAAESSGGKSLSVAEALAQMRTGGDDQGKKDESAESVADKLADMSIGDKSADAAGQKEKRVAKPAALNLAPIKTSAVEPPQPSAALQSLKSARFLQVMDQDIYPEGIKSPNPALNAAVAKKGKTFKYDAAFLLQFQKVFTEQPSLQFHQQIKQLIGDGDGNRSASRGQTPSSARQGSRGGGGFPGGTFGVPTGRTLPPGTTSADRMAIASGTLPRPQVNPMASFQRPGAAFPGSSSMSRTSSQNMRNMPNSPRQSSRSTRGSRRNDNGAKEAQAAKTMPLTAGMEVKPITISATGWKASSLGKAPAAAPVPGSGQLLDPETVQRKVKAALNKMTPEKFDRIADQILVIASQSKDESDGRTLRQVIQLTFEKATDEAHWASMYAKFCKRMLETMSPDIRDENIKDKNGNVVSGGNLFRKYLLNRCQEEFERGWTSNLPEAPEEDDKKTAEAAMLSDEYYAAAAAKRRGLGLVQFIGELFKLGMLTERIMHECVHKLVDYKGIPDEAEIESLCKLLRTIGANLDETDKGRPMMDIYFQRIQGMADLPELQSRMRFMLMDVIDLRRARWVSKEANKGPKTLDEVRAEAEAAQAAKAQEAARTSQRGGPGGGRPPVGRGDARNFSGNFSQPVSNQVGMDDLRRLKGSSVNRTSSSNVTLGPASMLSSRSNSGRRFGPGGALGRPGDDSNSSSRAGTPGPTSSNAFSLLATMDNDHPASPPSAGPSPLMSKAVPASDKKDNE\n",
      "\n",
      "645895: 900\n",
      "MLRFLRRTFGRRSMQRYARGAAGRGAAGLGDERDGGPRGGPAAAASSSALPAAPGGSVFPAGGGPLLTGGAAVHISAAGAAKATLYCRVFLLDGTEVSVDLPKHAKGQDLFDQIVYHLDLVETDYFGLQFLDSAQVAHWLDHAKPIKKQMKIGPAYALHFRVKYYSSEPNNLREEFTRYLFVLQLRHDILSGKLKCPYETAVELAALCLQAELGECELPEHTPELVSEFRFIPNQTEAMEFDIFQRWKECRGKSPAQAELSYLNKAKWLEMYGVDMHVVRGRDGCEYSLGLTPTGILIFEGANKIGLFFWPKITKMDFKKSKLTLVVVEDDDQGREQEHTFVFRLDSARTCKHLWKCAVEHHAFFRLRTPGNSKSNRSDFIRLGSRFRFSGRTEYQATHGSRLRRTSTFERKPSKRYPSRRHSTFKASNPVIAAQLCSKTNPEVHNYQPQYHPNIHPSQPRWHPHSPNVSYPLPSPVLSSSDRLPFGIEENGGTPFLTAASGRHHHQHQHQHQHQHHSNYSLSLTLENKEGPLRSPNSSSKSLTKLSPGTPALFSEAAAHLKKLELETVKAAGPWPPLHININKAEEKKVSEKTLQTPLLPSPVADHVKCNILKAQLENASRVNIQGGKEESPFVNINKKSSLQDASVRSPIPIRVETAQPAVEKPEIKPPRVRKLTRQYSFDEDDLPPDLAEAVGVTTSTTTNTTTAATQVSVPLPSPKVQNVSSPHKSEGKGLLSPGAKSPSDRGGAFTLEPGDLLMDFTEATPLAEPASNPHCAHSRCSPPLSLPMKEETTGVCMYPPIKTRLIKTFPVDTMNPFPDTFTTGPQFTADFRDSKLQCCPGPTSPLIPAATLRPLTETVSTVQTIYTTRKPVSLAASAETLRQELEREKMMKRLLMTEL\n",
      "\n",
      "672441: 1000\n",
      "MIGASRSQGKAVGCGIVQERGSRPSILQEILLPYVRRDDCEDDLKPTIYNFTNNMICAGYKKRVGDVCNGDSGGGFMMELPGGFKWVLAGIVSFGFKCNNPYHYSYFTNVGMFYDWIDSIAKFTDENIKLDFLTTTSSEQDPESSIMRVTMGSNLTSAKTTAPTQSPVAQDNAVCGHVCRNGGSCIAHDRCACPLGFKGPYCELYCISGKADVVFVVDESSSVGGANFSSLIQFISALVNGLTIGPAAVQVGWVRFATGVSNRFFLNTYTTADAIVKDIDGLRITGGGTNIKGAFQGARVAQFVASKGARPGAQKVLVLVTYGAQEGLQPVAQILRSSGIKIITLGITPNVDRALLTNISDTFFFIKAFSNLSSVQQALLSATCEATKEPPLPCSYGPCLHNGTCTDLGTSDFSCSCTELYTGSNCETEFDPCSSDPCLNNGMCTWHEALNYTCVCTQGYVGDHCETDIDECLIGTSGCEQQCHNSLGSVECACGSGYMLTSDGKSCNDINECSIGSDQCQQVCFNTDGSYSCFCNAGYTKNTDGLSCDDMDECSKGLHNCSDICNNMPGGFRCACKSGYTLTSDNASCSDTDECTAGTDLCQQECHNTVGSYNCSCYKGYTIGAGGYSCEDTNECWQTTAECFQTCTNTPGSYTCSCRQGYQLLPDNATCEDINECSIGSDQCQQVCFNMDGSYSCFCNAGYIKNTDGLSCDDVDECSKEMHNCSDICSNTPGGFRCTCKSGYTLKSDNSSCSDTDECIAGIDLCQHECHNTVGSYNCSCYHGFALGMDGQVCEDVDECQGKTDNCRQICTNTIGSFQCSCNAGYTLNQDSSTCSDTDECFLRTHDCAQTCTNVVASYTCSCVEGYEARDAGRICIDVNECLANADDCAHECTNTNGSFRCSCRTGYALAIDGKSCDDVDECARQTHGCEQQCSNTVGSFVCSCRTGFRLQADNKTCADIDECVAGTNFCAHRCFNRPGGYQCSCLTGFQLQADEHSCT\n",
      "\n"
     ]
    }
   ],
   "source": [
    "to_print_len = 100\n",
    "for i, seq in enumerate(seqs):\n",
    "    if len(seq) >= to_print_len:\n",
    "        print(f'{i}: {len(seq)}')\n",
    "        print(seq)\n",
    "        print()\n",
    "        to_print_len += 100\n",
    "        if to_print_len > 1000:\n",
    "            break"
   ]
  },
  {
   "cell_type": "code",
   "execution_count": 13,
   "metadata": {},
   "outputs": [],
   "source": [
    "import random\n",
    "random.seed(0)\n",
    "\n",
    "samples = random.sample(seqs[466:346449], 200)"
   ]
  },
  {
   "cell_type": "code",
   "execution_count": 7,
   "metadata": {},
   "outputs": [
    {
     "data": {
      "text/plain": [
       "'MDLTKSFFSLLALINPIGAIPFFISLTESQTDEEKRRTIKTASVSVALVIGISALLGEQIIGFFGFSVGSLQVGGGIIMIMIALNMLNAQTSRTKATPEEEDEAGVRASIAVVPLAIPLLTGPGSISTVIVYAGKTQHWYELFFLAGVGVLIALVVWVVLRAACRRADRPRDRPHRHQRRHAPDGADPCGAGRGIYRRRAENPVACSQIMTTIAIVDYGMGNLRSVAQALRAVAPDADVRISAQADEIRTADRVVLPGQGAMPDCMAAFDLSGLHDAVLEAARTKPMLGVCVGEQMLLERSTEARPGREFTRGLGLIAGDVVRFDLDGQLQPDGSRYKVPQMGWNRVHQSRAHALWAGVPDQSYFYFVHSYYARPAHPEESVGETEYGVRFTCAIARDNIFATQFHPEKSAQAGLQIYRNFVHWNP'"
      ]
     },
     "execution_count": 7,
     "metadata": {},
     "output_type": "execute_result"
    }
   ],
   "source": [
    "samples[0]"
   ]
  },
  {
   "cell_type": "code",
   "execution_count": 8,
   "metadata": {},
   "outputs": [],
   "source": [
    "step_list = [\n",
    "39645,\n",
    "79290,\n",
    "118935,\n",
    "145365,\n",
    "185010,\n",
    "]"
   ]
  },
  {
   "cell_type": "code",
   "execution_count": 9,
   "metadata": {},
   "outputs": [
    {
     "name": "stderr",
     "output_type": "stream",
     "text": [
      "/anaconda/envs/sfm2/lib/python3.9/site-packages/tqdm/auto.py:21: TqdmWarning: IProgress not found. Please update jupyter and ipywidgets. See https://ipywidgets.readthedocs.io/en/stable/user_install.html\n",
      "  from .autonotebook import tqdm as notebook_tqdm\n"
     ]
    },
    {
     "name": "stdout",
     "output_type": "stream",
     "text": [
      "[2024-03-13 06:26:21,876] [INFO] [real_accelerator.py:133:get_accelerator] Setting ds_accelerator to cuda (auto detect)\n"
     ]
    }
   ],
   "source": [
    "from sfm.data.sci_data.SFMDecTokenizer import SFMDecTokenizer\n",
    "from transformers import AutoTokenizer, AutoModelForCausalLM\n",
    "import torch\n",
    "import os\n",
    "from tqdm import tqdm"
   ]
  },
  {
   "cell_type": "code",
   "execution_count": 10,
   "metadata": {},
   "outputs": [
    {
     "name": "stderr",
     "output_type": "stream",
     "text": [
      "The tokenizer class you load from this checkpoint is not the same type as the class this function is called from. It may result in unexpected tokenization. \n",
      "The tokenizer class you load from this checkpoint is 'LlamaTokenizer'. \n",
      "The class this function is called from is 'SFMDecTokenizer'.\n"
     ]
    },
    {
     "name": "stderr",
     "output_type": "stream",
     "text": [
      "You are using the default legacy behaviour of the <class 'sfm.data.sci_data.SFMDecTokenizer.SFMDecTokenizer'>. This is expected, and simply means that the `legacy` (previous) behavior will be used so nothing changes for you. If you want to use the new behaviour, set `legacy=False`. This should only be set if you understand what it means, and thouroughly read the reason why this was added as explained in https://github.com/huggingface/transformers/pull/24565\n"
     ]
    },
    {
     "name": "stdout",
     "output_type": "stream",
     "text": [
      "[\u001b[32m2024-03-13 06:26:23.952\u001b[0m][\u001b[36mINFO\u001b[0m]: Loading protein sentencepiece model from /blob/shufxi/data/scigpt/ur50bpe/bpe.model and /blob/shufxi/data/scigpt/ur50bpe/bpe.vocab\n",
      "[\u001b[32m2024-03-13 06:26:24.014\u001b[0m][\u001b[36mINFO\u001b[0m]: Loading DNA sentencepiece model from /blob/shufxi/data/scigpt/dnabpe/bpe.model and /blob/shufxi/data/scigpt/dnabpe/bpe.vocab\n",
      "[\u001b[32m2024-03-13 06:26:24.075\u001b[0m][\u001b[36mINFO\u001b[0m]: Loading RNA sentencepiece model from /blob/shufxi/data/scigpt/rnabpe/bpe.model and /blob/shufxi/data/scigpt/rnabpe/bpe.vocab\n",
      "[\u001b[32m2024-03-13 06:26:24.571\u001b[0m][\u001b[36mINFO\u001b[0m]: Tokenizer has 40014 tokens\n"
     ]
    }
   ],
   "source": [
    "tokenizer_home = '/hai1/ds_dataset/llama2/llama-2-7b'\n",
    "tokenizer = SFMDecTokenizer.from_pretrained(\n",
    "    tokenizer_home,\n",
    "    prot_spm_path='/blob/shufxi/data/scigpt/ur50bpe/bpe',\n",
    "    dna_spm_path='/blob/shufxi/data/scigpt/dnabpe/bpe',\n",
    "    rna_spm_path='/blob/shufxi/data/scigpt/rnabpe/bpe',\n",
    ")"
   ]
  },
  {
   "cell_type": "code",
   "execution_count": 23,
   "metadata": {},
   "outputs": [],
   "source": [
    "def load_ckpt(ckpt_home):\n",
    "    ckpt_dict = {}\n",
    "\n",
    "    layer0 = torch.load(os.path.join(ckpt_home, \"layer_00-model_states.pt\"), map_location=torch.device(\"cpu\"))\n",
    "    ckpt_dict['model.embed_tokens.weight'] = layer0['embed_tokens.weight']\n",
    "\n",
    "    for l in range(0, 32):\n",
    "        l_index = str(l + 1).zfill(2)\n",
    "        layer = torch.load(os.path.join(ckpt_home, f\"layer_{l_index}-model_states.pt\"), map_location=torch.device(\"cpu\"))\n",
    "        for k in layer:\n",
    "            if \"dummy\" in k or 'rotary_emb' in k:\n",
    "                continue\n",
    "            ckpt_dict[f\"model.layers.{l}.{k}\"] = layer[k]\n",
    "\n",
    "    layer = torch.load(os.path.join(ckpt_home, \"layer_33-model_states.pt\"), map_location=torch.device(\"cpu\"))\n",
    "    ckpt_dict[\"model.norm.weight\"] = layer[\"norm.weight\"]\n",
    "\n",
    "    layer = torch.load(os.path.join(ckpt_home, \"layer_34-model_states.pt\"), map_location=torch.device(\"cpu\"))\n",
    "    ckpt_dict[\"lm_head.weight\"] = layer[\"lm_head.weight\"]\n",
    "\n",
    "    return ckpt_dict\n",
    "\n",
    "def load_model(ckpt_dict):\n",
    "    model = AutoModelForCausalLM.from_pretrained(tokenizer_home)\n",
    "    model_dict = model.state_dict()\n",
    "    model_dict.update(ckpt_dict)\n",
    "    model.resize_token_embeddings(len(tokenizer))\n",
    "    model.load_state_dict(model_dict)\n",
    "    model.eval()\n",
    "    model.cuda()\n",
    "    return model\n",
    "\n",
    "def score(model, seq):\n",
    "    inputs = tokenizer('<protein>'+seq+'</protein>', return_tensors=\"pt\")\n",
    "    input_ids = inputs[\"input_ids\"].cuda()\n",
    "    attention_mask = inputs[\"attention_mask\"].cuda()\n",
    "    with torch.no_grad():\n",
    "        outputs = model(input_ids, attention_mask=attention_mask)\n",
    "        logits = outputs.logits\n",
    "        logits = logits[0, :-1, :]\n",
    "        label = input_ids[0, 1:]\n",
    "\n",
    "        loss = torch.nn.functional.cross_entropy(logits, label)\n",
    "        return loss.item()"
   ]
  },
  {
   "cell_type": "code",
   "execution_count": 24,
   "metadata": {},
   "outputs": [
    {
     "name": "stdout",
     "output_type": "stream",
     "text": [
      "scoring step 39645\n"
     ]
    },
    {
     "name": "stderr",
     "output_type": "stream",
     "text": [
      " 15%|█▌        | 152/1000 [39:25<3:39:58, 15.56s/it]\n",
      "Loading checkpoint shards: 100%|██████████| 2/2 [00:27<00:00, 13.56s/it]\n",
      "100%|██████████| 200/200 [00:31<00:00,  6.25it/s]\n"
     ]
    },
    {
     "name": "stdout",
     "output_type": "stream",
     "text": [
      "scoring step 79290\n"
     ]
    },
    {
     "name": "stderr",
     "output_type": "stream",
     "text": [
      "Loading checkpoint shards: 100%|██████████| 2/2 [00:29<00:00, 14.56s/it]\n",
      "100%|██████████| 200/200 [00:32<00:00,  6.24it/s]\n"
     ]
    },
    {
     "name": "stdout",
     "output_type": "stream",
     "text": [
      "scoring step 118935\n"
     ]
    },
    {
     "name": "stderr",
     "output_type": "stream",
     "text": [
      "Loading checkpoint shards: 100%|██████████| 2/2 [02:47<00:00, 83.72s/it] \n",
      "100%|██████████| 200/200 [00:32<00:00,  6.24it/s]\n"
     ]
    },
    {
     "name": "stdout",
     "output_type": "stream",
     "text": [
      "scoring step 145365\n"
     ]
    },
    {
     "name": "stderr",
     "output_type": "stream",
     "text": [
      "Loading checkpoint shards: 100%|██████████| 2/2 [00:28<00:00, 14.09s/it]\n",
      "100%|██████████| 200/200 [00:32<00:00,  6.24it/s]\n"
     ]
    },
    {
     "name": "stdout",
     "output_type": "stream",
     "text": [
      "scoring step 185010\n"
     ]
    },
    {
     "ename": "OSError",
     "evalue": "[Errno 5] Input/output error: '/hai1/shufxi/scigpt/7bv3/stageB.prot/global_step185010/layer_01-model_states.pt'",
     "output_type": "error",
     "traceback": [
      "\u001b[0;31m---------------------------------------------------------------------------\u001b[0m",
      "\u001b[0;31mOSError\u001b[0m                                   Traceback (most recent call last)",
      "Cell \u001b[0;32mIn[24], line 6\u001b[0m\n\u001b[1;32m      4\u001b[0m \u001b[38;5;28mprint\u001b[39m(\u001b[38;5;124m'\u001b[39m\u001b[38;5;124mscoring step\u001b[39m\u001b[38;5;124m'\u001b[39m, step)\n\u001b[1;32m      5\u001b[0m ckpt_home \u001b[38;5;241m=\u001b[39m \u001b[38;5;124mf\u001b[39m\u001b[38;5;124m'\u001b[39m\u001b[38;5;124m/hai1/shufxi/scigpt/7bv3/stageB.prot/global_step\u001b[39m\u001b[38;5;132;01m{\u001b[39;00mstep\u001b[38;5;132;01m}\u001b[39;00m\u001b[38;5;124m'\u001b[39m\n\u001b[0;32m----> 6\u001b[0m ckpt_dict \u001b[38;5;241m=\u001b[39m \u001b[43mload_ckpt\u001b[49m\u001b[43m(\u001b[49m\u001b[43mckpt_home\u001b[49m\u001b[43m)\u001b[49m\n\u001b[1;32m      7\u001b[0m model \u001b[38;5;241m=\u001b[39m load_model(ckpt_dict)\n\u001b[1;32m      8\u001b[0m scores \u001b[38;5;241m=\u001b[39m [score(model, seq) \u001b[38;5;28;01mfor\u001b[39;00m seq \u001b[38;5;129;01min\u001b[39;00m tqdm(samples)]\n",
      "Cell \u001b[0;32mIn[23], line 9\u001b[0m, in \u001b[0;36mload_ckpt\u001b[0;34m(ckpt_home)\u001b[0m\n\u001b[1;32m      7\u001b[0m \u001b[38;5;28;01mfor\u001b[39;00m l \u001b[38;5;129;01min\u001b[39;00m \u001b[38;5;28mrange\u001b[39m(\u001b[38;5;241m0\u001b[39m, \u001b[38;5;241m32\u001b[39m):\n\u001b[1;32m      8\u001b[0m     l_index \u001b[38;5;241m=\u001b[39m \u001b[38;5;28mstr\u001b[39m(l \u001b[38;5;241m+\u001b[39m \u001b[38;5;241m1\u001b[39m)\u001b[38;5;241m.\u001b[39mzfill(\u001b[38;5;241m2\u001b[39m)\n\u001b[0;32m----> 9\u001b[0m     layer \u001b[38;5;241m=\u001b[39m \u001b[43mtorch\u001b[49m\u001b[38;5;241;43m.\u001b[39;49m\u001b[43mload\u001b[49m\u001b[43m(\u001b[49m\u001b[43mos\u001b[49m\u001b[38;5;241;43m.\u001b[39;49m\u001b[43mpath\u001b[49m\u001b[38;5;241;43m.\u001b[39;49m\u001b[43mjoin\u001b[49m\u001b[43m(\u001b[49m\u001b[43mckpt_home\u001b[49m\u001b[43m,\u001b[49m\u001b[43m \u001b[49m\u001b[38;5;124;43mf\u001b[39;49m\u001b[38;5;124;43m\"\u001b[39;49m\u001b[38;5;124;43mlayer_\u001b[39;49m\u001b[38;5;132;43;01m{\u001b[39;49;00m\u001b[43ml_index\u001b[49m\u001b[38;5;132;43;01m}\u001b[39;49;00m\u001b[38;5;124;43m-model_states.pt\u001b[39;49m\u001b[38;5;124;43m\"\u001b[39;49m\u001b[43m)\u001b[49m\u001b[43m,\u001b[49m\u001b[43m \u001b[49m\u001b[43mmap_location\u001b[49m\u001b[38;5;241;43m=\u001b[39;49m\u001b[43mtorch\u001b[49m\u001b[38;5;241;43m.\u001b[39;49m\u001b[43mdevice\u001b[49m\u001b[43m(\u001b[49m\u001b[38;5;124;43m\"\u001b[39;49m\u001b[38;5;124;43mcpu\u001b[39;49m\u001b[38;5;124;43m\"\u001b[39;49m\u001b[43m)\u001b[49m\u001b[43m)\u001b[49m\n\u001b[1;32m     10\u001b[0m     \u001b[38;5;28;01mfor\u001b[39;00m k \u001b[38;5;129;01min\u001b[39;00m layer:\n\u001b[1;32m     11\u001b[0m         \u001b[38;5;28;01mif\u001b[39;00m \u001b[38;5;124m\"\u001b[39m\u001b[38;5;124mdummy\u001b[39m\u001b[38;5;124m\"\u001b[39m \u001b[38;5;129;01min\u001b[39;00m k \u001b[38;5;129;01mor\u001b[39;00m \u001b[38;5;124m'\u001b[39m\u001b[38;5;124mrotary_emb\u001b[39m\u001b[38;5;124m'\u001b[39m \u001b[38;5;129;01min\u001b[39;00m k:\n",
      "File \u001b[0;32m/anaconda/envs/sfm2/lib/python3.9/site-packages/torch/serialization.py:986\u001b[0m, in \u001b[0;36mload\u001b[0;34m(f, map_location, pickle_module, weights_only, mmap, **pickle_load_args)\u001b[0m\n\u001b[1;32m    983\u001b[0m \u001b[38;5;28;01mif\u001b[39;00m \u001b[38;5;124m'\u001b[39m\u001b[38;5;124mencoding\u001b[39m\u001b[38;5;124m'\u001b[39m \u001b[38;5;129;01mnot\u001b[39;00m \u001b[38;5;129;01min\u001b[39;00m pickle_load_args\u001b[38;5;241m.\u001b[39mkeys():\n\u001b[1;32m    984\u001b[0m     pickle_load_args[\u001b[38;5;124m'\u001b[39m\u001b[38;5;124mencoding\u001b[39m\u001b[38;5;124m'\u001b[39m] \u001b[38;5;241m=\u001b[39m \u001b[38;5;124m'\u001b[39m\u001b[38;5;124mutf-8\u001b[39m\u001b[38;5;124m'\u001b[39m\n\u001b[0;32m--> 986\u001b[0m \u001b[38;5;28;01mwith\u001b[39;00m \u001b[43m_open_file_like\u001b[49m\u001b[43m(\u001b[49m\u001b[43mf\u001b[49m\u001b[43m,\u001b[49m\u001b[43m \u001b[49m\u001b[38;5;124;43m'\u001b[39;49m\u001b[38;5;124;43mrb\u001b[39;49m\u001b[38;5;124;43m'\u001b[39;49m\u001b[43m)\u001b[49m \u001b[38;5;28;01mas\u001b[39;00m opened_file:\n\u001b[1;32m    987\u001b[0m     \u001b[38;5;28;01mif\u001b[39;00m _is_zipfile(opened_file):\n\u001b[1;32m    988\u001b[0m         \u001b[38;5;66;03m# The zipfile reader is going to advance the current file position.\u001b[39;00m\n\u001b[1;32m    989\u001b[0m         \u001b[38;5;66;03m# If we want to actually tail call to torch.jit.load, we need to\u001b[39;00m\n\u001b[1;32m    990\u001b[0m         \u001b[38;5;66;03m# reset back to the original position.\u001b[39;00m\n\u001b[1;32m    991\u001b[0m         orig_position \u001b[38;5;241m=\u001b[39m opened_file\u001b[38;5;241m.\u001b[39mtell()\n",
      "File \u001b[0;32m/anaconda/envs/sfm2/lib/python3.9/site-packages/torch/serialization.py:435\u001b[0m, in \u001b[0;36m_open_file_like\u001b[0;34m(name_or_buffer, mode)\u001b[0m\n\u001b[1;32m    433\u001b[0m \u001b[38;5;28;01mdef\u001b[39;00m \u001b[38;5;21m_open_file_like\u001b[39m(name_or_buffer, mode):\n\u001b[1;32m    434\u001b[0m     \u001b[38;5;28;01mif\u001b[39;00m _is_path(name_or_buffer):\n\u001b[0;32m--> 435\u001b[0m         \u001b[38;5;28;01mreturn\u001b[39;00m \u001b[43m_open_file\u001b[49m\u001b[43m(\u001b[49m\u001b[43mname_or_buffer\u001b[49m\u001b[43m,\u001b[49m\u001b[43m \u001b[49m\u001b[43mmode\u001b[49m\u001b[43m)\u001b[49m\n\u001b[1;32m    436\u001b[0m     \u001b[38;5;28;01melse\u001b[39;00m:\n\u001b[1;32m    437\u001b[0m         \u001b[38;5;28;01mif\u001b[39;00m \u001b[38;5;124m'\u001b[39m\u001b[38;5;124mw\u001b[39m\u001b[38;5;124m'\u001b[39m \u001b[38;5;129;01min\u001b[39;00m mode:\n",
      "File \u001b[0;32m/anaconda/envs/sfm2/lib/python3.9/site-packages/torch/serialization.py:416\u001b[0m, in \u001b[0;36m_open_file.__init__\u001b[0;34m(self, name, mode)\u001b[0m\n\u001b[1;32m    415\u001b[0m \u001b[38;5;28;01mdef\u001b[39;00m \u001b[38;5;21m__init__\u001b[39m(\u001b[38;5;28mself\u001b[39m, name, mode):\n\u001b[0;32m--> 416\u001b[0m     \u001b[38;5;28msuper\u001b[39m()\u001b[38;5;241m.\u001b[39m\u001b[38;5;21m__init__\u001b[39m(\u001b[38;5;28;43mopen\u001b[39;49m\u001b[43m(\u001b[49m\u001b[43mname\u001b[49m\u001b[43m,\u001b[49m\u001b[43m \u001b[49m\u001b[43mmode\u001b[49m\u001b[43m)\u001b[49m)\n",
      "\u001b[0;31mOSError\u001b[0m: [Errno 5] Input/output error: '/hai1/shufxi/scigpt/7bv3/stageB.prot/global_step185010/layer_01-model_states.pt'"
     ]
    }
   ],
   "source": [
    "scores_per_step = []\n",
    "\n",
    "for step in step_list:\n",
    "    print('scoring step', step)\n",
    "    ckpt_home = f'/hai1/shufxi/scigpt/7bv3/stageB.prot/global_step{step}'\n",
    "    ckpt_dict = load_ckpt(ckpt_home)\n",
    "    model = load_model(ckpt_dict)\n",
    "    scores = [score(model, seq) for seq in tqdm(samples)]\n",
    "    scores_per_step.append(scores)\n",
    "    del model"
   ]
  },
  {
   "cell_type": "code",
   "execution_count": 40,
   "metadata": {},
   "outputs": [
    {
     "name": "stdout",
     "output_type": "stream",
     "text": [
      "scoring step 185010\n"
     ]
    },
    {
     "name": "stderr",
     "output_type": "stream",
     "text": [
      "Loading checkpoint shards: 100%|██████████| 2/2 [00:29<00:00, 14.73s/it]\n",
      "100%|██████████| 200/200 [00:32<00:00,  6.24it/s]\n"
     ]
    }
   ],
   "source": [
    "step = step_list[-1]\n",
    "print('scoring step', step)\n",
    "ckpt_home = f'/hai1/shufxi/scigpt/7bv3/stageB.prot/global_step{step}'\n",
    "ckpt_dict = load_ckpt(ckpt_home)\n",
    "model = load_model(ckpt_dict)\n",
    "scores = [score(model, seq) for seq in tqdm(samples)]\n",
    "scores_per_step.append(scores)\n",
    "del model"
   ]
  },
  {
   "cell_type": "code",
   "execution_count": 55,
   "metadata": {},
   "outputs": [
    {
     "data": {
      "image/png": "[encoded data removed]",
      "text/plain": [
       "<Figure size 640x480 with 1 Axes>"
      ]
     },
     "metadata": {},
     "output_type": "display_data"
    }
   ],
   "source": [
    "import matplotlib.pyplot as plt\n",
    "import numpy as np\n",
    "\n",
    "def draw(data, x_label):\n",
    "    data = np.array(data)\n",
    "    x = range(1, len(data) + 1)\n",
    "    mean_values = np.mean(data, axis=1)\n",
    "    plt.plot(x, mean_values, '-o')\n",
    "    for i in range(len(data)):\n",
    "        plt.boxplot(data[i, :], positions=[x[i]], widths=0.2, manage_ticks=False, showfliers=False)\n",
    "\n",
    "    plt.xticks(x, x_label)\n",
    "    plt.show()\n",
    "\n",
    "draw(scores_per_step, step_list)\n"
   ]
  },
  {
   "cell_type": "code",
   "execution_count": 48,
   "metadata": {},
   "outputs": [
    {
     "data": {
      "text/plain": [
       "<module 'matplotlib.pyplot' from '/anaconda/envs/sfm2/lib/python3.9/site-packages/matplotlib/pyplot.py'>"
      ]
     },
     "execution_count": 48,
     "metadata": {},
     "output_type": "execute_result"
    }
   ],
   "source": [
    "plt"
   ]
  },
  {
   "cell_type": "code",
   "execution_count": null,
   "metadata": {},
   "outputs": [],
   "source": []
  },
  {
   "cell_type": "code",
   "execution_count": 27,
   "metadata": {},
   "outputs": [
    {
     "name": "stderr",
     "output_type": "stream",
     "text": [
      "Loading checkpoint shards: 100%|██████████| 2/2 [00:26<00:00, 13.46s/it]\n",
      "100%|██████████| 200/200 [00:32<00:00,  6.25it/s]\n"
     ]
    }
   ],
   "source": [
    "ckpt_home = '/blob/shufxi/scigpt/7bv3/prot/20240228025826/global_step11715'\n",
    "ckpt_dict = load_ckpt(ckpt_home)\n",
    "model = load_model(ckpt_dict)\n",
    "scores = [score(model, seq) for seq in tqdm(samples)]\n",
    "del model"
   ]
  },
  {
   "cell_type": "code",
   "execution_count": 35,
   "metadata": {},
   "outputs": [
    {
     "data": {
      "image/png": "[encoded data removed]",
      "text/plain": [
       "<Figure size 640x480 with 1 Axes>"
      ]
     },
     "metadata": {},
     "output_type": "display_data"
    }
   ],
   "source": [
    "plt.boxplot(scores_per_step + [[]] + [scores])\n",
    "plt.xticks(range(1, len(step_list) + 2), step_list + ['200k_baseline'])\n",
    "plt.show()"
   ]
  },
  {
   "cell_type": "code",
   "execution_count": 36,
   "metadata": {},
   "outputs": [
    {
     "name": "stdout",
     "output_type": "stream",
     "text": [
      "global_step10153  global_step4686  global_step9372  rng_state_5.pth\n",
      "global_step10934  global_step5467  latest\t    rng_state_6.pth\n",
      "global_step11715  global_step6248  rng_state_0.pth  rng_state_7.pth\n",
      "global_step1562   global_step7029  rng_state_1.pth  zero_to_fp32.py\n",
      "global_step2343   global_step781   rng_state_2.pth\n",
      "global_step3124   global_step7810  rng_state_3.pth\n",
      "global_step3905   global_step8591  rng_state_4.pth\n"
     ]
    }
   ],
   "source": [
    "! ls /blob/shufxi/scigpt/7bv3/prot/20240228025826"
   ]
  },
  {
   "cell_type": "code",
   "execution_count": 38,
   "metadata": {},
   "outputs": [
    {
     "name": "stdout",
     "output_type": "stream",
     "text": [
      "scoring step 2343\n"
     ]
    },
    {
     "name": "stderr",
     "output_type": "stream",
     "text": [
      "Loading checkpoint shards: 100%|██████████| 2/2 [00:27<00:00, 13.78s/it]\n",
      "100%|██████████| 200/200 [00:32<00:00,  6.24it/s]\n"
     ]
    },
    {
     "name": "stdout",
     "output_type": "stream",
     "text": [
      "scoring step 4686\n"
     ]
    },
    {
     "name": "stderr",
     "output_type": "stream",
     "text": [
      "Loading checkpoint shards: 100%|██████████| 2/2 [00:33<00:00, 16.95s/it]\n",
      "100%|██████████| 200/200 [00:32<00:00,  6.24it/s]\n"
     ]
    },
    {
     "name": "stdout",
     "output_type": "stream",
     "text": [
      "scoring step 7029\n"
     ]
    },
    {
     "name": "stderr",
     "output_type": "stream",
     "text": [
      "Loading checkpoint shards: 100%|██████████| 2/2 [00:31<00:00, 15.80s/it]\n",
      "100%|██████████| 200/200 [00:32<00:00,  6.23it/s]\n"
     ]
    },
    {
     "name": "stdout",
     "output_type": "stream",
     "text": [
      "scoring step 9372\n"
     ]
    },
    {
     "name": "stderr",
     "output_type": "stream",
     "text": [
      "Loading checkpoint shards: 100%|██████████| 2/2 [00:27<00:00, 13.77s/it]\n",
      "100%|██████████| 200/200 [00:32<00:00,  6.23it/s]\n"
     ]
    },
    {
     "name": "stdout",
     "output_type": "stream",
     "text": [
      "scoring step 11715\n"
     ]
    },
    {
     "name": "stderr",
     "output_type": "stream",
     "text": [
      "Loading checkpoint shards: 100%|██████████| 2/2 [00:25<00:00, 12.72s/it]\n",
      "100%|██████████| 200/200 [00:32<00:00,  6.22it/s]\n"
     ]
    }
   ],
   "source": [
    "small_run_steps = [\n",
    "    2343, 4686, 7029, 9372, 11715\n",
    "]\n",
    "\n",
    "scores_per_step_small = []\n",
    "\n",
    "for step in small_run_steps:\n",
    "    print('scoring step', step)\n",
    "    ckpt_home = f'/blob/shufxi/scigpt/7bv3/prot/20240228025826/global_step{step}'\n",
    "    ckpt_dict = load_ckpt(ckpt_home)\n",
    "    model = load_model(ckpt_dict)\n",
    "    scores = [score(model, seq) for seq in tqdm(samples)]\n",
    "    scores_per_step_small.append(scores)\n",
    "    del model\n"
   ]
  },
  {
   "cell_type": "code",
   "execution_count": 56,
   "metadata": {},
   "outputs": [
    {
     "data": {
      "image/png": "[encoded data removed]",
      "text/plain": [
       "<Figure size 640x480 with 1 Axes>"
      ]
     },
     "metadata": {},
     "output_type": "display_data"
    },
    {
     "name": "stderr",
     "output_type": "stream",
     "text": [
      "Bad pipe message: %s [b'\\x152Ik\\xa0\\x0b\\x88\\x8d\\x8f9\\x12}M|\\xf5\\x06\\x83\\xc3 R\\x96\\x99\\xe7\\xe0\\x85\\xd7n\\xbe\\x7f7\\x85\\xde=\\xf5\\x9c\\x93\\x8b\\xb5gAC\\xbd\\xceu \\x98\\xa0\\x95\\xc8[:\\x00\\x08\\x13\\x02\\x13\\x03\\x13\\x01\\x00\\xff\\x01\\x00\\x00\\x8f\\x00\\x00\\x00\\x0e\\x00\\x0c\\x00\\x00\\t127.0.0.1\\x00\\x0b\\x00\\x04\\x03\\x00\\x01\\x02\\x00\\n\\x00\\x0c\\x00\\n\\x00\\x1d\\x00\\x17\\x00\\x1e\\x00\\x19\\x00\\x18\\x00#\\x00\\x00\\x00\\x16\\x00\\x00\\x00\\x17\\x00\\x00\\x00\\r\\x00\\x1e\\x00\\x1c\\x04\\x03\\x05\\x03\\x06\\x03\\x08\\x07\\x08\\x08\\x08\\t\\x08\\n\\x08\\x0b\\x08\\x04\\x08\\x05\\x08\\x06\\x04\\x01\\x05\\x01\\x06\\x01\\x00+\\x00\\x03\\x02\\x03\\x04\\x00-\\x00']\n",
      "Bad pipe message: %s [b\":\\xda\\xc2E\\x16\\xfe\\x187\\xd8\\x7fF\\xb13\\x10\\xb9\\xa8\\xfev\\x00\\x00\\xa6\\xc0,\\xc00\\x00\\xa3\\x00\\x9f\\xcc\\xa9\\xcc\\xa8\\xcc\\xaa\\xc0\\xaf\\xc0\\xad\\xc0\\xa3\\xc0\\x9f\\xc0]\\xc0a\\xc0W\\xc0S\\xc0+\\xc0/\\x00\\xa2\\x00\\x9e\\xc0\\xae\\xc0\\xac\\xc0\\xa2\\xc0\\x9e\\xc0\\\\\\xc0`\\xc0V\\xc0R\\xc0$\\xc0(\\x00k\\x00j\\xc0s\\xc0w\\x00\\xc4\\x00\\xc3\\xc0#\\xc0'\\x00g\\x00@\\xc0r\\xc0v\\x00\\xbe\\x00\\xbd\\xc0\\n\\xc0\\x14\\x009\\x008\\x00\\x88\\x00\\x87\\xc0\\t\\xc0\\x13\\x003\\x002\\x00\\x9a\\x00\\x99\\x00E\\x00D\\xc0\\x07\\xc0\\x11\\xc0\\x08\\xc0\\x12\\x00\\x16\\x00\\x13\\x00\\x9d\\xc0\\xa1\\xc0\\x9d\\xc0Q\\x00\\x9c\\xc0\\xa0\\xc0\\x9c\\xc0P\\x00=\\x00\\xc0\\x00<\\x00\\xba\\x005\\x00\\x84\\x00/\\x00\\x96\\x00A\\x00\\x05\\x00\\n\\x00\\xff\\x01\\x00\\x00j\\x00\\x00\\x00\\x0e\\x00\\x0c\\x00\\x00\\t127.0.0.1\\x00\\x0b\\x00\\x04\\x03\\x00\\x01\\x02\\x00\\n\\x00\\x0c\\x00\\n\\x00\\x1d\\x00\\x17\\x00\\x1e\\x00\\x19\\x00\\x18\\x00#\\x00\\x00\\x00\\x16\\x00\\x00\\x00\\x17\\x00\\x00\\x00\\r\\x000\\x00.\\x04\\x03\", b'\\x06\\x03\\x08\\x07', b'\\x08\\t\\x08\\n\\x08\\x0b\\x08']\n",
      "Bad pipe message: %s [b'\\x05\\x08\\x06']\n",
      "Bad pipe message: %s [b'\\x05\\x01\\x06', b'', b'\\x03\\x03']\n",
      "Bad pipe message: %s [b'']\n",
      "Bad pipe message: %s [b'', b'\\x02']\n",
      "Bad pipe message: %s [b'\\x05\\x02\\x06']\n",
      "Bad pipe message: %s [b'\\xce\\xe5\\xd5\\xc9&\\xb1\\x99\\x9395#\\xa4\\xb0\"\\xe6@\\x92)\\x00\\x00\\xa2\\xc0\\x14\\xc0\\n\\x009\\x008\\x007\\x006\\x00\\x88\\x00\\x87\\x00\\x86\\x00\\x85\\xc0\\x19\\x00:\\x00\\x89\\xc0\\x0f\\xc0\\x05\\x005\\x00\\x84\\xc0\\x13\\xc0\\t\\x003\\x002\\x001\\x000\\x00\\x9a\\x00\\x99\\x00\\x98\\x00\\x97\\x00E\\x00D\\x00C\\x00B\\xc0\\x18\\x004\\x00\\x9b\\x00F\\xc0\\x0e\\xc0\\x04\\x00/\\x00\\x96\\x00A\\x00\\x07\\xc0\\x11\\xc0\\x07\\xc0\\x16\\x00\\x18\\xc0\\x0c\\xc0\\x02\\x00\\x05\\x00\\x04\\xc0\\x12\\xc0\\x08\\x00\\x16\\x00\\x13\\x00\\x10\\x00\\r\\xc0\\x17\\x00\\x1b\\xc0\\r\\xc0\\x03\\x00\\n\\x00\\x15\\x00\\x12\\x00\\x0f\\x00\\x0c\\x00\\x1a\\x00\\t\\x00\\x14\\x00\\x11\\x00\\x19\\x00\\x08\\x00\\x06\\x00\\x17\\x00\\x03\\xc0\\x10\\xc0\\x06\\xc0\\x15\\xc0\\x0b\\xc0\\x01\\x00\\x02\\x00\\x01\\x00\\xff\\x02\\x01\\x00\\x00C\\x00\\x00\\x00\\x0e\\x00\\x0c\\x00\\x00\\t127.0.0.1\\x00\\x0b\\x00\\x04\\x03\\x00\\x01\\x02\\x00\\n\\x00', b'\\x1a\\x00\\x17\\x00\\x19\\x00\\x1c\\x00\\x1b\\x00\\x18\\x00\\x1a\\x00\\x16\\x00\\x0e\\x00\\r\\x00\\x0b\\x00\\x0c\\x00\\t\\x00\\n']\n",
      "Bad pipe message: %s [b'\\x1e\\x9fq*\\xb7\\xdb\\xc0']\n",
      "Bad pipe message: %s [b\"\\xcf\\x05\\xf4\\x1eV\\x13\\xcd\\x96\\x1fd{\\x8b\\x1b\\xce\\xef6a\\xf4\\x00\\x00\\xf4\\xc00\\xc0,\\xc0(\\xc0$\\xc0\\x14\\xc0\\n\\x00\\xa5\\x00\\xa3\\x00\\xa1\\x00\\x9f\\x00k\\x00j\\x00i\\x00h\\x009\\x008\\x007\\x006\\x00\\x88\\x00\\x87\\x00\\x86\\x00\\x85\\xc0\\x19\\x00\\xa7\\x00m\\x00:\\x00\\x89\\xc02\\xc0.\\xc0*\\xc0&\\xc0\\x0f\\xc0\\x05\\x00\\x9d\\x00=\\x005\\x00\\x84\\xc0/\\xc0+\\xc0'\\xc0#\\xc0\\x13\\xc0\\t\\x00\\xa4\\x00\\xa2\\x00\\xa0\\x00\\x9e\\x00g\\x00@\\x00?\\x00>\\x003\\x002\\x001\\x000\\x00\\x9a\\x00\\x99\\x00\\x98\\x00\\x97\\x00E\\x00D\\x00C\\x00B\\xc0\\x18\\x00\\xa6\\x00l\\x004\\x00\\x9b\\x00F\\xc01\\xc0-\\xc0)\\xc0%\\xc0\\x0e\\xc0\\x04\\x00\\x9c\\x00<\\x00/\\x00\\x96\\x00A\\x00\\x07\\xc0\\x11\\xc0\\x07\\xc0\\x16\\x00\\x18\\xc0\\x0c\\xc0\\x02\\x00\\x05\\x00\", b'\\x12\\xc0\\x08']\n"
     ]
    }
   ],
   "source": [
    "draw(scores_per_step_small, small_run_steps)"
   ]
  },
  {
   "cell_type": "code",
   "execution_count": null,
   "metadata": {},
   "outputs": [],
   "source": []
  }
 ],
 "metadata": {
  "kernelspec": {
   "display_name": "sfm2",
   "language": "python",
   "name": "python3"
  },
  "language_info": {
   "codemirror_mode": {
    "name": "ipython",
    "version": 3
   },
   "file_extension": ".py",
   "mimetype": "text/x-python",
   "name": "python",
   "nbconvert_exporter": "python",
   "pygments_lexer": "ipython3",
   "version": "3.9.18"
  }
 },
 "nbformat": 4,
 "nbformat_minor": 2
}
