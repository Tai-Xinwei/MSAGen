{
 "cells": [
  {
   "cell_type": "code",
   "execution_count": 1,
   "metadata": {},
   "outputs": [
    {
     "name": "stderr",
     "output_type": "stream",
     "text": [
      "/anaconda/envs/sfm2/lib/python3.9/site-packages/tqdm/auto.py:21: TqdmWarning: IProgress not found. Please update jupyter and ipywidgets. See https://ipywidgets.readthedocs.io/en/stable/user_install.html\n",
      "  from .autonotebook import tqdm as notebook_tqdm\n"
     ]
    },
    {
     "name": "stdout",
     "output_type": "stream",
     "text": [
      "[2024-02-06 09:59:10,383] [INFO] [real_accelerator.py:133:get_accelerator] Setting ds_accelerator to cuda (auto detect)\n"
     ]
    }
   ],
   "source": [
    "from sfm.data.sci_data.SFMDecTokenizer import SFMDecTokenizer\n",
    "import torch\n",
    "import os"
   ]
  },
  {
   "cell_type": "code",
   "execution_count": 2,
   "metadata": {},
   "outputs": [
    {
     "name": "stderr",
     "output_type": "stream",
     "text": [
      "The tokenizer class you load from this checkpoint is not the same type as the class this function is called from. It may result in unexpected tokenization. \n",
      "The tokenizer class you load from this checkpoint is 'LlamaTokenizer'. \n",
      "The class this function is called from is 'SFMDecTokenizer'.\n"
     ]
    },
    {
     "name": "stderr",
     "output_type": "stream",
     "text": [
      "You are using the default legacy behaviour of the <class 'sfm.data.sci_data.SFMDecTokenizer.SFMDecTokenizer'>. This is expected, and simply means that the `legacy` (previous) behavior will be used so nothing changes for you. If you want to use the new behaviour, set `legacy=False`. This should only be set if you understand what it means, and thouroughly read the reason why this was added as explained in https://github.com/huggingface/transformers/pull/24565\n"
     ]
    },
    {
     "name": "stdout",
     "output_type": "stream",
     "text": [
      "[\u001b[32m2024-02-06 09:59:12.457\u001b[0m][\u001b[36mINFO\u001b[0m]: Loading protein sentencepiece model from /blob/shufxi/data/scigpt/ur50bpe/bpe.model and /blob/shufxi/data/scigpt/ur50bpe/bpe.vocab\n",
      "[\u001b[32m2024-02-06 09:59:12.515\u001b[0m][\u001b[36mINFO\u001b[0m]: Loading DNA sentencepiece model from /blob/shufxi/data/scigpt/dnabpe/bpe.model and /blob/shufxi/data/scigpt/dnabpe/bpe.vocab\n",
      "[\u001b[32m2024-02-06 09:59:12.571\u001b[0m][\u001b[36mINFO\u001b[0m]: Loading RNA sentencepiece model from /blob/shufxi/data/scigpt/rnabpe/bpe.model and /blob/shufxi/data/scigpt/rnabpe/bpe.vocab\n",
      "[\u001b[32m2024-02-06 09:59:12.894\u001b[0m][\u001b[36mINFO\u001b[0m]: Tokenizer has 40014 tokens\n"
     ]
    }
   ],
   "source": [
    "tokenizer_home = '/hai1/ds_dataset/llama2/llama-2-7b'\n",
    "tokenizer = SFMDecTokenizer.from_pretrained(\n",
    "    tokenizer_home,\n",
    "    prot_spm_path='/blob/shufxi/data/scigpt/ur50bpe/bpe',\n",
    "    dna_spm_path='/blob/shufxi/data/scigpt/dnabpe/bpe',\n",
    "    rna_spm_path='/blob/shufxi/data/scigpt/rnabpe/bpe',\n",
    ")"
   ]
  },
  {
   "cell_type": "code",
   "execution_count": 10,
   "metadata": {},
   "outputs": [
    {
     "data": {
      "text/plain": [
       "['<rna>', '<r>AUC', '<r>GAAA', '</rna>']"
      ]
     },
     "execution_count": 10,
     "metadata": {},
     "output_type": "execute_result"
    },
    {
     "name": "stderr",
     "output_type": "stream",
     "text": [
      "Bad pipe message: %s [b'\\xaf\\xd3\\x85\\xfdC\\xa1\\xf4\\xc5\\x1d\\xed\\xb3\\xce\\x0fA\\xdc\\x86\\x99\\x88 \\xf5\\x11U\\x91A\\xd9\\xf0)\\x91\\x1e\\xd8g\\r;_\\x01P\\xf8\\x19t\\x08\\xaeS\\x8e\\xbem\\xbdKPc\\xff\\xc9\\x00\\x08\\x13\\x02\\x13\\x03']\n",
      "Bad pipe message: %s [b'\\x06\\xd0\\x0c\\xcc\\x11\\xf4\\xd6\\xb0z\\x95\\x9b\\xc95\\xe8\\x1f\\xc80\\x00 \\xe0>=\\xbd!G\\x96\\xc7\\xa0eYRyF\\xb5\\x1e\\xb4\\xf1\\x1c\\x1f\\xf5==\\xe4\\xfd\\x16\\xef\\xe1\\x88\\x06\\x17\\xe4\\x00\\x08\\x13\\x02\\x13\\x03\\x13\\x01\\x00\\xff\\x01\\x00\\x00\\x8f\\x00\\x00\\x00\\x0e\\x00\\x0c\\x00\\x00\\t127.0.0.1\\x00\\x0b\\x00\\x04\\x03\\x00\\x01\\x02\\x00\\n\\x00\\x0c\\x00\\n\\x00\\x1d\\x00\\x17']\n",
      "Bad pipe message: %s [b'\\x00\\xff\\x01\\x00\\x00\\x8f\\x00\\x00\\x00\\x0e\\x00\\x0c\\x00\\x00\\t127', b'.0.1\\x00\\x0b\\x00\\x04\\x03\\x00\\x01\\x02\\x00\\n\\x00\\x0c\\x00\\n\\x00\\x1d\\x00\\x17\\x00\\x1e\\x00\\x19\\x00\\x18\\x00#\\x00\\x00\\x00\\x16\\x00\\x00\\x00\\x17\\x00\\x00\\x00\\r\\x00\\x1e\\x00']\n",
      "Bad pipe message: %s [b'\\x03\\x05\\x03\\x06\\x03\\x08\\x07\\x08\\x08\\x08\\t\\x08\\n\\x08\\x0b\\x08\\x04\\x08\\x05\\x08\\x06\\x04\\x01\\x05\\x01\\x06\\x01']\n",
      "Bad pipe message: %s [b'si\\xd0\\x8d4H:\\x12Q\\x01\\xf7#\\x1d\\xfb<\\xc4}@\\x00\\x00|\\xc0,\\xc00\\x00\\xa3\\x00\\x9f\\xcc']\n",
      "Bad pipe message: %s [b\"\\xa8\\xcc\\xaa\\xc0\\xaf\\xc0\\xad\\xc0\\xa3\\xc0\\x9f\\xc0]\\xc0a\\xc0W\\xc0S\\xc0+\\xc0/\\x00\\xa2\\x00\\x9e\\xc0\\xae\\xc0\\xac\\xc0\\xa2\\xc0\\x9e\\xc0\\\\\\xc0`\\xc0V\\xc0R\\xc0$\\xc0(\\x00k\\x00j\\xc0#\\xc0'\\x00g\\x00@\\xc0\\n\\xc0\\x14\\x009\\x008\\xc0\\t\\xc0\\x13\\x003\\x002\\x00\\x9d\\xc0\\xa1\\xc0\\x9d\\xc0Q\\x00\\x9c\\xc0\\xa0\\xc0\\x9c\\xc0P\\x00=\\x00<\\x005\\x00/\\x00\\x9a\\x00\\x99\\xc0\\x07\\xc0\\x11\\x00\\x96\\x00\\x05\\x00\\xff\\x01\\x00\\x00j\\x00\\x00\\x00\\x0e\\x00\\x0c\\x00\\x00\\t127.0.0.1\\x00\\x0b\\x00\\x04\\x03\\x00\\x01\\x02\\x00\\n\\x00\\x0c\\x00\\n\\x00\\x1d\\x00\\x17\\x00\\x1e\\x00\\x19\\x00\\x18\\x00#\\x00\\x00\\x00\\x16\\x00\\x00\\x00\"]\n",
      "Bad pipe message: %s [b'\\x00\\x00\\r\\x000\\x00.\\x04\\x03\\x05\\x03\\x06\\x03\\x08\\x07\\x08\\x08\\x08\\t\\x08\\n\\x08']\n",
      "Bad pipe message: %s [b'\\x04\\x08\\x05\\x08\\x06\\x04\\x01\\x05\\x01\\x06']\n",
      "Bad pipe message: %s [b'', b'\\x03\\x03']\n",
      "Bad pipe message: %s [b'']\n",
      "Bad pipe message: %s [b'', b'\\x02']\n",
      "Bad pipe message: %s [b'\\xe7b\\xe6\\xcbh$\\x9f\\x9ft\\xae$\\xc4\\xe3\\xd9\\xa9~$\\xce\\x00\\x00\\xa6\\xc0,\\xc00\\x00\\xa3\\x00\\x9f\\xcc\\xa9\\xcc\\xa8\\xcc\\xaa\\xc0\\xaf\\xc0\\xad\\xc0\\xa3\\xc0']\n",
      "Bad pipe message: %s [b'\\x05\\x02\\x06']\n",
      "Bad pipe message: %s [b\"]\\xc0a\\xc0W\\xc0S\\xc0+\\xc0/\\x00\\xa2\\x00\\x9e\\xc0\\xae\\xc0\\xac\\xc0\\xa2\\xc0\\x9e\\xc0\\\\\\xc0`\\xc0V\\xc0R\\xc0$\\xc0(\\x00k\\x00j\\xc0s\\xc0w\\x00\\xc4\\x00\\xc3\\xc0#\\xc0'\\x00g\\x00@\\xc0r\\xc0v\\x00\\xbe\\x00\\xbd\\xc0\\n\\xc0\\x14\\x009\\x008\\x00\\x88\\x00\\x87\\xc0\\t\\xc0\\x13\\x003\\x002\\x00\\x9a\\x00\\x99\\x00E\\x00D\\xc0\\x07\\xc0\\x11\\xc0\\x08\\xc0\\x12\\x00\\x16\\x00\\x13\\x00\\x9d\\xc0\\xa1\\xc0\\x9d\\xc0Q\\x00\\x9c\\xc0\\xa0\\xc0\\x9c\\xc0P\\x00=\\x00\\xc0\\x00<\\x00\\xba\\x005\\x00\\x84\\x00/\\x00\\x96\\x00A\\x00\\x05\\x00\\n\\x00\\xff\\x01\\x00\\x00j\\x00\\x00\\x00\\x0e\\x00\\x0c\\x00\\x00\\t12\"]\n",
      "Bad pipe message: %s [b'0.0.1\\x00\\x0b\\x00\\x04\\x03\\x00\\x01\\x02\\x00\\n\\x00\\x0c\\x00\\n\\x00\\x1d\\x00\\x17\\x00\\x1e\\x00\\x19\\x00\\x18\\x00#\\x00\\x00\\x00\\x16\\x00\\x00\\x00\\x17\\x00\\x00\\x00\\r\\x000\\x00.\\x04\\x03\\x05\\x03\\x06\\x03\\x08']\n",
      "Bad pipe message: %s [b'\\x08\\x08\\t\\x08\\n\\x08']\n",
      "Bad pipe message: %s [b'\\x04\\x08\\x05\\x08\\x06\\x04\\x01\\x05\\x01\\x06']\n",
      "Bad pipe message: %s [b'', b'\\x03\\x03']\n",
      "Bad pipe message: %s [b'\\t!\\xc2n\\x01z\\x9f2Zz?\\xb72\\x0f\\xe0\\xc4\\xa4`\\x00\\x00>\\xc0\\x14\\xc0\\n\\x009\\x008\\x007\\x006\\xc0\\x0f\\xc0\\x05\\x005\\xc0\\x13\\xc0\\t\\x003\\x002\\x001\\x000\\xc0\\x0e\\xc0\\x04\\x00/\\x00\\x9a\\x00\\x99\\x00\\x98\\x00\\x97\\x00\\x96\\x00\\x07\\xc0\\x11\\xc0\\x07\\xc0\\x0c\\xc0\\x02\\x00\\x05\\x00\\x04\\x00\\xff\\x02\\x01\\x00\\x00C\\x00\\x00\\x00\\x0e\\x00\\x0c\\x00\\x00\\t127.0.0.1\\x00\\x0b\\x00\\x04\\x03\\x00\\x01\\x02\\x00\\n\\x00\\x1c\\x00\\x1a\\x00\\x17\\x00\\x19\\x00\\x1c\\x00\\x1b\\x00\\x18\\x00\\x1a\\x00\\x16\\x00\\x0e\\x00\\r\\x00\\x0b\\x00']\n",
      "Bad pipe message: %s [b'']\n",
      "Bad pipe message: %s [b'\\t\\x00\\n\\x00#\\x00\\x00\\x00\\x0f\\x00\\x01']\n",
      "Bad pipe message: %s [b'', b'\\x02']\n",
      "Bad pipe message: %s [b'', b'\\x00\\x02']\n",
      "Bad pipe message: %s [b'\\x05\\x02\\x06']\n",
      "Bad pipe message: %s [b'e\\xc4\\xfa}E\\xc6\\x0e\\xd6\\x8f\\x95\\xc6I5.~\\xdbSO\\x00\\x00\\x86\\xc00\\xc0,\\xc0(\\xc0$\\xc0\\x14\\xc0\\n\\x00\\xa5\\x00\\xa3\\x00\\xa1\\x00\\x9f\\x00k\\x00j']\n",
      "Bad pipe message: %s [b'\\x93\\xdcS&)\\xde4\\xa0\\x05y\\xe3\\xcb\\x8bNJ\\xdcoP\\x00\\x00\\xf4\\xc00\\xc0,\\xc0(\\xc0$\\xc0\\x14\\xc0\\n\\x00\\xa5\\x00\\xa3\\x00\\xa1\\x00\\x9f\\x00k\\x00j\\x00i\\x00h\\x009\\x008\\x007\\x006\\x00\\x88\\x00\\x87\\x00\\x86\\x00\\x85\\xc0\\x19\\x00\\xa7\\x00m\\x00', b\"\\x89\\xc02\\xc0.\\xc0*\\xc0&\\xc0\\x0f\\xc0\\x05\\x00\\x9d\\x00=\\x005\\x00\\x84\\xc0/\\xc0+\\xc0'\\xc0#\\xc0\\x13\\xc0\\t\\x00\\xa4\\x00\\xa2\\x00\\xa0\\x00\\x9e\\x00g\\x00@\\x00?\\x00>\\x003\\x002\\x001\\x000\"]\n"
     ]
    }
   ],
   "source": [
    "tokenizer.tokenize('<rna>AUCGAAA</rna>')"
   ]
  },
  {
   "cell_type": "code",
   "execution_count": 25,
   "metadata": {},
   "outputs": [
    {
     "name": "stdout",
     "output_type": "stream",
     "text": [
      "▁The <protein> <a>E <a>M <a>M <a>FEQ <a>TFK <a>NID </protein> ▁and ▁the ▁comp ound <mol> <m>C <m>C <m>C </mol> ▁can ▁interact ▁with ▁each ▁other .\n"
     ]
    }
   ],
   "source": [
    "s = tokenizer.tokenize('The <protein>EMMFEQTFKNID</protein> and the compound <mol>CCC</mol> can interact with each other.')\n",
    "print(' '.join(s))"
   ]
  },
  {
   "cell_type": "code",
   "execution_count": 26,
   "metadata": {},
   "outputs": [
    {
     "name": "stderr",
     "output_type": "stream",
     "text": [
      "Loading checkpoint shards: 100%|██████████| 2/2 [00:21<00:00, 10.88s/it]\n"
     ]
    },
    {
     "name": "stdout",
     "output_type": "stream",
     "text": [
      "layer0 embed_tokens.weight torch.Size([38991, 4096])\n",
      "01 self_attn.q_proj.weight torch.Size([4096, 4096])\n",
      "01 self_attn.k_proj.weight torch.Size([4096, 4096])\n",
      "01 self_attn.v_proj.weight torch.Size([4096, 4096])\n",
      "01 self_attn.o_proj.weight torch.Size([4096, 4096])\n",
      "01 mlp.gate_proj.weight torch.Size([11008, 4096])\n",
      "01 mlp.up_proj.weight torch.Size([11008, 4096])\n",
      "01 mlp.down_proj.weight torch.Size([4096, 11008])\n",
      "01 input_layernorm.weight torch.Size([4096])\n",
      "01 post_attention_layernorm.weight torch.Size([4096])\n",
      "02 self_attn.q_proj.weight torch.Size([4096, 4096])\n",
      "02 self_attn.k_proj.weight torch.Size([4096, 4096])\n",
      "02 self_attn.v_proj.weight torch.Size([4096, 4096])\n",
      "02 self_attn.o_proj.weight torch.Size([4096, 4096])\n",
      "02 mlp.gate_proj.weight torch.Size([11008, 4096])\n",
      "02 mlp.up_proj.weight torch.Size([11008, 4096])\n",
      "02 mlp.down_proj.weight torch.Size([4096, 11008])\n",
      "02 input_layernorm.weight torch.Size([4096])\n",
      "02 post_attention_layernorm.weight torch.Size([4096])\n",
      "03 self_attn.q_proj.weight torch.Size([4096, 4096])\n",
      "03 self_attn.k_proj.weight torch.Size([4096, 4096])\n",
      "03 self_attn.v_proj.weight torch.Size([4096, 4096])\n",
      "03 self_attn.o_proj.weight torch.Size([4096, 4096])\n",
      "03 mlp.gate_proj.weight torch.Size([11008, 4096])\n",
      "03 mlp.up_proj.weight torch.Size([11008, 4096])\n",
      "03 mlp.down_proj.weight torch.Size([4096, 11008])\n",
      "03 input_layernorm.weight torch.Size([4096])\n",
      "03 post_attention_layernorm.weight torch.Size([4096])\n",
      "04 self_attn.q_proj.weight torch.Size([4096, 4096])\n",
      "04 self_attn.k_proj.weight torch.Size([4096, 4096])\n",
      "04 self_attn.v_proj.weight torch.Size([4096, 4096])\n",
      "04 self_attn.o_proj.weight torch.Size([4096, 4096])\n",
      "04 mlp.gate_proj.weight torch.Size([11008, 4096])\n",
      "04 mlp.up_proj.weight torch.Size([11008, 4096])\n",
      "04 mlp.down_proj.weight torch.Size([4096, 11008])\n",
      "04 input_layernorm.weight torch.Size([4096])\n",
      "04 post_attention_layernorm.weight torch.Size([4096])\n",
      "05 self_attn.q_proj.weight torch.Size([4096, 4096])\n",
      "05 self_attn.k_proj.weight torch.Size([4096, 4096])\n",
      "05 self_attn.v_proj.weight torch.Size([4096, 4096])\n",
      "05 self_attn.o_proj.weight torch.Size([4096, 4096])\n",
      "05 mlp.gate_proj.weight torch.Size([11008, 4096])\n",
      "05 mlp.up_proj.weight torch.Size([11008, 4096])\n",
      "05 mlp.down_proj.weight torch.Size([4096, 11008])\n",
      "05 input_layernorm.weight torch.Size([4096])\n",
      "05 post_attention_layernorm.weight torch.Size([4096])\n",
      "06 self_attn.q_proj.weight torch.Size([4096, 4096])\n",
      "06 self_attn.k_proj.weight torch.Size([4096, 4096])\n",
      "06 self_attn.v_proj.weight torch.Size([4096, 4096])\n",
      "06 self_attn.o_proj.weight torch.Size([4096, 4096])\n",
      "06 mlp.gate_proj.weight torch.Size([11008, 4096])\n",
      "06 mlp.up_proj.weight torch.Size([11008, 4096])\n",
      "06 mlp.down_proj.weight torch.Size([4096, 11008])\n",
      "06 input_layernorm.weight torch.Size([4096])\n",
      "06 post_attention_layernorm.weight torch.Size([4096])\n",
      "07 self_attn.q_proj.weight torch.Size([4096, 4096])\n",
      "07 self_attn.k_proj.weight torch.Size([4096, 4096])\n",
      "07 self_attn.v_proj.weight torch.Size([4096, 4096])\n",
      "07 self_attn.o_proj.weight torch.Size([4096, 4096])\n",
      "07 mlp.gate_proj.weight torch.Size([11008, 4096])\n",
      "07 mlp.up_proj.weight torch.Size([11008, 4096])\n",
      "07 mlp.down_proj.weight torch.Size([4096, 11008])\n",
      "07 input_layernorm.weight torch.Size([4096])\n",
      "07 post_attention_layernorm.weight torch.Size([4096])\n",
      "08 self_attn.q_proj.weight torch.Size([4096, 4096])\n",
      "08 self_attn.k_proj.weight torch.Size([4096, 4096])\n",
      "08 self_attn.v_proj.weight torch.Size([4096, 4096])\n",
      "08 self_attn.o_proj.weight torch.Size([4096, 4096])\n",
      "08 mlp.gate_proj.weight torch.Size([11008, 4096])\n",
      "08 mlp.up_proj.weight torch.Size([11008, 4096])\n",
      "08 mlp.down_proj.weight torch.Size([4096, 11008])\n",
      "08 input_layernorm.weight torch.Size([4096])\n",
      "08 post_attention_layernorm.weight torch.Size([4096])\n",
      "09 self_attn.q_proj.weight torch.Size([4096, 4096])\n",
      "09 self_attn.k_proj.weight torch.Size([4096, 4096])\n",
      "09 self_attn.v_proj.weight torch.Size([4096, 4096])\n",
      "09 self_attn.o_proj.weight torch.Size([4096, 4096])\n",
      "09 mlp.gate_proj.weight torch.Size([11008, 4096])\n",
      "09 mlp.up_proj.weight torch.Size([11008, 4096])\n",
      "09 mlp.down_proj.weight torch.Size([4096, 11008])\n",
      "09 input_layernorm.weight torch.Size([4096])\n",
      "09 post_attention_layernorm.weight torch.Size([4096])\n",
      "10 self_attn.q_proj.weight torch.Size([4096, 4096])\n",
      "10 self_attn.k_proj.weight torch.Size([4096, 4096])\n",
      "10 self_attn.v_proj.weight torch.Size([4096, 4096])\n",
      "10 self_attn.o_proj.weight torch.Size([4096, 4096])\n",
      "10 mlp.gate_proj.weight torch.Size([11008, 4096])\n",
      "10 mlp.up_proj.weight torch.Size([11008, 4096])\n",
      "10 mlp.down_proj.weight torch.Size([4096, 11008])\n",
      "10 input_layernorm.weight torch.Size([4096])\n",
      "10 post_attention_layernorm.weight torch.Size([4096])\n",
      "11 self_attn.q_proj.weight torch.Size([4096, 4096])\n",
      "11 self_attn.k_proj.weight torch.Size([4096, 4096])\n",
      "11 self_attn.v_proj.weight torch.Size([4096, 4096])\n",
      "11 self_attn.o_proj.weight torch.Size([4096, 4096])\n",
      "11 mlp.gate_proj.weight torch.Size([11008, 4096])\n",
      "11 mlp.up_proj.weight torch.Size([11008, 4096])\n",
      "11 mlp.down_proj.weight torch.Size([4096, 11008])\n",
      "11 input_layernorm.weight torch.Size([4096])\n",
      "11 post_attention_layernorm.weight torch.Size([4096])\n",
      "12 self_attn.q_proj.weight torch.Size([4096, 4096])\n",
      "12 self_attn.k_proj.weight torch.Size([4096, 4096])\n",
      "12 self_attn.v_proj.weight torch.Size([4096, 4096])\n",
      "12 self_attn.o_proj.weight torch.Size([4096, 4096])\n",
      "12 mlp.gate_proj.weight torch.Size([11008, 4096])\n",
      "12 mlp.up_proj.weight torch.Size([11008, 4096])\n",
      "12 mlp.down_proj.weight torch.Size([4096, 11008])\n",
      "12 input_layernorm.weight torch.Size([4096])\n",
      "12 post_attention_layernorm.weight torch.Size([4096])\n",
      "13 self_attn.q_proj.weight torch.Size([4096, 4096])\n",
      "13 self_attn.k_proj.weight torch.Size([4096, 4096])\n",
      "13 self_attn.v_proj.weight torch.Size([4096, 4096])\n",
      "13 self_attn.o_proj.weight torch.Size([4096, 4096])\n",
      "13 mlp.gate_proj.weight torch.Size([11008, 4096])\n",
      "13 mlp.up_proj.weight torch.Size([11008, 4096])\n",
      "13 mlp.down_proj.weight torch.Size([4096, 11008])\n",
      "13 input_layernorm.weight torch.Size([4096])\n",
      "13 post_attention_layernorm.weight torch.Size([4096])\n",
      "14 self_attn.q_proj.weight torch.Size([4096, 4096])\n",
      "14 self_attn.k_proj.weight torch.Size([4096, 4096])\n",
      "14 self_attn.v_proj.weight torch.Size([4096, 4096])\n",
      "14 self_attn.o_proj.weight torch.Size([4096, 4096])\n",
      "14 mlp.gate_proj.weight torch.Size([11008, 4096])\n",
      "14 mlp.up_proj.weight torch.Size([11008, 4096])\n",
      "14 mlp.down_proj.weight torch.Size([4096, 11008])\n",
      "14 input_layernorm.weight torch.Size([4096])\n",
      "14 post_attention_layernorm.weight torch.Size([4096])\n",
      "15 self_attn.q_proj.weight torch.Size([4096, 4096])\n",
      "15 self_attn.k_proj.weight torch.Size([4096, 4096])\n",
      "15 self_attn.v_proj.weight torch.Size([4096, 4096])\n",
      "15 self_attn.o_proj.weight torch.Size([4096, 4096])\n",
      "15 mlp.gate_proj.weight torch.Size([11008, 4096])\n",
      "15 mlp.up_proj.weight torch.Size([11008, 4096])\n",
      "15 mlp.down_proj.weight torch.Size([4096, 11008])\n",
      "15 input_layernorm.weight torch.Size([4096])\n",
      "15 post_attention_layernorm.weight torch.Size([4096])\n",
      "16 self_attn.q_proj.weight torch.Size([4096, 4096])\n",
      "16 self_attn.k_proj.weight torch.Size([4096, 4096])\n",
      "16 self_attn.v_proj.weight torch.Size([4096, 4096])\n",
      "16 self_attn.o_proj.weight torch.Size([4096, 4096])\n",
      "16 mlp.gate_proj.weight torch.Size([11008, 4096])\n",
      "16 mlp.up_proj.weight torch.Size([11008, 4096])\n",
      "16 mlp.down_proj.weight torch.Size([4096, 11008])\n",
      "16 input_layernorm.weight torch.Size([4096])\n",
      "16 post_attention_layernorm.weight torch.Size([4096])\n",
      "17 self_attn.q_proj.weight torch.Size([4096, 4096])\n",
      "17 self_attn.k_proj.weight torch.Size([4096, 4096])\n",
      "17 self_attn.v_proj.weight torch.Size([4096, 4096])\n",
      "17 self_attn.o_proj.weight torch.Size([4096, 4096])\n",
      "17 mlp.gate_proj.weight torch.Size([11008, 4096])\n",
      "17 mlp.up_proj.weight torch.Size([11008, 4096])\n",
      "17 mlp.down_proj.weight torch.Size([4096, 11008])\n",
      "17 input_layernorm.weight torch.Size([4096])\n",
      "17 post_attention_layernorm.weight torch.Size([4096])\n",
      "18 self_attn.q_proj.weight torch.Size([4096, 4096])\n",
      "18 self_attn.k_proj.weight torch.Size([4096, 4096])\n",
      "18 self_attn.v_proj.weight torch.Size([4096, 4096])\n",
      "18 self_attn.o_proj.weight torch.Size([4096, 4096])\n",
      "18 mlp.gate_proj.weight torch.Size([11008, 4096])\n",
      "18 mlp.up_proj.weight torch.Size([11008, 4096])\n",
      "18 mlp.down_proj.weight torch.Size([4096, 11008])\n",
      "18 input_layernorm.weight torch.Size([4096])\n",
      "18 post_attention_layernorm.weight torch.Size([4096])\n",
      "19 self_attn.q_proj.weight torch.Size([4096, 4096])\n",
      "19 self_attn.k_proj.weight torch.Size([4096, 4096])\n",
      "19 self_attn.v_proj.weight torch.Size([4096, 4096])\n",
      "19 self_attn.o_proj.weight torch.Size([4096, 4096])\n",
      "19 mlp.gate_proj.weight torch.Size([11008, 4096])\n",
      "19 mlp.up_proj.weight torch.Size([11008, 4096])\n",
      "19 mlp.down_proj.weight torch.Size([4096, 11008])\n",
      "19 input_layernorm.weight torch.Size([4096])\n",
      "19 post_attention_layernorm.weight torch.Size([4096])\n",
      "20 self_attn.q_proj.weight torch.Size([4096, 4096])\n",
      "20 self_attn.k_proj.weight torch.Size([4096, 4096])\n",
      "20 self_attn.v_proj.weight torch.Size([4096, 4096])\n",
      "20 self_attn.o_proj.weight torch.Size([4096, 4096])\n",
      "20 mlp.gate_proj.weight torch.Size([11008, 4096])\n",
      "20 mlp.up_proj.weight torch.Size([11008, 4096])\n",
      "20 mlp.down_proj.weight torch.Size([4096, 11008])\n",
      "20 input_layernorm.weight torch.Size([4096])\n",
      "20 post_attention_layernorm.weight torch.Size([4096])\n",
      "21 self_attn.q_proj.weight torch.Size([4096, 4096])\n",
      "21 self_attn.k_proj.weight torch.Size([4096, 4096])\n",
      "21 self_attn.v_proj.weight torch.Size([4096, 4096])\n",
      "21 self_attn.o_proj.weight torch.Size([4096, 4096])\n",
      "21 mlp.gate_proj.weight torch.Size([11008, 4096])\n",
      "21 mlp.up_proj.weight torch.Size([11008, 4096])\n",
      "21 mlp.down_proj.weight torch.Size([4096, 11008])\n",
      "21 input_layernorm.weight torch.Size([4096])\n",
      "21 post_attention_layernorm.weight torch.Size([4096])\n",
      "22 self_attn.q_proj.weight torch.Size([4096, 4096])\n",
      "22 self_attn.k_proj.weight torch.Size([4096, 4096])\n",
      "22 self_attn.v_proj.weight torch.Size([4096, 4096])\n",
      "22 self_attn.o_proj.weight torch.Size([4096, 4096])\n",
      "22 mlp.gate_proj.weight torch.Size([11008, 4096])\n",
      "22 mlp.up_proj.weight torch.Size([11008, 4096])\n",
      "22 mlp.down_proj.weight torch.Size([4096, 11008])\n",
      "22 input_layernorm.weight torch.Size([4096])\n",
      "22 post_attention_layernorm.weight torch.Size([4096])\n",
      "23 self_attn.q_proj.weight torch.Size([4096, 4096])\n",
      "23 self_attn.k_proj.weight torch.Size([4096, 4096])\n",
      "23 self_attn.v_proj.weight torch.Size([4096, 4096])\n",
      "23 self_attn.o_proj.weight torch.Size([4096, 4096])\n",
      "23 mlp.gate_proj.weight torch.Size([11008, 4096])\n",
      "23 mlp.up_proj.weight torch.Size([11008, 4096])\n",
      "23 mlp.down_proj.weight torch.Size([4096, 11008])\n",
      "23 input_layernorm.weight torch.Size([4096])\n",
      "23 post_attention_layernorm.weight torch.Size([4096])\n",
      "24 self_attn.q_proj.weight torch.Size([4096, 4096])\n",
      "24 self_attn.k_proj.weight torch.Size([4096, 4096])\n",
      "24 self_attn.v_proj.weight torch.Size([4096, 4096])\n",
      "24 self_attn.o_proj.weight torch.Size([4096, 4096])\n",
      "24 mlp.gate_proj.weight torch.Size([11008, 4096])\n",
      "24 mlp.up_proj.weight torch.Size([11008, 4096])\n",
      "24 mlp.down_proj.weight torch.Size([4096, 11008])\n",
      "24 input_layernorm.weight torch.Size([4096])\n",
      "24 post_attention_layernorm.weight torch.Size([4096])\n",
      "25 self_attn.q_proj.weight torch.Size([4096, 4096])\n",
      "25 self_attn.k_proj.weight torch.Size([4096, 4096])\n",
      "25 self_attn.v_proj.weight torch.Size([4096, 4096])\n",
      "25 self_attn.o_proj.weight torch.Size([4096, 4096])\n",
      "25 mlp.gate_proj.weight torch.Size([11008, 4096])\n",
      "25 mlp.up_proj.weight torch.Size([11008, 4096])\n",
      "25 mlp.down_proj.weight torch.Size([4096, 11008])\n",
      "25 input_layernorm.weight torch.Size([4096])\n",
      "25 post_attention_layernorm.weight torch.Size([4096])\n",
      "26 self_attn.q_proj.weight torch.Size([4096, 4096])\n",
      "26 self_attn.k_proj.weight torch.Size([4096, 4096])\n",
      "26 self_attn.v_proj.weight torch.Size([4096, 4096])\n",
      "26 self_attn.o_proj.weight torch.Size([4096, 4096])\n",
      "26 mlp.gate_proj.weight torch.Size([11008, 4096])\n",
      "26 mlp.up_proj.weight torch.Size([11008, 4096])\n",
      "26 mlp.down_proj.weight torch.Size([4096, 11008])\n",
      "26 input_layernorm.weight torch.Size([4096])\n",
      "26 post_attention_layernorm.weight torch.Size([4096])\n",
      "27 self_attn.q_proj.weight torch.Size([4096, 4096])\n",
      "27 self_attn.k_proj.weight torch.Size([4096, 4096])\n",
      "27 self_attn.v_proj.weight torch.Size([4096, 4096])\n",
      "27 self_attn.o_proj.weight torch.Size([4096, 4096])\n",
      "27 mlp.gate_proj.weight torch.Size([11008, 4096])\n",
      "27 mlp.up_proj.weight torch.Size([11008, 4096])\n",
      "27 mlp.down_proj.weight torch.Size([4096, 11008])\n",
      "27 input_layernorm.weight torch.Size([4096])\n",
      "27 post_attention_layernorm.weight torch.Size([4096])\n",
      "28 self_attn.q_proj.weight torch.Size([4096, 4096])\n",
      "28 self_attn.k_proj.weight torch.Size([4096, 4096])\n",
      "28 self_attn.v_proj.weight torch.Size([4096, 4096])\n",
      "28 self_attn.o_proj.weight torch.Size([4096, 4096])\n",
      "28 mlp.gate_proj.weight torch.Size([11008, 4096])\n",
      "28 mlp.up_proj.weight torch.Size([11008, 4096])\n",
      "28 mlp.down_proj.weight torch.Size([4096, 11008])\n",
      "28 input_layernorm.weight torch.Size([4096])\n",
      "28 post_attention_layernorm.weight torch.Size([4096])\n",
      "29 self_attn.q_proj.weight torch.Size([4096, 4096])\n",
      "29 self_attn.k_proj.weight torch.Size([4096, 4096])\n",
      "29 self_attn.v_proj.weight torch.Size([4096, 4096])\n",
      "29 self_attn.o_proj.weight torch.Size([4096, 4096])\n",
      "29 mlp.gate_proj.weight torch.Size([11008, 4096])\n",
      "29 mlp.up_proj.weight torch.Size([11008, 4096])\n",
      "29 mlp.down_proj.weight torch.Size([4096, 11008])\n",
      "29 input_layernorm.weight torch.Size([4096])\n",
      "29 post_attention_layernorm.weight torch.Size([4096])\n",
      "30 self_attn.q_proj.weight torch.Size([4096, 4096])\n",
      "30 self_attn.k_proj.weight torch.Size([4096, 4096])\n",
      "30 self_attn.v_proj.weight torch.Size([4096, 4096])\n",
      "30 self_attn.o_proj.weight torch.Size([4096, 4096])\n",
      "30 mlp.gate_proj.weight torch.Size([11008, 4096])\n",
      "30 mlp.up_proj.weight torch.Size([11008, 4096])\n",
      "30 mlp.down_proj.weight torch.Size([4096, 11008])\n",
      "30 input_layernorm.weight torch.Size([4096])\n",
      "30 post_attention_layernorm.weight torch.Size([4096])\n",
      "31 self_attn.q_proj.weight torch.Size([4096, 4096])\n",
      "31 self_attn.k_proj.weight torch.Size([4096, 4096])\n",
      "31 self_attn.v_proj.weight torch.Size([4096, 4096])\n",
      "31 self_attn.o_proj.weight torch.Size([4096, 4096])\n",
      "31 mlp.gate_proj.weight torch.Size([11008, 4096])\n",
      "31 mlp.up_proj.weight torch.Size([11008, 4096])\n",
      "31 mlp.down_proj.weight torch.Size([4096, 11008])\n",
      "31 input_layernorm.weight torch.Size([4096])\n",
      "31 post_attention_layernorm.weight torch.Size([4096])\n",
      "32 self_attn.q_proj.weight torch.Size([4096, 4096])\n",
      "32 self_attn.k_proj.weight torch.Size([4096, 4096])\n",
      "32 self_attn.v_proj.weight torch.Size([4096, 4096])\n",
      "32 self_attn.o_proj.weight torch.Size([4096, 4096])\n",
      "32 mlp.gate_proj.weight torch.Size([11008, 4096])\n",
      "32 mlp.up_proj.weight torch.Size([11008, 4096])\n",
      "32 mlp.down_proj.weight torch.Size([4096, 11008])\n",
      "32 input_layernorm.weight torch.Size([4096])\n",
      "32 post_attention_layernorm.weight torch.Size([4096])\n",
      "33 norm.weight torch.Size([4096])\n",
      "33 lm_head.weight torch.Size([38991, 4096])\n",
      "33 num_head.fc1.weight torch.Size([16384, 4096])\n",
      "33 num_head.fc1.bias torch.Size([16384])\n",
      "33 num_head.fc2.weight torch.Size([1, 16384])\n",
      "33 num_head.fc2.bias torch.Size([1])\n"
     ]
    },
    {
     "data": {
      "text/plain": [
       "<All keys matched successfully>"
      ]
     },
     "execution_count": 26,
     "metadata": {},
     "output_type": "execute_result"
    }
   ],
   "source": [
    "from transformers import AutoTokenizer, AutoModelForCausalLM\n",
    "# ckpt_home = '/hai1/shufxi/scigpt/7bv2/stageB/global_step26999/'\n",
    "\n",
    "ckpt_home = '/blob/shufxi/scigpt/7bv2/stageB/finetune/pistachio/global_step1999'\n",
    "\n",
    "def show_ckpt(name, ckpt):\n",
    "    for k, v in ckpt.items():\n",
    "        if 'dummy' not in k:\n",
    "            print(name, k, v.shape)\n",
    "\n",
    "model = AutoModelForCausalLM.from_pretrained(tokenizer_home)\n",
    "\n",
    "model_dict = model.state_dict()\n",
    "ckpt_dict = {}\n",
    "layer0 = torch.load(os.path.join(ckpt_home, \"layer_00-model_states.pt\"), map_location=torch.device(\"cpu\"))\n",
    "ckpt_dict['model.embed_tokens.weight'] = layer0['embed_tokens.weight']\n",
    "show_ckpt('layer0', layer0)\n",
    "\n",
    "for l in range(0, 32):\n",
    "    l_index = str(l + 1).zfill(2)\n",
    "    layer = torch.load(os.path.join(ckpt_home, f\"layer_{l_index}-model_states.pt\"), map_location=torch.device(\"cpu\"))\n",
    "    show_ckpt(l_index, layer)\n",
    "    for k in layer:\n",
    "        if \"dummy\" in k or 'rotary_emb' in k:\n",
    "            continue\n",
    "        ckpt_dict[f\"model.layers.{l}.{k}\"] = layer[k]\n",
    "layer = torch.load(os.path.join(ckpt_home, \"layer_33-model_states.pt\"), map_location=torch.device(\"cpu\"))\n",
    "show_ckpt(33, layer)\n",
    "ckpt_dict[\"model.norm.weight\"] = layer[\"norm.weight\"]\n",
    "\n",
    "layer = torch.load(os.path.join(ckpt_home, \"layer_34-model_states.pt\"), map_location=torch.device(\"cpu\"))\n",
    "show_ckpt(33, layer)\n",
    "ckpt_dict[\"lm_head.weight\"] = layer[\"lm_head.weight\"]\n",
    "model_dict.update(ckpt_dict)\n",
    "\n",
    "model.resize_token_embeddings(len(tokenizer))\n",
    "model.load_state_dict(model_dict)"
   ]
  },
  {
   "cell_type": "code",
   "execution_count": 27,
   "metadata": {},
   "outputs": [],
   "source": [
    "model = model.cuda()"
   ]
  },
  {
   "cell_type": "code",
   "execution_count": 29,
   "metadata": {},
   "outputs": [
    {
     "name": "stdout",
     "output_type": "stream",
     "text": [
      "<s> <product>C(\\C(N[C@H]1CN2CCC1CC2)=O)=C/c1cccc(Br)c1 </product> <reactants>C(\\)cccc(Br)c1ccccc1)ccc1ccccc1)ccc1ccccc1)ccc1ccccc1)ccc1ccccc1)ccc1ccccc1)ccc1ccccc1)ccc1ccccc1)ccc1ccccc1)ccc1ccccc1)ccc1ccccc1)ccc1ccccc1)ccc1ccccc1)ccc1ccccc1)ccc1ccccc1)ccc1ccccc1)ccc1ccccc1)ccc1ccccc1)ccc1ccccc1)ccc1ccccc1)ccc1ccccc1)ccc1ccccc1)ccc1ccccc1)ccc1ccccc1)ccc1ccccc1)ccc1ccccc1)ccc1c\n",
      "tensor([    1, 32017, 32128, 32129, 32155, 32128, 32129, 32135, 32143, 32131,\n",
      "        32128, 32135, 32134, 32128, 32128, 32128, 32131, 32128, 32128, 32134,\n",
      "        32130, 32133, 32132, 32130, 32133, 32128, 32145, 32127, 32131, 32127,\n",
      "        32127, 32127, 32127, 32129, 32151, 32130, 32127, 32131, 32018, 32019,\n",
      "        32128, 32129, 32155, 32130, 32127, 32127, 32127, 32127, 32129, 32151,\n",
      "        32130, 32127, 32131, 32127, 32127, 32127, 32127, 32127, 32131, 32130,\n",
      "        32127, 32127, 32127, 32131, 32127, 32127, 32127, 32127, 32127, 32131,\n",
      "        32130, 32127, 32127, 32127, 32131, 32127, 32127, 32127, 32127, 32127,\n",
      "        32131, 32130, 32127, 32127, 32127, 32131, 32127, 32127, 32127, 32127,\n",
      "        32127, 32131, 32130, 32127, 32127, 32127, 32131, 32127, 32127, 32127,\n",
      "        32127, 32127, 32131, 32130, 32127, 32127, 32127, 32131, 32127, 32127,\n",
      "        32127, 32127, 32127, 32131, 32130, 32127, 32127, 32127, 32131, 32127,\n",
      "        32127, 32127, 32127, 32127, 32131, 32130, 32127, 32127, 32127, 32131,\n",
      "        32127, 32127, 32127, 32127, 32127, 32131, 32130, 32127, 32127, 32127,\n",
      "        32131, 32127, 32127, 32127, 32127, 32127, 32131, 32130, 32127, 32127,\n",
      "        32127, 32131, 32127, 32127, 32127, 32127, 32127, 32131, 32130, 32127,\n",
      "        32127, 32127, 32131, 32127, 32127, 32127, 32127, 32127, 32131, 32130,\n",
      "        32127, 32127, 32127, 32131, 32127, 32127, 32127, 32127, 32127, 32131,\n",
      "        32130, 32127, 32127, 32127, 32131, 32127, 32127, 32127, 32127, 32127,\n",
      "        32131, 32130, 32127, 32127, 32127, 32131, 32127, 32127, 32127, 32127,\n",
      "        32127, 32131, 32130, 32127, 32127, 32127, 32131, 32127, 32127, 32127,\n",
      "        32127, 32127, 32131, 32130, 32127, 32127, 32127, 32131, 32127, 32127,\n",
      "        32127, 32127, 32127, 32131, 32130, 32127, 32127, 32127, 32131, 32127,\n",
      "        32127, 32127, 32127, 32127, 32131, 32130, 32127, 32127, 32127, 32131,\n",
      "        32127, 32127, 32127, 32127, 32127, 32131, 32130, 32127, 32127, 32127,\n",
      "        32131, 32127, 32127, 32127, 32127, 32127, 32131, 32130, 32127, 32127,\n",
      "        32127, 32131, 32127, 32127, 32127, 32127, 32127, 32131, 32130, 32127,\n",
      "        32127, 32127, 32131, 32127, 32127, 32127, 32127, 32127, 32131, 32130,\n",
      "        32127, 32127, 32127, 32131, 32127, 32127, 32127, 32127, 32127, 32131,\n",
      "        32130, 32127, 32127, 32127, 32131, 32127, 32127, 32127, 32127, 32127,\n",
      "        32131, 32130, 32127, 32127, 32127, 32131, 32127, 32127, 32127, 32127,\n",
      "        32127, 32131, 32130, 32127, 32127, 32127, 32131, 32127, 32127, 32127,\n",
      "        32127, 32127, 32131, 32130, 32127, 32127, 32127, 32131, 32127, 32127,\n",
      "        32127, 32127, 32127, 32131, 32130, 32127, 32127, 32127, 32131, 32127],\n",
      "       device='cuda:0')\n",
      "-1.6079843044281006\n",
      "\n",
      "<s> <product>C(\\C(N[C@H]1CN2CCC1CC2)=O)=C/c1cccc(Br)c1 </product> <reactants>C(\\)cccc(Br)c1ccccc1)ccc1ccccc1)ccc1ccccc1)ccc1ccccc1)ccc1ccccc1)ccc1ccccc1)ccc1ccccc1)ccc1ccccc1)ccc1ccccc1)ccc1ccccc1)ccc1ccccc1)ccc1ccccc1)ccc1ccccc1)ccc1ccccc1)ccc1ccccc1)ccc1ccccc1)ccc1ccccc1)ccc1ccccc1)ccc1ccccc1)ccc1ccccc1)ccc1ccccc1)ccc1ccccc1)ccc1ccccc1)ccc1ccccc1)ccc1ccccc1))ccc1ccccc1)ccc1\n",
      "tensor([    1, 32017, 32128, 32129, 32155, 32128, 32129, 32135, 32143, 32131,\n",
      "        32128, 32135, 32134, 32128, 32128, 32128, 32131, 32128, 32128, 32134,\n",
      "        32130, 32133, 32132, 32130, 32133, 32128, 32145, 32127, 32131, 32127,\n",
      "        32127, 32127, 32127, 32129, 32151, 32130, 32127, 32131, 32018, 32019,\n",
      "        32128, 32129, 32155, 32130, 32127, 32127, 32127, 32127, 32129, 32151,\n",
      "        32130, 32127, 32131, 32127, 32127, 32127, 32127, 32127, 32131, 32130,\n",
      "        32127, 32127, 32127, 32131, 32127, 32127, 32127, 32127, 32127, 32131,\n",
      "        32130, 32127, 32127, 32127, 32131, 32127, 32127, 32127, 32127, 32127,\n",
      "        32131, 32130, 32127, 32127, 32127, 32131, 32127, 32127, 32127, 32127,\n",
      "        32127, 32131, 32130, 32127, 32127, 32127, 32131, 32127, 32127, 32127,\n",
      "        32127, 32127, 32131, 32130, 32127, 32127, 32127, 32131, 32127, 32127,\n",
      "        32127, 32127, 32127, 32131, 32130, 32127, 32127, 32127, 32131, 32127,\n",
      "        32127, 32127, 32127, 32127, 32131, 32130, 32127, 32127, 32127, 32131,\n",
      "        32127, 32127, 32127, 32127, 32127, 32131, 32130, 32127, 32127, 32127,\n",
      "        32131, 32127, 32127, 32127, 32127, 32127, 32131, 32130, 32127, 32127,\n",
      "        32127, 32131, 32127, 32127, 32127, 32127, 32127, 32131, 32130, 32127,\n",
      "        32127, 32127, 32131, 32127, 32127, 32127, 32127, 32127, 32131, 32130,\n",
      "        32127, 32127, 32127, 32131, 32127, 32127, 32127, 32127, 32127, 32131,\n",
      "        32130, 32127, 32127, 32127, 32131, 32127, 32127, 32127, 32127, 32127,\n",
      "        32131, 32130, 32127, 32127, 32127, 32131, 32127, 32127, 32127, 32127,\n",
      "        32127, 32131, 32130, 32127, 32127, 32127, 32131, 32127, 32127, 32127,\n",
      "        32127, 32127, 32131, 32130, 32127, 32127, 32127, 32131, 32127, 32127,\n",
      "        32127, 32127, 32127, 32131, 32130, 32127, 32127, 32127, 32131, 32127,\n",
      "        32127, 32127, 32127, 32127, 32131, 32130, 32127, 32127, 32127, 32131,\n",
      "        32127, 32127, 32127, 32127, 32127, 32131, 32130, 32127, 32127, 32127,\n",
      "        32131, 32127, 32127, 32127, 32127, 32127, 32131, 32130, 32127, 32127,\n",
      "        32127, 32131, 32127, 32127, 32127, 32127, 32127, 32131, 32130, 32127,\n",
      "        32127, 32127, 32131, 32127, 32127, 32127, 32127, 32127, 32131, 32130,\n",
      "        32127, 32127, 32127, 32131, 32127, 32127, 32127, 32127, 32127, 32131,\n",
      "        32130, 32127, 32127, 32127, 32131, 32127, 32127, 32127, 32127, 32127,\n",
      "        32131, 32130, 32127, 32127, 32127, 32131, 32127, 32127, 32127, 32127,\n",
      "        32127, 32131, 32130, 32127, 32127, 32127, 32131, 32127, 32127, 32127,\n",
      "        32127, 32127, 32131, 32130, 32130, 32127, 32127, 32127, 32131, 32127,\n",
      "        32127, 32127, 32127, 32127, 32131, 32130, 32127, 32127, 32127, 32131],\n",
      "       device='cuda:0')\n",
      "-1.6084872484207153\n",
      "\n",
      "<s> <product>C(\\C(N[C@H]1CN2CCC1CC2)=O)=C/c1cccc(Br)c1 </product> <reactants>C(\\)cccc(Br)c1ccccc1)ccc1ccccc1)ccc1ccccc1)ccc1ccccc1)ccc1ccccc1)ccc1ccccc1)ccc1ccccc1)ccc1ccccc1)ccc1ccccc1)ccc1ccccc1)ccc1ccccc1)ccc1ccccc1)ccc1ccccc1)ccc1ccccc1)ccc1ccccc1)ccc1ccccc1)ccc1ccccc1)ccc1ccccc1)ccc1ccccc1)ccc1ccccc1)ccc1ccccc1))ccc1ccccc1)ccc1ccccc1)ccc1ccccc1)ccc1ccccc1)ccc1ccccc1)ccc1\n",
      "tensor([    1, 32017, 32128, 32129, 32155, 32128, 32129, 32135, 32143, 32131,\n",
      "        32128, 32135, 32134, 32128, 32128, 32128, 32131, 32128, 32128, 32134,\n",
      "        32130, 32133, 32132, 32130, 32133, 32128, 32145, 32127, 32131, 32127,\n",
      "        32127, 32127, 32127, 32129, 32151, 32130, 32127, 32131, 32018, 32019,\n",
      "        32128, 32129, 32155, 32130, 32127, 32127, 32127, 32127, 32129, 32151,\n",
      "        32130, 32127, 32131, 32127, 32127, 32127, 32127, 32127, 32131, 32130,\n",
      "        32127, 32127, 32127, 32131, 32127, 32127, 32127, 32127, 32127, 32131,\n",
      "        32130, 32127, 32127, 32127, 32131, 32127, 32127, 32127, 32127, 32127,\n",
      "        32131, 32130, 32127, 32127, 32127, 32131, 32127, 32127, 32127, 32127,\n",
      "        32127, 32131, 32130, 32127, 32127, 32127, 32131, 32127, 32127, 32127,\n",
      "        32127, 32127, 32131, 32130, 32127, 32127, 32127, 32131, 32127, 32127,\n",
      "        32127, 32127, 32127, 32131, 32130, 32127, 32127, 32127, 32131, 32127,\n",
      "        32127, 32127, 32127, 32127, 32131, 32130, 32127, 32127, 32127, 32131,\n",
      "        32127, 32127, 32127, 32127, 32127, 32131, 32130, 32127, 32127, 32127,\n",
      "        32131, 32127, 32127, 32127, 32127, 32127, 32131, 32130, 32127, 32127,\n",
      "        32127, 32131, 32127, 32127, 32127, 32127, 32127, 32131, 32130, 32127,\n",
      "        32127, 32127, 32131, 32127, 32127, 32127, 32127, 32127, 32131, 32130,\n",
      "        32127, 32127, 32127, 32131, 32127, 32127, 32127, 32127, 32127, 32131,\n",
      "        32130, 32127, 32127, 32127, 32131, 32127, 32127, 32127, 32127, 32127,\n",
      "        32131, 32130, 32127, 32127, 32127, 32131, 32127, 32127, 32127, 32127,\n",
      "        32127, 32131, 32130, 32127, 32127, 32127, 32131, 32127, 32127, 32127,\n",
      "        32127, 32127, 32131, 32130, 32127, 32127, 32127, 32131, 32127, 32127,\n",
      "        32127, 32127, 32127, 32131, 32130, 32127, 32127, 32127, 32131, 32127,\n",
      "        32127, 32127, 32127, 32127, 32131, 32130, 32127, 32127, 32127, 32131,\n",
      "        32127, 32127, 32127, 32127, 32127, 32131, 32130, 32127, 32127, 32127,\n",
      "        32131, 32127, 32127, 32127, 32127, 32127, 32131, 32130, 32127, 32127,\n",
      "        32127, 32131, 32127, 32127, 32127, 32127, 32127, 32131, 32130, 32127,\n",
      "        32127, 32127, 32131, 32127, 32127, 32127, 32127, 32127, 32131, 32130,\n",
      "        32130, 32127, 32127, 32127, 32131, 32127, 32127, 32127, 32127, 32127,\n",
      "        32131, 32130, 32127, 32127, 32127, 32131, 32127, 32127, 32127, 32127,\n",
      "        32127, 32131, 32130, 32127, 32127, 32127, 32131, 32127, 32127, 32127,\n",
      "        32127, 32127, 32131, 32130, 32127, 32127, 32127, 32131, 32127, 32127,\n",
      "        32127, 32127, 32127, 32131, 32130, 32127, 32127, 32127, 32131, 32127,\n",
      "        32127, 32127, 32127, 32127, 32131, 32130, 32127, 32127, 32127, 32131],\n",
      "       device='cuda:0')\n",
      "-1.6088567972183228\n",
      "\n",
      "<s> <product>C(\\C(N[C@H]1CN2CCC1CC2)=O)=C/c1cccc(Br)c1 </product> <reactants>C(\\)cccc(Br)c1ccccc1)ccc1ccccc1)ccc1ccccc1)ccc1ccccc1)ccc1ccccc1)ccc1ccccc1)ccc1ccccc1)ccc1ccccc1)ccc1ccccc1)ccc1ccccc1)ccc1ccccc1)ccc1ccccc1)ccc1ccccc1)ccc1ccccc1)ccc1ccccc1)ccc1ccccc1)ccc1ccccc1)ccc1ccccc1)ccc1ccccc1)ccc1ccccc1)ccc1ccccc1)ccc1ccccc1)ccc1ccccc1)ccc1ccccc1)ccc1ccccc1)ccc1ccccc1)c)ccc\n",
      "tensor([    1, 32017, 32128, 32129, 32155, 32128, 32129, 32135, 32143, 32131,\n",
      "        32128, 32135, 32134, 32128, 32128, 32128, 32131, 32128, 32128, 32134,\n",
      "        32130, 32133, 32132, 32130, 32133, 32128, 32145, 32127, 32131, 32127,\n",
      "        32127, 32127, 32127, 32129, 32151, 32130, 32127, 32131, 32018, 32019,\n",
      "        32128, 32129, 32155, 32130, 32127, 32127, 32127, 32127, 32129, 32151,\n",
      "        32130, 32127, 32131, 32127, 32127, 32127, 32127, 32127, 32131, 32130,\n",
      "        32127, 32127, 32127, 32131, 32127, 32127, 32127, 32127, 32127, 32131,\n",
      "        32130, 32127, 32127, 32127, 32131, 32127, 32127, 32127, 32127, 32127,\n",
      "        32131, 32130, 32127, 32127, 32127, 32131, 32127, 32127, 32127, 32127,\n",
      "        32127, 32131, 32130, 32127, 32127, 32127, 32131, 32127, 32127, 32127,\n",
      "        32127, 32127, 32131, 32130, 32127, 32127, 32127, 32131, 32127, 32127,\n",
      "        32127, 32127, 32127, 32131, 32130, 32127, 32127, 32127, 32131, 32127,\n",
      "        32127, 32127, 32127, 32127, 32131, 32130, 32127, 32127, 32127, 32131,\n",
      "        32127, 32127, 32127, 32127, 32127, 32131, 32130, 32127, 32127, 32127,\n",
      "        32131, 32127, 32127, 32127, 32127, 32127, 32131, 32130, 32127, 32127,\n",
      "        32127, 32131, 32127, 32127, 32127, 32127, 32127, 32131, 32130, 32127,\n",
      "        32127, 32127, 32131, 32127, 32127, 32127, 32127, 32127, 32131, 32130,\n",
      "        32127, 32127, 32127, 32131, 32127, 32127, 32127, 32127, 32127, 32131,\n",
      "        32130, 32127, 32127, 32127, 32131, 32127, 32127, 32127, 32127, 32127,\n",
      "        32131, 32130, 32127, 32127, 32127, 32131, 32127, 32127, 32127, 32127,\n",
      "        32127, 32131, 32130, 32127, 32127, 32127, 32131, 32127, 32127, 32127,\n",
      "        32127, 32127, 32131, 32130, 32127, 32127, 32127, 32131, 32127, 32127,\n",
      "        32127, 32127, 32127, 32131, 32130, 32127, 32127, 32127, 32131, 32127,\n",
      "        32127, 32127, 32127, 32127, 32131, 32130, 32127, 32127, 32127, 32131,\n",
      "        32127, 32127, 32127, 32127, 32127, 32131, 32130, 32127, 32127, 32127,\n",
      "        32131, 32127, 32127, 32127, 32127, 32127, 32131, 32130, 32127, 32127,\n",
      "        32127, 32131, 32127, 32127, 32127, 32127, 32127, 32131, 32130, 32127,\n",
      "        32127, 32127, 32131, 32127, 32127, 32127, 32127, 32127, 32131, 32130,\n",
      "        32127, 32127, 32127, 32131, 32127, 32127, 32127, 32127, 32127, 32131,\n",
      "        32130, 32127, 32127, 32127, 32131, 32127, 32127, 32127, 32127, 32127,\n",
      "        32131, 32130, 32127, 32127, 32127, 32131, 32127, 32127, 32127, 32127,\n",
      "        32127, 32131, 32130, 32127, 32127, 32127, 32131, 32127, 32127, 32127,\n",
      "        32127, 32127, 32131, 32130, 32127, 32127, 32127, 32131, 32127, 32127,\n",
      "        32127, 32127, 32127, 32131, 32130, 32127, 32130, 32127, 32127, 32127],\n",
      "       device='cuda:0')\n",
      "-1.6090863943099976\n",
      "\n"
     ]
    },
    {
     "name": "stderr",
     "output_type": "stream",
     "text": [
      "Bad pipe message: %s [b\"\\xfbR\\xcaiy\\x078<\\x92f\\x8b%\\xfc\\xe7/\\xb1r\\x08\\x00\\x00|\\xc0,\\xc00\\x00\\xa3\\x00\\x9f\\xcc\\xa9\\xcc\\xa8\\xcc\\xaa\\xc0\\xaf\\xc0\\xad\\xc0\\xa3\\xc0\\x9f\\xc0]\\xc0a\\xc0W\\xc0S\\xc0+\\xc0/\\x00\\xa2\\x00\\x9e\\xc0\\xae\\xc0\\xac\\xc0\\xa2\\xc0\\x9e\\xc0\\\\\\xc0`\\xc0V\\xc0R\\xc0$\\xc0(\\x00k\\x00j\\xc0#\\xc0'\\x00g\\x00@\\xc0\\n\\xc0\\x14\\x009\\x008\\xc0\\t\\xc0\\x13\\x003\\x002\\x00\\x9d\\xc0\\xa1\\xc0\\x9d\\xc0Q\\x00\\x9c\\xc0\\xa0\\xc0\\x9c\\xc0P\\x00=\\x00<\\x005\\x00/\\x00\\x9a\\x00\\x99\\xc0\\x07\\xc0\\x11\\x00\\x96\\x00\\x05\\x00\\xff\\x01\\x00\\x00j\\x00\\x00\\x00\\x0e\\x00\\x0c\\x00\\x00\\t127.0.0.1\\x00\\x0b\\x00\\x04\\x03\\x00\\x01\\x02\\x00\\n\\x00\\x0c\\x00\\n\\x00\\x1d\\x00\\x17\\x00\\x1e\\x00\\x19\\x00\\x18\\x00#\\x00\\x00\\x00\\x16\\x00\\x00\\x00\\x17\\x00\\x00\\x00\\r\\x000\\x00.\\x04\\x03\\x05\\x03\", b'\\x08\\x07\\x08\\x08\\x08', b'\\n\\x08\\x0b\\x08\\x04\\x08\\x05\\x08']\n",
      "Bad pipe message: %s [b'\\x01\\x05\\x01\\x06\\x01']\n",
      "Bad pipe message: %s [b'\\x02\\x03', b'\\x02\\x01', b'\\x02\\x02']\n",
      "Bad pipe message: %s [b'\\xcd\\xda\\xb43\\x9d\\x91\\xbaU\\nh\\x07\\x971^Y{\\x9eV\\x00\\x00\\xa6\\xc0,\\xc00\\x00\\xa3\\x00\\x9f\\xcc\\xa9\\xcc\\xa8\\xcc\\xaa\\xc0\\xaf\\xc0\\xad\\xc0\\xa3\\xc0\\x9f\\xc0]\\xc0a\\xc0W\\xc0S\\xc0+\\xc0/\\x00\\xa2\\x00\\x9e\\xc0\\xae\\xc0\\xac\\xc0\\xa2\\xc0\\x9e\\xc0\\\\\\xc0`\\xc0V\\xc0', b\"$\\xc0(\\x00k\\x00j\\xc0s\\xc0w\\x00\\xc4\\x00\\xc3\\xc0#\\xc0'\\x00g\\x00@\\xc0r\\xc0v\\x00\\xbe\\x00\\xbd\\xc0\\n\\xc0\\x14\\x009\\x008\\x00\\x88\\x00\\x87\\xc0\\t\\xc0\\x13\\x003\\x002\\x00\\x9a\\x00\\x99\\x00E\\x00D\\xc0\\x07\\xc0\\x11\\xc0\\x08\\xc0\\x12\\x00\\x16\\x00\\x13\\x00\\x9d\\xc0\\xa1\\xc0\\x9d\\xc0Q\\x00\\x9c\"]\n",
      "Bad pipe message: %s [b'\\x05\\x02\\x06']\n",
      "Bad pipe message: %s [b'5\\xfei\\x92~\\xc0\\x8e\\xf5\\xd8\\xaat\\xa9\\xcc\\xf2\\xa0\\x1a3%\\x00\\x00\\xa2\\xc0\\x14\\xc0\\n\\x009\\x008\\x007\\x006\\x00\\x88\\x00\\x87\\x00\\x86\\x00\\x85\\xc0\\x19\\x00:\\x00\\x89\\xc0\\x0f\\xc0\\x05\\x005\\x00\\x84\\xc0\\x13\\xc0\\t\\x003\\x002\\x001\\x000\\x00\\x9a\\x00\\x99\\x00\\x98\\x00\\x97\\x00E\\x00D\\x00C\\x00B\\xc0\\x18\\x004\\x00\\x9b\\x00F\\xc0\\x0e\\xc0\\x04\\x00/\\x00\\x96\\x00A\\x00\\x07\\xc0\\x11\\xc0\\x07\\xc0\\x16\\x00\\x18\\xc0\\x0c\\xc0\\x02\\x00\\x05\\x00\\x04\\xc0\\x12\\xc0\\x08\\x00\\x16\\x00\\x13\\x00\\x10\\x00\\r\\xc0\\x17\\x00\\x1b\\xc0\\r\\xc0\\x03\\x00\\n\\x00\\x15\\x00\\x12\\x00\\x0f\\x00\\x0c\\x00\\x1a\\x00\\t\\x00\\x14\\x00\\x11\\x00\\x19']\n",
      "Bad pipe message: %s [b\"\\xb8\\xbe\\xb7\\xc99\\xf0\\x81\\x17Q\\x9cC\\xa9K\\xce\\xff\\x0f\\nZ\\x00\\x00\\x86\\xc00\\xc0,\\xc0(\\xc0$\\xc0\\x14\\xc0\\n\\x00\\xa5\\x00\\xa3\\x00\\xa1\\x00\\x9f\\x00k\\x00j\\x00i\\x00h\\x009\\x008\\x007\\x006\\xc02\\xc0.\\xc0*\\xc0&\\xc0\\x0f\\xc0\\x05\\x00\\x9d\\x00=\\x005\\xc0/\\xc0+\\xc0'\\xc0#\\xc0\\x13\\xc0\\t\\x00\\xa4\\x00\\xa2\\x00\\xa0\\x00\\x9e\\x00g\\x00@\\x00?\\x00>\\x003\\x002\\x001\\x000\\xc01\\xc0-\\xc0)\\xc0%\\xc0\\x0e\\xc0\\x04\\x00\\x9c\\x00<\\x00/\\x00\\x9a\\x00\\x99\\x00\\x98\\x00\\x97\\x00\\x96\\x00\\x07\"]\n",
      "Bad pipe message: %s [b'XK\\xc851P\\xa4{\\x0b\\x85\\xf7M\\x90\\xc4\\xfc\\xd4]\\xd4\\x00\\x00\\xf4\\xc00\\xc0,\\xc0(\\xc0$\\xc0\\x14\\xc0\\n\\x00\\xa5\\x00\\xa3\\x00\\xa1\\x00\\x9f\\x00k\\x00j\\x00i']\n",
      "Bad pipe message: %s [b'\\xb0\\xa0\\x9a2\\xc1\\x1cy2\\x16ok\\xf3\\x05\\x06\\xa9~\\xdb\\xda\\x00\\x00|\\xc0,\\xc00\\x00\\xa3\\x00\\x9f\\xcc\\xa9\\xcc\\xa8\\xcc\\xaa\\xc0\\xaf\\xc0\\xad\\xc0\\xa3\\xc0\\x9f\\xc0]\\xc0a\\xc0W\\xc0S\\xc0+']\n",
      "Bad pipe message: %s [b\"\\x00\\xa2\\x00\\x9e\\xc0\\xae\\xc0\\xac\\xc0\\xa2\\xc0\\x9e\\xc0\\\\\\xc0`\\xc0V\\xc0R\\xc0$\\xc0(\\x00k\\x00j\\xc0#\\xc0'\\x00g\\x00@\\xc0\\n\\xc0\\x14\\x009\\x008\\xc0\\t\\xc0\\x13\\x003\\x002\\x00\\x9d\\xc0\\xa1\\xc0\\x9d\\xc0Q\\x00\\x9c\\xc0\\xa0\\xc0\\x9c\\xc0P\\x00=\\x00<\\x005\\x00/\\x00\\x9a\\x00\\x99\\xc0\\x07\\xc0\\x11\\x00\\x96\\x00\\x05\\x00\\xff\\x01\\x00\\x00j\\x00\\x00\\x00\\x0e\\x00\\x0c\\x00\\x00\\t127.0.0.1\\x00\\x0b\\x00\\x04\\x03\\x00\\x01\\x02\\x00\\n\\x00\\x0c\\x00\\n\\x00\\x1d\\x00\\x17\\x00\\x1e\\x00\\x19\\x00\\x18\\x00#\\x00\\x00\\x00\\x16\\x00\\x00\\x00\\x17\\x00\\x00\\x00\\r\\x000\\x00.\\x04\\x03\\x05\\x03\\x06\\x03\\x08\\x07\\x08\\x08\\x08\\t\\x08\\n\\x08\\x0b\\x08\\x04\\x08\\x05\\x08\\x06\\x04\\x01\\x05\\x01\\x06\\x01\\x03\\x03\\x02\\x03\\x03\\x01\\x02\\x01\\x03\", b'\\x02']\n",
      "Bad pipe message: %s [b'\\x05\\x02\\x06']\n",
      "Bad pipe message: %s [b'\\xb8\\x15w\\xa1\\xe1\\xa1\\x8a\\x16m\\x9f\\x08\\xd0O \\xd0`Tc\\x00\\x00\\xa6\\xc0,\\xc00\\x00\\xa3\\x00\\x9f\\xcc\\xa9\\xcc\\xa8\\xcc\\xaa\\xc0\\xaf\\xc0\\xad\\xc0\\xa3\\xc0\\x9f\\xc0]\\xc0a\\xc0W\\xc0S\\xc0+\\xc0/\\x00\\xa2']\n",
      "Bad pipe message: %s [b'\\x13\\xaf\\x9c6\\x16r\\xf9eF\\x06\\xfb+\\xbaok0.a\\x00\\x00\\xa2\\xc0\\x14\\xc0\\n\\x009\\x008\\x007\\x006\\x00\\x88\\x00\\x87\\x00\\x86\\x00\\x85\\xc0\\x19\\x00:\\x00\\x89\\xc0\\x0f\\xc0\\x05\\x005\\x00\\x84\\xc0\\x13\\xc0\\t\\x003\\x002\\x001\\x000\\x00\\x9a\\x00\\x99\\x00\\x98\\x00\\x97\\x00E\\x00D\\x00C\\x00B\\xc0\\x18\\x004\\x00\\x9b\\x00F\\xc0\\x0e\\xc0\\x04\\x00/\\x00\\x96\\x00A\\x00\\x07\\xc0\\x11\\xc0\\x07\\xc0\\x16\\x00\\x18\\xc0\\x0c\\xc0\\x02\\x00\\x05\\x00\\x04\\xc0\\x12\\xc0\\x08\\x00\\x16\\x00\\x13\\x00']\n",
      "Bad pipe message: %s [b'\\r\\xc0\\x17\\x00\\x1b\\xc0\\r\\xc0\\x03\\x00\\n\\x00\\x15\\x00\\x12']\n",
      "Bad pipe message: %s [b'\\xcb>:\\xce\\xcb\\x0b(\\xcf\\xf1\\x13\"\\xb2\\x10\\xd3\\x88bz\\x7f\\x00\\x00>\\xc0\\x14\\xc0\\n\\x009\\x008\\x007\\x006\\xc0\\x0f\\xc0\\x05\\x005\\xc0\\x13\\xc0\\t\\x003\\x002\\x001\\x000\\xc0\\x0e\\xc0\\x04\\x00/\\x00\\x9a\\x00\\x99\\x00\\x98\\x00\\x97\\x00\\x96\\x00\\x07\\xc0\\x11\\xc0\\x07\\xc0\\x0c\\xc0\\x02\\x00\\x05\\x00\\x04\\x00\\xff\\x02\\x01\\x00\\x00C\\x00\\x00\\x00\\x0e\\x00\\x0c\\x00\\x00\\t127.0.0.1\\x00', b'\\x04\\x03\\x00\\x01\\x02\\x00\\n\\x00\\x1c\\x00']\n",
      "Bad pipe message: %s [b'\\x17\\x00\\x19\\x00\\x1c\\x00\\x1b\\x00\\x18\\x00\\x1a\\x00\\x16\\x00\\x0e\\x00\\r\\x00\\x0b\\x00\\x0c\\x00\\t\\x00\\n']\n",
      "Bad pipe message: %s [b'\\x89r<\\x14(X6\\xeem\\xe8\\xb25lr\\xac\\x1aX\\xff\\x00\\x00\\xa2\\xc0\\x14\\xc0\\n\\x009\\x008\\x007\\x006\\x00\\x88\\x00\\x87\\x00\\x86\\x00\\x85\\xc0\\x19\\x00:\\x00\\x89\\xc0\\x0f\\xc0\\x05\\x005\\x00\\x84\\xc0\\x13\\xc0\\t\\x003\\x002\\x001\\x000\\x00\\x9a\\x00\\x99\\x00\\x98\\x00\\x97\\x00E\\x00D\\x00C\\x00B\\xc0\\x18\\x004\\x00\\x9b\\x00F\\xc0\\x0e\\xc0\\x04\\x00/\\x00\\x96\\x00A\\x00\\x07\\xc0\\x11\\xc0\\x07\\xc0\\x16\\x00\\x18\\xc0\\x0c\\xc0\\x02\\x00\\x05\\x00\\x04\\xc0\\x12\\xc0\\x08\\x00\\x16\\x00\\x13\\x00', b'\\r\\xc0\\x17\\x00\\x1b\\xc0\\r\\xc0\\x03\\x00\\n\\x00\\x15\\x00\\x12']\n",
      "Bad pipe message: %s [b'u\\x8a\\xf6R72\\xcc\\xf0\\xec\\xa3\\x14qJ\\xca\\x89\\xb1\\xdd5\\x00\\x00\\xa2\\xc0\\x14\\xc0\\n\\x009\\x008\\x007\\x006\\x00\\x88\\x00\\x87\\x00\\x86\\x00\\x85\\xc0\\x19\\x00:\\x00\\x89\\xc0\\x0f\\xc0\\x05\\x005\\x00\\x84\\xc0\\x13\\xc0\\t\\x003\\x002\\x001\\x000\\x00\\x9a\\x00\\x99\\x00\\x98\\x00\\x97\\x00E\\x00D\\x00C\\x00B\\xc0\\x18\\x004\\x00\\x9b\\x00F\\xc0\\x0e\\xc0\\x04\\x00/\\x00\\x96\\x00A\\x00\\x07\\xc0\\x11\\xc0\\x07\\xc0\\x16\\x00\\x18\\xc0\\x0c\\xc0\\x02\\x00\\x05\\x00\\x04\\xc0\\x12\\xc0\\x08\\x00\\x16\\x00\\x13\\x00\\x10\\x00\\r\\xc0\\x17\\x00\\x1b\\xc0\\r\\xc0\\x03\\x00\\n\\x00\\x15\\x00\\x12\\x00\\x0f\\x00\\x0c\\x00\\x1a\\x00\\t\\x00\\x14\\x00\\x11\\x00\\x19\\x00\\x08\\x00\\x06\\x00\\x17\\x00\\x03\\xc0\\x10\\xc0\\x06\\xc0\\x15\\xc0\\x0b\\xc0\\x01\\x00\\x02\\x00\\x01']\n",
      "Bad pipe message: %s [b'\\t\\xc5\\xd2\\xcbc\\x1fFr\\xcf\\x7fw\\xc5\\x91\\xac\\xfch\\x84\\x0b\\x00\\x00\\xf4\\xc00\\xc0,\\xc0(\\xc0$\\xc0\\x14\\xc0\\n\\x00\\xa5\\x00\\xa3']\n",
      "Bad pipe message: %s [b';\\x83\\xe4\\x9b_\\xa2\\xa1~\\x1c`Z\\xeb\\xa0\\xf6cDPY \\xf7\\xd1\\xe8\\x8eU\\xb2\\xf4\\xe6Jf@\\x15\\x13\\x17\\xe4\\x80e\\x8a\\x9fa\\r\\x87)_r\\xf1kG\\x94\\xdb\\xd7\\x1f\\x00\\x08\\x13\\x02\\x13\\x03\\x13\\x01\\x00\\xff\\x01\\x00\\x00\\x8f\\x00\\x00\\x00\\x0e\\x00\\x0c\\x00\\x00\\t127.0.0.1']\n",
      "Bad pipe message: %s [b'\\xb4Tv}\\x04\\xea\\xe7\\xbf\\xdd\\xe8\\xe5\\xaa', b'\\xe1#\\x08\\x01 \\nh\\x8f\\x9f\\xd7}\\xeb\\x88V\\xdb\\xec\\xa1_\\x92\\xcc\\x93\\xd5(;\\x8dh\\xe4\\x00\\xb3\"\\xc37\\xa2\\xb0\\xc5\\xbe\\x14\\x00\\x08\\x13\\x02\\x13\\x03\\x13\\x01\\x00\\xff\\x01\\x00\\x00\\x8f\\x00\\x00\\x00\\x0e\\x00\\x0c\\x00\\x00\\t127.0.0.1\\x00\\x0b\\x00\\x04\\x03\\x00\\x01\\x02\\x00\\n\\x00\\x0c\\x00\\n\\x00\\x1d\\x00\\x17\\x00\\x1e\\x00\\x19\\x00\\x18\\x00#\\x00\\x00\\x00\\x16\\x00\\x00\\x00\\x17\\x00\\x00\\x00\\r\\x00']\n",
      "Bad pipe message: %s [b'\\x1c\\x04\\x03\\x05\\x03\\x06\\x03\\x08\\x07\\x08\\x08\\x08\\t\\x08\\n\\x08\\x0b\\x08\\x04\\x08\\x05\\x08\\x06\\x04\\x01\\x05\\x01\\x06\\x01']\n",
      "Bad pipe message: %s [b'e\\xf3r\\xb7\\xebl\\x00\\xf9\\xbb\\xed$\\xeaK\\xe2\\xcfi\\x92\\xef\\x00\\x00|\\xc0,\\xc00\\x00\\xa3\\x00\\x9f\\xcc\\xa9\\xcc']\n",
      "Bad pipe message: %s [b\"\\xaa\\xc0\\xaf\\xc0\\xad\\xc0\\xa3\\xc0\\x9f\\xc0]\\xc0a\\xc0W\\xc0S\\xc0+\\xc0/\\x00\\xa2\\x00\\x9e\\xc0\\xae\\xc0\\xac\\xc0\\xa2\\xc0\\x9e\\xc0\\\\\\xc0`\\xc0V\\xc0R\\xc0$\\xc0(\\x00k\\x00j\\xc0#\\xc0'\\x00g\\x00@\\xc0\\n\\xc0\\x14\\x009\\x008\\xc0\\t\\xc0\\x13\\x003\\x002\\x00\\x9d\\xc0\\xa1\\xc0\\x9d\\xc0Q\\x00\\x9c\\xc0\\xa0\\xc0\\x9c\\xc0P\\x00=\\x00<\\x005\\x00/\\x00\\x9a\\x00\\x99\\xc0\\x07\\xc0\\x11\\x00\\x96\\x00\\x05\\x00\\xff\\x01\\x00\\x00j\\x00\\x00\\x00\\x0e\\x00\\x0c\\x00\\x00\\t127.0.0.1\\x00\\x0b\\x00\\x04\\x03\\x00\\x01\\x02\\x00\\n\\x00\\x0c\\x00\\n\\x00\\x1d\\x00\\x17\\x00\\x1e\\x00\\x19\\x00\\x18\\x00#\\x00\\x00\\x00\\x16\\x00\\x00\\x00\\x17\"]\n",
      "Bad pipe message: %s [b'|\\x12\\xd4+\\x90\\x12>\\xb6\\xde\\xf3\\x8fw\\x89\\x80u\\n\\x0cD\\x00\\x00>\\xc0\\x14\\xc0\\n\\x009\\x008\\x007\\x006\\xc0\\x0f\\xc0\\x05\\x005\\xc0\\x13\\xc0\\t\\x003\\x002\\x001\\x000\\xc0\\x0e\\xc0\\x04\\x00/\\x00\\x9a\\x00\\x99\\x00\\x98\\x00\\x97\\x00\\x96\\x00\\x07\\xc0\\x11\\xc0\\x07\\xc0\\x0c\\xc0\\x02\\x00\\x05\\x00\\x04\\x00\\xff\\x02\\x01\\x00\\x00C\\x00\\x00\\x00\\x0e\\x00\\x0c\\x00\\x00\\t127.0.0.1\\x00\\x0b\\x00\\x04\\x03\\x00\\x01\\x02\\x00\\n\\x00\\x1c\\x00\\x1a\\x00\\x17\\x00\\x19\\x00\\x1c\\x00\\x1b\\x00\\x18\\x00\\x1a\\x00\\x16\\x00\\x0e\\x00\\r\\x00\\x0b\\x00\\x0c\\x00\\t\\x00\\n\\x00#\\x00\\x00\\x00\\x0f\\x00']\n",
      "Bad pipe message: %s [b'\\x1e\\x12\\xc1\\x8f\\x1c\\x95b2~\\xcf\\x9f\\x8c0\\xf2<^\\xde\\xae\\x00\\x00\\xa2\\xc0\\x14\\xc0\\n\\x009\\x008\\x007\\x006\\x00\\x88\\x00\\x87\\x00\\x86\\x00\\x85\\xc0\\x19\\x00:\\x00\\x89\\xc0\\x0f\\xc0\\x05\\x005\\x00\\x84\\xc0\\x13\\xc0\\t\\x003\\x002\\x001\\x000\\x00\\x9a\\x00\\x99\\x00\\x98\\x00\\x97\\x00E\\x00D\\x00C\\x00B\\xc0\\x18\\x004\\x00\\x9b\\x00F\\xc0\\x0e\\xc0\\x04\\x00/\\x00\\x96\\x00A\\x00', b'\\x11\\xc0\\x07\\xc0\\x16\\x00']\n",
      "Bad pipe message: %s [b'\\x0c\\xc0\\x02\\x00\\x05\\x00\\x04\\xc0\\x12\\xc0\\x08\\x00\\x16\\x00\\x13\\x00\\x10\\x00\\r\\xc0\\x17\\x00\\x1b']\n",
      "Bad pipe message: %s [b'\\xfe\\x9b\\xe6\\xd9ztN{\\xed<\\x18\\x00_~n#\\xba|\\x00\\x00>\\xc0\\x14\\xc0\\n\\x009\\x008\\x007\\x006\\xc0\\x0f\\xc0\\x05\\x005\\xc0\\x13\\xc0\\t\\x003\\x002\\x001\\x000\\xc0\\x0e\\xc0\\x04\\x00/\\x00\\x9a\\x00\\x99\\x00\\x98\\x00\\x97\\x00\\x96\\x00\\x07\\xc0\\x11\\xc0\\x07\\xc0\\x0c\\xc0\\x02\\x00\\x05\\x00\\x04\\x00\\xff\\x02\\x01\\x00\\x15\\x03\\x00\\x00\\x02\\x02(']\n",
      "Bad pipe message: %s [b\"Y\\xba\\x92E\\xb30-D\\x90\\x83H\\x1f\\xee\\xff\\x19\\xd6\\xdd6\\x00\\x00\\x86\\xc00\\xc0,\\xc0(\\xc0$\\xc0\\x14\\xc0\\n\\x00\\xa5\\x00\\xa3\\x00\\xa1\\x00\\x9f\\x00k\\x00j\\x00i\\x00h\\x009\\x008\\x007\\x006\\xc02\\xc0.\\xc0*\\xc0&\\xc0\\x0f\\xc0\\x05\\x00\\x9d\\x00=\\x005\\xc0/\\xc0+\\xc0'\\xc0#\\xc0\\x13\\xc0\\t\\x00\\xa4\\x00\\xa2\\x00\\xa0\\x00\\x9e\\x00g\\x00@\\x00?\\x00>\\x003\\x002\\x001\\x000\\xc01\\xc0-\\xc0)\\xc0%\\xc0\\x0e\\xc0\\x04\\x00\\x9c\\x00<\\x00/\\x00\\x9a\\x00\\x99\\x00\\x98\\x00\\x97\\x00\\x96\\x00\\x07\\xc0\\x11\\xc0\\x07\\xc0\\x0c\\xc0\\x02\\x00\\x05\\x00\\x04\\x00\\xff\\x02\\x01\\x00\\x00g\\x00\\x00\\x00\\x0e\\x00\\x0c\\x00\\x00\\t127.0.0.1\\x00\\x0b\\x00\\x04\\x03\\x00\\x01\\x02\\x00\\n\\x00\\x1c\\x00\\x1a\\x00\\x17\\x00\\x19\\x00\\x1c\\x00\\x1b\\x00\\x18\\x00\\x1a\\x00\\x16\\x00\\x0e\\x00\\r\\x00\\x0b\"]\n",
      "Bad pipe message: %s [b'\\xe7d\\x17\\x1b\\xca\\xe4)7\\n\\xf8\\xf5\\xb1\\x07\\xe8\\xb3 \\xfa\\xc0\\x00\\x00\\xf4\\xc00\\xc0,\\xc0(\\xc0$\\xc0\\x14\\xc0\\n\\x00\\xa5\\x00\\xa3\\x00\\xa1\\x00\\x9f\\x00k\\x00j\\x00i\\x00h\\x009\\x008\\x007\\x006\\x00\\x88\\x00\\x87\\x00\\x86\\x00\\x85\\xc0\\x19\\x00\\xa7\\x00m\\x00:\\x00\\x89\\xc02\\xc0.\\xc0*\\xc0&\\xc0\\x0f\\xc0\\x05\\x00', b\"=\\x005\\x00\\x84\\xc0/\\xc0+\\xc0'\\xc0#\\xc0\\x13\\xc0\\t\\x00\\xa4\\x00\\xa2\\x00\\xa0\\x00\\x9e\\x00g\\x00@\\x00?\\x00>\\x003\\x002\\x001\\x000\\x00\\x9a\\x00\\x99\\x00\\x98\\x00\\x97\\x00E\\x00D\\x00C\\x00B\\xc0\\x18\\x00\\xa6\\x00l\\x004\\x00\\x9b\\x00F\\xc01\\xc0-\\xc0)\\xc0%\\xc0\\x0e\\xc0\\x04\\x00\\x9c\\x00<\\x00/\\x00\\x96\\x00A\\x00\\x07\\xc0\\x11\\xc0\\x07\\xc0\\x16\\x00\\x18\\xc0\\x0c\\xc0\\x02\\x00\\x05\\x00\\x04\\xc0\\x12\\xc0\\x08\\x00\\x16\\x00\\x13\\x00\\x10\\x00\\r\\xc0\\x17\\x00\\x1b\\xc0\\r\\xc0\\x03\\x00\\n\\x00\\x15\\x00\\x12\\x00\\x0f\\x00\\x0c\\x00\\x1a\\x00\\t\\x00\\x14\\x00\\x11\\x00\\x19\\x00\\x08\\x00\\x06\\x00\\x17\\x00\"]\n",
      "Bad pipe message: %s [b'\\x10\\xc0']\n",
      "Bad pipe message: %s [b'\\x15\\xc0\\x0b\\xc0\\x01']\n",
      "Bad pipe message: %s [b'W\\xa8\\xc7\\x830\\x1d\\xacrqi|#Fa\\x19]}\\xdd _f+\\xce{\\xa4\\xae&\\x8c\\xf3p\\xcf\\xb8\\x83\\xb4\\xe9\\xd1\\x8a\\xf8\\x8as\\x9f8\\x8c\\x96cCY\\xb5\\x80@\\xe4\\x00\\x08\\x13\\x02\\x13\\x03\\x13\\x01\\x00\\xff\\x01\\x00\\x00\\x8f\\x00\\x00\\x00\\x0e\\x00\\x0c\\x00\\x00\\t127.0.0.1\\x00\\x0b\\x00\\x04\\x03\\x00\\x01\\x02\\x00\\n\\x00\\x0c\\x00\\n\\x00\\x1d\\x00\\x17\\x00\\x1e\\x00\\x19\\x00\\x18\\x00#\\x00\\x00\\x00\\x16\\x00\\x00\\x00\\x17\\x00\\x00\\x00\\r\\x00\\x1e\\x00\\x1c\\x04\\x03\\x05\\x03\\x06\\x03\\x08\\x07\\x08\\x08\\x08\\t\\x08\\n\\x08\\x0b\\x08\\x04\\x08\\x05\\x08\\x06\\x04\\x01\\x05\\x01\\x06\\x01\\x00+\\x00\\x03\\x02\\x03\\x04\\x00-\\x00\\x02\\x01\\x01\\x003\\x00&\\x00$\\x00\\x1d\\x00 \\xf8,\\xaf\\x91\\xca\\xf0G\\x9b\\x85\\xb4\\x99l\\xcf\\xc4\\xd7p\\x97G\\x0fCC\\xad\\x0f\\x9bMx\\xd1\\x9a\\x9f\\xf8\\xf7']\n",
      "Bad pipe message: %s [b\"\\xd0\\xd2\\xccu\\xd3\\x16a\\x94W\\xd1`\\xf9\\x9aQ\\xd7\\xcb!'\\x00\\x00\\xa6\\xc0,\\xc00\\x00\\xa3\\x00\\x9f\\xcc\\xa9\\xcc\\xa8\\xcc\\xaa\\xc0\\xaf\\xc0\\xad\\xc0\\xa3\\xc0\\x9f\\xc0]\\xc0a\\xc0W\\xc0S\\xc0+\\xc0/\\x00\\xa2\\x00\\x9e\\xc0\\xae\\xc0\\xac\\xc0\\xa2\\xc0\\x9e\\xc0\\\\\\xc0`\\xc0V\\xc0R\\xc0$\\xc0(\\x00k\"]\n",
      "Bad pipe message: %s [b'$\\x18O\\x0b\\x0e\\x92\"\\xc15\\xcc\\xd9f\\xbeNU\\x96\\x0e\\xd9\\x00\\x00>\\xc0\\x14\\xc0\\n\\x009\\x008\\x007\\x006\\xc0\\x0f\\xc0\\x05\\x005\\xc0\\x13\\xc0\\t\\x003\\x002\\x001\\x000\\xc0\\x0e\\xc0\\x04\\x00/\\x00\\x9a\\x00\\x99\\x00\\x98\\x00\\x97\\x00\\x96\\x00\\x07\\xc0\\x11\\xc0\\x07\\xc0\\x0c\\xc0\\x02\\x00\\x05\\x00\\x04\\x00\\xff\\x02\\x01\\x00\\x00C\\x00\\x00\\x00\\x0e\\x00']\n",
      "Bad pipe message: %s [b'\\x00\\t127.0.0.1']\n",
      "Bad pipe message: %s [b'9\\xc7\\xf5\\x88uw\\xebJ\\x9cW&66\\xa1h\\xda&\\xbd\\x00\\x00\\xa2\\xc0\\x14\\xc0\\n\\x009\\x008\\x007\\x006\\x00\\x88\\x00\\x87\\x00\\x86\\x00\\x85\\xc0\\x19\\x00:\\x00\\x89\\xc0\\x0f\\xc0\\x05\\x005\\x00\\x84\\xc0\\x13\\xc0\\t\\x003\\x002\\x001\\x000\\x00\\x9a\\x00\\x99\\x00\\x98\\x00\\x97\\x00E\\x00D\\x00C\\x00B\\xc0\\x18\\x004\\x00\\x9b\\x00F\\xc0\\x0e\\xc0\\x04\\x00/\\x00\\x96\\x00A\\x00\\x07\\xc0\\x11\\xc0\\x07\\xc0\\x16\\x00\\x18\\xc0\\x0c\\xc0\\x02\\x00\\x05\\x00\\x04\\xc0\\x12\\xc0\\x08\\x00\\x16\\x00\\x13\\x00\\x10\\x00\\r\\xc0\\x17\\x00\\x1b\\xc0\\r\\xc0\\x03\\x00\\n\\x00\\x15\\x00\\x12\\x00\\x0f\\x00\\x0c\\x00\\x1a\\x00\\t\\x00\\x14\\x00\\x11\\x00\\x19\\x00\\x08\\x00\\x06\\x00\\x17\\x00\\x03\\xc0\\x10\\xc0\\x06\\xc0\\x15\\xc0\\x0b\\xc0\\x01\\x00\\x02\\x00\\x01\\x00\\xff\\x02\\x01\\x00\\x00C\\x00\\x00\\x00\\x0e\\x00\\x0c\\x00\\x00\\t127.0.0.1\\x00\\x0b\\x00\\x04\\x03\\x00\\x01']\n",
      "Bad pipe message: %s [b'\\n']\n",
      "Bad pipe message: %s [b'1\\xdf\\r\\x97IwW\\xcb\\xf9\\x8a\\x9d&\\xac@\\x11@\\x97a\\x00\\x00\\xa2\\xc0\\x14\\xc0\\n\\x009\\x008\\x007\\x006\\x00\\x88\\x00\\x87\\x00\\x86\\x00\\x85\\xc0\\x19\\x00:']\n",
      "Bad pipe message: %s [b\"\\xb6W\\xbc@-~\\xd2u\\x03\\x9b\\xe3A\\xde[\\x8369\\x1a\\x00\\x00\\x86\\xc00\\xc0,\\xc0(\\xc0$\\xc0\\x14\\xc0\\n\\x00\\xa5\\x00\\xa3\\x00\\xa1\\x00\\x9f\\x00k\\x00j\\x00i\\x00h\\x009\\x008\\x007\\x006\\xc02\\xc0.\\xc0*\\xc0&\\xc0\\x0f\\xc0\\x05\\x00\\x9d\\x00=\\x005\\xc0/\\xc0+\\xc0'\\xc0#\\xc0\\x13\\xc0\\t\\x00\\xa4\\x00\\xa2\\x00\\xa0\\x00\\x9e\\x00g\\x00@\\x00?\\x00>\\x003\\x002\\x001\\x000\\xc01\\xc0-\\xc0)\\xc0%\\xc0\\x0e\\xc0\\x04\\x00\\x9c\\x00<\\x00/\\x00\\x9a\\x00\\x99\\x00\\x98\\x00\\x97\\x00\\x96\\x00\\x07\\xc0\\x11\\xc0\\x07\\xc0\\x0c\\xc0\\x02\\x00\\x05\\x00\\x04\\x00\\xff\\x02\\x01\\x00\\x00g\\x00\\x00\\x00\\x0e\\x00\\x0c\\x00\\x00\\t127.0.0.1\\x00\\x0b\\x00\\x04\\x03\\x00\\x01\\x02\\x00\\n\\x00\\x1c\\x00\\x1a\\x00\\x17\\x00\\x19\\x00\\x1c\\x00\\x1b\\x00\\x18\\x00\\x1a\\x00\\x16\\x00\\x0e\\x00\\r\\x00\\x0b\"]\n",
      "Bad pipe message: %s [b\"f\\xbf\\xcc\\x19\\x13\\xd4\\xb4\\xcd:\\x10{\\xffM\\x04u\\x99\\xa8\\x18\\x00\\x00\\xf4\\xc00\\xc0,\\xc0(\\xc0$\\xc0\\x14\\xc0\\n\\x00\\xa5\\x00\\xa3\\x00\\xa1\\x00\\x9f\\x00k\\x00j\\x00i\\x00h\\x009\\x008\\x007\\x006\\x00\\x88\\x00\\x87\\x00\\x86\\x00\\x85\\xc0\\x19\\x00\\xa7\\x00m\\x00:\\x00\\x89\\xc02\\xc0.\\xc0*\\xc0&\\xc0\\x0f\\xc0\\x05\\x00\\x9d\\x00=\\x005\\x00\\x84\\xc0/\\xc0+\\xc0'\\xc0#\\xc0\\x13\\xc0\\t\\x00\\xa4\\x00\\xa2\\x00\\xa0\\x00\\x9e\\x00g\\x00@\\x00?\\x00>\\x003\\x002\\x001\\x000\\x00\\x9a\\x00\\x99\\x00\"]\n",
      "Bad pipe message: %s [b'\\x97\\x00E\\x00D\\x00C\\x00B\\xc0\\x18\\x00\\xa6\\x00l\\x004\\x00\\x9b\\x00F\\xc01\\xc0-\\xc0)\\xc0%\\xc0\\x0e\\xc0\\x04\\x00\\x9c\\x00<\\x00/\\x00\\x96\\x00A\\x00\\x07\\xc0\\x11\\xc0\\x07\\xc0\\x16\\x00\\x18\\xc0\\x0c\\xc0\\x02\\x00\\x05\\x00\\x04\\xc0\\x12\\xc0\\x08\\x00\\x16\\x00\\x13\\x00\\x10\\x00\\r\\xc0\\x17\\x00\\x1b\\xc0\\r\\xc0\\x03\\x00\\n\\x00\\x15\\x00\\x12\\x00\\x0f\\x00\\x0c\\x00\\x1a\\x00\\t\\x00\\x14\\x00\\x11\\x00\\x19\\x00\\x08\\x00\\x06\\x00\\x17\\x00\\x03\\xc0\\x10\\xc0\\x06\\xc0\\x15\\xc0\\x0b\\xc0\\x01\\x00;\\x00\\x02\\x00\\x01\\x00\\xff\\x02\\x01\\x00\\x00g\\x00\\x00\\x00\\x0e\\x00\\x0c\\x00\\x00\\t127.0.0.1\\x00']\n",
      "Bad pipe message: %s [b'\\x04\\x03\\x00\\x01\\x02\\x00\\n\\x00\\x1c\\x00']\n",
      "Bad pipe message: %s [b'\\x17\\x00\\x19\\x00\\x1c\\x00\\x1b\\x00\\x18\\x00\\x1a\\x00\\x16\\x00\\x0e\\x00\\r\\x00\\x0b\\x00\\x0c\\x00\\t\\x00\\n']\n"
     ]
    }
   ],
   "source": [
    "input_ids = tokenizer('<product>C(\\C(N[C@H]1CN2CCC1CC2)=O)=C/c1cccc(Br)c1</product><reactants>', return_tensors=\"pt\").input_ids.cuda()\n",
    "output = model.generate(\n",
    "    input_ids,\n",
    "    num_beams=4,\n",
    "    max_new_tokens=300,\n",
    "    num_return_sequences=4,\n",
    "    return_dict_in_generate=True,\n",
    "    output_scores=True\n",
    ")\n",
    "\n",
    "for i in range(4):\n",
    "    mol = tokenizer.decode(output.sequences[i])\n",
    "    mol = mol.replace(' <m>', '')\n",
    "    print(mol)\n",
    "    print(output.sequences[i])\n",
    "    print(output.sequences_scores[i].item())\n",
    "    print(\"\")"
   ]
  },
  {
   "cell_type": "code",
   "execution_count": 22,
   "metadata": {},
   "outputs": [
    {
     "data": {
      "text/plain": [
       "[32017, 32128, 32018, 32019, 32128, 32148, 32128, 32020]"
      ]
     },
     "execution_count": 22,
     "metadata": {},
     "output_type": "execute_result"
    },
    {
     "name": "stderr",
     "output_type": "stream",
     "text": [
      "Bad pipe message: %s [b'\\xc5\\xbb\\xa1y}b\\xce\\xbes\"\\xdal\\xd4w\\x8e,]\\x0b\\x00\\x00\\xa6\\xc0,\\xc00\\x00\\xa3\\x00\\x9f\\xcc\\xa9\\xcc\\xa8\\xcc\\xaa\\xc0\\xaf\\xc0\\xad\\xc0\\xa3\\xc0\\x9f\\xc0]\\xc0a\\xc0W\\xc0S\\xc0+\\xc0/\\x00\\xa2\\x00\\x9e\\xc0\\xae\\xc0\\xac\\xc0\\xa2\\xc0\\x9e\\xc0', b\"`\\xc0V\\xc0R\\xc0$\\xc0(\\x00k\\x00j\\xc0s\\xc0w\\x00\\xc4\\x00\\xc3\\xc0#\\xc0'\\x00g\\x00@\\xc0r\\xc0v\\x00\\xbe\\x00\\xbd\\xc0\\n\\xc0\\x14\\x009\\x008\\x00\\x88\\x00\\x87\\xc0\\t\\xc0\\x13\\x003\\x002\\x00\\x9a\\x00\\x99\\x00E\\x00D\\xc0\\x07\\xc0\\x11\\xc0\\x08\\xc0\\x12\\x00\\x16\\x00\\x13\\x00\\x9d\\xc0\\xa1\\xc0\\x9d\\xc0Q\\x00\\x9c\\xc0\\xa0\\xc0\\x9c\"]\n",
      "Bad pipe message: %s [b'\\xd0G\\xa1\\xa9\\x94\\xf9H69[\\xc9G*\\r-@8\\x92\\x00\\x00>\\xc0\\x14\\xc0\\n\\x009\\x008\\x007\\x006\\xc0\\x0f\\xc0\\x05\\x005\\xc0\\x13\\xc0\\t\\x003\\x002\\x001\\x000\\xc0\\x0e\\xc0\\x04\\x00/\\x00\\x9a\\x00\\x99\\x00\\x98\\x00\\x97\\x00\\x96\\x00\\x07\\xc0\\x11\\xc0\\x07\\xc0\\x0c\\xc0\\x02\\x00\\x05\\x00\\x04\\x00\\xff\\x02\\x01\\x00\\x00C\\x00\\x00\\x00\\x0e\\x00\\x0c\\x00\\x00\\t127.0.0.1\\x00\\x0b\\x00\\x04\\x03\\x00\\x01']\n",
      "Bad pipe message: %s [b'\\n']\n",
      "Bad pipe message: %s [b'\\xfe\\x88\\x972r\\xea\\xed\\x01\\xa1\\xb3\\x82~@9\\x88\\xe69\\xd1\\x00\\x00\\xa2\\xc0\\x14\\xc0\\n\\x009\\x008\\x007\\x006\\x00\\x88\\x00\\x87\\x00\\x86\\x00\\x85\\xc0\\x19\\x00:\\x00\\x89\\xc0\\x0f\\xc0\\x05\\x005\\x00\\x84\\xc0\\x13\\xc0\\t\\x003\\x002\\x001\\x000\\x00\\x9a\\x00\\x99\\x00\\x98\\x00\\x97\\x00E\\x00D\\x00C\\x00B\\xc0\\x18\\x004\\x00\\x9b\\x00F\\xc0\\x0e\\xc0\\x04\\x00/\\x00\\x96\\x00A\\x00\\x07\\xc0\\x11\\xc0\\x07\\xc0\\x16\\x00\\x18\\xc0\\x0c\\xc0\\x02\\x00\\x05\\x00\\x04\\xc0\\x12\\xc0\\x08\\x00\\x16\\x00\\x13\\x00\\x10\\x00\\r\\xc0\\x17\\x00\\x1b\\xc0\\r\\xc0\\x03\\x00\\n\\x00\\x15\\x00\\x12\\x00\\x0f\\x00\\x0c\\x00\\x1a\\x00\\t\\x00\\x14\\x00\\x11\\x00\\x19\\x00\\x08\\x00\\x06\\x00\\x17\\x00\\x03\\xc0\\x10\\xc0\\x06\\xc0\\x15\\xc0\\x0b\\xc0\\x01\\x00\\x02\\x00\\x01\\x00\\xff\\x02\\x01\\x00\\x00C\\x00\\x00\\x00\\x0e\\x00\\x0c\\x00\\x00\\t127.0.0.1\\x00\\x0b\\x00\\x04\\x03\\x00\\x01\\x02\\x00']\n",
      "Bad pipe message: %s [b'\\x1c\\x00\\x1a\\x00\\x17\\x00\\x19\\x00\\x1c']\n",
      "Bad pipe message: %s [b'5U\\xa7\\x15mZ\\xe9|/\\x18\\xf8\\xe60q\\x03\\xbe\\x97\\x81\\x00\\x00>\\xc0\\x14\\xc0\\n\\x009\\x008\\x007\\x006\\xc0\\x0f\\xc0\\x05\\x005\\xc0\\x13\\xc0\\t\\x003\\x002\\x001\\x000\\xc0\\x0e\\xc0\\x04\\x00/\\x00\\x9a\\x00\\x99\\x00\\x98\\x00\\x97\\x00\\x96\\x00\\x07\\xc0\\x11\\xc0\\x07\\xc0\\x0c\\xc0\\x02\\x00\\x05\\x00\\x04\\x00\\xff\\x02\\x01\\x00\\x00C\\x00\\x00\\x00\\x0e\\x00\\x0c\\x00\\x00\\t127.0.0.1\\x00\\x0b\\x00\\x04\\x03\\x00\\x01\\x02\\x00\\n\\x00\\x1c\\x00\\x1a\\x00\\x17\\x00\\x19\\x00\\x1c\\x00\\x1b\\x00\\x18\\x00\\x1a\\x00\\x16\\x00\\x0e\\x00\\r\\x00\\x0b\\x00\\x0c']\n",
      "Bad pipe message: %s [b\"\\xab)G\\x83\\x8d'>\\x08\\x84RV\\\\\\x1b\", b'\\x85p\\xef\\x00\\x00\\xa2\\xc0\\x14\\xc0\\n\\x009\\x008\\x007\\x006\\x00\\x88\\x00\\x87\\x00\\x86\\x00\\x85\\xc0\\x19\\x00:\\x00\\x89\\xc0\\x0f\\xc0\\x05\\x005\\x00\\x84\\xc0\\x13\\xc0\\t\\x003\\x002\\x001\\x000\\x00\\x9a\\x00\\x99\\x00\\x98\\x00\\x97\\x00E\\x00D\\x00C\\x00B\\xc0\\x18\\x004\\x00\\x9b\\x00F\\xc0\\x0e\\xc0\\x04\\x00/\\x00\\x96\\x00A\\x00\\x07\\xc0\\x11\\xc0\\x07\\xc0\\x16\\x00\\x18\\xc0\\x0c\\xc0\\x02\\x00']\n",
      "Bad pipe message: %s [b'\\x04\\xc0\\x12\\xc0']\n",
      "Bad pipe message: %s [b'\\x16\\x00\\x13\\x00\\x10\\x00\\r']\n",
      "Bad pipe message: %s [b'\\xa3\\x90$9+\\x0eM\\x07\\x83E\\xba\\x8100\\xf4\\x8d\\xc7\\x1a\\x00\\x00>\\xc0\\x14\\xc0\\n\\x00', b'8\\x007\\x006\\xc0\\x0f\\xc0\\x05\\x005\\xc0\\x13\\xc0\\t\\x003\\x002\\x001\\x000\\xc0\\x0e\\xc0\\x04\\x00/\\x00\\x9a\\x00\\x99\\x00\\x98\\x00\\x97\\x00\\x96\\x00\\x07\\xc0\\x11\\xc0\\x07\\xc0\\x0c\\xc0\\x02\\x00\\x05\\x00\\x04\\x00\\xff\\x02']\n",
      "Bad pipe message: %s [b'']\n",
      "Bad pipe message: %s [b\"\\xf08\\x14\\x16~\\xf8i\\xb66\\x8be5\\xc0\\xac\\xeb\\xf3\\xf4\\xca\\x00\\x00\\xf4\\xc00\\xc0,\\xc0(\\xc0$\\xc0\\x14\\xc0\\n\\x00\\xa5\\x00\\xa3\\x00\\xa1\\x00\\x9f\\x00k\\x00j\\x00i\\x00h\\x009\\x008\\x007\\x006\\x00\\x88\\x00\\x87\\x00\\x86\\x00\\x85\\xc0\\x19\\x00\\xa7\\x00m\\x00:\\x00\\x89\\xc02\\xc0.\\xc0*\\xc0&\\xc0\\x0f\\xc0\\x05\\x00\\x9d\\x00=\\x005\\x00\\x84\\xc0/\\xc0+\\xc0'\\xc0#\\xc0\\x13\\xc0\\t\\x00\\xa4\\x00\\xa2\\x00\\xa0\\x00\\x9e\\x00g\\x00@\\x00?\\x00>\\x003\\x002\\x001\\x000\\x00\\x9a\\x00\\x99\\x00\\x98\\x00\\x97\\x00E\\x00D\\x00C\\x00B\\xc0\\x18\\x00\\xa6\\x00l\\x004\\x00\\x9b\\x00F\\xc01\\xc0-\\xc0)\\xc0%\\xc0\\x0e\\xc0\\x04\\x00\\x9c\\x00<\\x00/\\x00\\x96\\x00A\\x00\\x07\\xc0\"]\n",
      "Bad pipe message: %s [b'\\x07\\xc0\\x16\\x00\\x18\\xc0\\x0c\\xc0\\x02\\x00\\x05\\x00\\x04\\xc0\\x12\\xc0']\n",
      "Bad pipe message: %s [b'\\x16\\x00\\x13\\x00\\x10\\x00\\r']\n",
      "Bad pipe message: %s [b\"X3\\xf0\\x14al\\x94DJ\\x19p!\\xca\\xack\\xce\\x1d\\xda l^\\\\\\xa1\\xf9u\\xc7r\\x87u\\x8e\\x9e\\xdc\\xde\\xe7`*Xp!\\xaf|5\\x04\\x9c]'\\xc19\\xb8\\x82\\xcb\"]\n",
      "Bad pipe message: %s [b'\"5\\xbf\\x9a\\x1b\\x04\\x16m\\t^eYF\\xeds|\\xffC /\\xa6G\\xb0[A\\xee\\xa2\\xf1\\x07\\xba\\x03\\x06\\x0e\\x83NJ\\r\\xbf\\x98\\xb6\\x1e7qg\\xc0 yb\\xcei\\xde\\x00\\x08\\x13\\x02\\x13\\x03\\x13\\x01\\x00\\xff\\x01\\x00\\x00\\x8f\\x00\\x00\\x00\\x0e\\x00\\x0c\\x00\\x00\\t127.0.0.1\\x00\\x0b\\x00\\x04\\x03\\x00\\x01\\x02\\x00\\n\\x00\\x0c\\x00\\n\\x00\\x1d\\x00\\x17\\x00\\x1e\\x00\\x19\\x00\\x18\\x00#\\x00\\x00\\x00\\x16\\x00\\x00\\x00\\x17\\x00\\x00\\x00\\r\\x00\\x1e\\x00\\x1c\\x04\\x03\\x05\\x03\\x06\\x03\\x08\\x07\\x08\\x08\\x08\\t\\x08\\n\\x08\\x0b\\x08\\x04\\x08\\x05\\x08', b'\\x01\\x05\\x01\\x06\\x01']\n",
      "Bad pipe message: %s [b'&E\\x80u\\xfb\\xcf']\n",
      "Bad pipe message: %s [b'#W&[\\xd3\\xeb?\\x00\\rn\\x00\\x00|\\xc0,\\xc00\\x00\\xa3\\x00\\x9f', b\"\\xcc\\xa8\\xcc\\xaa\\xc0\\xaf\\xc0\\xad\\xc0\\xa3\\xc0\\x9f\\xc0]\\xc0a\\xc0W\\xc0S\\xc0+\\xc0/\\x00\\xa2\\x00\\x9e\\xc0\\xae\\xc0\\xac\\xc0\\xa2\\xc0\\x9e\\xc0\\\\\\xc0`\\xc0V\\xc0R\\xc0$\\xc0(\\x00k\\x00j\\xc0#\\xc0'\\x00g\\x00@\\xc0\\n\\xc0\\x14\\x009\\x008\\xc0\\t\\xc0\\x13\\x003\\x002\\x00\\x9d\\xc0\\xa1\\xc0\\x9d\\xc0Q\\x00\\x9c\\xc0\\xa0\\xc0\\x9c\\xc0P\\x00=\\x00<\\x005\\x00/\\x00\\x9a\\x00\\x99\\xc0\\x07\\xc0\\x11\\x00\\x96\\x00\\x05\\x00\\xff\\x01\\x00\\x00j\\x00\\x00\\x00\\x0e\\x00\\x0c\\x00\\x00\\t127.0.0.1\\x00\\x0b\\x00\\x04\\x03\\x00\\x01\\x02\\x00\\n\\x00\\x0c\\x00\\n\\x00\\x1d\\x00\\x17\\x00\\x1e\\x00\\x19\\x00\\x18\\x00#\\x00\\x00\\x00\\x16\\x00\\x00\\x00\\x17\\x00\\x00\\x00\\r\\x000\\x00.\\x04\\x03\\x05\\x03\\x06\\x03\\x08\\x07\\x08\\x08\\x08\\t\\x08\\n\\x08\\x0b\\x08\\x04\\x08\\x05\\x08\\x06\\x04\\x01\\x05\", b'']\n",
      "Bad pipe message: %s [b'', b'\\x03\\x03']\n",
      "Bad pipe message: %s [b'']\n",
      "Bad pipe message: %s [b'B\\xa5\\xa8\\xf4)\\xe88gA\\x8fl6G[\\xe3\\xff<h']\n",
      "Bad pipe message: %s [b'', b'\\x02']\n",
      "Bad pipe message: %s [b'\\x05\\x02\\x06']\n",
      "Bad pipe message: %s [b'\\xa4\\x86\\xc7\\xb7Sa{8\\xab\\r\\xf2\\x00\\x07^[9\\xc20\\x00\\x00>\\xc0\\x14\\xc0\\n\\x009\\x008\\x007\\x006\\xc0\\x0f\\xc0\\x05\\x005\\xc0\\x13\\xc0\\t\\x003\\x002\\x001\\x000\\xc0\\x0e\\xc0\\x04\\x00/\\x00\\x9a\\x00\\x99\\x00\\x98\\x00']\n",
      "Bad pipe message: %s [b'9\\xb1\\xb7\\x102r<cuj\\xf0}\\x00\\xab\\x99\\xe9B\\xb7\\x00\\x00\\xa2\\xc0\\x14\\xc0\\n\\x009\\x008\\x007\\x006\\x00\\x88\\x00\\x87\\x00\\x86\\x00\\x85\\xc0\\x19\\x00:\\x00\\x89\\xc0\\x0f\\xc0\\x05\\x005\\x00\\x84\\xc0\\x13\\xc0\\t\\x003\\x002\\x001\\x000\\x00\\x9a\\x00\\x99\\x00\\x98\\x00\\x97\\x00E\\x00D\\x00C\\x00B\\xc0\\x18\\x004\\x00\\x9b\\x00F\\xc0\\x0e\\xc0\\x04\\x00/\\x00\\x96\\x00A\\x00\\x07\\xc0\\x11\\xc0\\x07\\xc0']\n",
      "Bad pipe message: %s [b'\\x18\\xc0\\x0c\\xc0\\x02\\x00\\x05\\x00\\x04\\xc0\\x12\\xc0\\x08\\x00\\x16\\x00\\x13\\x00\\x10\\x00\\r']\n",
      "Bad pipe message: %s [b'\\xffT\\x05\\xd9@| \\xa0\\x97\\xcf\\xebe\\xdd]@\\xfa;\\x89\\x00\\x00>\\xc0\\x14\\xc0\\n\\x009\\x008\\x007\\x006\\xc0\\x0f\\xc0\\x05\\x005\\xc0\\x13\\xc0\\t\\x003\\x002\\x001\\x000\\xc0\\x0e\\xc0\\x04\\x00/\\x00\\x9a\\x00\\x99\\x00\\x98\\x00\\x97\\x00\\x96\\x00\\x07\\xc0\\x11\\xc0\\x07\\xc0\\x0c\\xc0\\x02\\x00\\x05\\x00\\x04\\x00\\xff\\x02\\x01\\x00\\x00C\\x00\\x00\\x00\\x0e']\n",
      "Bad pipe message: %s [b'\\xbb\\x08\\xab\\xa6\\xf5\\xb6\\xea\\xea\\x08\\xe7\\xaf\\xe2\\xdc\\x04\\x96:\\xce\\xb1\\x00\\x00\\xa2\\xc0\\x14\\xc0\\n\\x009\\x008\\x007\\x006\\x00\\x88\\x00\\x87\\x00\\x86\\x00\\x85\\xc0\\x19\\x00:\\x00\\x89\\xc0\\x0f\\xc0\\x05\\x005\\x00\\x84\\xc0\\x13\\xc0\\t\\x003\\x002\\x001\\x000\\x00\\x9a\\x00\\x99\\x00\\x98\\x00\\x97\\x00E\\x00D\\x00C\\x00B\\xc0\\x18\\x004\\x00\\x9b\\x00F\\xc0\\x0e\\xc0\\x04\\x00/\\x00\\x96\\x00A\\x00\\x07\\xc0\\x11\\xc0\\x07\\xc0\\x16\\x00\\x18\\xc0\\x0c\\xc0\\x02\\x00']\n",
      "Bad pipe message: %s [b'\\x04\\xc0\\x12\\xc0']\n",
      "Bad pipe message: %s [b'\\x16\\x00\\x13\\x00\\x10\\x00\\r']\n",
      "Bad pipe message: %s [b'\\xbc$<\\xcfK\\x08\\x8di?\\x12\\x97\\xc5\\xb2\\x1c\\xa0\\xa3\\xe2&\\x00\\x00\\xa2\\xc0\\x14\\xc0\\n\\x009\\x008\\x007\\x006\\x00\\x88\\x00\\x87\\x00\\x86\\x00\\x85\\xc0\\x19\\x00:\\x00\\x89\\xc0\\x0f\\xc0\\x05\\x005\\x00\\x84\\xc0\\x13\\xc0\\t\\x003\\x002\\x001\\x000\\x00\\x9a\\x00\\x99\\x00\\x98\\x00\\x97\\x00E\\x00D\\x00C\\x00B\\xc0\\x18\\x004\\x00\\x9b\\x00F\\xc0\\x0e\\xc0\\x04\\x00/\\x00']\n",
      "Bad pipe message: %s [b']r\\xb7v\\x1e,\\xe7\\xc4\\xa39\\x81\\xdd\\xbd\"B\\xd0\\x1f\\x01\\x00\\x00\\x86\\xc00\\xc0,\\xc0(\\xc0$\\xc0\\x14\\xc0\\n\\x00\\xa5\\x00\\xa3\\x00\\xa1\\x00\\x9f\\x00k\\x00j\\x00i\\x00h\\x009\\x008\\x007\\x006\\xc02\\xc0.\\xc0*\\xc0&\\xc0\\x0f\\xc0\\x05\\x00\\x9d\\x00=\\x005\\xc0/\\xc0+\\xc0\\'\\xc0#\\xc0\\x13\\xc0\\t\\x00\\xa4\\x00\\xa2\\x00\\xa0\\x00\\x9e\\x00g\\x00@\\x00?\\x00>\\x003\\x002\\x001\\x000\\xc01\\xc0-\\xc0)\\xc0%\\xc0\\x0e\\xc0\\x04\\x00\\x9c\\x00<\\x00/\\x00\\x9a\\x00\\x99\\x00\\x98\\x00\\x97\\x00\\x96\\x00\\x07\\xc0\\x11\\xc0\\x07\\xc0\\x0c\\xc0\\x02\\x00\\x05\\x00\\x04\\x00\\xff\\x02\\x01\\x00\\x00g\\x00\\x00\\x00\\x0e\\x00\\x0c\\x00\\x00\\t127.0.0.1\\x00\\x0b\\x00\\x04\\x03\\x00\\x01\\x02\\x00\\n\\x00\\x1c\\x00\\x1a\\x00\\x17\\x00\\x19\\x00', b'\\x1b\\x00\\x18\\x00\\x1a\\x00\\x16\\x00\\x0e\\x00\\r\\x00\\x0b\\x00\\x0c\\x00\\t\\x00\\n\\x00#\\x00\\x00\\x00\\r\\x00 ']\n",
      "Bad pipe message: %s [b\"y>o\\xa7\\xc5e\\x06\\x130\\xf0\\x96\\xeb\\xa8\\xa3\\xdc\\xa3\\xf9\\xcf\\x00\\x00\\xf4\\xc00\\xc0,\\xc0(\\xc0$\\xc0\\x14\\xc0\\n\\x00\\xa5\\x00\\xa3\\x00\\xa1\\x00\\x9f\\x00k\\x00j\\x00i\\x00h\\x009\\x008\\x007\\x006\\x00\\x88\\x00\\x87\\x00\\x86\\x00\\x85\\xc0\\x19\\x00\\xa7\\x00m\\x00:\\x00\\x89\\xc02\\xc0.\\xc0*\\xc0&\\xc0\\x0f\\xc0\\x05\\x00\\x9d\\x00=\\x005\\x00\\x84\\xc0/\\xc0+\\xc0'\\xc0#\\xc0\\x13\\xc0\\t\\x00\\xa4\\x00\\xa2\\x00\\xa0\\x00\\x9e\\x00g\\x00@\\x00?\\x00>\\x003\\x002\\x001\\x000\\x00\\x9a\\x00\\x99\\x00\\x98\\x00\\x97\\x00E\\x00D\\x00C\\x00B\\xc0\\x18\\x00\\xa6\\x00l\\x004\\x00\\x9b\\x00F\\xc01\\xc0-\\xc0)\\xc0%\\xc0\\x0e\\xc0\\x04\\x00\\x9c\\x00<\\x00/\\x00\\x96\\x00A\\x00\\x07\\xc0\\x11\\xc0\\x07\\xc0\\x16\\x00\\x18\\xc0\\x0c\\xc0\\x02\\x00\\x05\\x00\\x04\\xc0\\x12\\xc0\\x08\\x00\\x16\\x00\\x13\\x00\\x10\\x00\\r\\xc0\\x17\\x00\\x1b\\xc0\\r\\xc0\\x03\\x00\\n\\x00\\x15\\x00\\x12\\x00\\x0f\\x00\\x0c\\x00\\x1a\\x00\\t\\x00\\x14\\x00\\x11\\x00\\x19\\x00\\x08\\x00\\x06\\x00\\x17\\x00\\x03\\xc0\\x10\\xc0\"]\n",
      "Bad pipe message: %s [b'\\x15\\xc0\\x0b\\xc0\\x01']\n"
     ]
    }
   ],
   "source": [
    "tokenizer.encode(\"<product>C</product><reactants>C.C</reactants>\", add_special_tokens=False)"
   ]
  },
  {
   "cell_type": "code",
   "execution_count": 5,
   "metadata": {},
   "outputs": [
    {
     "name": "stdout",
     "output_type": "stream",
     "text": [
      "Cc1cccc(C)c1OCC(=O)N[C@@H](Cc1ccccc1)[C@@H](O)C[C@H](Cc1ccccc1)NC(=O)[C@H](C(C)C)N1CCCNC1=O -0.037261441349983215\n",
      "COc1ccc2c(O[C@@H]3C[C@H]4C(=O)N[C@]5(C(=O)NS(=O)(=O)C6CC6)C[C@@H]5/C=C\\CCCCN(C)C(=O)[C@@H]4C3)cc(-c3nc(C(C)C)cs3)nc2c1C -0.04674167558550835\n",
      "COc1ccc2c(O[C@@H]3C[C@H]4C(=O)N[C@]5(C(=O)NS(=O)(=O)C6CC6)C[C@H]5/C=C\\CCCCN(C)C(=O)[C@@H]4C3)cc(-c3nc(C(C)C)cs3)nc2c1C -0.054373256862163544\n",
      "CC[NH+](CCO)CCCC(C)Nc1cc[nH+]c2cc(Cl)ccc12 -0.057832781225442886\n"
     ]
    }
   ],
   "source": [
    "input_ids = tokenizer('A drug for SARS-CoV-2 is <mol>', return_tensors=\"pt\").input_ids.cuda()\n",
    "output = model.generate(\n",
    "    input_ids,\n",
    "    num_beams=4,\n",
    "    max_new_tokens=300,\n",
    "    num_return_sequences=4,\n",
    "    return_dict_in_generate=True,\n",
    "    output_scores=True\n",
    ")\n",
    "\n",
    "for i in range(4):\n",
    "    s = tokenizer.decode(output.sequences[i])\n",
    "    mol = s[s.find('<mol>') + len('<mol>'):s.find('</mol>')]\n",
    "    mol = mol.replace('<m>', '').replace(' ', '')\n",
    "    print(mol, output.sequences_scores[i].item())"
   ]
  },
  {
   "cell_type": "code",
   "execution_count": 1,
   "metadata": {},
   "outputs": [
    {
     "data": {
      "text/plain": [
       "[('c1ccoc1', 41.50445005391703),\n",
       " ('ClCCl', 40.16701092533697),\n",
       " ('CCC=O', 47.65522297265193)]"
      ]
     },
     "execution_count": 1,
     "metadata": {},
     "output_type": "execute_result"
    }
   ],
   "source": [
    "data = []\n",
    "with open('/home/shufxi/pubchem_bp.csv', 'r') as f:\n",
    "    for line in f:\n",
    "        items = line.strip().split(',')\n",
    "        if '.' in items[0]:\n",
    "            continue\n",
    "        if items[1] == 'bp':\n",
    "            continue\n",
    "        data.append((items[0], float(items[1])))\n",
    "data[:3]"
   ]
  },
  {
   "cell_type": "code",
   "execution_count": 2,
   "metadata": {},
   "outputs": [
    {
     "data": {
      "text/plain": [
       "False"
      ]
     },
     "execution_count": 2,
     "metadata": {},
     "output_type": "execute_result"
    }
   ],
   "source": [
    "'COCOC' in data"
   ]
  },
  {
   "cell_type": "code",
   "execution_count": 4,
   "metadata": {},
   "outputs": [
    {
     "data": {
      "text/plain": [
       "[('c1ccoc1', 41.50445005391703),\n",
       " ('ClCCl', 40.16701092533697),\n",
       " ('CCC=O', 47.65522297265193),\n",
       " ('FC(F)OC(Cl)C(F)(F)F', 49.067838503088296),\n",
       " ('FC(F)(F)C(Cl)Br', 49.660424521001175),\n",
       " ('CCCN', 47.28948020617565),\n",
       " ('CI', 42.46094566320693),\n",
       " ('C1=CCC=C1', 40.121684454299725),\n",
       " ('COCCl', 45.3855737491495),\n",
       " ('CC(C)(C)N', 43.060588594112346),\n",
       " ('COCOC', 41.738317772769165),\n",
       " ('C=CCCl', 44.7251440297772),\n",
       " ('CCC(C)(C)C', 49.58675683847429),\n",
       " ('CON', 45.11570766264106),\n",
       " ('FC(F)(Cl)C(F)(Cl)Cl', 47.070521229944575),\n",
       " ('C[Pb](C)(C)C', 42.88601516718609),\n",
       " ('CC[Hg]Cl', 48.341138692739946),\n",
       " ('CCCCl', 46.25771085829854),\n",
       " ('FC(F)(Br)C(F)(F)Br', 47.549482837282994),\n",
       " ('C=CC=CC', 42.873653402357775),\n",
       " ('FC(F)(F)C(Cl)(Cl)Cl', 44.15316095324488),\n",
       " ('C1=CCCC1', 44.24730179484448),\n",
       " ('FC(F)(Cl)CCl', 45.875647966602685),\n",
       " ('CC(=O)Cl', 49.21110194823143),\n",
       " ('C=COCC(F)(F)F', 43.89943654128263),\n",
       " ('O=S(=O)=O', 43.600872341937816),\n",
       " ('C1COC1', 46.834998786666574),\n",
       " ('ClSCl', 47.29371435397121)]"
      ]
     },
     "execution_count": 4,
     "metadata": {},
     "output_type": "execute_result"
    }
   ],
   "source": [
    "data"
   ]
  },
  {
   "cell_type": "code",
   "execution_count": 12,
   "metadata": {},
   "outputs": [],
   "source": [
    "import random\n",
    "random.seed(42)\n",
    "random.shuffle(data)"
   ]
  },
  {
   "cell_type": "code",
   "execution_count": 33,
   "metadata": {},
   "outputs": [
    {
     "name": "stdout",
     "output_type": "stream",
     "text": [
      "A moleclue with boiling point 48.3411 is <mol>CC[Hg]Cl</mol>. A moleclue with boiling point 47.0705 is <mol>FC(F)(Cl)C(F)(Cl)Cl</mol>. A moleclue with boiling point 42.8860 is <mol>C[Pb](C)(C)C</mol>. A moleclue with boiling point 48.3411 is <mol>CC[Hg]Cl</mol>. A moleclue with boiling point 43.0606 is <mol>CC(C)(C)N</mol>. A moleclue with boiling point 42.8737 is <mol>C=CC=CC</mol>. A moleclue with boiling point 43.6009 is <mol>O=S(=O)=O</mol>. A moleclue with boiling point 45.3856 is <mol>COCCl</mol>. A moleclue with boiling point 42.8860 is <mol>C[Pb](C)(C)C</mol>. A moleclue with boiling point 48.3411 is <mol>CC[Hg]Cl</mol>. A moleclue with boiling point 42.8860 is <mol>C[Pb](C)(C)C</mol>. A moleclue with boiling point 41.7383 is <mol>COCOC</mol>. A moleclue with boiling point 42.8860 is <mol>C[Pb](C)(C)C</mol>. A moleclue with boiling point 45.1157 is <mol>CON</mol>. A moleclue with boiling point 48.3411 is <mol>CC[Hg]Cl</mol>. A moleclue with boiling point 48.3411 is <mol>CC[Hg]Cl</mol>. A moleclue with boiling point 40.1670 is <mol>ClCCl</mol>. A moleclue with boiling point 42.8860 is <mol>C[Pb](C)(C)C</mol>. A moleclue with boiling point 47.2937 is <mol>ClSCl</mol>. A moleclue with boiling point 41.5045 is <mol>c1ccoc1</mol>. A moleclue with boiling point 49.2988 is <mol>\n"
     ]
    },
    {
     "name": "stdout",
     "output_type": "stream",
     "text": [
      "<s>A moleclue with boiling point 48.3411 is <mol> <m>C <m>C <m>[Hg] <m>Cl </mol> . A moleclue with boiling point 47.0705 is <mol> <m>F <m>C <m>( <m>F <m>) <m>( <m>Cl <m>) <m>C <m>( <m>F <m>) <m>( <m>Cl <m>) <m>Cl </mol> . A moleclue with boiling point 42.8860 is <mol> <m>C <m>[Pb] <m>( <m>C <m>) <m>( <m>C <m>) <m>C </mol> . A moleclue with boiling point 48.3411 is <mol> <m>C <m>C <m>[Hg] <m>Cl </mol> . A moleclue with boiling point 43.0606 is <mol> <m>C <m>C <m>( <m>C <m>) <m>( <m>C <m>) <m>N </mol> . A moleclue with boiling point 42.8737 is <mol> <m>C <m>= <m>C <m>C <m>= <m>C <m>C </mol> . A moleclue with boiling point 43.6009 is <mol> <m>O <m>= <m>S <m>( <m>= <m>O <m>) <m>= <m>O </mol> . A moleclue with boiling point 45.3856 is <mol> <m>C <m>O <m>C <m>Cl </mol> . A moleclue with boiling point 42.8860 is <mol> <m>C <m>[Pb] <m>( <m>C <m>) <m>( <m>C <m>) <m>C </mol> . A moleclue with boiling point 48.3411 is <mol> <m>C <m>C <m>[Hg] <m>Cl </mol> . A moleclue with boiling point 42.8860 is <mol> <m>C <m>[Pb] <m>( <m>C <m>) <m>( <m>C <m>) <m>C </mol> . A moleclue with boiling point 41.7383 is <mol> <m>C <m>O <m>C <m>O <m>C </mol> . A moleclue with boiling point 42.8860 is <mol> <m>C <m>[Pb] <m>( <m>C <m>) <m>( <m>C <m>) <m>C </mol> . A moleclue with boiling point 45.1157 is <mol> <m>C <m>O <m>N </mol> . A moleclue with boiling point 48.3411 is <mol> <m>C <m>C <m>[Hg] <m>Cl </mol> . A moleclue with boiling point 48.3411 is <mol> <m>C <m>C <m>[Hg] <m>Cl </mol> . A moleclue with boiling point 40.1670 is <mol> <m>Cl <m>C <m>Cl </mol> . A moleclue with boiling point 42.8860 is <mol> <m>C <m>[Pb] <m>( <m>C <m>) <m>( <m>C <m>) <m>C </mol> . A moleclue with boiling point 47.2937 is <mol> <m>Cl <m>S <m>Cl </mol> . A moleclue with boiling point 41.5045 is <mol> <m>c <m>1 <m>c <m>c <m>o <m>c <m>1 </mol> . A moleclue with boiling point 49.2988 is <mol> <m>C <m>O <m>C <m>O <m>C </mol>  .</s>\n",
      "COCOC\n"
     ]
    },
    {
     "ename": "",
     "evalue": "",
     "output_type": "error",
     "traceback": [
      "\u001b[1;31mThe Kernel crashed while executing code in the the current cell or a previous cell. Please review the code in the cell(s) to identify a possible cause of the failure. Click <a href='https://aka.ms/vscodeJupyterKernelCrash'>here</a> for more info. View Jupyter <a href='command:jupyter.viewOutput'>log</a> for further details."
     ]
    }
   ],
   "source": [
    "def make_prompt(k=10, new_bp=40):\n",
    "    ret = ''\n",
    "    for item in random.choices(data, k=k):\n",
    "        ret += f'A moleclue with boiling point {item[1]:.4f} is <mol>{item[0]}</mol>. '\n",
    "    \n",
    "    ret += f'A moleclue with boiling point {new_bp:.4f} is <mol>'\n",
    "\n",
    "    return ret\n",
    "\n",
    "prompt = make_prompt(k=20, new_bp=40 + 10*random.random())\n",
    "print(prompt)\n",
    "input_ids = tokenizer(prompt, return_tensors=\"pt\").input_ids.cuda()\n",
    "output = model.generate(input_ids, do_sample=True, top_p=0.9, max_new_tokens=100, num_return_sequences=1)\n",
    "# output = model.generate(input_ids, num_beams=4, max_new_tokens=100, num_return_sequences=4)\n",
    "for s in output:\n",
    "    s = tokenizer.decode(s)\n",
    "    print(s)\n",
    "    mol = s[s.rfind('<mol>') + len('<mol>'):s.rfind('</mol>')]\n",
    "    mol = mol.replace('<m>', '').replace(' ', '')\n",
    "    print(mol)"
   ]
  },
  {
   "cell_type": "code",
   "execution_count": 6,
   "metadata": {},
   "outputs": [
    {
     "name": "stdout",
     "output_type": "stream",
     "text": [
      "MQIFVKTLTGKTITLEVEPSDTIENVKAKIQDKEGIPPDQQRLIFAGKQLEDGRTLSDYNIQKESTLHLVLRLRGGMQIFVKTLTGKTITLEVEPSDTIENVKAKIQDKEGIPPDQQRLIFAGKQLEDGRTLSDYNIQKESTLHLVLRLRGGMQIFVKTLTGKTITLEVEPSDTIENVKAKIQDKEGIPPDQQRLIFAGKQLEDGRTLSDYNIQKESTLHLVLRLRGGMQIFVKTLTGKTITLEVEPSDTIENVKAKIQDKEGIPPDQQRLIFAGKQLE\n",
      "MQIFVKTLTGKTITLEVEPSDTIENVKAKIQDKEGIPPDQQRLIFAGKQLEDGRTLSDYNIQKESTLHLVLRLRGGMQIFVKTLTGKTITLEVEPSETIENVKAKIQDKEGIPPDQQRLIFAGKQLEDGRTLSDYNIQKESTLHLVLRLRGGMQIFVKTLTGKTITLEVEPSETIENVKAKIQDKEGIPPDQQRLIFAGKQLEDGRTLSDYNIQKESTLHLVLRLRGGMQIFVKTLTGKTITLEVEPSETIENVKAKIQDKEGIPPDQQRLIFAGKQLE\n",
      "MQIFVKTLTGKTITLEVEPSDTIENVKAKIQDKEGIPPDQQRLIFAGKQLEDGRTLSDYNIQKESTLHLVLRLRGGMQIFVKTLTGKTITLEVEPIENVKAKIQDKEGIPPDQQRLIFAGKQLEDGRTLSDYNIQKESTLHLVLRLRGGMQIFVKTLTGKTITLEVEPIENVKAKIQDKEGIPPDQQRLIFAGKQLEDGRTLSDYNIQKESTLHLVLRLRGGMQIFVKTLTGKTITLEVEPIENVKAKIQDKEGIPPDQQRLIFAGKQLEDGRTLSDYN\n",
      "MQIFVKTLTGKTITLEVEPSDTIENVKAKIQDKEGIPPDQQRLIFAGKQLEDGRTLSDYNIQKESTLHLVLRLRGGMQIFVKTLTGKTITLEVEPSDTIENVKAKIQDKEGIPPDQQRLIFAGKQLEDGRTLSDYNIQKESTLHLVLRLRGGMQIFVKTLTGKTITLEVEPSDTIENVKAKIQDKEGIPPDQQRLIFAGKQLEDGRTLSDYNIQKESTLHLVLRLRGGMQIFVKTLTGKTITLEVEPSDTIENVKAKIQDKEGIPPDQQRLIFAGKQLEDG\n",
      "MQIFVKTLTGKTITLEVEPSDTIENVKAKIQDKEGIPPDQQRLIFAGKQLEDGRTLSDYNIQKESTLHLVLRLRGGMQIFVKTLTGKTITLEVEPSDTIENVKAKIQDKEGIPPDQQRLIFAGKQLEDGRTLSDYNIQKESTLHLVLRLRGGMQIFVKTLTGKTITLEVEPSDTIENVKAKIQDKEGIPPDQQRLIFAGKQLEDGRTLSDYNIQKESTLHLVLRLRGGMQIFVKTLTGKTITLKVEPSDTIENVKAKIQDKEGIPPDQQRLIFAGKQLE\n",
      "MQIFVKTLTGKTITLEVEPSDTIENVKAKIQDKEGIPPDQQRLIFAGKQLEDGRTLSDYNIQKESTLHLVLRLRGGMQIFVKTLTGKTITLEVEPSDTIENVKAKIQDKEGIPPDQQRLIFAGKQLEDGRTLSDYNIQKESTLHLVLRLRGGMQIFVKTLTGKTITLEVEPSETIENVKAKIQDKEGIPPDQQRLIFAGKQLEDGRTLSDYNIQKESTLHLVLRLRGGMQIFVKTLTGKTITLEVEPSETIENVKAKIQDKEGIPPDQQRLIFAGKQLE\n",
      "MQIFVKTLTGKTITLEVEPSDTIENVKAKIQDKEGIPPDQQRLIFAGKQLEDGRTLSDYNIQKESTLHLVLRLRGGMQIFVKTLTGKTITLEVEPSDTIENVKAKIQDKEGIPPDQQRLIFAGKQLEDGRTLSDYNIQKESTLHLVLRLRGGMQIFVKTLTGKTITLEVEPSDTIENVKAKIQDKEGIPPDQQRLIFAGKQLEDGRTLSDYNIQKESTLHLVLRLRGGMQIFVKTLTGKTVTLEVEPSDTIENVKAKIQDKEGIPPDQQRLIFAGKQLE\n",
      "MQIFVKTLTGKTITLEVEPSDTIENVKAKIQDKEGIPPDQQRLIFAGKQLEDGRTLSDYNIQKESTLHLVLRLRGGMQIFVKTLTGKTITLEVEPSDTIENVKAKIQDKEGIPPDQQRLIFAGKQLEDGRTLSDYNIQKESTLHLVLRLRGGMQIFVKTLTGKTITLEVEPSDTIENVKAKIQDKEGIPPDQQRLIFAGKQLEDGRTLSDYNIQKESTLHLVLRLRGGMQIFVKTLTGKTITLEVEPSDTIENVKAKIQDKEGIPPDQQRLIFAGKQLED\n",
      "MQIFVKTLTGKTITLEVEPSDTIENVKAKIQDKEGIPPDQQRLIFAGKQLEDGRTLSDYNIQKESTLHLVLRLRGGMQIFVKTLTGKTITLEVEPSDTIENVKAKIQDKEGIPPDQQRLIFAGKQLEDGRTLSDYNIQKESTLHLVLRLRGGMQIFVKTLTGKTITLEVEPSDTIENVKAKIQDKEGIPPDQQRLIFAGKQLEDGRTLSDYNIQKESTLHLVLRLRGGMQIFVKTLTGKTITLRVEPSDTIENVKAKIQDKEGIPPDQQRLIFAGKQLE\n",
      "MQIFVKTLTGKTITLEVEPSDTIENVKAKIQDKEGIPPDQQRLIFAGKQLEDGRTLSDYNIQKESTLHLVLRLRGGMQIFVKTLTGKTITLEVEPSDTIENVKAKIQDKEGIPPDQQRLIFAGKQLEDGRTLSDYNIQKESTLHLVLRLRGGMQIFVKTLTGKTITLEVEPSDTIENVKAKIQDKEGIPPDQQRLIFAGKQLEDGRTLSDYNIQKESTLHLVLRLRGGMQIFVKTLTGKTITLEVEPSDTIENVKAKIQDKEGIPPDQQRLIFAG\n"
     ]
    }
   ],
   "source": [
    "input_ids = tokenizer('A protein that fold like a circle is <protein>', return_tensors=\"pt\").input_ids.cuda()\n",
    "n = 10\n",
    "output = model.generate(\n",
    "    input_ids,\n",
    "    num_beams=n,\n",
    "    # top_p=0.85,\n",
    "    # do_sample=True,\n",
    "    max_new_tokens=100,\n",
    "    num_return_sequences=n,\n",
    "    return_dict_in_generate=True,\n",
    "    output_scores=True\n",
    ")\n",
    "\n",
    "for i in range(n):\n",
    "    s = tokenizer.decode(output.sequences[i])\n",
    "    mol = s[s.find('<protein>') + len('<protein>'):s.find('</protein>')]\n",
    "    mol = mol.replace('<a>', '').replace(' ', '')\n",
    "    print(mol)"
   ]
  },
  {
   "cell_type": "code",
   "execution_count": 11,
   "metadata": {},
   "outputs": [
    {
     "name": "stdout",
     "output_type": "stream",
     "text": [
      "MSSSPLSKKRRVSGPDPKPGSNCSPAQSVLSEVPSVPTNGMAKNGSEADIDEGLYSRQLYVLGHEAMKRLQTSSVLVSGLRGLGVEIAKNIILGGVKAVTLHDQGTAQWADLSSQFYLREEDIGKNRAEVSQPRLAELNSYVPVTAYTGPLVEDFLSGFQVVVLTNTPLEDQLRVGEFCHNRGIKLVVADTRGLFGQLFCDFGEEMILTDSNGEQPLSAMVSMVTKDNPGVVTCLDEARHGFESGDFVSFSEVQGMVELNGNQP\n",
      "MTERPPSEAARSDPQLEGRDAAEASMAPPHLVLLNGVAKETSRAAAAEPPVIELGARGGPGGGPAGGGGAARDLKGRDAATAEARHRVPTTELCRPPGPAPAPAPASVTAELPGDGRMVQLSPPALAAPAAPGRALLYSLSQPLASLGSGFFGEPDAFPMFTTNNRVKRRPSPYEMEITDGPHTKVVRRIFTNSRERWRQQNVNGAFAELRKLIPTHPPDKKLSKNEILRLAMKYINFLAKLLNDQEEEGTQRAKTGKDPVVGAGGGGGGGGGGAPPDDLL\n",
      "MMSDASDMLAAALEQMDGIIAGSKALEYSNGIFDCQSPTSPFMGSLRALHLVEDLRGLLEMMETDEKEGLRCQIPDSTAETLVEWLQSQMTNGHLPGNGDVYQERLARLENDKESLVLQVSVLTDQVEAQGEKIRDLEFCLEEHREKVNATEEMLQQELLSRTSLETQKLDLMAEISNLKLKLTAVEKDRLDYEDKFRDTEGLIQEINDLRLKVSEMDSERLQYEKKLKSTKSLMAKLSSMKIKVGQMQYEKQRMEQ\n",
      "MAENGDNEKMAALEAKICHQIEYYFGDFNLPRDKFLKEQIKLDEGWVPLEIMIKFNRLNRLTTDFNVIVEALSKSKAELMEISEDKTKIRRSPSKPLPEVTDEYKNDVKNRSVYIKGFPTDATLDDIKEWLEDKGQVLNIQMRRTLHKAFKGSIFVVFDSIESAKKFVETPGQKYKETDLLILFKDDYFAKKNEERKQNKVEAKLRAKQEQEAKQKLEEDAEMKSLEEKIGCLLKFSGDLDDQTCREDLHILFSNHGEIKWIDFVR\n",
      "MEATRRRQHLGATGGPGAQLGASFLQARHGSVSADEAARTAPFHLDLWFYFTLQNWVLDFGRPIAMLVFPLEWFPLNKPSVGDYFHMAYNVITPFLLLKLIERSPRTLPRSITYVSIIIFIMGASIHLVGDSVNHRLLFSGYQHHLSVRENPIIKNLKPETLIDSFELLYYYDEYLGHCMWYIPFFLILFMYFSGCFTASKAESLIPGPALLLVAPSGLYYWYLVTEGQIFILFIFTFFAMLALVLHQKRKRLFLDSNGLFLFSS\n",
      "MMSDASDMLAAALEQMDGIIAGSKALEYSNGIFDCQSPTSPFMGSLRALHLVEDLRGLLEMMETDEKEGLRCQIPDSTAETLVEWLQSQMTNGHLPGNGDVYQERLARLENDKESLVLQVSVLTDQVEAQGEKIRDLEFCLEEHREKVNATEEMLQQELLSRTSLETQKLDLMAEISNLKLKLTAVEKDRLDYEDKFRDTEGLIQEINDLRLKVSEMDSERLQYEKKLKSTKDELASLKEQLEEKESEVKRLQEKLVCKMKGE\n",
      "MMMMALSKTFGQKPVKFQLEDDGEFYMIGSEVGNYLRMFRGSLYKRYPSLWRRLATVEERKKIVASSHGKKTKPNTKDHGYTTLATSVTLLKASEVEEILDGNDEKYKAVSISTEPPTYLREQKAKRNSQWVPTLPNSSHHLDAVPCSTTINRNRMGRDKKRTFPLCFDDHDPAVIHENASQPEVLVPIRLDMEIDGQKLRDAFTWNMNEKLMTPEMFSEILCDDLDLNPLTFVPAIASAIRQQIESYPTDSILEDQSDQR\n",
      "MMQICDTYNQKHSLFNAMNRFIGAVNNMDQTVMVPSLLRDVPLADPGLDNDVGVEVGGSGGCLEERTPPVPDSGSANGSFFAPSRDMYSHYVLLKSIRNDIEWGVLHQPPPPAGSEEGSAWKSKDILVDLGHLEGADAGEEDLEQQFHYHLRGLHTVLSKLTRKANILTNRYKQEIGFGNWGH\n",
      "MEATHDLARQDSLNESSLNQALATRFARDLIYTYVGDILLAVNPYADLPLYDNIHSLRYTKVSSKAEHPPHLFAIADAAFTQMMRTRQPQVAVISGESGAGKTFSTRLFIRQVSPSTPGRTNPVLEAFGNAQTVMNSNSSRFGKFIELQFTTQGRVVGARLAHYLLEKARVVSQGEGERNFHIFEMLIEGCDDEERRRTGLHLSDEWQ\n",
      "MADVPGAQRAVPGDGPEPRDPLDCWACAVLVTAQNLLVAAFNLLLLVLVLGTILLPAVTMLGFGFLCHSQFLRSQAPPCTAHLRDPGFTALLVTGFLLLVPLLVLALASYRRLCLRLRLADCLVPYSRALYRRRRAPQPRQIRASPGSQAVPTSGKVWV\n"
     ]
    }
   ],
   "source": [
    "input_ids = tokenizer(\"Design a protein with a structure resembling a common ordinal numeral 2: start with a horizontal segment, curve downwards and left in a semi-circle, then extend diagonally down right, ending with a horizontal base. Ensure structural stability and functionality while subtly mimicking this numeral's shape without direct replication. The result is <protein>\", return_tensors=\"pt\").input_ids.cuda()\n",
    "n = 10\n",
    "output = model.generate(\n",
    "    input_ids,\n",
    "    num_beams=n,\n",
    "    # top_p=0.85,\n",
    "    # do_sample=True,\n",
    "    max_new_tokens=100,\n",
    "    num_return_sequences=n,\n",
    "    return_dict_in_generate=True,\n",
    "    output_scores=True\n",
    ")\n",
    "\n",
    "for i in range(n):\n",
    "    s = tokenizer.decode(output.sequences[i])\n",
    "    mol = s[s.find('<protein>') + len('<protein>'):s.find('</protein>')]\n",
    "    mol = mol.replace('<a>', '').replace(' ', '')\n",
    "    print(mol)"
   ]
  },
  {
   "cell_type": "code",
   "execution_count": 9,
   "metadata": {},
   "outputs": [
    {
     "name": "stdout",
     "output_type": "stream",
     "text": [
      "MATDVQLADYPLMSPKAELKLEKKSGRKPRSPRDSGPQKELVIPGIVDFERIRRALRTPKPQTPGTYCFGRLSHHSFFSRHHPHPQHVTHIQDLTGKPVCVVRDFPAPLPESTVFSGCQMGIPTISVPIGDPQSNRNPQLSSEAWKKELKELASRVAFLTKEDELKKKEDTTSLNWNCKSRRPQAPGLSGTDLGAAELGIKKEQKEEPLREQGAKYSAETGRLIPASTRAVGRRRSHQGQQSQSSSRHEGVQAFLLQDQELLVLELLCRI\n",
      "MMMMALSKTFGQKPVKFQLEDDGEFYMIGSEVGNYLRMFRGSLYKRYPSLWRRLATVEERKKIVASSHGKKTKPNTKDHGYTTLATSVTLLKASEVEEILDGNDEKYKAVSISTEPPTYLREQKAKRNSQWVPTLPNSSHHLDAVPCSTTINRNRMGRDKKRTFPLCFDDHDPAVIHENASQPEVLVPIRLDMEIDGQKLRDAFTWNMNEKLMTPEMFSEILCDDLDLNPLTFVPAIASAIRQQIESYPTDSILEDQSDQR\n",
      "MATDVQLADYPLMSPKAELKLEKKSGRKPRSPRDSGPQKELVIPGIVDFERIRRALRTPKPQTPGTYCFGRLSHHSFFSRHHPHPQHVTHIQDLTGKPVCVVRDFPAPLPESTVFSGCQMGIPTISVPIGDPQSNRNPQLSSEAWKKELKELASRVAFLTKEDELKKKEKEQKEEPLREQGAKYSAETGRLIPASTRAVGRRRSHQGQQSQSSSRHEGVQAFLLQDQELLVLELLCRILETDLLSAIQFWLLYAPPKEKDLALGLLQTAV\n",
      "MADPIMDLFDDPNLFGLDSLTDDSFNQVTQDPIEEALGLPSSLDSLDQMNQDGGGGDVGNSSASELVPPPEETAPTELSKESTAPAPESITLHDYTTQPASQEQPAQPVLQTSTPTSGLLQVSKSQEILSQGNPFMGVSATAVSSSSAGGQPPQSAPKIVILKAPPSSSVTGAHVAQIQAQGITSTAQPLVAGTANGGKVTFTKVLTGTPLRPGVSIVSGNTVLAAKVPGNQAAVQRIVQPSRPVKQLVLQPVKGSAPAGNPGATGPPLKPAVTLTSTPTQG\n",
      "MADQRMDISSTISDFMSPGPTDLLSSSLGPSGVDCNRKRKGSSTDYQLDDFSFEENMDTDRDDPHGRLEYTEHQGRIKNAREAHSQIEKRRRDKMNSFIDELASLVPTCNAMSRKLDKLTVLRMAVQHMKTLRGATNPYTEANYKPTFLSDDELKHLILRAADGFLFVVGCDRGKILFVSESVFKILNYSQNDLIGQSLFDYLHPKDIAKVKEQLSSSDTAPRERLIDAKTGLPVKTDITPGPSRLCSGARRSFFCRMKCNRP\n",
      "MAEDADMRNELEEMQRRADQLADESLESTRRMLQLVEESKDAGIRTLVMLDEQGEQLERIEEGMDQINKDMKEAEKNLTDLGKFCGLCVCPCNKLKSSDAYKKAWGNNQDGVVASQPARVVDEREQMAISGGFIRRVTNDARENEMDENLEQVSGIIGNLRHMALDMGNEIDTQNRQIDRIMEKADSNKTRIDEANQRATKMLGSG\n",
      "MASMLLAQRLACSFQHSYRLLVPGSRHISQAAAKVDVEFDYDGPLMKTEVPGPRSQELMKQLNIIQNAEAVHFFCNYEESRGNYLVDVDGNRMLDLYSQISSVPIGYSHPALLKLIQQPQNASMFVNRPALGILPPENFVEKLRQSLLSVAPKGMSQLITMACGSCSNENALKTIFMWYRSKERGQRGFSQEELETCMINQAPGCPDYSILSFMGAFHGRTMGCLATTHSKAIHKIDIPSFDWPIAPFPRLKYP\n",
      "MMMMMMMKKMQHQRQQQADHANEANYARGTRLPLSGEGPTSQPNSSKQTVLSWQAAIDAARQAKAAQTMSTSAPPPVGSLSQRKRQQYAKSKKQGNSSNSRPARALFCLSLNNPIRRACISIVEWKPFDIFILLAIFANCVALAIYIPFPEDDSNSTNHNLEKVEYAFLIIFTVETFLKIIAYGLLLHPNAYVRNGWNLLDFVIVIVGLFSVILEQLTKETEGGNHSSGKSGGFDVKALRAFRVLRPLRLVSGVPSLQVVLNSIIKAM\n",
      "MATDVQLADYPLMSPKAELKLEKKSGRKPRSPRDSGPQKELVIPGIVDFERIRRALRTPKPQTPGTYCFGRLSHHSFFSRHHPHPQHVTHIQDLTGKPVCVVRDFPAPLPESTVFSGCQMGIPTISVPIGDPQSNRNPQLSSEAWKKELKELASRVAFLTKEDELKKKEDTTSLNWNCKSRRPQAPGLSGTDLGAAELGIKKEQKEEPLREQGAKYSAETGRLIPASTRAVGRRRSHQGQQSQSSSRHEGVQAFLLQDQELLSIPEENEDI\n",
      "MATDELATKLSRRLQMEGEGGGETPEQPGLNGAAAAAAGAPDEAAEALGSADCELSAKLLRRADLNQGIGEPQSPSRRVFNPYTEFKEFSRKQIKDMEKMFKQYDAGRDGFIDLMELKLMMEKLGAPQTHLGLKNMIKEVDEDFDSKLSFREFLLIFRKAAAGELQEDSGLCVLARLSEIDVSSEGVKGAKSFFEAKVQAINVSSRFEEEIKAEQEERKKQAEEMKQRKAAFKELQSTFK\n"
     ]
    }
   ],
   "source": [
    "input_ids = tokenizer(\"Design a protein that mimics the shape of the numeral for the fourth ordinal position in a single, continuous structure: Begin with a vertical line, then create an angled line branching from the midpoint, extending diagonally down to the right, and finally, turn sharply to draw a horizontal line towards the left, ending at the vertical line. Ensure the protein's stability and functionality, subtly reflecting the numeral's shape. The result is <protein>\", return_tensors=\"pt\").input_ids.cuda()\n",
    "n = 10\n",
    "output = model.generate(\n",
    "    input_ids,\n",
    "    num_beams=n,\n",
    "    # top_p=0.85,\n",
    "    # do_sample=True,\n",
    "    max_new_tokens=100,\n",
    "    num_return_sequences=n,\n",
    "    return_dict_in_generate=True,\n",
    "    output_scores=True\n",
    ")\n",
    "\n",
    "for i in range(n):\n",
    "    s = tokenizer.decode(output.sequences[i])\n",
    "    mol = s[s.find('<protein>') + len('<protein>'):s.find('</protein>')]\n",
    "    mol = mol.replace('<a>', '').replace(' ', '')\n",
    "    print(mol)\n",
    "    \n",
    "    "
   ]
  },
  {
   "cell_type": "code",
   "execution_count": 12,
   "metadata": {},
   "outputs": [
    {
     "name": "stdout",
     "output_type": "stream",
     "text": [
      "MNPLLILTFVAAALAAPFDDDDKIVGGYNCEENSVPYQVSLNSGYHFCGGSLINEQWVVSAGHCYKSRIQVRLGEHNIEVLEGNEQFINAAKIIRHPQYDRKTLNNDIMLIKLSSRAVINARVSTISLPTAPPATGTKCLISGWGNTASSGADYPDELQCLDAPVLSQAKCEASYPGKITSNMFCVGFLEGGKDSCQGDSGGPVVCNGQLQGVVSWGDGCAQKNKPGVYTKVYNYVKWIKNTIAANS\n",
      "MAENGDNEKMAALEAKICHQIEYYFGDFNLPRDKFLKEQIKLDEGWVPLEIMIKFNRLNRLTTDFNVIVEALSKSKAELMEISEDKTKIRRSPSKPLPEVTDEYKNDVKNRSVYIKGFPTDATLDDIKEWLEDKGQVLNIQMRRTLHKAFKGSIFVVFDSIESAKKFVETPGQKYKETDLLILFKDDYFAKKNEERKQNKVEAKLRAKQEQEAKQKLEEDAEMKSLEEKIGCLLKFSGDLDDQTCREDLHILFSNHGEIKWIDFVR\n",
      "MAEHDYHEDYGFSSFNDSSQEEHQDFLQFSKVFLPCMYLVVFVCGLVGNSLVLVISIFYHKLQSLTDVFLVNLPLADLVFVCTLPFWAYAGIHEWVFGQVMCKSLLGIYTINFYTSMLILTCITVDRFIVVVKATKAYNQQAKRMTWGKVTSLLIWVISLLVSLPQIIYGNVFNLDKLICGYHDEAISTVVLATQMTLGFFLPLLTMIVCYSVIIKTLLHAGGFQKHRSLKIIFLVMAVFLLTQMPFNLMKF\n",
      "MVWKRLGALVMFPLQMIYLVVKAAVGLVLPAKLRDLSRENVLITGGGRGIGRQLAREFAERGARKIVLWGRTEKCLKETTEEIRQMGTECHYFICDVGNREEVYQTAKAVREKVGDITILVNNAAVVHGKSLMDSDDDALLKSQHINTLGQFWTTKAFLPRMLELQNGHIVCLNSVLALSAIPGAIDYCTSKASAFAFMESLTLGLLDCPGVSATTVLPFHTSTEMFQGMRVRFPNLFPPLKPETVARRTVEAVQLNQAL\n",
      "MAASMARRLWPLLTRRGFRPRGGCISNDSPRRSFTTEKRNRNLLYEYAREGYSALPQLDIERFCACPEEAAHALELRKGELRSADLPAIISTWQELRQLQEQIRSLEEEKAAVTEAVRALLANQDSGEVQQVRLDPGAGSIFGPTFLPFPGQLSLLVEAQLEEQFYLQALKLPNQTHPDVPVGDESQARVLHMVGDKPVFSFQPRGHLEIGEKLDIIRQKRLSHVSGHRSYYLRGAGALLQHGLVNFTFNKLLRRGFTPMTVPDLLRGAVFEGCGMT\n",
      "MASRWWRWRRGCSWKPAARSPGPGSPGRAGPLGPSAAAEVRAQVHRRKGLDLSQIPYINLVKHLTSACPNVCRISRFHHTTPDSKTHSGEKYTDPFKLGWRDLKGLYEDIRKELLISTSELKEMSEYYFDGKGKAFRPIIVALMARACNIHHNNSRHVQASQRAIALIAEMIHTASLVHDDVIDDASSRRGKHTVNKIWGEKKAVLAGDLILSAASIALARIGNTTVISILTQVIEDLVRGEFLQLGSKENENERFAHYLEKTF\n",
      "MAAAALGSSSGSASPAVAELCQNTPETFLEASKLLLTYADNILRNPNDEKYRSIRIGNTAFSTRLLPVRGAVECLFEMGFEEGETHLIFPKKASVEQLQKIRDLIAIERSSRLDGSNKSHKVKSSQQPAASTQLPTTPSSNPSGLNQHTRNRQGQSSDPPSASTVAADSAILEVLQSNIQHVLVYENPALQEKALACIPVQELKRKSQEKLSRARKLDKGINISDEDFLLLELLHWFKEEFFHWVNNVLCSKCGGQTRSRDRSLLPSDDELKWGAKEVED\n",
      "MNPLLILTFVAAALAAPFDDDDKIVGGYNCEENSVPYQVSLNSGYHFCGGSLINEQWVVSAGHCYKSRIQVRLGEHNIEVLEGNEQFINAAKIIRHPQYDRKTLNNDIMLIKLSSRAVINARVSTISLPTAPPATGTKCLISGWGNTASSGADYPDELQCLDAPVLSQAKCEASYPGKITSNMFCVGFLEGGKDSCQGDSGGPVVCNGQLQGVVSWGDGCAQKNKPGVYTKVYNYVKWIKNTIAANS\n",
      "MNPLLILTFVAAALAAPFDDDDKIVGGYNCEENSVPYQVSLNSGYHFCGGSLINEQWVVSAGHCYKSRIQVRLGEHNIEVLEGNEQFINAAKIIRHPQYDRKTLNNDIMLIKLSSRAVINARVSTISLPTAPPATGTKCLISGWGNTASSGADYPDELQCLDAPVLSQAKCEASYPGKITSNMFCVGFLEGGKDSCQGDSGGPVVCNGQLQGVVSWGDGCAQKNKPGVYTKVYNYVKWIKNTIAANS\n",
      "MNPLLILTFVAAALAAPFDDDDKIVGGYNCEENSVPYQVSLNSGYHFCGGSLINEQWVVSAGHCYKSRIQVRLGEHNIEVLEGNEQFINAAKIIRHPQYDRKTLNNDIMLIKLSSRAVINARVSTISLPTAPPATGTKCLISGWGNTASSGADYPDELQCLDAPVLSQAKCEASYPGKITSNMFCVGFLEGGKDSCQGDSGGPVVCNGQLQGVVSWGDGCAQKNKPGVYTKVYNYVKWIKNTIAANS\n"
     ]
    }
   ],
   "source": [
    "input_ids = tokenizer(\"A protein in family G is <protein>\", return_tensors=\"pt\").input_ids.cuda()\n",
    "n = 10\n",
    "output = model.generate(\n",
    "    input_ids,\n",
    "    num_beams=n,\n",
    "    # top_p=0.85,\n",
    "    # do_sample=True,\n",
    "    max_new_tokens=100,\n",
    "    num_return_sequences=n,\n",
    "    return_dict_in_generate=True,\n",
    "    output_scores=True\n",
    ")\n",
    "\n",
    "for i in range(n):\n",
    "    s = tokenizer.decode(output.sequences[i])\n",
    "    mol = s[s.find('<protein>') + len('<protein>'):s.find('</protein>')]\n",
    "    mol = mol.replace('<a>', '').replace(' ', '')\n",
    "    print(mol)"
   ]
  },
  {
   "cell_type": "code",
   "execution_count": 6,
   "metadata": {},
   "outputs": [
    {
     "data": {
      "text/plain": [
       "odict_keys(['model.embed_tokens.weight', 'model.layers.0.self_attn.q_proj.weight', 'model.layers.0.self_attn.k_proj.weight', 'model.layers.0.self_attn.v_proj.weight', 'model.layers.0.self_attn.o_proj.weight', 'model.layers.0.mlp.gate_proj.weight', 'model.layers.0.mlp.up_proj.weight', 'model.layers.0.mlp.down_proj.weight', 'model.layers.0.input_layernorm.weight', 'model.layers.0.post_attention_layernorm.weight', 'model.layers.1.self_attn.q_proj.weight', 'model.layers.1.self_attn.k_proj.weight', 'model.layers.1.self_attn.v_proj.weight', 'model.layers.1.self_attn.o_proj.weight', 'model.layers.1.mlp.gate_proj.weight', 'model.layers.1.mlp.up_proj.weight', 'model.layers.1.mlp.down_proj.weight', 'model.layers.1.input_layernorm.weight', 'model.layers.1.post_attention_layernorm.weight', 'model.layers.2.self_attn.q_proj.weight', 'model.layers.2.self_attn.k_proj.weight', 'model.layers.2.self_attn.v_proj.weight', 'model.layers.2.self_attn.o_proj.weight', 'model.layers.2.mlp.gate_proj.weight', 'model.layers.2.mlp.up_proj.weight', 'model.layers.2.mlp.down_proj.weight', 'model.layers.2.input_layernorm.weight', 'model.layers.2.post_attention_layernorm.weight', 'model.layers.3.self_attn.q_proj.weight', 'model.layers.3.self_attn.k_proj.weight', 'model.layers.3.self_attn.v_proj.weight', 'model.layers.3.self_attn.o_proj.weight', 'model.layers.3.mlp.gate_proj.weight', 'model.layers.3.mlp.up_proj.weight', 'model.layers.3.mlp.down_proj.weight', 'model.layers.3.input_layernorm.weight', 'model.layers.3.post_attention_layernorm.weight', 'model.layers.4.self_attn.q_proj.weight', 'model.layers.4.self_attn.k_proj.weight', 'model.layers.4.self_attn.v_proj.weight', 'model.layers.4.self_attn.o_proj.weight', 'model.layers.4.mlp.gate_proj.weight', 'model.layers.4.mlp.up_proj.weight', 'model.layers.4.mlp.down_proj.weight', 'model.layers.4.input_layernorm.weight', 'model.layers.4.post_attention_layernorm.weight', 'model.layers.5.self_attn.q_proj.weight', 'model.layers.5.self_attn.k_proj.weight', 'model.layers.5.self_attn.v_proj.weight', 'model.layers.5.self_attn.o_proj.weight', 'model.layers.5.mlp.gate_proj.weight', 'model.layers.5.mlp.up_proj.weight', 'model.layers.5.mlp.down_proj.weight', 'model.layers.5.input_layernorm.weight', 'model.layers.5.post_attention_layernorm.weight', 'model.layers.6.self_attn.q_proj.weight', 'model.layers.6.self_attn.k_proj.weight', 'model.layers.6.self_attn.v_proj.weight', 'model.layers.6.self_attn.o_proj.weight', 'model.layers.6.mlp.gate_proj.weight', 'model.layers.6.mlp.up_proj.weight', 'model.layers.6.mlp.down_proj.weight', 'model.layers.6.input_layernorm.weight', 'model.layers.6.post_attention_layernorm.weight', 'model.layers.7.self_attn.q_proj.weight', 'model.layers.7.self_attn.k_proj.weight', 'model.layers.7.self_attn.v_proj.weight', 'model.layers.7.self_attn.o_proj.weight', 'model.layers.7.mlp.gate_proj.weight', 'model.layers.7.mlp.up_proj.weight', 'model.layers.7.mlp.down_proj.weight', 'model.layers.7.input_layernorm.weight', 'model.layers.7.post_attention_layernorm.weight', 'model.layers.8.self_attn.q_proj.weight', 'model.layers.8.self_attn.k_proj.weight', 'model.layers.8.self_attn.v_proj.weight', 'model.layers.8.self_attn.o_proj.weight', 'model.layers.8.mlp.gate_proj.weight', 'model.layers.8.mlp.up_proj.weight', 'model.layers.8.mlp.down_proj.weight', 'model.layers.8.input_layernorm.weight', 'model.layers.8.post_attention_layernorm.weight', 'model.layers.9.self_attn.q_proj.weight', 'model.layers.9.self_attn.k_proj.weight', 'model.layers.9.self_attn.v_proj.weight', 'model.layers.9.self_attn.o_proj.weight', 'model.layers.9.mlp.gate_proj.weight', 'model.layers.9.mlp.up_proj.weight', 'model.layers.9.mlp.down_proj.weight', 'model.layers.9.input_layernorm.weight', 'model.layers.9.post_attention_layernorm.weight', 'model.layers.10.self_attn.q_proj.weight', 'model.layers.10.self_attn.k_proj.weight', 'model.layers.10.self_attn.v_proj.weight', 'model.layers.10.self_attn.o_proj.weight', 'model.layers.10.mlp.gate_proj.weight', 'model.layers.10.mlp.up_proj.weight', 'model.layers.10.mlp.down_proj.weight', 'model.layers.10.input_layernorm.weight', 'model.layers.10.post_attention_layernorm.weight', 'model.layers.11.self_attn.q_proj.weight', 'model.layers.11.self_attn.k_proj.weight', 'model.layers.11.self_attn.v_proj.weight', 'model.layers.11.self_attn.o_proj.weight', 'model.layers.11.mlp.gate_proj.weight', 'model.layers.11.mlp.up_proj.weight', 'model.layers.11.mlp.down_proj.weight', 'model.layers.11.input_layernorm.weight', 'model.layers.11.post_attention_layernorm.weight', 'model.layers.12.self_attn.q_proj.weight', 'model.layers.12.self_attn.k_proj.weight', 'model.layers.12.self_attn.v_proj.weight', 'model.layers.12.self_attn.o_proj.weight', 'model.layers.12.mlp.gate_proj.weight', 'model.layers.12.mlp.up_proj.weight', 'model.layers.12.mlp.down_proj.weight', 'model.layers.12.input_layernorm.weight', 'model.layers.12.post_attention_layernorm.weight', 'model.layers.13.self_attn.q_proj.weight', 'model.layers.13.self_attn.k_proj.weight', 'model.layers.13.self_attn.v_proj.weight', 'model.layers.13.self_attn.o_proj.weight', 'model.layers.13.mlp.gate_proj.weight', 'model.layers.13.mlp.up_proj.weight', 'model.layers.13.mlp.down_proj.weight', 'model.layers.13.input_layernorm.weight', 'model.layers.13.post_attention_layernorm.weight', 'model.layers.14.self_attn.q_proj.weight', 'model.layers.14.self_attn.k_proj.weight', 'model.layers.14.self_attn.v_proj.weight', 'model.layers.14.self_attn.o_proj.weight', 'model.layers.14.mlp.gate_proj.weight', 'model.layers.14.mlp.up_proj.weight', 'model.layers.14.mlp.down_proj.weight', 'model.layers.14.input_layernorm.weight', 'model.layers.14.post_attention_layernorm.weight', 'model.layers.15.self_attn.q_proj.weight', 'model.layers.15.self_attn.k_proj.weight', 'model.layers.15.self_attn.v_proj.weight', 'model.layers.15.self_attn.o_proj.weight', 'model.layers.15.mlp.gate_proj.weight', 'model.layers.15.mlp.up_proj.weight', 'model.layers.15.mlp.down_proj.weight', 'model.layers.15.input_layernorm.weight', 'model.layers.15.post_attention_layernorm.weight', 'model.layers.16.self_attn.q_proj.weight', 'model.layers.16.self_attn.k_proj.weight', 'model.layers.16.self_attn.v_proj.weight', 'model.layers.16.self_attn.o_proj.weight', 'model.layers.16.mlp.gate_proj.weight', 'model.layers.16.mlp.up_proj.weight', 'model.layers.16.mlp.down_proj.weight', 'model.layers.16.input_layernorm.weight', 'model.layers.16.post_attention_layernorm.weight', 'model.layers.17.self_attn.q_proj.weight', 'model.layers.17.self_attn.k_proj.weight', 'model.layers.17.self_attn.v_proj.weight', 'model.layers.17.self_attn.o_proj.weight', 'model.layers.17.mlp.gate_proj.weight', 'model.layers.17.mlp.up_proj.weight', 'model.layers.17.mlp.down_proj.weight', 'model.layers.17.input_layernorm.weight', 'model.layers.17.post_attention_layernorm.weight', 'model.layers.18.self_attn.q_proj.weight', 'model.layers.18.self_attn.k_proj.weight', 'model.layers.18.self_attn.v_proj.weight', 'model.layers.18.self_attn.o_proj.weight', 'model.layers.18.mlp.gate_proj.weight', 'model.layers.18.mlp.up_proj.weight', 'model.layers.18.mlp.down_proj.weight', 'model.layers.18.input_layernorm.weight', 'model.layers.18.post_attention_layernorm.weight', 'model.layers.19.self_attn.q_proj.weight', 'model.layers.19.self_attn.k_proj.weight', 'model.layers.19.self_attn.v_proj.weight', 'model.layers.19.self_attn.o_proj.weight', 'model.layers.19.mlp.gate_proj.weight', 'model.layers.19.mlp.up_proj.weight', 'model.layers.19.mlp.down_proj.weight', 'model.layers.19.input_layernorm.weight', 'model.layers.19.post_attention_layernorm.weight', 'model.layers.20.self_attn.q_proj.weight', 'model.layers.20.self_attn.k_proj.weight', 'model.layers.20.self_attn.v_proj.weight', 'model.layers.20.self_attn.o_proj.weight', 'model.layers.20.mlp.gate_proj.weight', 'model.layers.20.mlp.up_proj.weight', 'model.layers.20.mlp.down_proj.weight', 'model.layers.20.input_layernorm.weight', 'model.layers.20.post_attention_layernorm.weight', 'model.layers.21.self_attn.q_proj.weight', 'model.layers.21.self_attn.k_proj.weight', 'model.layers.21.self_attn.v_proj.weight', 'model.layers.21.self_attn.o_proj.weight', 'model.layers.21.mlp.gate_proj.weight', 'model.layers.21.mlp.up_proj.weight', 'model.layers.21.mlp.down_proj.weight', 'model.layers.21.input_layernorm.weight', 'model.layers.21.post_attention_layernorm.weight', 'model.layers.22.self_attn.q_proj.weight', 'model.layers.22.self_attn.k_proj.weight', 'model.layers.22.self_attn.v_proj.weight', 'model.layers.22.self_attn.o_proj.weight', 'model.layers.22.mlp.gate_proj.weight', 'model.layers.22.mlp.up_proj.weight', 'model.layers.22.mlp.down_proj.weight', 'model.layers.22.input_layernorm.weight', 'model.layers.22.post_attention_layernorm.weight', 'model.layers.23.self_attn.q_proj.weight', 'model.layers.23.self_attn.k_proj.weight', 'model.layers.23.self_attn.v_proj.weight', 'model.layers.23.self_attn.o_proj.weight', 'model.layers.23.mlp.gate_proj.weight', 'model.layers.23.mlp.up_proj.weight', 'model.layers.23.mlp.down_proj.weight', 'model.layers.23.input_layernorm.weight', 'model.layers.23.post_attention_layernorm.weight', 'model.layers.24.self_attn.q_proj.weight', 'model.layers.24.self_attn.k_proj.weight', 'model.layers.24.self_attn.v_proj.weight', 'model.layers.24.self_attn.o_proj.weight', 'model.layers.24.mlp.gate_proj.weight', 'model.layers.24.mlp.up_proj.weight', 'model.layers.24.mlp.down_proj.weight', 'model.layers.24.input_layernorm.weight', 'model.layers.24.post_attention_layernorm.weight', 'model.layers.25.self_attn.q_proj.weight', 'model.layers.25.self_attn.k_proj.weight', 'model.layers.25.self_attn.v_proj.weight', 'model.layers.25.self_attn.o_proj.weight', 'model.layers.25.mlp.gate_proj.weight', 'model.layers.25.mlp.up_proj.weight', 'model.layers.25.mlp.down_proj.weight', 'model.layers.25.input_layernorm.weight', 'model.layers.25.post_attention_layernorm.weight', 'model.layers.26.self_attn.q_proj.weight', 'model.layers.26.self_attn.k_proj.weight', 'model.layers.26.self_attn.v_proj.weight', 'model.layers.26.self_attn.o_proj.weight', 'model.layers.26.mlp.gate_proj.weight', 'model.layers.26.mlp.up_proj.weight', 'model.layers.26.mlp.down_proj.weight', 'model.layers.26.input_layernorm.weight', 'model.layers.26.post_attention_layernorm.weight', 'model.layers.27.self_attn.q_proj.weight', 'model.layers.27.self_attn.k_proj.weight', 'model.layers.27.self_attn.v_proj.weight', 'model.layers.27.self_attn.o_proj.weight', 'model.layers.27.mlp.gate_proj.weight', 'model.layers.27.mlp.up_proj.weight', 'model.layers.27.mlp.down_proj.weight', 'model.layers.27.input_layernorm.weight', 'model.layers.27.post_attention_layernorm.weight', 'model.layers.28.self_attn.q_proj.weight', 'model.layers.28.self_attn.k_proj.weight', 'model.layers.28.self_attn.v_proj.weight', 'model.layers.28.self_attn.o_proj.weight', 'model.layers.28.mlp.gate_proj.weight', 'model.layers.28.mlp.up_proj.weight', 'model.layers.28.mlp.down_proj.weight', 'model.layers.28.input_layernorm.weight', 'model.layers.28.post_attention_layernorm.weight', 'model.layers.29.self_attn.q_proj.weight', 'model.layers.29.self_attn.k_proj.weight', 'model.layers.29.self_attn.v_proj.weight', 'model.layers.29.self_attn.o_proj.weight', 'model.layers.29.mlp.gate_proj.weight', 'model.layers.29.mlp.up_proj.weight', 'model.layers.29.mlp.down_proj.weight', 'model.layers.29.input_layernorm.weight', 'model.layers.29.post_attention_layernorm.weight', 'model.layers.30.self_attn.q_proj.weight', 'model.layers.30.self_attn.k_proj.weight', 'model.layers.30.self_attn.v_proj.weight', 'model.layers.30.self_attn.o_proj.weight', 'model.layers.30.mlp.gate_proj.weight', 'model.layers.30.mlp.up_proj.weight', 'model.layers.30.mlp.down_proj.weight', 'model.layers.30.input_layernorm.weight', 'model.layers.30.post_attention_layernorm.weight', 'model.layers.31.self_attn.q_proj.weight', 'model.layers.31.self_attn.k_proj.weight', 'model.layers.31.self_attn.v_proj.weight', 'model.layers.31.self_attn.o_proj.weight', 'model.layers.31.mlp.gate_proj.weight', 'model.layers.31.mlp.up_proj.weight', 'model.layers.31.mlp.down_proj.weight', 'model.layers.31.input_layernorm.weight', 'model.layers.31.post_attention_layernorm.weight', 'model.norm.weight', 'lm_head.weight'])"
      ]
     },
     "execution_count": 6,
     "metadata": {},
     "output_type": "execute_result"
    }
   ],
   "source": [
    "model.state_dict().keys()"
   ]
  },
  {
   "cell_type": "code",
   "execution_count": 7,
   "metadata": {},
   "outputs": [
    {
     "data": {
      "text/plain": [
       "tensor([[-1.3367e-02,  1.4038e-02,  2.5940e-03,  ..., -1.5381e-02,\n",
       "         -1.2695e-02, -1.9908e-05],\n",
       "        [ 1.5564e-03, -1.3962e-03,  3.3188e-04,  ..., -5.5542e-03,\n",
       "          4.5586e-04, -3.9368e-03],\n",
       "        [ 6.6833e-03,  9.3994e-03, -5.5847e-03,  ...,  3.7842e-03,\n",
       "          5.4932e-03, -5.1880e-03],\n",
       "        ...,\n",
       "        [ 1.0840e-01,  5.7812e-01,  1.3906e+00,  ..., -5.0781e-01,\n",
       "         -3.8281e-01, -5.4297e-01],\n",
       "        [-1.4531e+00, -8.1250e-01,  1.7822e-02,  ...,  4.5703e-01,\n",
       "          3.2031e-01,  1.4062e-01],\n",
       "        [-1.4844e+00,  5.5859e-01,  7.0703e-01,  ...,  7.1875e-01,\n",
       "         -3.1128e-02,  1.3984e+00]])"
      ]
     },
     "execution_count": 7,
     "metadata": {},
     "output_type": "execute_result"
    }
   ],
   "source": [
    "model.state_dict()['model.embed_tokens.weight']"
   ]
  },
  {
   "cell_type": "code",
   "execution_count": 24,
   "metadata": {},
   "outputs": [
    {
     "data": {
      "text/plain": [
       "tensor([[-0.0085, -0.0087,  0.0042,  ...,  0.0058, -0.0033,  0.0308],\n",
       "        [-0.0299,  0.0405,  0.0179,  ..., -0.0232,  0.0239,  0.0356],\n",
       "        [-0.0089,  0.0027,  0.0200,  ..., -0.0374,  0.0109, -0.0033],\n",
       "        ...,\n",
       "        [ 0.0046,  0.0054,  0.0134,  ..., -0.0071, -0.0082,  0.0065],\n",
       "        [ 0.0189, -0.0356,  0.0223,  ...,  0.0310,  0.0098, -0.0101],\n",
       "        [ 0.0026, -0.0256, -0.0008,  ...,  0.0291, -0.0260,  0.0100]],\n",
       "       device='cuda:0')"
      ]
     },
     "execution_count": 24,
     "metadata": {},
     "output_type": "execute_result"
    }
   ],
   "source": [
    "model.state_dict()['lm_head.weight']"
   ]
  },
  {
   "cell_type": "code",
   "execution_count": 9,
   "metadata": {},
   "outputs": [
    {
     "data": {
      "text/plain": [
       "tensor([0.0452, 0.0515, 0.0515,  ..., 0.0522, 0.0544, 0.0515])"
      ]
     },
     "execution_count": 9,
     "metadata": {},
     "output_type": "execute_result"
    }
   ],
   "source": [
    "model.state_dict()['model.layers.0.post_attention_layernorm.weight']"
   ]
  },
  {
   "cell_type": "code",
   "execution_count": 6,
   "metadata": {},
   "outputs": [],
   "source": [
    "def design(prompt, sample=False):\n",
    "    input_ids = tokenizer(prompt + \" The result is <protein>\", return_tensors=\"pt\").input_ids.cuda()\n",
    "    n = 10\n",
    "    if sample:\n",
    "        output = model.generate(\n",
    "            input_ids,\n",
    "            do_sample=True,\n",
    "            top_p=0.9,\n",
    "            max_new_tokens=100,\n",
    "            num_return_sequences=n,\n",
    "            return_dict_in_generate=True,\n",
    "            output_scores=True\n",
    "        )\n",
    "    else:\n",
    "        output = model.generate(\n",
    "            input_ids,\n",
    "            num_beams=n,\n",
    "            # top_p=0.85,\n",
    "            # do_sample=True,\n",
    "            max_new_tokens=100,\n",
    "            num_return_sequences=n,\n",
    "            return_dict_in_generate=True,\n",
    "            output_scores=True\n",
    "        )\n",
    "\n",
    "    ret = []\n",
    "    for i in range(n):\n",
    "        s = tokenizer.decode(output.sequences[i])\n",
    "        mol = s[s.find('<protein>') + len('<protein>'):s.find('</protein>')]\n",
    "        mol = mol.replace('<a>', '').replace(' ', '')\n",
    "        ret.append(mol)\n",
    "\n",
    "    return ret"
   ]
  },
  {
   "cell_type": "code",
   "execution_count": 12,
   "metadata": {},
   "outputs": [
    {
     "data": {
      "text/plain": [
       "['MSLVTVPFYQKRHRHFDQSYRNIQTRYLLDEYASKKRASTQASSQKSLSQRSSSQRASSQTSLGGTICRVCAKRVSTQEDEEQENRSRYQSLVAAYGEAKRQRFLSELAHLEEDVHLARSQARDKLDKYAIQQMMEDKLAWERHTFEERISRAPEILVRLRSHTVWERMSVKLCFTVQGFPTPVVQWYKDGSLICQAAEPGKYRIESNYGVHTLEINRADFDDTATYSAVATNAHGQVSTNAAVVVRRFRGDEEPFRSVGLP',\n",
       " 'MEDSMDMDMSPLRPQNYLFGCELKADKDYHFKVDNDENEHQLSLRTVSLGAGAKDELHIVEAEAMNYEGSPIKVTLATLKMSVQPTVSLGGFEITPPVVLRLKCGSGPVHISGQHLVAVEEDAESEDEEEEDVKLLSISGKRSAPGGGSKVPQKKVKLAADEDDDDDDEEDDDEDDDDDDFDDEEAEEKAPVKKSIRDTPAKNAQKSNQNGKDSKPSSTPRSKGQESFKKQEKTPKTPKGPSSVEDIKAKMQASIEKGGSLPKVEAKFINYVK',\n",
       " 'MAAHHRQNTAGRRKVQVSYVIRDEVEKYNRNGVNALQLDPALNRLFTAGRDSIIRIWSVNQHKQDPYIASMEHHTDWVNDIVLCCNGKTLISASSDTTVKVWNAHKGFCMSTLRTHKDYVKALAYAKDKELVASAGLDRQIFLWDVNTLTALTASNNTVTTSSLSGNKDSIYSLAMNQLGTIIVSGSTEKVLRVWDPRTCAKLMKLKGHTDNVKALLLNRDGTQCLSGSSDGTIRLWSLGQQRCIATYRVHDEGVWALQVN',\n",
       " 'MSRVMINLILGAGVGLVLILSALLGSSDLALPHAVAALLGGGDATAHIIVWEIRLPRALAAVGVGAALGASGALMQGLLRNPLAEPGVLGVSASASLGAIIALYFGLGLLGAFTVPVLAVAGALAATLMLSVLAAARISAVQLILVGVGLSSFAGALGALAMNLAPNRFALSDMVTWMLGSVTNRSLDDLMFVVPFWIVGVGLAALTAPGLRALALGEETAQTLGVHLGRTRAGVIGAAALLTGGAVAISGVIGFVGIVAPHLVRPFVRHDP',\n",
       " 'MEDSGKTFSSEEEEANYWKDLAMTYKQRAENTQEELREFQEGSREYEAELETQLQQIETRNRDLLSENNRLRMELETIKEKFEVQHSEGYRQISALEDDLAQTKAIKDQLQKYIRELEQANDDLERAKRATIMSLEDFEQRLNQAIERNAFLESELDEKENLLESVQRLKDEARDLRQELAVQQKQEKPRTPMPSSVEAERTDTAVQATGSVPSTPIAHRGPSSSLNTPGSFRRGLDDSTGGTPLTPAARISALNIVGDLLRKVGALESKLASCRNLVY',\n",
       " 'MEDSTSPKQEKENQEELGETRRPWEGKTAASPQYSEPESSEPLEAKQGPETGRQSRSSRPWSPQSRAKTPLGGPAGPETSSPAPVSPREPSSSPSPLAPARQDLAAPPQSDRTTSVIPEAGTPYPDPLEQSSDKRESTPHHTSQSEGNTFQQSQQPKPHLCGRRDVSYNNAKQKELRFDVFQEEDSNSDYDLQQPAPGGSEVAPSMLEITIQNAKAYLLKTSSNSGFNLYDHLSNMLTKILNERPENAVDIFENISQDVKMAHFSKKFD',\n",
       " 'MAAHLLPICALFLALLDMAQGSRGPLLPNRPFTTIWNANTQWCLERHSVDVDVSIFDVVANPGQTFRGPDMTIFYSSQLGTYPYYTPTGEPVFGGLPQNASLIAHLARTFQDILAAIPAPDFSGLAVIDWEAWRPRWAFNWDTKDIYRQRSRALVQAQHPDWPVPQVEAVAQDQFQGAARAWMAGTLQLGRALRPRGLWGFYGFPDCYNYDFLSPNYTGQCPSGIRAQNDQLGWLWSQSRALYPSIYMPAVLEGT',\n",
       " 'MMAYSDTTMMSDDIDWLRSHRGVCKVDLYNPEGQQDQDRKVICFVDVSTLNVEDKDYKDAASSSSEGNLNLGSLEEKEIIVIKDTEKKDQSKTEGSVCLFKQAPSDPVSVLNWLLSDLQKYALGFQHALSPSTSTCKHKVGDTEGEYHRASSENCYSVYADQVNIDYLMNRPQNLRLEMTAAKNTNNNQSPSAPPAKPPSTQRAVISPDGECSIDDLSFYVNRLSSLVIQMAHKEIKEKLEGKSKCLHHSICPSPGN',\n",
       " 'MTPTIFLVILCLGVASAAIVPEAQLDAELQEQKDKEVLIKAVWSKFMKTNKLHSSENDQETEGSNIEMSASGQLTDEELMKIMTTVLHPMFEEEENKPQPVVDDPEFEDYTESGDGFFVPNQPQ',\n",
       " 'MARSLVCLGVIILLSAFSGPGVRGGPMPKLADRKLCADQECSHPISMAVALQDYMAPDCRFLTIHRGQVVYVFSKLKGRGRLFWGGSVQGDYYGDLAARLGYFPSSIVREDQTLKPGKVDVKTDKWDFYCQ']"
      ]
     },
     "execution_count": 12,
     "metadata": {},
     "output_type": "execute_result"
    }
   ],
   "source": [
    "design(\"Design a protein to mimic the letter 'M' using primarily alpha helices and beta sheets: Start with a vertical alpha helix for the first leg of 'M', transition into a diagonal beta sheet for the middle angles, and finish with another vertical alpha helix for the final leg, ensuring a seamless fold into the 'M' shape.\")"
   ]
  },
  {
   "cell_type": "code",
   "execution_count": 25,
   "metadata": {},
   "outputs": [
    {
     "data": {
      "text/plain": [
       "['MMSDASDMLAAALEQMDGIIAGSKALEYSNGIFDCQSPTSPFMGSLRALHLVEDLRGLLEMMETDEKEGLRCQIPDSTAETLVEWLQSQMTNGHLPGNGDVYQERLARLENDKESLVLQVSVLTDQVEAQGEKIRDLEFCLEEHREKVNATEEMLQQELLSRTSLETQKLDLMAEISNLKLKLTAVEKDRLDYEDKFRDTEGLIQEINDLRLKVSEMDSERLQYEKKLKSTKSLMAKLSSMKIKVGQMQYEKQRMEQ',\n",
       " 'MASGDTLYIATDGSEMPAEIVELHEIEVETIPVETIETTVVGEEEEEDDDDEDGGGGDHGGGGGHGHAGHHHHHHHHHHHPPMIALQPLVTDDPTQVHHHQEVILVQTREEVVGGDDSDGLRAEDGFEDQILIPVPAPAGGDDDYIEQTLVTVAAAGKSGGGGSSSSGGGRVKKGGGKKSGKKSYLSGGAGAAGGGGADPGNKKWEQKQVQIKTLEGEFSVTMWSSDEKKDIDHETVVEEQIIGENSPPDYSEYMTGKKLPPGGIPGIDLSDPKQLAEFARM',\n",
       " 'MSEAGGAGPGGCGAGAGAGAGPGALPPQPAALPPAPPQGSPCAAAAGGSGACGPATAVAAAGTAEGPGGGGSARIAVKKAQLRSAPRAKKLEKLGVYSACKAEESCKCNGWKNPNPSPTPPRADLQQIIVSLTESCRSCSHALAAHVSHLENVSEEEMNRLLGIVLDVEYLFTCVHKEEDADTKQVYFYLFKLLRKSILQRGKPVVEGSLEKKPPFEKPSIEQGVNNFVQYKFSHLPAKERQTIVELAKMFLNRINYWHLEAPSQRRLRSPNDDIS',\n",
       " 'MSGALDVLQMKEEDVLKFLAAGTHLGGTNLDFQMEQYIYKRKSDGIYIINLKRTWEKLLLAARAIVAIENPADVSVISSRNTGQRAVLKFAAATGATPIAGRFTPGTFTNQIQAAFREPRLLVVTDPRADHQPLTEASYVNLPTIALCNTDSPLRYVDIAIPCNNKGAHSVGLMWWMLAREVLRMRGTISREHPWEVMPDLYFYRDPEEIEKEEQAAAEKAVTKEEFQGEWTAPAPEFTATQPEVADWSEGVQVPSVPIQQ',\n",
       " 'MMSDASDMLAAALEQMDGIIAGSKALEYSNGIFDCQSPTSPFMGSLRALHLVEDLRGLLEMMETDEKEGLRCQIPDSTAETLVEWLQSQMTNGHLPGNGDVYQERLARLENDKESLVLQVSVLTDQVEAQGEKIRDLEFCLEEHREKVNATEEMLQQELLSRTSLETQKLDLMAEISNLKLKLTAVEKDRLDYEDKFRDTEGLIQEINDLRLKVSEMDSERLQYEKKLKSTKDELASLKEQLEEKESEVKRLQEKLVCKMKGE',\n",
       " 'MASGTTTTAVKIGIIGGTGLDDPEILEGRTEKYVDTPFGKPSDALILGKIKNVDCVLLARHGRQHTIMPSKVNYQANIWALKEEGCTHVIVTTACGSLREEIQPGDIVIIDQFIDRTTMRPQSFYDGSHSCARGVCHIPMAEPFCPKTREVLIETAKKLGLRCHSKGTMVTIEGPRFSSRAESFMFRTWGADVINMTTVPEVVLAKEAGICYASIAMATDYDCWKEHEEAVSVDRVLKTLKENANKAKSLLL',\n",
       " 'MSEASSEDLVPPLEAGAAPYREEEEAAKKKKEKKKKSKGLANVFCVFTKGKKKKGQPSSAEPEDAAGSRQGLDGPPPTVEELKAALERGQLEAARPLLALERELAAAAAAGGVSEEELVRRQSKVEALYELLRDQVLGVLRRPLEAPPERLRQALAVVAEQEREDRQAAAAGPGTSGLAATRPRRWLQLWRRGVAEAAEERMGQRPAAGAEVPESVFLHLGRTMKEDLEAVVERLKPLFPAEFGVVAAYAESYHQHFAAHLAAVAQFELCERDTYMLLLWVQN',\n",
       " 'MAEDADMRNELEEMQRRADQLADESLESTRRMLQLVEESKDAGIRTLVMLDEQGEQLERIEEGMDQINKDMKEAEKNLTDLGKFCGLCVCPCNKLKSSDAYKKAWGNNQDGVVASQPARVVDEREQMAISGGFIRRVTNDARENEMDENLEQVSGIIGNLRHMALDMGNEIDTQNRQIDRIMEKADSNKTRIDEANQRATKMLGSG',\n",
       " 'MAMIELGFGRQNFHPLKRKSSLLLKLIAVVFAVLLFCEFLIYYLAIFQCNWPEVKTTASDGEQTTREPVLKAMFLADTHLLGEFLGHWLDKLRREWQMERAFQTALWLLQPEVVFILGDIFDEGKWSTPEAWADDVERFQKMFRHPSHVQLKVVAGNHDIGFHYEMNTYKVERFEKVFSSERLFSWKGINFVMVNSVALNGDGCGICSETEAELIEVSHRLNCSREARGSSRCGPGPLLPTSAPVLLQHYPLYRR',\n",
       " 'MMMMALSKTFGQKPVKFQLEDDGEFYMIGSEVGNYLRMFRGSLYKRYPSLWRRLATVEERKKIVASSHGKKTKPNTKDHGYTTLATSVTLLKASEVEEILDGNDEKYKAVSISTEPPTYLREQKAKRNSQWVPTLPNSSHHLDAVPCSTTINRNRMGRDKKRTFPLCFDDHDPAVIHENASQPEVLVPIRLDMEIDGQKLRDAFTWNMNEKLMTPEMFSEILCDDLDLNPLTFVPAIASAIRQQIESYPTDSILEDQSDQR']"
      ]
     },
     "execution_count": 25,
     "metadata": {},
     "output_type": "execute_result"
    }
   ],
   "source": [
    "design(\"Design a protein with a structure resembling the letter 'M': Start with a vertical segment, then create an angled segment slanting downwards to the right, followed by a similar angled segment slanting upwards to the right, and conclude with another vertical segment. Ensure structural stability and functionality while subtly mimicking this letter's shape without direct replication.\")"
   ]
  },
  {
   "cell_type": "code",
   "execution_count": 26,
   "metadata": {},
   "outputs": [
    {
     "data": {
      "text/plain": [
       "['MSGALDVLQMKEEDVLKFLAAGTHLGGTNLDFQMEQYIYKRKSDGIYIINLKRTWEKLLLAARAIVAIENPADVSVISSRNTGQRAVLKFAAATGATPIAGRFTPGTFTNQIQAAFREPRLLVVTDPRADHQPLTEASYVNLPTIALCNTDSPLRYVDIAIPCNNKGAHSVGLMWWMLAREVLRMRGTISREHPWEVMPDLYFYRDPEEIEKEEQAAAEKAVTKEEFQGEWTAPAPEFTATQPEVADWSEGVQVPSVPIQQ',\n",
       " 'MKDVFVVEAARTAVARAGKQSWFTNVRADELSAIVFKELRKRIGCEDKAKQAELIDDVVWAATANAFMEQGLNQGRLAWILSDGSYDVPGCTVDRFCASGLNSISFATSTMMAGWGGDVQIAGGAQHMSHIPMGAGADVHPDLGNYMTLAAINMGYTAEIVARRFNVGREAQDQLAMESHLKCAAAQAANGGLGKAKDAIIPIMAKVPAKSAKGEVKRDGAYVATDHLAKAAAEKGEELVEFCVARDQGVRPETTMES',\n",
       " 'MASGTTTTAVKIGIIGGTGLDDPEILEGRTEKYVDTPFGKPSDALILGKIKNVDCVLLARHGRQHTIMPSKVNYQANIWALKEEGCTHVIVTTACGSLREEIQPGDIVIIDQFIDRTTMRPQSFYDGSHSCARGVCHIPMAEPFCPKTREVLIETAKKLGLRCHSKGTMVTIEGPRFSSRAESFMFRTWGADVINMTTVPEVVLAKEAGICYASIAMATDYDCWKEHEEAVSVDRVLKTLKENANKAKSLLL',\n",
       " 'MAEDADMRNELEEMQRRADQLADESLESTRRMLQLVEESKDAGIRTLVMLDEQGEQLERIEEGMDQINKDMKEAEKNLTDLGKFCGLCVCPCNKLKSSDAYKKAWGNNQDGVVASQPARVVDEREQMAISGGFIRRVTNDARENEMDENLEQVSGIIGNLRHMALDMGNEIDTQNRQIDRIMEKADSNKTRIDEANQRATKMLGSG',\n",
       " 'MAGVGDAAAPGEGGGGGVDGPQRDGRGEAEQPGGSGGQGPPPAPQLTETLGFYESDRRRERRRGRTELSLLRFLSAELTRGYFLEHNEAKYTERRERVYTCLRIPRELEKLMVFGIFLCLDAFLYVFTLLPLRVFLALFRLLTLPCYGLRDRRLLQPAQVCDILKGVILVICYFMMHYVDYSMMYHLIRGQSVIKLYIIYNMLEVADRLFSSFGQDILDALYWTATEPKERKRAHIGVIPHFFMAVLYVFLHAILI',\n",
       " 'MMEAIKKKMQMLKLDKENALDRAEQAEAEQKQAEERSKQLEDELAAMQKKLKGTEDELDKYSEALKDAQEKLELAEKKAADAEAEVASLNRRIQLVEEELDRAQERLATALQKLEEAEKAADESERGMKVIENRALKDEEKMELQEIQLKEAKHIAEEADRKYEEVARKLVIIEGDLERTEERAELAESKCSELEEELKNVTNNLKSLEAQAEKYSQKEDKYEEEIKILTDKLKEAETRAEFAERSVAKLEKTIDDLEDELYAQKLKYKAISEE',\n",
       " 'MMSDASDMLAAALEQMDGIIAGSKALEYSNGIFDCQSPTSPFMGSLRALHLVEDLRGLLEMMETDEKEGLRCQIPDSTAETLVEWLQSQMTNGHLPGNGDVYQERLARLENDKESLVLQVSVLTDQVEAQGEKIRDLEFCLEEHREKVNATEEMLQQELLSRTSLETQKLDLMAEISNLKLKLTAVEKDRLDYEDKFRDTEGLIQEINDLRLKVSEMDSERLQYEKKLKSTKSLMAKLSSMKIKVGQMQYEKQRMEQ',\n",
       " 'MMDVSGVGFPSKVPWKKMSAEELENQYCPSRWVVRLGAEEALRTYSQIGIEATTRARATRKSLLHVPYGDGEGEKVDIYFPDESSEALPFFLFFHGGYWQSGSKDESAFMVHPLTAQGVAVVIVAYGIAPKGTLDHMVDQVTRSVAFVQKRYPSNKGIYLCGHSAGAHLAAMMLLADWTKHGVTPNLRGFFLVSGVFDLEPIVYTSQNVALQLTLEDAQRNSPQLKVAQAQPVDPTCRVLVVVGQFDSPEFHRQSWEFYQ',\n",
       " 'MASGCKIGPSILNSDLANLGAECLRMLDSGADYLHLDVMDGHFVPNITFGHPVVESLRKQLGQDPFFDMHMMVSKPEQWVKPMAVAGANQYTFHLEATENPGALIKDIRENGMKVGLAIKPGTSVEYLAPWANQIDMALVMTVEPGFGGQKFMEDMMPKVHWLRTQFPSLDIEVDGGVGPDTVHKCAEAGANMIVSGSAIMRSEDPRSVINLLRNVCSEAAQKRSLDR',\n",
       " 'MMSDASDMLAAALEQMDGIIAGSKALEYSNGIFDCQSPTSPFMGSLRALHLVEDLRGLLEMMETDEKEGLRCQIPDSTAETLVEWLQSQMTNGHLPGNGDVYQERLARLENDKESLVLQVSVLTDQVEAQGEKIRDLEFCLEEHREKVNATEEMLQQELLSRTSLETQKLDLMAEISNLKLKLTAVEKDRLDYEDKFRDTEGLIQEINDLRLKVSEMDSERLQYEKKLKSTKDELASLKEQLEEKESEVKRLQEKLVCKMKGE']"
      ]
     },
     "execution_count": 26,
     "metadata": {},
     "output_type": "execute_result"
    }
   ],
   "source": [
    "design(\"Design a protein with a structure resembling the letter 'P': Begin with a vertical segment, then add a rounded loop extending from the top half, curving to the right and back to meet the vertical line. Ensure structural stability and functionality while subtly mimicking this letter's shape without direct replication.\")"
   ]
  },
  {
   "cell_type": "code",
   "execution_count": 28,
   "metadata": {},
   "outputs": [
    {
     "data": {
      "text/plain": [
       "['MSEQTPAEAGAAGAREDACRDYQSSLEDLTFNSKPHINMLTILAEENLPFAKEIVSLIEAQTAKAPSSEKLPVMYLMDSIVKNVGREYLTAFTKNLVATFICVFEKVDENTRKSLFKLRSTWDEIFPLKKLYALDVRVNSLDPAWPIKPLPPNVNTSSIHVNPKFLNKSPEEPSTPGTVVSSPSISTPPIVPDIQKNLTQEQLIRQQLLAKQKQLLELQQKKLELELEQAKAQLAVSLSVQQETSNLGPGSAPSKLHVSQIPPMAVKA',\n",
       " 'MTEGTCLRRRGGPYKTEPATDLGRWRLNCERGRQTWTYLQDERAGREQTGLEAYALGLDTKNYFKDLPKAHTAFEGALNGMTFYVGLQAEDGHWTGDYGGPLFLLPGLLITCHVARIPLPAGYREEIVRYLRSVQLPDGGWGLHIEDKSTVFGTALNYVSLRILGVGPDDPDLVRARNILHKKGGAVAIPSWGKFWLAVLNVYSWEGLNTLFPEMWLFPDWAPAHPSTLWCHCRQVYLPMSYCYAVRLSAAEDPLVQSLRQELYVEDFA',\n",
       " 'MAEDADMRNELEEMQRRADQLADESLESTRRMLQLVEESKDAGIRTLVMLDEQGEQLERIEEGMDQINKDMKEAEKNLTDLGKFCGLCVCPCNKLKSSDAYKKAWGNNQDGVVASQPARVVDEREQMAISGGFIRRVTNDARENEMDENLEQVSGIIGNLRHMALDMGNEIDTQNRQIDRIMEKADSNKTRIDEANQRATKMLGSG',\n",
       " 'MAETLSGLGDSGAAGAAALSSASSETGTRRLSDLRVIDLRAELRKRNVDSSGNKSVLMERLKKAIEDEGGNPDEIEITSEGNKKTSKRSSKGRKPEEEGVEDNGLEENSGDGQEDVETSLENLQDIDIMDISVLDEAEIDNGSVADCVEDDDADNLQESLSDSRELVEGEMKELPEQLQEHAIEDKETINNLDTSSSDFTILQEIEEPSLEPENEKILDILGETCKSEPVKEESSELEQPFAQDTSSVGPDRKLAEEEDLFDSAHPEEGDLDLASESTAH',\n",
       " 'MAMAYLAWRLARRSCPSSLQVTSFPVVQLHMNRTAMRASQKDFENSMNQVKLLKKDPGNEVKLKLYALYKQATEGPCNMPKPGVFDLINKAKWDAWNALGSLPKEAARQNYVDLVSSLSPSLESSSQVEPGTDRKSTGFETLVVTSEDGITKIMFNRPKKKNAINTEMYHEIMRALKAASKDDSIITVLTGNGDYYSSGNDLTNFTDIPPGGVEEKAKNNAVLLREFVGCFIDFPKPLIAVVNGPAVGISVTLLGLFDAVYASDRATFH',\n",
       " 'MSWAARPPFLPQRHAAGQCGPVGVRKEMHCGVASRWRRRRPWLDPAAAAAAAVAGGEQQTPEPEPGEAGRDGMGDSGRDSRSPDSSSPNPLPQGVPPPSPPGPPLPPSTAPSLGGSGAPPPPPMPPPPLGSPFPVISSSMGSPGLPPPAPPGFSGPVSSPQINSTVSLPGGGSGPPEDVKPPVLGVRGLHCPPPPGGPGAGKRLCAICGDRSSGKHYGVYSCEGCKGFFKRTIRKDLTYSCRDNKDCTVDKRQRNRCQYCRYQKCLATG',\n",
       " 'MMSDASDMLAAALEQMDGIIAGSKALEYSNGIFDCQSPTSPFMGSLRALHLVEDLRGLLEMMETDEKEGLRCQIPDSTAETLVEWLQSQMTNGHLPGNGDVYQERLARLENDKESLVLQVSVLTDQVEAQGEKIRDLEFCLEEHREKVNATEEMLQQELLSRTSLETQKLDLMAEISNLKLKLTAVEKDRLDYEDKFRDTEGLIQEINDLRLKVSEMDSERLQYEKKLKSTKSLMAKLSSMKIKVGQMQYEKQRMEQ',\n",
       " 'MASGCKIGPSILNSDLANLGAECLRMLDSGADYLHLDVMDGHFVPNITFGHPVVESLRKQLGQDPFFDMHMMVSKPEQWVKPMAVAGANQYTFHLEATENPGALIKDIRENGMKVGLAIKPGTSVEYLAPWANQIDMALVMTVEPGFGGQKFMEDMMPKVHWLRTQFPSLDIEVDGGVGPDTVHKCAEAGANMIVSGSAIMRSEDPRSVINLLRNVCSEAAQKRSLDR',\n",
       " 'MMSDASDMLAAALEQMDGIIAGSKALEYSNGIFDCQSPTSPFMGSLRALHLVEDLRGLLEMMETDEKEGLRCQIPDSTAETLVEWLQSQMTNGHLPGNGDVYQERLARLENDKESLVLQVSVLTDQVEAQGEKIRDLEFCLEEHREKVNATEEMLQQELLSRTSLETQKLDLMAEISNLKLKLTAVEKDRLDYEDKFRDTEGLIQEINDLRLKVSEMDSERLQYEKKLKSTKDELASLKEQLEEKESEVKRLQEKLVCKMKGE',\n",
       " 'MSWAARPPFLPQRHAAGQCGPVGVRKEMHCGVASRWRRRRPWLDPAAAAAAAVAGGEQQTPEPEPGEAGRDGMGDSGRDSRSPDSSSPNPLPQGVPPPSPPGPPLPPSTAPSLGGSGAPPPPPMPPPPLGSPFPVISSSMGSPGLPPPAPPGFSGPVSSPQINSTVSLPGGGSGPPEDVKPPVLGVRGLHCPPPPGGPGAGKRLCAICGDRSSGKHYGVYSCEGCKGFFKRTIRKDLTYSCRDNKDCTVDKRQRNRCQYCRYQKCLATGM']"
      ]
     },
     "execution_count": 28,
     "metadata": {},
     "output_type": "execute_result"
    }
   ],
   "source": [
    "design(\"Design a protein with a structure resembling the letter 'R': Begin with a vertical segment, add a rounded loop on the upper portion, curving rightward and reconnecting to the vertical line, and conclude with a diagonal segment extending downwards from the loop's end to the right. Ensure structural stability and functionality while subtly mimicking this letter's shape without direct replication.\")"
   ]
  },
  {
   "cell_type": "code",
   "execution_count": 31,
   "metadata": {},
   "outputs": [
    {
     "data": {
      "text/plain": [
       "['MAEMGSKGVTAGKIASNVQKKLTRAQEKVLQKLGKADETKDEQFEQCVQNFNKQLTEGTRLQKDLRTYLASVKAMHEASKKLNECLQEVYEPDWPGRDEANKIAENNDLLWMDYHQKLVDQALLTMDTYLGQFPDIKSRIAKRGRKLVDYDSARHHYESLQTAKKKDEAKIAKAEEELIKAQKVFEEMNVDLQEELPSLWNSRVGFYVNTFQSIAGLEENFHKEMSKLNQNLNDVLVGLEKQHGSNTFTVKAQPSDNAPAKG',\n",
       " 'MAEMGSKGVTAGKIASNVQKKLTRAQEKVLQKLGKADETKDEQFEQCVQNFNKQLTEGTRLQKDLRTYLASVKAMHEASKKLNECLQEVYEPDWPGRDEANKIAENNDLLWMDYHQKLVDQALLTMDTYLGQFPDIKSRIAKRGRKLVDYDSARHHYESLQTAKKKDEAKIAKPVSLLEKAAPQWCQGKLQAHLVAQTNLLRNQAEEELIKAQKVFEEMNVDLQEELPSLWNSRVGFYVNTFQSIAGLEENFHKEMSKLNQN',\n",
       " 'MMMMALSKTFGQKPVKFQLEDDGEFYMIGSEVGNYLRMFRGSLYKRYPSLWRRLATVEERKKIVASSHGKKTKPNTKDHGYTTLATSVTLLKASEVEEILDGNDEKYKAVSISTEPPTYLREQKAKRNSQWVPTLPNSSHHLDAVPCSTTINRNRMGRDKKRTFPLCFDDHDPAVIHENASQPEVLVPIRLDMEIDGQKLRDAFTWNMNEKLMTPEMFSEILCDDLDLNPLTFVPAIASAIRQQIESYPTDSILEDQSDQR',\n",
       " 'MMMMMMMKKMQHQRQQQEDHANEANYARGTRLPISGEGPTSQPNSSKQTVLSWQAAIDAARQAKAAQTMSTSAPPPVGSLSQRKRQQYAKSKKQGNSSNSRPARALFCLSLNNPIRRACISIVEWKPFDIFILLAIFANCVALAIYIPFPEDDSNSTNHNLEKVEYAFLIIFTVETFLKIIAYGLLLHPNAYVRNGWNLLDFVIVIVGLFSVILEQLTKETEGGNHSSGKSGGFDVKALRAFRVLRPLRLVSGVPSLQVVLNSIIKAM',\n",
       " 'MASMLLAQRLACSFQHSYRLLVPGSRHISQAAAKVDVEFDYDGPLMKTEVPGPRSQELMKQLNIIQNAEAVHFFCNYEESRGNYLVDVDGNRMLDLYSQISSVPIGYSHPALLKLIQQPQNASMFVNRPALGILPPENFVEKLRQSLLSVAPKGMSQLITMACGSCSNENALKTIFMWYRSKERGQRGFSQEELETCMINQAPGCPDYSILSFMGAFHGRTMGCLATTHSKAIHKIDIPSFDWPIAPFPRLKYP',\n",
       " 'MMMMALSKTFGQKPVKFQLEDDGEFYMIGSEVGNYLRMFRGSLYKRYPSLWRRLATVEERKKIVASSHGKKTKPNTKDHGYTTLATSVTLLKASEVEEILDGNDEKYKAVSISTEPPTYLREQKAKRNSQWVPTLPNSSHHLDAVPCSTTINRNRMGRDKKRTFPLWCGCIAALTLRADSALVLHFDDHDPAVIHENASQPEVLVPIRLDMEIDGQKLRDAFTWNMNEKLMTPEMFSEILCDDLDLNPLTFVPAIASAIR',\n",
       " 'MMMMSLNSKQAFSMPHGGSLHVEPKYSALHSTSPGSSAPIAPSASSPSSSSNAGGGGGGGGGGGGGGGRSSSSSSSGSSGGGGSEAMRRACLPTPPSNIFGGLDESLLARAEALAAVDIVSQSKSHHHHPPHHSPFKPDATYHTMNTIPCTSAASSSSVPISHPSALAGTHHHHHHHHHHHHQPHQALEGELLEHLSPGLALGAMAGPDGAVVSTPAHAPHMATMNPMHQAALSMAHAHGLPSHMGCMSDVDADPRDLEAFAERFK',\n",
       " 'MAAMAPALTDAAAEAHHIRFKLAPPSSTLSPGSAENNGNANILIAANGTKRKAIAAEDPSLDFRNNPTKEDLGKLQPLVASYLCSDVTSVPSKESLKLQGVFSKQTVLKSHPLLSQSYELRAELLGRQPVLEFSLENLRTMNTSGQTALPQAPVNGLAKKLTKSSTHSDHDNSTSLNGGKRALTSSALHGGEMGGSESGDLKGGMTNCTLPHRSLDVEHTTLYSNNSTANKSSVNSMEQPALQGSSRLSPGTDSSSNLGGVKLEGKKSPLSS',\n",
       " 'MAEMGSKGVTAGKIASNVQKKLTRAQEKVLQKLGKADETKDEQFEQCVQNFNKQLTEGTRLQKDLRTYLASVKAMHEASKKLSECLQEVYEPEWPGRDEANKIAENNDLLWMDYHQKLVDQALLTMDTYLGQFPDIKSRIAKRGRKLVDYDSARHHYESLQTAKKKDEAKIAKPVSLLEKAAPQWCQGKLQAHLVAQTNLLRNQAEEELIKAQKVFEEMNVDLQEELPSLWNSRVGFYVNTFQSIAGLEENFHKEMSKLNQN',\n",
       " 'MAEMGSKGVTAGKIASNVQKKLTRAQEKVLQKLGKADETKDEQFEQCVQNFNKQLTEGTRLQKDLRTYLASVKAMHEASKKLSECLQEVYEPEWPGRDEANKIAENNDLLWMDYHQKLVDQALLTMDTYLGQFPDIKSRIAKRGRKLVDYDSARHHYESLQTAKKKDEAKIAKAEEELIKAQKVFEEMNVDLQEELPSLWNSRVGFYVNTFQSIAGLEENFHKEMSKLNQNLNDVLVGLEKQHGSNTFTVKAQPSDNAPAKG']"
      ]
     },
     "execution_count": 31,
     "metadata": {},
     "output_type": "execute_result"
    }
   ],
   "source": [
    "design(\"Design a protein structure that looks like a triangle.\")"
   ]
  },
  {
   "cell_type": "code",
   "execution_count": 32,
   "metadata": {},
   "outputs": [
    {
     "data": {
      "text/plain": [
       "['MMMMALSKTFGQKPVKFQLEDDGEFYMIGSEVGNYLRMFRGSLYKRYPSLWRRLATVEERKKIVASSHGKKTKPNTKDHGYTTLATSVTLLKASEVEEILDGNDEKYKAVSISTEPPTYLREQKAKRNSQWVPTLPNSSHHLDAVPCSTTINRNRMGRDKKRTFPLCFDDHDPAVIHENASQPEVLVPIRLDMEIDGQKLRDAFTWNMNEKLMTPEMFSEILCDDLDLNPLTFVPAIASAIRQQIESYPTDSILEDQSDQR',\n",
       " 'MMMMMMMKKMQHQRQQQEDHANEANYARGTRLPISGEGPTSQPNSSKQTVLSWQAAIDAARQAKAAQTMSTSAPPPVGSLSQRKRQQYAKSKKQGNSSNSRPARALFCLSLNNPIRRACISIVEWKPFDIFILLAIFANCVALAIYIPFPEDDSNSTNHNLEKVEYAFLIIFTVETFLKIIAYGLLLHPNAYVRNGWNLLDFVIVIVGLFSVILEQLTKETEGGNHSSGKSGGFDVKALRAFRVLRPLRLVSGVPSLQVVLNSIIKAM',\n",
       " 'MMMMALSKTFGQKPVKFQLEDDGEFYMIGSEVGNYLRMFRGSLYKRYPSLWRRLATVEERKKIVASSHGKKTKPNTKDHGYTTLATSVTLLKASEVEEILDGNDEKYKAVSISTEPPTYLREQKAKRNSQWVPTLPNSSHHLDAVPCSTTINRNRMGRDKKRTFPLWCGCIAALTLRADSALVLHFDDHDPAVIHENASQPEVLVPIRLDMEIDGQKLRDAFTWNMNEKLMTPEMFSEILCDDLDLNPLTFVPAIASAIR',\n",
       " 'MMMMSLNSKQAFSMPHGGSLHVEPKYSALHSTSPGSSAPIAPSASSPSSSSNAGGGGGGGGGGGGGGGRSSSSSSSGSSGGGGSEAMRRACLPTPPSNIFGGLDESLLARAEALAAVDIVSQSKSHHHHPPHHSPFKPDATYHTMNTIPCTSAASSSSVPISHPSALAGTHHHHHHHHHHHHQPHQALEGELLEHLSPGLALGAMAGPDGAVVSTPAHAPHMATMNPMHQAALSMAHAHGLPSHMGCMSDVDADPRDLEAFAERFK',\n",
       " 'MAAMAPALTDAAAEAHHIRFKLAPPSSTLSPGSAENNGNANILIAANGTKRKAIAAEDPSLDFRNNPTKEDLGKLQPLVASYLCSDVTSVPSKESLKLQGVFSKQTVLKSHPLLSQSYELRAELLGRQPVLEFSLENLRTMNTSGQTALPQAPVNGLAKKLTKSSTHSDHDNSTSLNGGKRALTSSALHGGEMGGSESGDLKGGMTNCTLPHRSLDVEHTTLYSNNSTANKSSVNSMEQPALQGSSRLSPGTDSSSNLGGVKLEGKKSPLSS',\n",
       " 'MMMMMMMKKMQHQRQQQADHANEANYARGTRLPLSGEGPTSQPNSSKQTVLSWQAAIDAARQAKAAQTMSTSAPPPVGSLSQRKRQQYAKSKKQGNSSNSRPARALFCLSLNNPIRRACISIVEWKPFDIFILLAIFANCVALAIYIPFPEDDSNSTNHNLEKVEYAFLIIFTVETFLKIIAYGLLLHPNAYVRNGWNLLDFVIVIVGLFSVILEQLTKETEGGNHSSGKSGGFDVKALRAFRVLRPLRLVSGVPSLQVVLNSIIKAM',\n",
       " 'MMMMMMMKKMQHQRQHQEDHANEANYARGTRLPISGEGPTSQPNSSKQTVLSWQAAIDAARQAKAAQTMSTSAPPPVGSLSQRKRQQYAKSKKQGNSSNSRPARALFCLSLNNPIRRACISIVEWKPFDIFILLAIFANCVALAIYIPFPEDDSNSTNHNLEKVEYAFLIIFTVETFLKIIAYGLLLHPNAYVRNGWNLLDFVIVIVGLFSVILEQLTKETEGGNHSSGKSGGFDVKALRAFRVLRPLRLVSGVPSLQVVLNSIIKAM',\n",
       " 'MMMMMMMKKMQHQRQQQEDHANEANYARGTRLPISGEGPTSQPNSSKQTVLSWQAAIDAARQAKAAQTMSTSAPPPVGSLSQRKRQQYAKSKKQGNSSNSRPARALFCLSLNNPIRRACISIVDWKPFDIFILLAIFANCVALAIYIPFPEDDSNSTNHNLEKVEYAFLIIFTVETFLKIIAYGLLLHPNAYVRNGWNLLDFVIVIVGLFSVILEQLTKETEGGNHSSGKSGGFDVKALRAFRVLRPLRLVSGVPSLQVVLNSIIKAM',\n",
       " 'MMMMALSKTFGQKPVKFQLEDDGEFYMIGSEVGNYLRMFRGSLYKRYPSLWRRLATVEERKKIVASSHGKKTKPNTKDHGYTTLATSVTLLKASEVEEILDGNDEKYKAVSISTEPPTYLREQKAKRNSQWVPTLPNSSHHLDAVPCSTTINRNRMGRDKKRTFPLCFDDHDPAVIHENASQPEVLVPIRLDMEIDGQKLRDAFTWNMNEKLMTPEMFSEILCDDLDLNPLTFVPAIASAIRQQIESYPTDSILEDQSDQA',\n",
       " 'MMMMALSKTFGQKPVKFQLEDDGEFYMIGSEVGNYLRMFRGSLYKRYPSLWRRLATVEERKKIVASSHGKKTKPNTKDHGYTTLATSVTLLKASEVEEILDGNDEKYKAVSISTEPPTYLREQKAKRNSQWVPTLPNSSHHLDAVPCSTTINRNRMGRDKKRTFPLCFDDHDPAVIHENASQPEVLVPIRLDMEIDGQKLRDAFTWNMNEKLMTPEMFSEILCDDLDLNPLTFVPAIASAIRQQIESYPTDSILEQTSDQR']"
      ]
     },
     "execution_count": 32,
     "metadata": {},
     "output_type": "execute_result"
    }
   ],
   "source": [
    "design(\"Design a protein structure that looks like a square.\")"
   ]
  },
  {
   "cell_type": "code",
   "execution_count": 33,
   "metadata": {},
   "outputs": [
    {
     "data": {
      "text/plain": [
       "['MAAHVGSRCASRSSAGSSNTGTRSSATPGARGPGCWRETLTHSVTPARASCSSAPAARALPRKSEGATRTNGGGWKTTDMEGAHASLSLEDEVSGAGSRQRPLEGKGGETPAAEEPGSLKNYAVFATRDVSAAPEKEEEEAEGPLRAQDLRESYIQLVQGVQEWQDGCMYQGEFGLNMKLGYGKFSWPTGESYHGQFYRDHCHGLGTYMWPDGSSFTGTFYLSHREGYGTMYMKTRLFQGLYKADQRFGPGVETYPDGSQDVG',\n",
       " 'MMMMALSKTFGQKPVKFQLEDDGEFYMIGSEVGNYLRMFRGSLYKRYPSLWRRLATVEERKKIVASSHGKKTKPNTKDHGYTTLATSVTLLKASEVEEILDGNDEKYKAVSISTEPPTYLREQKAKRNSQWVPTLPNSSHHLDAVPCSTTINRNRMGRDKKRTFPLCFDDHDPAVIHENASQPEVLVPIRLDMEIDGQKLRDAFTWNMNEKLMTPEMFSEILCDDLDLNPLTFVPAIASAIRQQIESYPTDSILEDQSDQR',\n",
       " 'MASMLLAQRLACSFQHSYRLLVPGSRHISQAAAKVDVEFDYDGPLMKTEVPGPRSQELMKQLNIIQNAEAVHFFCNYEESRGNYLVDVDGNRMLDLYSQISSVPIGYSHPALLKLIQQPQNASMFVNRPALGILPPENFVEKLRQSLLSVAPKGMSQLITMACGSCSNENALKTIFMWYRSKERGQRGFSQEELETCMINQAPGCPDYSILSFMGAFHGRTMGCLATTHSKAIHKIDIPSFDWPIAPFPRLKYP',\n",
       " 'MAAMAPALTDAAAEAHHIRFKLAPPSSTLSPGSAENNGNANILIAANGTKRKAIAAEDPSLDFRNNPTKEDLGKLQPLVASYLCSDVTSVPSKESLKLQGVFSKQTVLKSHPLLSQSYELRAELLGRQPVLEFSLENLRTMNTSGQTALPQAPVNGLAKKLTKSSTHSDHDNSTSLNGGKRALTSSALHGGEMGGSESGDLKGGMTNCTLPHRSLDVEHTTLYSNNSTANKSSVNSMEQPALQGSSRLSPGTDSSSNLGGVKLEGKKSPLSS',\n",
       " 'MMMMMMMKKMQHQRQQQADHANEANYARGTRLPLSGEGPTSQPNSSKQTVLSWQAAIDAARQAKAAQTMSTSAPPPVGSLSQRKRQQYAKSKKQGNSSNSRPARALFCLSLNNPIRRACISIVEWKPFDIFILLAIFANCVALAIYIPFPEDDSNSTNHNLEKVEYAFLIIFTVETFLKIIAYGLLLHPNAYVRNGWNLLDFVIVIVGLFSVILEQLTKETEGGNHSSGKSGGFDVKALRAFRVLRPLRLVSGVPSLQVVLNSIIKAM',\n",
       " 'MAAHVGSRCASRSSAGSSNTGTRSSATPGARGPGCWRETLTHSVTPARASCSSAPAARALPRKSEGATRTNGGGWKTTDMEGAHASLSLEDEVSGAGSRQRPLEGKGGETPAAEEPGSLKNYAVFATRDVSAAPEKEEEEAEGPLRAQDLRESYIQLVQGVQEWQDGCMYQGEFGLNMKLGYGKFSWPTGESYHGQFYRDHCHGLGTYMWPDGSSFTGTFYLSHREGYGTMYMKTRLFQTHCHNDIVNLLLDCGADVNKCSD',\n",
       " 'MMMMALSKTFGQKPVKFQLEDDGEFYMIGSEVGNYLRMFRGSLYKRYPSLWRRLATVEERKKIVASSHGKKTKPNTKDHGYTTLATSVTLLKASEVEEILDGNDEKYKAVSISTEPPTYLREQKAKRNSQWVPTLPNSSHHLDAVPCSTTINRNRMGRDKKRTFPLWCGCIAALTLRADSALVLHFDDHDPAVIHENASQPEVLVPIRLDMEIDGQKLRDAFTWNMNEKLMTPEMFSEILCDDLDLNPLTFVPAIASAIR',\n",
       " 'MASMLLAQRLACSFQHSYRLLVPGSRHISQAAAKVDVEFDYDGPLMKTEVPGPRSQELMKQLNIIQNAEAVHFFCNYEESRGNYLVDVDGNRMLDLYSQISSVPIGYSHPALLKLIQQPQNASMFVNRPALGILPPENFVEKLRQSLLSSKERGQRGFSQEELETCMINQAPGCPDYSILSFMGAFHGRTMGCLATTHSKAIHKIDIPSFDWPIAPFPRLKYPLEEFVKENQQEEARCLEEVEDLIVKYRKKKKTV',\n",
       " 'MMMMMMMKKMQHQRQQQEDHANEANYARGTRLPISGEGPTSQPNSSKQTVLSWQAAIDAARQAKAAQTMSTSAPPPVGSLSQRKRQQYAKSKKQGNSSNSRPARALFCLSLNNPIRRACISIVEWKPFDIFILLAIFANCVALAIYIPFPEDDSNSTNHNLEKVEYAFLIIFTVETFLKIIAYGLLLHPNAYVRNGWNLLDFVIVIVGLFSVILEQLTKETEGGNHSSGKSGGFDVKALRAFRVLRPLRLVSGVPSLQVVLNSIIKAM',\n",
       " 'MMMMMMMKKMQHQRQHQEDHANEANYARGTRLPISGEGPTSQPNSSKQTVLSWQAAIDAARQAKAAQTMSTSAPPPVGSLSQRKRQQYAKSKKQGNSSNSRPARALFCLSLNNPIRRACISIVEWKPFDIFILLAIFANCVALAIYIPFPEDDSNSTNHNLEKVEYAFLIIFTVETFLKIIAYGLLLHPNAYVRNGWNLLDFVIVIVGLFSVILEQLTKETEGGNHSSGKSGGFDVKALRAFRVLRPLRLVSGVPSLQVVLNSIIKAM']"
      ]
     },
     "execution_count": 33,
     "metadata": {},
     "output_type": "execute_result"
    }
   ],
   "source": [
    "design(\"Design a protein structure that looks like a pyramid.\")"
   ]
  },
  {
   "cell_type": "code",
   "execution_count": 40,
   "metadata": {},
   "outputs": [
    {
     "data": {
      "text/plain": [
       "['MSLVTVPFYQKRHRHFDQSYRNIQTRYLLDEYASKKRASTQASSQKSLSQRSSSQRASSQTSLGGTICRVCAKRVSTQEDEEQENRSRYQSLVAAYGEAKRQRFLSELAHLEEDVHLARSQARDKLDKYAIQQMMEDKLAWERHTFEERISRAPEILVRLRSHTVWERMSVKLCFTVQGFPTPVVQWYKDGSLICQAAEPGKYRIESNYGVHTLEINRADFDDTATYSAVATNAHGQVSTNAAVVVRRFRGDEEPFRSVGLP',\n",
       " 'MPPRPSSGELWGIHLMPPRILVECLLPNGMIVTLECLREATLITIKHELFKEARKYPLHQLLQDESSYIFVSVTQEAEREEFFDETRRLCDLRLFQPFLKVIEPVGNREEKILNREIGFAIGMPVCEFDMVKDPEVQDFRRNILNVCKEAVDLRDLNSPHSRAMYVYPPNVESSPELPKHIYNKLDKGQIIVVIWVIVSPNNDKQKYTLKINHDCVPEQVIAEAIRKKTRSMLLSSEQLKLCVLEYQGKYILKVCG',\n",
       " 'MLRAKNQLFLLSPHYLRQVKESSGSRLIQQRLLHQQQPLHPEWAALAKKQLKGKNPEDLIWHTPEGISIKPLYSKRDTMDLPEELPGVKPFTRGPYPTMYTFRPWTIRQYAGFSTVEESNKFYKDNIKAGQQGLSVAFDLATHRGYDSDNPRVRGDVGMAGVAIDTVEDTKILFDGIPLEKMSVSMTMNGAVIPVLANFIVTGEEQGVPKEKLTGTIQNDILKEFMVRNTYIFPPEPSMKIIADIFEYTAKHMPKFNSISIS',\n",
       " 'MFHQIWAALLYFYGIILNSIYQCPEHSQLTTLGVDGKEFPEVHLGQWYFIAGAAPTKEELATFDPVDNIVFNMAAGSAPMQLHLRATIRMKDGLCVPRKWIYHLTEGSTDLRTEGRPDMKTELFSSSCPGGIMLNETGQGYQRFLLYNRSPHPPEKCVEEFKSLTSCLDSKAFLLTPRNQEACELSNN',\n",
       " 'MAENGDNEKMAALEAKICHQIEYYFGDFNLPRDKFLKEQIKLDEGWVPLEIMIKFNRLNRLTTDFNVIVEALSKSKAELMEISEDKTKIRRSPSKPLPEVTDEYKNDVKNRSVYIKGFPTDATLDDIKEWLEDKGQVLNIQMRRTLHKAFKGSIFVVFDSIESAKKFVETPGQKYKETDLLILFKDDYFAKKNEERKQNKVEAKLRAKQEQEAKQKLEEDAEMKSLEEKIGCLLKFSGDLDDQTCREDLHILFSNHGEIKWIDFVR',\n",
       " 'MAQSINITELNLPQLEMLKNQLDQEVEFLSTSIAQLKVVQTKYVEAKDCLNVLNKSNEGKELLVPLTSSMYVPGKLHDVEHVLIDVGTGYYVEKTAEDAKDFFKRKIDFLTKQMEKIQPALQEKHAMKQAVMEMMSQKIQQLTALGAAQATAKA',\n",
       " 'MGLSDGEWQLVLNVWGKVEADIPGHGQEVLIRLFKGHPETLEKFDKFKHLKSEDEMKASEDLKKHGATVLTALGGILKKKGHHEAEIKPLAQSHATKHKIPVKYLEFISECIIQVLQSKHPGDFGADAQGAMNKALELFRKDMASNYKELGFQG',\n",
       " 'MSGRIFPWFHGKLSRDEVESRLKAVCAGRDYDDVVYLVREKSDSDRDLVLSWMNVKTQSATHFVVKMMGAGRWKGVPATFPRSKSFWTTFTFVRRRSSVTMTSGTMTSFVSQL',\n",
       " 'MPSPGTVCSLLLLGMLWLDLAMAGSSFLSPEHQRVQQRKESKKPPAKLQPRALAGWLRPEDGGQAEGAEDELEVRFNAPFDVGIKLSGVQYQQHSQALGKFLQDILWEEAKEAPADK',\n",
       " 'MFHQIWAALLYFYGIILNSIYQCPEHSQLTTLGVDGKEFPEVHLGQWYFIAGAAPTKEELATFDPVDNIVFNMAAGSAPMQLHLRATIRMKDGLCVPRKWIYHLTEGSTDLRTEGRPDMKTELFSSSCPGGIMLNETGQGYQRFLLYNRSPHPPEKCVEEFKSLTSCLDSKAFLLTPRNQEACELSNN']"
      ]
     },
     "execution_count": 40,
     "metadata": {},
     "output_type": "execute_result"
    }
   ],
   "source": [
    "design(\"Design a protein structure that abstractly represents the letter 'M': Construct four distinct segments - two upward slopes for the outer legs and two connecting peaks in the center. These elements should come together in a configuration that suggests the letter 'M', with each segment potentially representing separate protein chains or domains, ensuring structural feasibility and functional integrity.\")"
   ]
  },
  {
   "cell_type": "code",
   "execution_count": 41,
   "metadata": {},
   "outputs": [
    {
     "data": {
      "text/plain": [
       "['MQIFVKTLTGKTITLEVEPSDTIENVKAKIQDKEGIPPDQQRLIFAGKQLEDGRTLSDYNIQKESTLHLVLRLRGGMQIFVKTLTGKTITLEVEPSDTIENVKAKIQDKEGIPPDQQRLIFAGKQLEDGRTLSDYNIQKESTLHLVLRLRGGMQIFVKTLTGKTITLEVEPSDTIENVKAKIQDKEGIPPDQQRLIFAGKQLEDGRTLSDYNIQKESTLHLVLRLRGGMQIFVKTLTGKTITLEVEPSDTIENVKAKIQDKEGIPPDQQRLIFAGKQLE',\n",
       " 'MATDVQLADYPLMSPKAELKLEKKSGRKPRSPRDSGPQKELVIPGIVDFERIRRALRTPKPQTPGTYCFGRLSHHSFFSRHHPHPQHVTHIQDLTGKPVCVVRDFPAPLPESTVFSGCQMGIPTISVPIGDPQSNRNPQLSSEAWKKELKELASRVAFLTKEDELKKKEDTTSLNWNCKSRRPQAPGLSGTDLGAAELGIKKEQKEEPLREQGAKYSAETGRLIPASTRAVGRRRSHQGQQSQSSSRHEGVQAFLLQDQELLVLELLCRI',\n",
       " 'MAEDADMRNELEEMQRRADQLADESLESTRRMLQLVEESKDAGIRTLVMLDEQGEQLERIEEGMDQINKDMKEAEKNLTDLGKFCGLCVCPCNKLKSSDAYKKAWGNNQDGVVASQPARVVDEREQMAISGGFIRRVTNDARENEMDENLEQVSGIIGNLRHMALDMGNEIDTQNRQIDRIMEKADSNKTRIDEANQRATKMLGSG',\n",
       " 'MQIFVKTLTGKTITLEVEPSDTIENVKAKIQDKEGIPPDQQRLIFAGKQLEDGRTLSDYNIQKESTLHLVLRLRGGMQIFVKTLTGKTITLEVEPSDTIENVKAKIQDKEGIPPDQQRLIFAGKQLEDGRTLSDYNIQKESTLHLVLRLRGGMQIFVKTLTGKTITLEVEPSDTIENVKAKIQDKEGIPPDQQRLIFAGKQLEDGRTLSDYNIQKESTLHLVLRLRGGC',\n",
       " 'MMMMALSKTFGQKPVKFQLEDDGEFYMIGSEVGNYLRMFRGSLYKRYPSLWRRLATVEERKKIVASSHGKKTKPNTKDHGYTTLATSVTLLKASEVEEILDGNDEKYKAVSISTEPPTYLREQKAKRNSQWVPTLPNSSHHLDAVPCSTTINRNRMGRDKKRTFPLCFDDHDPAVIHENASQPEVLVPIRLDMEIDGQKLRDAFTWNMNEKLMTPEMFSEILCDDLDLNPLTFVPAIASAIRQQIESYPTDSILEDQSDQR',\n",
       " 'MATDVQLADYPLMSPKAELKLEKKSGRKPRSPRDSGPQKELVIPGIVDFERIRRALRTPKPQTPGTYCFGRLSHHSFFSRHHPHPQHVTHIQDLTGKPVCVVRDFPAPLPESTVFSGCQMGIPTISVPIGDPQSNRNPQLSSEAWKKELKELASRVAFLTKEDELKKKEKEQKEEPLREQGAKYSAETGRLIPASTRAVGRRRSHQGQQSQSSSRHEGVQAFLLQDQELLVLELLCRILETDLLSAIQFWLLYAPPKEKDLALGLLQTAV',\n",
       " 'MASMLLAQRLACSFQHSYRLLVPGSRHISQAAAKVDVEFDYDGPLMKTEVPGPRSQELMKQLNIIQNAEAVHFFCNYEESRGNYLVDVDGNRMLDLYSQISSVPIGYSHPALLKLIQQPQNASMFVNRPALGILPPENFVEKLRQSLLSVAPKGMSQLITMACGSCSNENALKTIFMWYRSKERGQRGFSQEELETCMINQAPGCPDYSILSFMGAFHGRTMGCLATTHSKAIHKIDIPSFDWPIAPFPRLKYP',\n",
       " 'MQIFVKTLTGKTITLEVEPSDTIENVKAKIQDKEGIPPDQQRLIFAGKQLEDGRTLSDYNIQKESTLHLVLRLRGGAKKRKKKSYTTPKKNKHKRKKVKLAVLKYYKVDENGKISRLRRECPSDECGAGVFMASHFDRHYCGKCCLTYCFNKPEDK',\n",
       " 'MQIFVKTLTGKTITLEVEPSDTIENVKAKIQDKEGIPPDQQRLIFAGKQLEDGRTLSDYNIQKESTLHLVLRLRGGMQIFVKTLTGKTITLEVEPSDTIENVKAKIQDKEGIPPDQQRLIFAGKQLEDGRTLSDYNIQKESTLHLVLRLRGGMQIFVKTLTGKTITLEVEPSDTIENVKAKIQDKEGIPPDQQRLIFAGKQLEDGRTLSDYNIQKESTLHLVLRLRGGC',\n",
       " 'MAMRELVEAECGGANPLMKLAGHFTQDKALRQEGLRPGPWPPGAPASEAASKPLGVASEDELVAEFLQDQNAPLVSRAPQTFKMDDLLAEMQQIEQSNFRQAPQRAPGVADLALSENWAQEFLAAGDAVDVTQDYNETDWSQEFISEVTDPLSVSPARWAEEYLEQSEEKLWLGEPEGTATDRWYDEYHPEEDLQHTASDFVAKVDDPKLANSEFLKFVRQIGEGQVSLESGAGSGRAQAEQWAAEFIQQQGTSDAWVDQFTRPVNT']"
      ]
     },
     "execution_count": 41,
     "metadata": {},
     "output_type": "execute_result"
    }
   ],
   "source": [
    "design(\"Design a protein structure that captures the essence of the numeral '3': Create two consecutive loops, one above the other, each curving outward and then inward, resembling the top and bottom halves of '3'. These loops should be designed for ease of folding and structural stability, subtly reflecting the numeral's silhouette while maintaining the protein's functionality.\")"
   ]
  },
  {
   "cell_type": "code",
   "execution_count": 45,
   "metadata": {},
   "outputs": [
    {
     "name": "stdout",
     "output_type": "stream",
     "text": [
      "Protein solubility is an important prerequisite for success in many biophysical studies and industrial applications,  including  the  production  of  the  ever  more important  protein-based  drugs  such  as  antibodies, interleukins and others. Efficient production of soluble and active proteins still remains a major challenge.Many proteins heterologously expressed in Escherichiacoliare insoluble. Solubilization attempts are plagued by relatively low success rates and often lead to theloss of biological activity. Various experimental approaches  aimed  at  improving  protein  solubility during heterologous expression include use of weak promoters, low temperature, modified growth media and fusion with solubility enhancing tags. Other methods are based on large-scale screening and ran-dom mutagenesis for solubility optimization. We designed a low solubility protein and the result is <protein>\n"
     ]
    },
    {
     "name": "stderr",
     "output_type": "stream",
     "text": [
      "100%|██████████| 50/50 [12:49<00:00, 15.39s/it]\n"
     ]
    },
    {
     "name": "stdout",
     "output_type": "stream",
     "text": [
      "500\n",
      "Protein solubility is an important prerequisite for success in many biophysical studies and industrial applications,  including  the  production  of  the  ever  more important  protein-based  drugs  such  as  antibodies, interleukins and others. Efficient production of soluble and active proteins still remains a major challenge.Many proteins heterologously expressed in Escherichiacoliare insoluble. Solubilization attempts are plagued by relatively low success rates and often lead to theloss of biological activity. Various experimental approaches  aimed  at  improving  protein  solubility during heterologous expression include use of weak promoters, low temperature, modified growth media and fusion with solubility enhancing tags. Other methods are based on large-scale screening and ran-dom mutagenesis for solubility optimization. We designed a high solubility protein and the result is <protein>\n"
     ]
    },
    {
     "name": "stderr",
     "output_type": "stream",
     "text": [
      "100%|██████████| 50/50 [12:50<00:00, 15.40s/it]\n"
     ]
    },
    {
     "name": "stdout",
     "output_type": "stream",
     "text": [
      "500\n"
     ]
    },
    {
     "ename": "",
     "evalue": "",
     "output_type": "error",
     "traceback": [
      "\u001b[1;31mThe Kernel crashed while executing code in the the current cell or a previous cell. Please review the code in the cell(s) to identify a possible cause of the failure. Click <a href='https://aka.ms/vscodeJupyterKernelCrash'>here</a> for more info. View Jupyter <a href='command:jupyter.viewOutput'>log</a> for further details."
     ]
    }
   ],
   "source": [
    "from tqdm import tqdm\n",
    "\n",
    "# solubility\n",
    "desc = \"\"\"\n",
    "Protein solubility is an important prerequisite for success in many biophysical studies and industrial applications,  including  the  production  of  the  ever  more important  protein-based  drugs  such  as  antibodies, interleukins and others. Efficient production of soluble and active proteins still remains a major challenge.Many proteins heterologously expressed in Escherichiacoliare insoluble. Solubilization attempts are plagued by relatively low success rates and often lead to theloss of biological activity. Various experimental approaches  aimed  at  improving  protein  solubility during heterologous expression include use of weak promoters, low temperature, modified growth media and fusion with solubility enhancing tags. Other methods are based on large-scale screening and ran-dom mutagenesis for solubility optimization.\n",
    "\"\"\".strip()\n",
    "\n",
    "for kind in [\"low\", \"high\"]:\n",
    "    prompt = f\"{desc} We designed a {kind} solubility protein and the result is <protein>\"\n",
    "    print(prompt)\n",
    "    \n",
    "    ret = []\n",
    "\n",
    "    for i in tqdm(range(50)):\n",
    "        input_ids = tokenizer(prompt, return_tensors=\"pt\").input_ids.cuda()\n",
    "        output = model.generate(\n",
    "            input_ids,\n",
    "            top_p=0.9,\n",
    "            do_sample=True,\n",
    "            max_new_tokens=300,\n",
    "            num_return_sequences=10,\n",
    "            return_dict_in_generate=True,\n",
    "            output_scores=True\n",
    "        )\n",
    "\n",
    "        for i in range(10):\n",
    "            s = tokenizer.decode(output.sequences[i])\n",
    "            mol = s[s.find('<protein>') + len('<protein>'):s.find('</protein>')]\n",
    "            mol = mol.replace('<a>', '').replace(' ', '')\n",
    "            ret.append(mol)\n",
    "\n",
    "    print(len(ret))\n",
    "    with open(f'/blob/shufxi/data/scigpt/solubility_gen/{kind}.txt', 'w') as f:\n",
    "        for mol in ret:\n",
    "            f.write(mol + '\\n')\n"
   ]
  },
  {
   "cell_type": "code",
   "execution_count": 7,
   "metadata": {},
   "outputs": [
    {
     "data": {
      "text/plain": [
       "['MSLVTVPFYQKRHRHFDQSYRNIQTRYLLDEYASKKRASTQASSQKSLSQRSSSQRASSQTSLGGTICRVCAKRVSTQEDEEQENRSRYQSLVAAYGEAKRQRFLSELAHLEEDVHLARSQARDKLDKYAIQQMMEDKLAWERHTFEERISRAPEILVRLRSHTVWERMSVKLCFTVQGFPTPVVQWYKDGSLICQAAEPGKYRIESNYGVHTLEINRADFDDTATYSAVATNAHGQVSTNAAVVVRRFRGDEEPFRSVGLP',\n",
       " 'MAQQAADKYLYVDKNFINNPLAQADWAAKKLVWVPSDKSGFEPASLKEEVGEEAIVELVENGKKVKVNKDDIQKMNPPKFSKVEDMAELTCLNEASVLHNLKERYYSGLIYTYSGLFCVVINPYKNLPIYSEEIVEMYKGKKRHEMPPHIYAITDTAYRSMMQDREDQSILCTGESGAGKTENTKKVIQYLAYVASSHKSKKDQGELERQLLQANPILEAFGNAKTVKNDNSSRFGKFIRINFDVNGYIVGANIETYLLEKSRAIRQAK',\n",
       " 'MFHQIWAALLYFYGIILNSIYQCPEHSQLTTLGVDGKEFPEVHLGQWYFIAGAAPTKEELATFDPVDNIVFNMAAGSAPMQLHLRATIRMKDGLCVPRKWIYHLTEGSTDLRTEGRPDMKTELFSSSCPGGIMLNETGQGYQRFLLYNRSPHPPEKCVEEFKSLTSCLDSKAFLLTPRNQEACELSNN',\n",
       " 'MALRVLLLTALTLCHGFNLDTENAMTFQENARGFGQSVVQLQGSRVVVGAPQEIVAANQRGSLYQCDYSTGSCEPIRLQVPVEAVNMSLGLSLAATTSPPQLLACGPTVHQTCSENTYVKGLCFLFGSNLRQQPQKFPEALRGCPQEDSDIAFLIDGSGSIIPHDFRRMKEFVSTVMEQLKKSKTLFSLMQYSEEFRIHFTFKEFQNNPNPRSLVKPITQLLGRTHTATGIRKVVRELFNITNGARKNAFKILVVITDGEKFG',\n",
       " 'MFGLDQFEPQVNSRNAGQGERNFNETGLSMNTHFKAPAFHTGGPPGPVDPAMSALGEPPILGMNMEPYGFHARGHSELHAGGLQAQPVHGFFGGQQPHHGHPGSHHPHQHHPHFGGNFGGPDPGASCLHGGRLLGYGGAAGGLGSQPPFAEGYEHMAESQGPESFGPQRPGNLPDFHSSGASSHAVPAPCLPLDQSPNRAASFHGLPSSSGSDSHSLEPRRVTNQGAVDSLEYNYPGEAPSGHFDMFSPSD',\n",
       " 'MSDEVTYDGAAEAHVISGTAVEPSPEVSDGAGGCHSGAEMDKAARMAGQSELLDRYARDYPKGPHDQPQSMCPAFGSLRVGLRMKRVATVLSGSACCVYGLTFVSHFYGARRSVGYVPFNSETLVTGKLFEDIRESVHEMADPDRFDAIVVTNLCVPTASGVPLRLLPSEINGVRIVGIDVPGFGIPTHAEAKDVLAGAMLNYARKEVMAGPVAAPQGGKSDRPTVTLLGEMFPADPMMIGAMLAPLGLAA',\n",
       " 'MAQRTGLEDPERYLFVDRAVIYNPATQADWTAKKLVWIPSERHGFEAASIKEERGDEVMVELAENGKKAMVNKDDIQKMNPPKFSKVEDMAELTCLNEASVLHNLKDRYYSGLIYTYSGLFCVVINPYKNLPIYSENIIEMYRGKKRHEMPPHIYAISESAYRCMLQDREDQSILCTGESGAGKTENTKKVIQYLAHVASSHKGRKDHNIPQESPKPVKHQGELERQLLQANPILESFGNAKTVKNDNSSRFGKFIRIN',\n",
       " 'MASGGGGGNTGAGGGPGMGLSLGLGLGLSLGMSEATSEAEEEAATAEAVGRLATTLWLRLRGWEAVLAAAQRLLVWEKPLHSLVTAAALNGLFWLLSSSSLRPFFLLSVSLLAYFLLDLWQPRFLPDVSASSPEEPHSDSEGAGSGARPHLLSVPELCRYLAESWLTFQIHLQELLQYKRQNPAQFCVRVCSGCAVLAVLGHYVPGIMISYIVLLSILLWPLVVYHELIQRMYTRLEPLLMQLDYSMKAEANALHHKHD',\n",
       " 'MASGTTTTAVKIGIIGGTGLDDPEILEGRTEKYVDTPFGKPSDALILGKIKNVDCVLLARHGRQHTIMPSKVNYQANIWALKEEGCTHVIVTTACGSLREEIQPGDIVIIDQFIDRTTMRPQSFYDGSHSCARGVCHIPMAEPFCPKTREVLIETAKKLGLRCHSKGTMVTIEGPRFSSRAESFMFRTWGADVINMTTVPEVVLAKEAGICYASIAMATDYDCWKEHEEAVSVDRVLKTLKENANKAKSLLL',\n",
       " 'MTPTIFLVILCLGVASAAIVPEAQLDAELQEQKDKEVLIKAVWSKFMKTNKLHSSENDQETEGSNIEMSASGQLTDEELMKIMTTVLHPMFEEEENKPQPVVDDPEFEDYTESGDGFFVPNQPQ']"
      ]
     },
     "execution_count": 7,
     "metadata": {},
     "output_type": "execute_result"
    }
   ],
   "source": [
    "desc = \"\"\"\n",
    "Design a protein with a structure resembling a common letter \"M\": start by drawing a vertical segment from the bottom upwards, establishing the left boundary of the \"M\". From the top of this line, curve downwards diagonally to the right, creating a smooth transition to form the first valley of the \"M\". Then, immediately curve upwards diagonally to the right, mirroring the previous curve but in the opposite direction, to create the central peak of the \"M\". Finally, complete the shape by drawing a vertical segment from the top downwards, ending at the same level as the starting point, to form the right boundary of the \"M\". This method combines straight lines and gentle curves to depict a stylized version of the letter \"M\".\n",
    "\"\"\"\n",
    "\n",
    "design(desc)"
   ]
  },
  {
   "cell_type": "code",
   "execution_count": 10,
   "metadata": {},
   "outputs": [
    {
     "data": {
      "text/plain": [
       "['MEFATSKELRIYTGKILEKVRAGERFAITHRGKPVAWLIPFENDTPEFSPLPYHEAWADIERALEASEPYYPDWHEALKESRRQK',\n",
       " 'MAEGVGNEADVIVVGAGIIGSACARHILGLIQDPGLRVLVVAPGEPALQWSNTHAQWDKTHAGSYAAHYDEGRITRTIDAHPVWSRLARASIDRYRDLEVQSGVNFYTESGYLLVGRPQTKDSYYAQARHTVISEGVSAEVLDRAALGVRFPALQLPPHCEGLYQARGAGHISPRRMVAAQLACVRADSRATLLNATAQACTRQGDGQIWVLLDTGETLCAPTVIVATGAFTEPALLSGYRLPLNVHGRTVLLRDVTDLTAEAGPRAAALASL',\n",
       " 'MAWQGLVLAACLLMFPSTTADCLSRCSLCAVKTQDGPKPINPLICSLQCQAALLPSEEWERCQSFLSFFTPSTLGLNDKEDLGSKSVGEGPYSELAKLSGSFLKELEKSKFLPSISTKENTLSKSLEEKLRGLSDGFREGAESELMRDAQLNDGAMETGTLYLAEEDPKEQVKRYGGFLRKYPKRSSEVAGEGDGDSMGHEDLYKRYGGFLRRIRPKLKWDNQKRYGGFLRRQFKVVTRSQEDPNAYSGELFDA',\n",
       " 'MPCTRAQLQSCPTQMEEVTGCPYFLGKSGATRASQVLSQPSVPNHGFVIRESESAPGSLTLCIKTMDNITNFKIKQAGPQYFIKQGEVFSSINQLLSALTTSGFESQGRHLRLIPIDSRTCTPTFIANRGPARPGPSATPDRSATLPHRSSGLLSGSVPPPLPQTQRPNQRASPTPGSAPPPVPQTQRPTLGSRSSTLPVGTSLAAMAAAAPPAVPSTPRPGSGSPPVPSSPRPSDAASTLPRNRAAPDPYGQHVHHSGPTSGSPRAS',\n",
       " 'MPWPAMVNNDDVQQLSTPSFPFKKEPHRLRLRARRRHHRSFHALRPPPGVPLPINLGNTLFRNAIIKALKEHPIPNVKPPQSSTLQRLAEHLHEKHWTRFPNAKSIKQIRSIGAAKLKPFHEQTWFVFERVNEEIRYDPPSNAALATPRLRTGARRRASSRAPANGEPASSTTSPSEPITGPGSSANVEDSAETSDPPLHPEATSDIMPSSQPQPSPQQQQQQPLHDGAQAEPEPGDASPMQLLMAFHEHQVQTNRTLDFELCHHAR',\n",
       " 'MSLVTVPFYQKRHRHFDQSYRNIQTRYLLDEYASKKRASTQASSQKSLSQRSSSQRASSQTSLGGTICRVCAKRVSTQEDEEQENRSRYQSLVAAYGEAKRQRFLSELAHLEEDVHLARSQARDKLDKYAIQQMMEDKLAWERHTFEERISRAPEILVRLRSHTVWERMSVKLCFTVQGFPTPVVQWYKDGSLICQAAEPGKYRIESNYGVHTLEINRADFDDTATYSAVATNAHGQVSTNAAVVVRRFRGDEEPFRSVGLP',\n",
       " 'MAPKRQSPLPPQKKKPRPPPALGPEETSASAGLPKKGEKEQQEAIEHIDEVQNEIDRLNEQASEEILKVEQKYNKLRQPFFQKRSELIAKIPNFWVTTFVNHPQVSALLGEEDEEALHYLTRVEVTEFEDIKSGYRIDFYFDENPYFENKVLSKEFHLNESGDPSSKSTEIKWKSGKDLTKRSSQTQNKASRKRQHEEPESFFTWFTDHSDAGADELGEVIKDDIWPNPLQYYLVPDMDDEEGEGEEDDDDDEEEEGLEDIDEEGDEDEGEEDEDDDEGEEG',\n",
       " 'MGLSPGAEGEYALRLPRIPPPLPKPASRTASTGPKDQPPALRRSAVPHSGLNSISPLELEESVGFAALVQLPAKQPPPGTLEQGRSIQQGEKAVVSLETTPSQKADWSSIPKPENEGKLIKQAAEGKPRPRPGDLIEIFRIGYEHWAIYVEDDCVVHLAPPSEEFEVGSITSIFSNRAVVKYSRLEDVLHGCSWKVNNKLDGTYLPLPVDKIIQRTKKMVNKIVQYSLIEGNCEHFVNGLRYGVPRSQQVEHALMEGAKAAGAVISAVVDSI',\n",
       " 'MMRRLLVLGSSCFAAVLVFVAQTSAHSYKWFLLYEPDIPESLR',\n",
       " 'MSTVLYIKANPKPQGTSKTLRISDKFIEVYREHNPDDLIITLDLYKEGIGFLTEEGVMMHWVEPGEGRNHPVLKYAYQFVEADKYVFAEPIWNLGIPAILKAYIDYISVANITFKYTAEGPVGLCNGKKAVNITSRGGNFSEGELVAWEMGDRYLRAILNFLGITDITTIAADNMDVAGQDHEAIIASIMTKAQEIAKSF']"
      ]
     },
     "execution_count": 10,
     "metadata": {},
     "output_type": "execute_result"
    }
   ],
   "source": [
    "desc=\"\"\"\n",
    "Design a protein with a structure resembling a common letter \"M\": the process begins with a linear peptide chain extending upwards, akin to the initial vertical segment. As the protein's folding progresses, it bends towards the right, introducing a downward diagonal curve, mimicking the natural folding and bending of amino acid chains in response to intramolecular forces. This is followed by a reverse fold, where the chain curves back upwards in a diagonal trajectory, resembling the upward curve of the structure. The folding sequence concludes as the protein chain descends in a vertical alignment, parallel to the initial segment, stabilizing the overall conformation. This folding pattern is orchestrated by the protein's intrinsic properties, guiding the chain to adopt a form that mirrors the described shape through a series of strategic bends and folds.\n",
    "\"\"\".strip()\n",
    "\n",
    "design(desc, sample=True)\n"
   ]
  },
  {
   "cell_type": "code",
   "execution_count": 11,
   "metadata": {},
   "outputs": [
    {
     "data": {
      "text/plain": [
       "['MSEAPRFFVGPEDTEINPGNYRHFFHHADEDDEEEDDSPPERQIVVGICSMAKKSKSKPMKEILERISLFKYITVVVFEEEVILNEPVENWPLCDCLISFHSKGFPLDKAVAYAKLRNPFVINDLNMQYLIQDRREVYSILQAEGILLPRYAILNRDPNNPKECNLIEGEDHVEVNGEVFQKPFVEKPVSAEDHNVYIYYPTSAGGGSQRLFRKIGSRSSVYSPESNVRKTGSYIYEEFMPTDGTDVKVYTVGPDYA',\n",
       " 'MASMLLAQRLACSFQHSYRLLVPGSRHISQAAAKVDVEFDYDGPLMKTEVPGPRSQELMKQLNIIQNAEAVHFFCNYEESRGNYLVDVDGNRMLDLYSQISSVPIGYSHPALLKLIQQPQNASMFVNRPALGILPPENFVEKLRQSLLSVAPKGMSQLITMACGSCSNENALKTIFMWYRSKERGQRGFSQEELETCMINQAPGCPDYSILSFMGAFHGRTMGCLATTHSKAIHKIDIPSFDWPIAPFPRLKYP',\n",
       " 'MMMMALSKTFGQKPVKFQLEDDGEFYMIGSEVGNYLRMFRGSLYKRYPSLWRRLATVEERKKIVASSHGKKTKPNTKDHGYTTLATSVTLLKASEVEEILDGNDEKYKAVSISTEPPTYLREQKAKRNSQWVPTLPNSSHHLDAVPCSTTINRNRMGRDKKRTFPLCFDDHDPAVIHENASQPEVLVPIRLDMEIDGQKLRDAFTWNMNEKLMTPEMFSEILCDDLDLNPLTFVPAIASAIRQQIESYPTDSILEDQSDQR',\n",
       " 'MAAAMPLALLVLLLLGPGGWCLAEPPRDSLREELVITPLPSGDVAATFQFRTRWDSELQREGVSHYRLFPKALGQLISKYSLRELHLSFTQGFWRTRYWGPPFLQAPSGAELWVWFQDTVTDVDKSWKELSNVLSGIFCASLNFIDSTNTVTPTASFKPLGLANDTDHYFLRYAVLPREVVCTENLTPWKKLLPCSSKAGLSVLLKADRLFHTSYHSQAVHIRPVCRNARCTSISWELRQTLSVVFDAFITGQGKKDWSLFRMFS',\n",
       " 'MMMMALSKTFGQKPVKFQLEDDGEFYMIGSEVGNYLRMFRGSLYKRYPSLWRRLATVEERKKIVASSHGKKTKPNTKDHGYTTLATSVTLLKASEVEEILDGNDEKYKAVSISTEPPTYLREQKAKRNSQWVPTLPNSSHHLDAVPCSTTINRNRMGRDKKRTFPLWCGCIAALTLRADSALVLHFDDHDPAVIHENASQPEVLVPIRLDMEIDGQKLRDAFTWNMNEKLMTPEMFSEILCDDLDLNPLTFVPAIASAIR',\n",
       " 'MADMEDLFGSDADSEAERKDSDSGSDSDSDQENAASGSNASGSESDQDERGDSGQPSNKELFGDDSEDEGASHHSGSDNHSERSDNRSEASERSDHEDNDPSDVDQHSGSEAPNDDEDEGHRSDGGSHHSEAEGSEKAHSDDEKWGREDKSDQSDDEKIQNSDDEERAQGSDEDKLQNSDDDEKMQNTDDEERPQLSDDERQQLSEEEKANSDDERPVASDNDDEKQNSDDEEQPQLSDEEKMQNSDDERPQASDEEHRHSDDEEEQDH',\n",
       " 'MAEDADMRNELEEMQRRADQLADESLESTRRMLQLVEESKDAGIRTLVMLDEQGEQLERIEEGMDQINKDMKEAEKNLTDLGKFCGLCVCPCNKLKSSDAYKKAWGNNQDGVVASQPARVVDEREQMAISGGFIRRVTNDARENEMDENLEQVSGIIGNLRHMALDMGNEIDTQNRQIDRIMEKADSNKTRIDEANQRATKMLGSG',\n",
       " 'MMMMMMMKKMQHQRQQQADHANEANYARGTRLPLSGEGPTSQPNSSKQTVLSWQAAIDAARQAKAAQTMSTSAPPPVGSLSQRKRQQYAKSKKQGNSSNSRPARALFCLSLNNPIRRACISIVEWKPFDIFILLAIFANCVALAIYIPFPEDDSNSTNHNLEKVEYAFLIIFTVETFLKIIAYGLLLHPNAYVRNGWNLLDFVIVIVGLFSVILEQLTKETEGGNHSSGKSGGFDVKALRAFRVLRPLRLVSGVPSLQVVLNSIIKAM',\n",
       " 'MAEMEKEGRPPENKRSRKPAHPVKREINEEMKNFAENTMNELLGWYGYDKVELKDGEDIEFRSYPTDGESRQHISVLKENSLPKPKLPEDSVISPYNISTGYSGLATGNGLSDSPAGSKDHGSVPIIVPLIPPPFIKPPAGTVGGDRCPSKYFRNFPSVLDSHESYKGVVNLQFNCLESINALLIFFGHWSEDDVSNVQIMCAWCQKVGIKRYSLSMGSEVKSFCSEKCFAACRRAYFKRNKARDEDGHAENFPQQHYAK',\n",
       " 'MASMLLAQRLACSFQHSYRLLVPGSRHISQAAAKVDVEFDYDGPLMKTEVPGPRSQELMKQLNIIQNAEAVHFFCNYEESRGNYLVDVDGNRMLDLYSQISSVPIGYSHPALLKLIQQPQNASMFVNRPALGILPPENFVEKLRQSLLSSKERGQRGFSQEELETCMINQAPGCPDYSILSFMGAFHGRTMGCLATTHSKAIHKIDIPSFDWPIAPFPRLKYPLEEFVKENQQEEARCLEEVEDLIVKYRKKKKTV']"
      ]
     },
     "execution_count": 11,
     "metadata": {},
     "output_type": "execute_result"
    }
   ],
   "source": [
    "desc=\"\"\"\n",
    "Design a protein with a structure resembling a common letter \"S\".\n",
    "\"\"\".strip()\n",
    "\n",
    "design(desc)"
   ]
  },
  {
   "cell_type": "code",
   "execution_count": 12,
   "metadata": {},
   "outputs": [
    {
     "data": {
      "text/plain": [
       "['MASMLLAQRLACSFQHSYRLLVPGSRHISQAAAKVDVEFDYDGPLMKTEVPGPRSQELMKQLNIIQNAEAVHFFCNYEESRGNYLVDVDGNRMLDLYSQISSVPIGYSHPALLKLIQQPQNASMFVNRPALGILPPENFVEKLRQSLLSVAPKGMSQLITMACGSCSNENALKTIFMWYRSKERGQRGFSQEELETCMINQAPGCPDYSILSFMGAFHGRTMGCLATTHSKAIHKIDIPSFDWPIAPFPRLKYP',\n",
       " 'MAAAMPLALLVLLLLGPGGWCLAEPPRDSLREELVITPLPSGDVAATFQFRTRWDSELQREGVSHYRLFPKALGQLISKYSLRELHLSFTQGFWRTRYWGPPFLQAPSGAELWVWFQDTVTDVDKSWKELSNVLSGIFCASLNFIDSTNTVTPTASFKPLGLANDTDHYFLRYAVLPREVVCTENLTPWKKLLPCSSKAGLSVLLKADRLFHTSYHSQAVHIRPVCRNARCTSISWELRQTLSVVFDAFITGQGKKDWSLFRMFS',\n",
       " 'MMMMALSKTFGQKPVKFQLEDDGEFYMIGSEVGNYLRMFRGSLYKRYPSLWRRLATVEERKKIVASSHGKKTKPNTKDHGYTTLATSVTLLKASEVEEILDGNDEKYKAVSISTEPPTYLREQKAKRNSQWVPTLPNSSHHLDAVPCSTTINRNRMGRDKKRTFPLCFDDHDPAVIHENASQPEVLVPIRLDMEIDGQKLRDAFTWNMNEKLMTPEMFSEILCDDLDLNPLTFVPAIASAIRQQIESYPTDSILEDQSDQR',\n",
       " 'MMMMALSKTFGQKPVKFQLEDDGEFYMIGSEVGNYLRMFRGSLYKRYPSLWRRLATVEERKKIVASSHGKKTKPNTKDHGYTTLATSVTLLKASEVEEILDGNDEKYKAVSISTEPPTYLREQKAKRNSQWVPTLPNSSHHLDAVPCSTTINRNRMGRDKKRTFPLWCGCIAALTLRADSALVLHFDDHDPAVIHENASQPEVLVPIRLDMEIDGQKLRDAFTWNMNEKLMTPEMFSEILCDDLDLNPLTFVPAIASAIR',\n",
       " 'MMMMMMMKKMQHQRQQQADHANEANYARGTRLPLSGEGPTSQPNSSKQTVLSWQAAIDAARQAKAAQTMSTSAPPPVGSLSQRKRQQYAKSKKQGNSSNSRPARALFCLSLNNPIRRACISIVEWKPFDIFILLAIFANCVALAIYIPFPEDDSNSTNHNLEKVEYAFLIIFTVETFLKIIAYGLLLHPNAYVRNGWNLLDFVIVIVGLFSVILEQLTKETEGGNHSSGKSGGFDVKALRAFRVLRPLRLVSGVPSLQVVLNSIIKAM',\n",
       " 'MAEMEKEGRPPENKRSRKPAHPVKREINEEMKNFAENTMNELLGWYGYDKVELKDGEDIEFRSYPTDGESRQHISVLKENSLPKPKLPEDSVISPYNISTGYSGLATGNGLSDSPAGSKDHGSVPIIVPLIPPPFIKPPAGTVGGDRCPSKYFRNFPSVLDSHESYKGVVNLQFNCLESINALLIFFGHWSEDDVSNVQIMCAWCQKVGIKRYSLSMGSEVKSFCSEKCFAACRRAYFKRNKARDEDGHAENFPQQHYAK',\n",
       " 'MASMLLAQRLACSFQHSYRLLVPGSRHISQAAAKVDVEFDYDGPLMKTEVPGPRSQELMKQLNIIQNAEAVHFFCNYEESRGNYLVDVDGNRMLDLYSQISSVPIGYSHPALLKLIQQPQNASMFVNRPALGILPPENFVEKLRQSLLSSKERGQRGFSQEELETCMINQAPGCPDYSILSFMGAFHGRTMGCLATTHSKAIHKIDIPSFDWPIAPFPRLKYPLEEFVKENQQEEARCLEEVEDLIVKYRKKKKTV',\n",
       " 'MMMMMMMKKMQHQRQHQEDHANEANYARGTRLPISGEGPTSQPNSSKQTVLSWQAAIDAARQAKAAQTMSTSAPPPVGSLSQRKRQQYAKSKKQGNSSNSRPARALFCLSLNNPIRRACISIVEWKPFDIFILLAIFANCVALAIYIPFPEDDSNSTNHNLEKVEYAFLIIFTVETFLKIIAYGLLLHPNAYVRNGWNLLDFVIVIVGLFSVILEQLTKETEGGNHSSGKSGGFDVKALRAFRVLRPLRLVSGVPSLQVVLNSIIKAM',\n",
       " 'MAEMEKEGRPPENKRSRKPAHPVKREINEEMKNFAENTMNELLGWYGYDKVELKDGEDIEFRSYPTDGESRQHISVLKENSLPKPKLPEDSVISPYNISTGYSGLATGNGLSDSPAGSKDHGSVPIIVPLIPPPFIKPPAGTVGGDRCPSKYFRNFPSVLDSHESYKGVVNLQFNCLESINALLIFFGHWSEDDVSNVQIMCAWCQKVGIKRYSLSMGSEVKSFCSEKCFAACRRAYFKRNKVCDWCKHIRHTKEYL',\n",
       " 'MAAAMPLALLVLLLLGPGGWCLAEPPRDSLREELVITPLPSGDVAATFQFRTRWDSELQREGDTDHYFLRYAVLPREVVCTENLTPWKKLLPCSSKAGLSVLLKADRLFHTSYHSQAVHIRPVCRNARCTSISWELRQTLSVVFDAFITGQGKKDWSLFRMFSRTLTEPCPLASESRVYVDITTYNQDNETLEVHPPPTTTYQDVILGTRKTYAIYDLLDTAMINNSRNLNIQLKWKRPPENEAPPVPFLHAQRYVSGYGLQKGE']"
      ]
     },
     "execution_count": 12,
     "metadata": {},
     "output_type": "execute_result"
    }
   ],
   "source": [
    "desc=\"\"\"\n",
    "Design a protein with a structure resembling a common letter \"R\".\n",
    "\"\"\".strip()\n",
    "\n",
    "design(desc)"
   ]
  },
  {
   "cell_type": "code",
   "execution_count": 7,
   "metadata": {},
   "outputs": [
    {
     "data": {
      "text/plain": [
       "['MASMLLAQRLACSFQHSYRLLVPGSRHISQAAAKVDVEFDYDGPLMKTEVPGPRSQELMKQLNIIQNAEAVHFFCNYEESRGNYLVDVDGNRMLDLYSQISSVPIGYSHPALLKLIQQPQNASMFVNRPALGILPPENFVEKLRQSLLSVAPKGMSQLITMACGSCSNENALKTIFMWYRSKERGQRGFSQEELETCMINQAPGCPDYSILSFMGAFHGRTMGCLATTHSKAIHKIDIPSFDWPIAPFPRLKYP',\n",
       " 'MMMMALSKTFGQKPVKFQLEDDGEFYMIGSEVGNYLRMFRGSLYKRYPSLWRRLATVEERKKIVASSHGKKTKPNTKDHGYTTLATSVTLLKASEVEEILDGNDEKYKAVSISTEPPTYLREQKAKRNSQWVPTLPNSSHHLDAVPCSTTINRNRMGRDKKRTFPLCFDDHDPAVIHENASQPEVLVPIRLDMEIDGQKLRDAFTWNMNEKLMTPEMFSEILCDDLDLNPLTFVPAIASAIRQQIESYPTDSILEDQSDQR',\n",
       " 'MAAAMPLALLVLLLLGPGGWCLAEPPRDSLREELVITPLPSGDVAATFQFRTRWDSELQREGVSHYRLFPKALGQLISKYSLRELHLSFTQGFWRTRYWGPPFLQAPSGAELWVWFQDTVTDVDKSWKELSNVLSGIFCASLNFIDSTNTVTPTASFKPLGLANDTDHYFLRYAVLPREVVCTENLTPWKKLLPCSSKAGLSVLLKADRLFHTSYHSQAVHIRPVCRNARCTSISWELRQTLSVVFDAFITGQGKKDWSLFRMFS',\n",
       " 'MMMMALSKTFGQKPVKFQLEDDGEFYMIGSEVGNYLRMFRGSLYKRYPSLWRRLATVEERKKIVASSHGKKTKPNTKDHGYTTLATSVTLLKASEVEEILDGNDEKYKAVSISTEPPTYLREQKAKRNSQWVPTLPNSSHHLDAVPCSTTINRNRMGRDKKRTFPLWCGCIAALTLRADSALVLHFDDHDPAVIHENASQPEVLVPIRLDMEIDGQKLRDAFTWNMNEKLMTPEMFSEILCDDLDLNPLTFVPAIASAIR',\n",
       " 'MAKMEVKTSLLDNMIGVGDMVLLEPLNEETFINNLKKRFDHSEIYTYIGSVVISVNPYRSLPIYSPEKVEEYRNRNFYELSPHIFALSDEAYRSLRDQDKDQCILITGESGAGKTEASKLVMSYVAAVCGKGAEVNQVKEQLLQSNPVLEAFGNAKTVRNDNSSRFGKYMDIEFDFKGDPLGGVISNYLLEKSRVVKQPRGERNFHVFYQLLSGASEELLNKLKLERDFSRYNYLSLDSAKVNGVDDAANFRTVRNAMQIVG',\n",
       " 'MASMRESDTGLWLHNKLGATDELWAPPSIASLLTAAVIDNIRLCFHGLSSAVKLKLLLGTLHLPRRTVDEMKGALMEIIQLASLDSDPWVLMVADILKSFPDTGSLNLELEEQNPNVQDILGELREKVGECEASAMLPLECQYLNKNALTTLAGPLTPPVKHFQLKRKPKSATLRAELLQKSTETAQQLKRSAGVPFHAKGRGLLRKMDTTTPLKGIPKQAPFRSPTAPSVFSPTGNRTPIPPSRTLLRKERGVKLLDISELDMV',\n",
       " 'MMMMMMMKKMQHQRQQQADHANEANYARGTRLPLSGEGPTSQPNSSKQTVLSWQAAIDAARQAKAAQTMSTSAPPPVGSLSQRKRQQYAKSKKQGNSSNSRPARALFCLSLNNPIRRACISIVEWKPFDIFILLAIFANCVALAIYIPFPEDDSNSTNHNLEKVEYAFLIIFTVETFLKIIAYGLLLHPNAYVRNGWNLLDFVIVIVGLFSVILEQLTKETEGGNHSSGKSGGFDVKALRAFRVLRPLRLVSGVPSLQVVLNSIIKAM',\n",
       " 'MASMLLAQRLACSFQHSYRLLVPGSRHISQAAAKVDVEFDYDGPLMKTEVPGPRSQELMKQLNIIQNAEAVHFFCNYEESRGNYLVDVDGNRMLDLYSQISSVPIGYSHPALLKLIQQPQNASMFVNRPALGILPPENFVEKLRQSLLSSKERGQRGFSQEELETCMINQAPGCPDYSILSFMGAFHGRTMGCLATTHSKAIHKIDIPSFDWPIAPFPRLKYPLEEFVKENQQEEARCLEEVEDLIVKYRKKKKTV',\n",
       " 'MASMRESDTGLWLHNKLGATDELWAPPSIASLLTAAVIDNIRLCFHGLSSAVKLKLLLGTLHLPRRTVDEMKAALMDIIQLATLDSDPWVLMVADILKSFPDTGSLNLDLEEQNPNVQDILGELREKVSECEASAMLPLECQYLNKNALTTLAGPLTPPVKHFQLKRKPKSATLRAELLQKSTETAQQLKRSAGVPFHAKGRGLLRKMDTTTPLKGIPKQAPFRSPTTPSVFSPSGNRTPIPPSRTPLQKERGVKLLDISELNTVGAG',\n",
       " 'MMMMMMMKKMQHQRQHQEDHANEANYARGTRLPISGEGPTSQPNSSKQTVLSWQAAIDAARQAKAAQTMSTSAPPPVGSLSQRKRQQYAKSKKQGNSSNSRPARALFCLSLNNPIRRACISIVEWKPFDIFILLAIFANCVALAIYIPFPEDDSNSTNHNLEKVEYAFLIIFTVETFLKIIAYGLLLHPNAYVRNGWNLLDFVIVIVGLFSVILEQLTKETEGGNHSSGKSGGFDVKALRAFRVLRPLRLVSGVPSLQVVLNSIIKAM']"
      ]
     },
     "execution_count": 7,
     "metadata": {},
     "output_type": "execute_result"
    }
   ],
   "source": [
    "desc=\"\"\"\n",
    "Design a protein with a structure resembling a common letter \"V\".\n",
    "\"\"\".strip()\n",
    "\n",
    "design(desc)"
   ]
  },
  {
   "cell_type": "code",
   "execution_count": 8,
   "metadata": {},
   "outputs": [
    {
     "data": {
      "text/plain": [
       "['MASMLLAQRLACSFQHSYRLLVPGSRHISQAAAKVDVEFDYDGPLMKTEVPGPRSQELMKQLNIIQNAEAVHFFCNYEESRGNYLVDVDGNRMLDLYSQISSVPIGYSHPALLKLIQQPQNASMFVNRPALGILPPENFVEKLRQSLLSVAPKGMSQLITMACGSCSNENALKTIFMWYRSKERGQRGFSQEELETCMINQAPGCPDYSILSFMGAFHGRTMGCLATTHSKAIHKIDIPSFDWPIAPFPRLKYP',\n",
       " 'MMMMALSKTFGQKPVKFQLEDDGEFYMIGSEVGNYLRMFRGSLYKRYPSLWRRLATVEERKKIVASSHGKKTKPNTKDHGYTTLATSVTLLKASEVEEILDGNDEKYKAVSISTEPPTYLREQKAKRNSQWVPTLPNSSHHLDAVPCSTTINRNRMGRDKKRTFPLCFDDHDPAVIHENASQPEVLVPIRLDMEIDGQKLRDAFTWNMNEKLMTPEMFSEILCDDLDLNPLTFVPAIASAIRQQIESYPTDSILEDQSDQR',\n",
       " 'MAAAMPLALLVLLLLGPGGWCLAEPPRDSLREELVITPLPSGDVAATFQFRTRWDSELQREGVSHYRLFPKALGQLISKYSLRELHLSFTQGFWRTRYWGPPFLQAPSGAELWVWFQDTVTDVDKSWKELSNVLSGIFCASLNFIDSTNTVTPTASFKPLGLANDTDHYFLRYAVLPREVVCTENLTPWKKLLPCSSKAGLSVLLKADRLFHTSYHSQAVHIRPVCRNARCTSISWELRQTLSVVFDAFITGQGKKDWSLFRMFS',\n",
       " 'MMMMALSKTFGQKPVKFQLEDDGEFYMIGSEVGNYLRMFRGSLYKRYPSLWRRLATVEERKKIVASSHGKKTKPNTKDHGYTTLATSVTLLKASEVEEILDGNDEKYKAVSISTEPPTYLREQKAKRNSQWVPTLPNSSHHLDAVPCSTTINRNRMGRDKKRTFPLWCGCIAALTLRADSALVLHFDDHDPAVIHENASQPEVLVPIRLDMEIDGQKLRDAFTWNMNEKLMTPEMFSEILCDDLDLNPLTFVPAIASAIR',\n",
       " 'MMMMMMMKKMQHQRQQQADHANEANYARGTRLPLSGEGPTSQPNSSKQTVLSWQAAIDAARQAKAAQTMSTSAPPPVGSLSQRKRQQYAKSKKQGNSSNSRPARALFCLSLNNPIRRACISIVEWKPFDIFILLAIFANCVALAIYIPFPEDDSNSTNHNLEKVEYAFLIIFTVETFLKIIAYGLLLHPNAYVRNGWNLLDFVIVIVGLFSVILEQLTKETEGGNHSSGKSGGFDVKALRAFRVLRPLRLVSGVPSLQVVLNSIIKAM',\n",
       " 'MAMHNKAAPPQIPDTRRELAELVKRKQELAETLANLERQIYAFEGSYLEDTQMYGNIIRGWDRYLTNQKNSNSKNDRRNRKFKEAERLFSKSSVTSAAAVSALAGVQDQLIEKREPGSGTESDTSPDFHNQENEPSQEDPEDLDGSVQGVKPQKAASSTSSGSHHSSHKKRKNKNRHSPSGMFDYDFEIDLKLNKKPRADY',\n",
       " 'MAEMEKEGRPPENKRSRKPAHPVKREINEEMKNFAENTMNELLGWYGYDKVELKDGEDIEFRSYPTDGESRQHISVLKENSLPKPKLPEDSVISPYNISTGYSGLATGNGLSDSPAGSKDHGSVPIIVPLIPPPFIKPPAGTVGGDRCPSKYFRNFPSVLDSHESYKGVVNLQFNCLESINALLIFFGHWSEDDVSNVQIMCAWCQKVGIKRYSLSMGSEVKSFCSEKCFAACRRAYFKRNKARDEDGHAENFPQQHYAK',\n",
       " 'MASMLLAQRLACSFQHSYRLLVPGSRHISQAAAKVDVEFDYDGPLMKTEVPGPRSQELMKQLNIIQNAEAVHFFCNYEESRGNYLVDVDGNRMLDLYSQISSVPIGYSHPALLKLIQQPQNASMFVNRPALGILPPENFVEKLRQSLLSSKERGQRGFSQEELETCMINQAPGCPDYSILSFMGAFHGRTMGCLATTHSKAIHKIDIPSFDWPIAPFPRLKYPLEEFVKENQQEEARCLEEVEDLIVKYRKKKKTV',\n",
       " 'MMMMMMMKKMQHQRQHQEDHANEANYARGTRLPISGEGPTSQPNSSKQTVLSWQAAIDAARQAKAAQTMSTSAPPPVGSLSQRKRQQYAKSKKQGNSSNSRPARALFCLSLNNPIRRACISIVEWKPFDIFILLAIFANCVALAIYIPFPEDDSNSTNHNLEKVEYAFLIIFTVETFLKIIAYGLLLHPNAYVRNGWNLLDFVIVIVGLFSVILEQLTKETEGGNHSSGKSGGFDVKALRAFRVLRPLRLVSGVPSLQVVLNSIIKAM',\n",
       " 'MAEMEKEGRPPENKRSRKPAHPVKREINEEMKNFAENTMNELLGWYGYDKVELKDGEDIEFRSYPTDGESRQHISVLKENSLPKPKLPEDSVISPYNISTGYSGLATGNGLSDSPAGSKDHGSVPIIVPLIPPPFIKPPAGTVGGDRCPSKYFRNFPSVLDSHESYKGVVNLQFNCLESINALLIFFGHWSEDDVSNVQIMCAWCQKVGIKRYSLSMGSEVKSFCSEKCFAACRRAYFKRNKVCDWCKHIRHTKEYL']"
      ]
     },
     "execution_count": 8,
     "metadata": {},
     "output_type": "execute_result"
    }
   ],
   "source": [
    "desc=\"\"\"\n",
    "Design a protein with a structure resembling a common letter \"n\".\n",
    "\"\"\".strip()\n",
    "\n",
    "design(desc)"
   ]
  },
  {
   "cell_type": "code",
   "execution_count": 11,
   "metadata": {},
   "outputs": [
    {
     "data": {
      "text/plain": [
       "['MMMMALSKTFGQKPVKFQLEDDGEFYMIGSEVGNYLRMFRGSLYKRYPSLWRRLATVEERKKIVASSHGKKTKPNTKDHGYTTLATSVTLLKASEVEEILDGNDEKYKAVSISTEPPTYLREQKAKRNSQWVPTLPNSSHHLDAVPCSTTINRNRMGRDKKRTFPLCFDDHDPAVIHENASQPEVLVPIRLDMEIDGQKLRDAFTWNMNEKLMTPEMFSEILCDDLDLNPLTFVPAIASAIRQQIESYPTDSILEDQSDQR',\n",
       " 'MMMMALSKTFGQKPVKFQLEDDGEFYMIGSEVGNYLRMFRGSLYKRYPSLWRRLATVEERKKIVASSHGKKTKPNTKDHGYTTLATSVTLLKASEVEEILDGNDEKYKAVSISTEPPTYLREQKAKRNSQWVPTLPNSSHHLDAVPCSTTINRNRMGRDKKRTFPLCFDDHDPAVIHENASQPEVLVPIRLDMEIDGQKLRDAFTWNMNEKLMTPEMFSEILCDDLDLNPLTFVPAIASAIRQQIESYPTDSILEDQSDQR',\n",
       " 'MMMMALSKTFGQKPVKFQLEDDGEFYMIGSEVGNYLRMFRGSLYKRYPSLWRRLATVEERKKIVASSHGKKTKPNTKDHGYTTLATSVTLLKASEVEEILDGNDEKYKAVSISTEPPTYLREQKAKRNSQWVPTLPNSSHHLDAVPCSTTINRNRMGRDKKRTFPLCFDDHDPAVIHENASQPEVLVPIRLDMEIDGQKLRDAFTWNMNEKLMTPEMFSEILCDDLDLNPLTFVPAIASAIRQQIESYPTDSILEDQSDQR',\n",
       " 'MMMMALSKTFGQKPVKFQLEDDGEFYMIGSEVGNYLRMFRGSLYKRYPSLWRRLATVEERKKIVASSHGKKTKPNTKDHGYTTLATSVTLLKASEVEEILDGNDEKYKAVSISTEPPTYLREQKAKRNSQWVPTLPNSSHHLDAVPCSTTINRNRMGRDKKRTFPLCFDDHDPAVIHENASQPEVLVPIRLDMEIDGQKLRDAFTWNMNEKLMTPEMFSEILCDDLDLNPLTFVPAIASAIRQQIESYPTDSILEDQSDQR',\n",
       " 'MMMMALSKTFGQKPVKFQLEDDGEFYMIGSEVGNYLRMFRGSLYKRYPSLWRRLATVEERKKIVASSHGKKTKPNTKDHGYTTLATSVTLLKASEVEEILDGNDEKYKAVSISTEPPTYLREQKAKRNSQWVPTLPNSSHHLDAVPCSTTINRNRMGRDKKRTFPLCFDDHDPAVIHENASQPEVLVPIRLDMEIDGQKLRDAFTWNMNEKLMTPEMFSEILCDDLDLNPLTFVPAIASAIRQQIESYPTDSILEDQSDQR',\n",
       " 'MMMMALSKTFGQKPVKFQLEDDGEFYMIGSEVGNYLRMFRGSLYKRYPSLWRRLATVEERKKIVASSHGKKTKPNTKDHGYTTLATSVTLLKASEVEEILDGNDEKYKAVSISTEPPTYLREQKAKRNSQWVPTLPNSSHHLDAVPCSTTINRNRMGRDKKRTFPLCFDDHDPAVIHENASQPEVLVPIRLDMEIDGQKLRDAFTWNMNEKLMTPEMFSEILCDDLDLNPLTFVPAIASAIRQQIESYPTDSILEDQSDQR',\n",
       " 'MMMMALSKTFGQKPVKFQLEDDGEFYMIGSEVGNYLRMFRGSLYKRYPSLWRRLATVEERKKIVASSHGKKTKPNTKDHGYTTLATSVTLLKASEVEEILDGNDEKYKAVSISTEPPTYLREQKAKRNSQWVPTLPNSSHHLDAVPCSTTINRNRMGRDKKRTFPLCFDDHDPAVIHENASQPEVLVPIRLDMEIDGQKLRDAFTWNMNEKLMTPEMFSEILCDDLDLNPLTFVPAIASAIRQQIESYPTDSILEDQSDQR',\n",
       " 'MMMMALSKTFGQKPVKFQLEDDGEFYMIGSEVGNYLRMFRGSLYKRYPSLWRRLATVEERKKIVASSHGKKTKPNTKDHGYTTLATSVTLLKASEVEEILDGNDEKYKAVSISTEPPTYLREQKAKRNSQWVPTLPNSSHHLDAVPCSTTINRNRMGRDKKRTFPLCFDDHDPAVIHENASQPEVLVPIRLDMEIDGQKLRDAFTWNMNEKLMTPEMFSEILCDDLDLNPLTFVPAIASAIRQQIESYPTDSILEDQSDQR',\n",
       " 'MMMMALSKTFGQKPVKFQLEDDGEFYMIGSEVGNYLRMFRGSLYKRYPSLWRRLATVEERKKIVASSHGKKTKPNTKDHGYTTLATSVTLLKASEVEEILDGNDEKYKAVSISTEPPTYLREQKAKRNSQWVPTLPNSSHHLDAVPCSTTINRNRMGRDKKRTFPLCFDDHDPAVIHENASQPEVLVPIRLDMEIDGQKLRDAFTWNMNEKLMTPEMFSEILCDDLDLNPLTFVPAIASAIRQQIESYPTDSILEDQSDQR',\n",
       " 'MMMMALSKTFGQKPVKFQLEDDGEFYMIGSEVGNYLRMFRGSLYKRYPSLWRRLATVEERKKIVASSHGKKTKPNTKDHGYTTLATSVTLLKASEVEEILDGNDEKYKAVSISTEPPTYLREQKAKRNSQWVPTLPNSSHHLDAVPCSTTINRNRMGRDKKRTFPLCFDDHDPAVIHENASQPEVLVPIRLDMEIDGQKLRDAFTWNMNEKLMTPEMFSEILCDDLDLNPLTFVPAIASAIRQQIESYPTDSILEDQSDQR']"
      ]
     },
     "execution_count": 11,
     "metadata": {},
     "output_type": "execute_result"
    }
   ],
   "source": [
    "desc=\"\"\"\n",
    "The <protein>MMMMALSKTFGQKPVKFQLEDDGEFYMIGSEVGNYLRMFRGSLYKRYPSLWRRLATVEERKKIVASSHGKKTKPNTKDHGYTTLATSVTLLKASEVEEILDGNDEKYKAVSISTEPPTYLREQKAKRNSQWVPTLPNSSHHLDAVPCSTTINRNRMGRDKKRTFPLCFDDHDPAVIHENASQPEVLVPIRLDMEIDGQKLRDAFTWNMNEKLMTPEMFSEILCDDLDLNPLTFVPAIASAIRQQIESYPTDSILEDQSDQR</protein> folds like shape of the letter \"V\". Combine two of this sequence to make a protein that fold like the letter \"W\".\n",
    "\"\"\"\n",
    "\n",
    "design(desc)"
   ]
  },
  {
   "cell_type": "code",
   "execution_count": 13,
   "metadata": {},
   "outputs": [
    {
     "data": {
      "text/plain": [
       "['MAPLRPLLILALLAWVALADQESCKGRCTEGFNVDKKCQCDELCSYYQSCCTDYTAECKPQVTRGDVFTMPEDEYTVYDDGEEKNNATVHEQVGGPSLTSDLQAQSKGNPEQTPVLKPEEEAPAPEVGASKPEGIDSRPETLHPGRPQPPAEEELCSGKPFDAFTDLKNGSLFAFRGQYCYELDEKAVRPGYPKLIRDVWGIEGPIDAAFTRINCQGKTYLFKGSQYWRFEDGVLDPDYPRNISDGFDGIPDNVDAALALPAHSYS',\n",
       " 'MASGADSKGDDLSTAILKQKNRPNRLIVDEAINEDNSVVSLSQPKMDELQLFRGDTVLLKGKKRREAVCIVLSDDTCSDEKIRMNRVVRNNLRVRLGDVISIQPCPDVKYGKRIHVLPIDDTVEGITGNLFEVYLKPYFLEAYRPIRKGDIFLVRGGMRAVEFKVVETDPSPYCIVAPDTVIHCEGEPIKREDEEESLNEVGYDDIGGCRKQLAQIKEMVELPLRHPALFKAIGVKPPRGILLYGPPGTGKTLIARAVANETGAFFFLIN',\n",
       " 'MGLAMEHGGSYARAGGSSRGCWYYLRYFFLFVSLIQFLIILGLVLFMVYGNVHVSTESNLQATERRAEGLYSQLLGLTASQSNLTKELNFTTRAKDAIMQMWLNARRDLDRINASFRQCQGDRVIYTNNQRYMAAIILSEKQCRDQFKDMNKSCDALLFMLNQKVKTLEVEIAKEKTICTKDKESVLLNKRVAEEQLVECVKTRELQHQERQLAKEQLQKVQALCLPLDKDKFEMDLRNLWRDSIIPRSLDNLGYNLYHPLGS',\n",
       " 'MYDRPVASLKYVGPQKAARLTRLGIQTVGDLLWHFPRRYEDRRQLKELAAATPGEIITVQVTIKAWEEKEIRPRLRLFRALVQGRQGTGYALWFNQPFIKRQLPAGSEVILTGKVNYRGYVPEIQVSDYEALGQGDSGLHTGRIVPFYPLTAGLSQRWLRLIVYLALEEVQGELPEILPPSLCQRYRLLPRYQAIKYMHFPPDATALHQARRRLKYEELLVWELGLSLSRWQREAGLRGVAHTPDNGLVRQLIASLPFKLTRAQERVLAEILA',\n",
       " 'MLSCARWLRRPLTPPCRPVPLPLRGVFRTRAVVQRPPGSLQDVGYIAWLSKEFSPTGQRPRPPHICVCGWNSAGQLALNNIEPPCVPHLTMLPPWPGVRRVNRVACGWDFTYFVVEGDASSLLVCGSNKYGQLGLPSSVSLAMAATAHPLGTAHRIIRAAAGMRHGAVVTANGAVLTAGQGRHGQLGRPLADAASCDFAFEACAIPSELSSKTLVACGTQHTVIAHHATVWGCGANRHGQLGRHPTTRAEARRASTLLTRLTDFSVPI',\n",
       " 'MPANFTEGSFDSSGTGQTLDSSPVACTETVTFTEVVEGKEWGSFYYSFKTEQLITLWVLFVFTIVGNSVVLFSTWRRKKKSRMTFFVTQLAITDSFTGLVNILTDINWRFTGDFTAPDLVCRVVRYLQVVLLYASTYVLVSLSIDRYHAIVYPMKFLQGEKQARVLIVIAWSLSFLFSIPTLIIFGKRTLSNGEVQCWALWPDDSYWTPYMTIVAFLVYFIPLTIISIMYGIVIRTIWIKSKTYETVISNCSDGKLCSSYNRGLIS',\n",
       " 'MHDSESCCWNEKGFVMSPKYSRASRCAALFVSANLLFTPVAEACTRVVYHGADGEVITARSMDWTLDVGTNLWVFPRGMKRSGEAGPNSIRWTSKYGSVIASGYDVSTTDGMNEAGLVTNVLWLVESSYPEYDGKSPALSIAAWAQYVLDNFATVQEAVDVLAKQSFTIVTDKVPGQDRLATLHLSLSDATGDSAIIEFIGGKQVIHHSRDFQVMTNSPIFEKQLALNEYWKQIGGTVMLPGTNRASDRFARASFYVN',\n",
       " 'MAKFGVHRILLLAISLTKCLESTKLLADLKKCGDLECEALINRVSAMRDYRGPDCRYLNFTKGEEISVYVKLAGEREDLWAGSKGKEFGYFPRDAVQIEEVFISEEIQMSTKESDFLCLLGVSYTFDNEDSELNGDYGENIYPYEEDKDEKSSIYESDFQIEPGFYATYESTLFEDQVPALEAPEDIGSTSESKDWEEVVVESMEQDRIPEVHVPPSSAVSGVKEWFGLGGEQAEEKAFESVIEPVQESSFRSRKIAVEDENDLEELN',\n",
       " 'MPANFTEGSFDSSGTGQTLDSSPVACTETVTFTEVVEGKEWGSFYYSFKTEQLITLWVLFVFTIVGNSVVLFSTWRRKKKSRMTFFVTQLAITDSFTGLVNILTDINWRFTGDFTAPDLVCRVVRYLQVVLLYASTYVLVSLSIDRYHAIVYPMKFLQGEKQARVLIVIAWSLSFLFSIPTLIIFGKRTLSNGEVQCWALWPDDSYWTPYMTIVAFLVYFIPLTIISIMYGIVIRTIWIKSKTYETVISNCSDGKLCSSYNRGLL',\n",
       " 'MLSCARWLRRPLTPPCRPVPLPLRGVFRTRAVVQRPPGSLQDVGYIAWLSKEFSPTGQRPRPPHICVCGWNSAGQLALNNIEPPCVPHLTMLPPWPGVRRVNRVACGWDFTYFVVEGDASSLLVCGSNKYGQLGLPSSVSLAMAATAHPLGTAHRIIRAAAGMRHGAVVTANGAVLTAGQGRHGQLGRPLADAASCDFAFEACAIPSELSSKTLVACGTQHTVIAHHATVWGCGANRHGQLGRHPTTRAEARRASTLLTRLTDFSVPA']"
      ]
     },
     "execution_count": 13,
     "metadata": {},
     "output_type": "execute_result"
    }
   ],
   "source": [
    "desc=\"\"\"\n",
    "To design a protein in a 'V' shape using amino acids, envision two α-helices or β-strands as the arms, connected by a flexible loop at the vertex. Hydrophobic amino acids would line the interior for stability, while hydrophilic ones would face outward. The exact sequence and length would depend on the desired dimensions of the 'V', with the connecting loop's composition ensuring flexibility and the correct angle at the junction.\n",
    "\"\"\".strip()\n",
    "\n",
    "design(desc)"
   ]
  },
  {
   "cell_type": "code",
   "execution_count": 14,
   "metadata": {},
   "outputs": [
    {
     "data": {
      "text/plain": [
       "['MKTLQSTLLLLLLVPLIKPAPPTQQDSRIIYDYGTDNFEESIFSQDYEDKYLDGKNIKEKETVIIPNEKSLQLQKDEAITPLPPKKENDEMPTCLLCVCLSGSVYCEEVDIDAVPPLPKESAYLYARFNKIKKLTAKDFADIPNLRRLDFTGNLIEDIEDGTFSKLSLLEELSLAENQLLKLPVLPPKLTLFNAKYNKIKSRGIKANAFKKLNNLTFLYLDHNALESVPLNLPESLRVIHLQFNNIASITDDTFCKANDTSYIRDRIEEIRLEGNPIVLGKHP',\n",
       " 'MAGELADKKDRDVSPSKEERKRSRTPDRERDRDRDRKSSPSKDRKRHRSRDRRRGGSRSRSRSRSKSAERERRHKERDREKERDRNKKDRDRDKDGHRRDKDRKRSSLSPGRGKDFKSRKDRDPKKDGEDEHGDKKPKIQPLSLEELLAKKKAEEEAEAKPKFLSKAEREAEALKRRQQEVEERQRMLEEERKKRKQFQDLGRKMLEDPQERERRERRERMERETNGNEDEEGRQKIREEKDKSKELHAIKERYLGGIKKRRRTRHLNDRKFVFEWDAS',\n",
       " 'MMRVCWLVRQDSRHQRIRLPHLEAVVIGRGPETKITDKKCSRQQVQLKAECNKGYVKVKQVGVNPTSIDSVVIGKDQEVKLQPGQVLHMVNELYPYIVEFEEEAKNPGLETHRKRKRSGNSDSIERDAAQEAEAGTGLEPGSNSGQCSVPLKKGKDAPIKKESLGHWSQGLKISMQDPKMQVYKDEQVVVIKDKYPKARYHWLVLPWTSISSLKAVAREHLELLKHMHTVGEKVIVDFAGSSKLRFRLGYHAIPSMSHVHLHVI',\n",
       " 'MEREKFQQKALKQTKQKKSKSAEFLMVKEDREATEGTGNPAFNMSSPDLSACQTAEKKVIRHDMPDRTLAAHQQKFRLPASAEPKGNEYGRNYFDPLMDEEINPRQCATEVSREVCLMAKGEKAESGVDNTAGLSEKETQKNPRAPMDEADVKSAAHSSQGSIPKKIGPCSMDYDPNLLEEDDELHSQGDSLTDHSVKGKSTVWRIGEAEDYSQDISYLEELEEHRFSVCCSSVADSRYGDFFKHLHFVLVSASSEL',\n",
       " 'MAGSRQRGLRARVRPLFCALLLSLGRFVRGDGVGGDPAVALPHRRFEYKYSFKGPHLVQSDGTVPFWAHAGNAIPSSDQIRVAPSLKSQRGSVWTKTKAAFENWEVEVTFRVTGRGRIGADGLAIWYAENQGLEGPVFGSADLWNGVGIFFDSFDNDGKKNNPAIVIIGNNGQIHYDHQNDGASQALASCQRDFRNKPYPVRAKITYYQNTLTVMINNGFTPDKNDYEFCAKVENMIIPAQGHFGISAATGGLADDHDVLSFLTFQL',\n",
       " 'MEQRRPWPRALEVDSRSVVLLSVVWVLLAPPAAGMPQFSTFHSENRDWTFNHLTVHQGTGAVYVGAINRVYKLTGNLTIQVAHKTGPEEDNKSCYPPLIVQPCSEVLTLTNNVNKLLIIDYSENRLLACGSLYQGVCKLLRLDDLFILVEPSHKKEHYLSSVNKTGTMYGVIVRSEGEDGKLFIGTAVDGKQDYFPTLSSRKLPRDPESSAMLDYELHSDFVSSLIKIPSDTLALVSHFDIFYIYGFASGGFVYFLTVQPETPEGVAINSAG',\n",
       " 'MEREKFQQKALKQTKQKKSKSAEFLMVKEDREATEGTGNPAFNMSSPDLSACQTAEKKVIRHDMPDRTLAAHQQKFRLPASAEPKGNEYGRNYFDPLMDEEINPRQCATEVSREVCLMAKGEKAESGVDNTAGLSEKETQKNPRAPMDEADVKSAAHSSQGSIPKKIGPCSMDYDPNLLEEDDELHSQGDSLTDHSVKGKSTVWRIGEAEDYSQDISYLEELEEHRFSVCCSSVADSRYGDFFKHLHFVIENHTGPT',\n",
       " 'MEREKFQQKALKQTKQKKSKSAEFLMVKEDREATEGTGNPAFNMSSPDLSACQTAEKKVIRHDMPDRTLAAHQQKFRLPASAEPKGNEYGRNYFDPLMDEEINPRQCATEVSREVCLMAKGEKAESGVDNTAGLSEKETQKNPRAPMDEADVKSAAHSSQGSIPKKIGPCSMDYDPNLLEEDDELHSQGDSLTDHSVKGKSTVWRIGEAEDYSQDISYLEELEEHRFSVCCSSVADSRYGDFFKHLHFVTGTIQEC',\n",
       " 'MEREKFQQKALKQTKQKKSKSAEFLMVKEDREATEGTGNPAFNMSSPDLSACQTAEKKVIRHDMPDRTLAAHQQKFRLPASAEPKGNEYGRNYFDPLMDEEINPRQCATEVSREVCLMAKGEKAESGVDNTAGLSEKETQKNPRAPMDEADVKSAAHSSQGSIPKKIGPCSMDYDPNLLEEDDELHSQGDSLTDHSVKGKSTVWRIGEAEDYSQDISYLEELEEHRFSVCCSSVADSRYGDFFKHLHVIKPKNLIIL',\n",
       " 'MEREKFQQKALKQTKQKKSKSAEFLMVKEDREATEGTGNPAFNMSSPDLSACQTAEKKVIRHDMPDRTLAAHQQKFRLPASAEPKGNEYGRNYFDPLMDEEINPRQCATEVSREVCLMAKGEKAESGVDNTAGLSEKETQKNPRAPMDEADVKSAAHSSQGSIPKKIGPCSMDYDPNLLEEDDELHSQGDSLTDHSVKGKSTVWRIGEAEDYSQDISYLEELEEHRFSVCCSSVADSRYGDFFKHLHFVIENHTGPL']"
      ]
     },
     "execution_count": 14,
     "metadata": {},
     "output_type": "execute_result"
    }
   ],
   "source": [
    "desc=\"\"\"\n",
    "For a protein to fold into an 'O' shape, consider a structure where a single polypeptide chain forms a circular or toroidal arrangement. This could be achieved by designing a sequence that encourages the formation of a coiled coil that loops back onto itself, with the N- and C-termini positioned closely to facilitate bonding or interaction. Stabilizing interactions, such as disulfide bridges between cysteine residues near the termini, would help to maintain the circular shape. Hydrophobic residues would be oriented internally to stabilize the structure, with hydrophilic residues on the outer surface to interact with the aqueous environment.\n",
    "\"\"\"\n",
    "design(desc)"
   ]
  },
  {
   "cell_type": "code",
   "execution_count": 15,
   "metadata": {},
   "outputs": [
    {
     "data": {
      "text/plain": [
       "['MEHPSKMEFFQKLGYDREDVLRVLGKLGEGALVNDVLQELIRTGSRPGALEHLAAPRLVPRGSCGALDSAQRGPGTALEEDFGALASSLRPIVIDGSNVAMSHGNKETFSCRGIKLAVDWFRDRGHTYIKVFVPSWRKDPPRADTPIREQHVLAELERQAVLVYTPSRKVHGKRLVCYDDRYIVKVAYEQDGVIVSNDNYRDLQSENPEWKWFIEQRLLMFSFVNDRFMPPDDPLGRHGPSLTNFLSRKPKPPEPSWQHC',\n",
       " 'MEQRRPWPRALEVDSRSVVLLSVVWVLLAPPAAGMPQFSTFHSENRDWTFNHLTVHQGTGAVYVGAINRVYKLTGNLTIQVAHKTGPEEDNKSCYPPLIVQPCSEVLTLTNNVNKLLIIDYSENRLLACGSLYQGVCKLLRLDDLFILVEPSHKKEHYLSSVNKTGTMYGVIVRSEGEDGKLFIGTAVDGKQDYFPTLSSRKLPRDPESSAMLDYELHSDFVSSLIKIPSDTLALVSHFDIFYIYGFASGGFVYFLTVQPETPEGVAINSAG',\n",
       " 'MAGELADKKDRDVSPSKEERKRSRTPDRERDRDRDRKSSPSKDRKRHRSRDRRRGGSRSRSRSRSKSAERERRHKERDREKERDRNKKDRDRDKDGHRRDKDRKRSSLSPGRGKDFKSRKDRDPKKDGEDEHGDKKPKIQPLSLEELLAKKKAEEEAEAKPKFLSKAEREAEALKRRQQEVEERQRMLEEERKKRKQFQDLGRKMLEDPQERERRERRERMERETNGNEDEEGRQKIREEKDKSKELHAIKERYLGGIKKRRRTRHLNDRKFVFEWDAS',\n",
       " 'MLWQKPTAPEQAPAPARPYQGVRVKEPVKELLRRKRGHASSGAAPAPTAVVLPHQPLATYTTVGPSCLDMEGSVSAVTEEAALCAGWLSQPTPATLQPLAPWTPYTEYVPHEAVSCPYSADMYVQPVCPSYTVVGPSSVLTYASPPLITNVTTRSSATPAVGPPLEGPEHQAPLTYFPWPQPLSTLPTSTLQYQPPAPALPGPQFVQLPISIPEPVLQDMEDPRRAASSLTIDKLLLEEEDSDAYALNHTLSVEGF',\n",
       " 'MSITDVLSADDIAAALQECQDPDTFEPQKFFQTSGLSKMSASQVKDVFRFIDNDQSGYLDEEELKFFLQKFESGARELTESETKSLMAAADNDGDGKIGAEEFQEMVHS',\n",
       " 'MSITDVLSADDIAAALQECRDPDTFEPQKFFQTSGLSKMSANQVKDVFRFIDNDQSGYLDEEELKFFLQKFESGARELTESETKSLMAAADNDGDGKIGAEEFQEMVHS',\n",
       " 'MLWQKPTAPEQAPAPARPYQGVRVKEPVKELLRRKRGHASSGAAPAPTAVVLPHQPLATYTTVGPSCLDMEGSVSAVTEEAALCAGWLSQPTPATLQPLAPWTPYTEYVPHEAVSCPYSADMYVQPVCPSYTVVGPSSVLTYASPPLITNVTTRSSATPAVGPPLEGPEHQAPLTYFPWPQPLSTLPTSTLQYQPPAPALPGPQFVQLPISIPEPVLQDMEDPRRAASSLTIDKLLLEEEDSDAYALNHTLSVEGF',\n",
       " 'MLLILLSVALLALSSAESSSEDVSQEESLFLISGKPEGRRPQGGNQPQRPPPPPGKPQGPPPQGGNQSQGPPPPPGKPEGRPPQGGNQSQGPPPHPGKPERPPPQGGNQSQGTPPPPGKPERPPPQGGNQSHRPPPPPGKPERPPPQGGNQSQGPPPHPGKPEGPPPQEGNKSRSARSPPGKPQGPPQQEGNKPQGPPPPGKPQGPPPAGGNPQQPQAPPAGKPQGPPPPPQGGRPPRPAQGQQPPQ',\n",
       " 'MFKVIQRSVGPASLSLLTFKVYAAPKKDSPPKNSVKVDELSLYSVPEGQSKYVEEARSQLEESISQLRHYCEPYTTWCQETYSQTKPKMQSLVQWGLDSYDYLQNAPPGFFPRLGVIGFAGLIGLLLARGSKIKKLVYPPGFMGLAASLYYPQQAIVFAQVSGERLYDWGLRGYIVIEDLWKENFQKPGNVKNSPGTK',\n",
       " 'MLWQKPTAPEQAPAPARPYQGVRVKEPVKELLRRKRGHASSGAAPAPTAVVLPHQPLATYTTVGPSCLDMEGSVSAVTEEAALCAGWLSQPTPATLQPLAPWTPYTEYVPHEAVSCPYSADMYVQPVCPSYTVVGPSSVLTYASPPLITNVTTRSSATPAVGPPLEGPEHQAPLTYFPWPQPLSTLPTSTLQYQPPAPALPGPQFVQLPISIPEPVLQDMEDPRRAASSLTIDKLLLEEEDSDAYALNHTLSVEGF']"
      ]
     },
     "execution_count": 15,
     "metadata": {},
     "output_type": "execute_result"
    }
   ],
   "source": [
    "desc=\"\"\"\n",
    "To describe a protein folding into the shape of the letter 'O', envision a continuous loop formed by the polypeptide chain. This loop would create a circular or toroidal structure, with the chain curving around to form a closed ring, representing the 'O'.\n",
    "\"\"\"\n",
    "\n",
    "design(desc)"
   ]
  },
  {
   "cell_type": "code",
   "execution_count": null,
   "metadata": {},
   "outputs": [],
   "source": []
  }
 ],
 "metadata": {
  "kernelspec": {
   "display_name": "sfm",
   "language": "python",
   "name": "python3"
  },
  "language_info": {
   "codemirror_mode": {
    "name": "ipython",
    "version": 3
   },
   "file_extension": ".py",
   "mimetype": "text/x-python",
   "name": "python",
   "nbconvert_exporter": "python",
   "pygments_lexer": "ipython3",
   "version": "3.9.18"
  }
 },
 "nbformat": 4,
 "nbformat_minor": 2
}
