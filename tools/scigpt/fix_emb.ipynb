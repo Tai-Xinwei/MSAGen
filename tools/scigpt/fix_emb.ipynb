{
 "cells": [
  {
   "cell_type": "code",
   "execution_count": 1,
   "metadata": {},
   "outputs": [],
   "source": [
    "import os\n",
    "import glob\n",
    "import torch"
   ]
  },
  {
   "cell_type": "code",
   "execution_count": 10,
   "metadata": {},
   "outputs": [
    {
     "name": "stdout",
     "output_type": "stream",
     "text": [
      "dict_keys(['embed_tokens.weight'])\n",
      "torch.Size([32000, 4096]) torch.bfloat16 cpu\n"
     ]
    }
   ],
   "source": [
    "llama_emb_path=\"/hai1/mfm/ds_dataset/llama2/llama-2-7b/model.hybrid_emb.pt\"\n",
    "emb_ckpt=torch.load(llama_emb_path, map_location='cpu')\n",
    "print(emb_ckpt.keys())\n",
    "llama_emb=emb_ckpt['embed_tokens.weight']\n",
    "print(llama_emb.shape, llama_emb.dtype, llama_emb.device)"
   ]
  },
  {
   "cell_type": "code",
   "execution_count": 17,
   "metadata": {},
   "outputs": [
    {
     "name": "stdout",
     "output_type": "stream",
     "text": [
      "odict_keys(['embed_tokens.weight'])\n",
      "llama emb: shape: torch.Size([40014, 4096]), dtype: torch.bfloat16, device: cpu\n",
      "True\n"
     ]
    }
   ],
   "source": [
    "ckpt=torch.load(\"/hai1/mfm/shufxi/scigpt/7bv3/stageA_prot_e10_bs256_emb/global_step999/layer_00-model_states.pt\", map_location='cpu')\n",
    "print(ckpt.keys())\n",
    "emb=ckpt['embed_tokens.weight']\n",
    "print(f\"llama emb: shape: {emb.shape}, dtype: {emb.dtype}, device: {emb.device}\")\n",
    "print(torch.equal(llama_emb, emb[:llama_emb.shape[0]]))"
   ]
  },
  {
   "cell_type": "code",
   "execution_count": 15,
   "metadata": {},
   "outputs": [
    {
     "name": "stdout",
     "output_type": "stream",
     "text": [
      "emb from saved checkpoint before modify: shape: torch.Size([40014, 4096]), dtype: torch.bfloat16, device: cuda:0\n",
      "emb from saved checkpoint after modify: shape: torch.Size([40014, 4096]), dtype: torch.bfloat16, device: cuda:0\n",
      "emb from saved checkpoint before modify: shape: torch.Size([40014, 4096]), dtype: torch.bfloat16, device: cuda:0\n",
      "emb from saved checkpoint after modify: shape: torch.Size([40014, 4096]), dtype: torch.bfloat16, device: cuda:0\n",
      "emb from saved checkpoint before modify: shape: torch.Size([40014, 4096]), dtype: torch.bfloat16, device: cuda:0\n",
      "emb from saved checkpoint after modify: shape: torch.Size([40014, 4096]), dtype: torch.bfloat16, device: cuda:0\n",
      "emb from saved checkpoint before modify: shape: torch.Size([40014, 4096]), dtype: torch.bfloat16, device: cuda:0\n",
      "emb from saved checkpoint after modify: shape: torch.Size([40014, 4096]), dtype: torch.bfloat16, device: cuda:0\n",
      "emb from saved checkpoint before modify: shape: torch.Size([40014, 4096]), dtype: torch.bfloat16, device: cuda:0\n",
      "emb from saved checkpoint after modify: shape: torch.Size([40014, 4096]), dtype: torch.bfloat16, device: cuda:0\n",
      "emb from saved checkpoint before modify: shape: torch.Size([40014, 4096]), dtype: torch.bfloat16, device: cuda:0\n",
      "emb from saved checkpoint after modify: shape: torch.Size([40014, 4096]), dtype: torch.bfloat16, device: cuda:0\n",
      "emb from saved checkpoint before modify: shape: torch.Size([40014, 4096]), dtype: torch.bfloat16, device: cuda:0\n",
      "emb from saved checkpoint after modify: shape: torch.Size([40014, 4096]), dtype: torch.bfloat16, device: cuda:0\n",
      "emb from saved checkpoint before modify: shape: torch.Size([40014, 4096]), dtype: torch.bfloat16, device: cuda:0\n",
      "emb from saved checkpoint after modify: shape: torch.Size([40014, 4096]), dtype: torch.bfloat16, device: cuda:0\n",
      "emb from saved checkpoint before modify: shape: torch.Size([40014, 4096]), dtype: torch.bfloat16, device: cuda:0\n",
      "emb from saved checkpoint after modify: shape: torch.Size([40014, 4096]), dtype: torch.bfloat16, device: cuda:0\n",
      "emb from saved checkpoint before modify: shape: torch.Size([40014, 4096]), dtype: torch.bfloat16, device: cuda:0\n",
      "emb from saved checkpoint after modify: shape: torch.Size([40014, 4096]), dtype: torch.bfloat16, device: cuda:0\n",
      "emb from saved checkpoint before modify: shape: torch.Size([40014, 4096]), dtype: torch.bfloat16, device: cuda:0\n",
      "emb from saved checkpoint after modify: shape: torch.Size([40014, 4096]), dtype: torch.bfloat16, device: cuda:0\n",
      "emb from saved checkpoint before modify: shape: torch.Size([40014, 4096]), dtype: torch.bfloat16, device: cuda:0\n",
      "emb from saved checkpoint after modify: shape: torch.Size([40014, 4096]), dtype: torch.bfloat16, device: cuda:0\n",
      "emb from saved checkpoint before modify: shape: torch.Size([40014, 4096]), dtype: torch.bfloat16, device: cuda:0\n",
      "emb from saved checkpoint after modify: shape: torch.Size([40014, 4096]), dtype: torch.bfloat16, device: cuda:0\n",
      "emb from saved checkpoint before modify: shape: torch.Size([40014, 4096]), dtype: torch.bfloat16, device: cuda:0\n",
      "emb from saved checkpoint after modify: shape: torch.Size([40014, 4096]), dtype: torch.bfloat16, device: cuda:0\n"
     ]
    }
   ],
   "source": [
    "dir_name='/hai1/mfm/shufxi/scigpt/7bv3/stageA_prot_e10_bs256_emb'\n",
    "dirs = glob.glob(dir_name + '/global_step*')\n",
    "dirs.sort(key=lambda x: int(x.split('global_step')[-1]))\n",
    "key='embed_tokens.weight'\n",
    "for d in dirs:\n",
    "    fname = os.path.join(d, 'layer_00-model_states.pt')\n",
    "    ckpt = torch.load(fname)\n",
    "    emb=ckpt[key]\n",
    "    device=emb.device\n",
    "    print(f\"emb from saved checkpoint before modify: shape: {emb.shape}, dtype: {emb.dtype}, device: {emb.device}\")\n",
    "    emb[:llama_emb.shape[0]] = llama_emb[:]\n",
    "    emb=emb.to(device)\n",
    "    ckpt[key] = emb\n",
    "    torch.save(ckpt, fname)\n",
    "    ckpt = torch.load(fname)\n",
    "    emb=ckpt[key]\n",
    "    print(f\"emb from saved checkpoint after modify: shape: {emb.shape}, dtype: {emb.dtype}, device: {emb.device}\")"
   ]
  }
 ],
 "metadata": {
  "kernelspec": {
   "display_name": "sfm",
   "language": "python",
   "name": "python3"
  },
  "language_info": {
   "codemirror_mode": {
    "name": "ipython",
    "version": 3
   },
   "file_extension": ".py",
   "mimetype": "text/x-python",
   "name": "python",
   "nbconvert_exporter": "python",
   "pygments_lexer": "ipython3",
   "version": "3.9.19"
  }
 },
 "nbformat": 4,
 "nbformat_minor": 2
}
