{
 "cells": [
  {
   "cell_type": "code",
   "execution_count": 4,
   "metadata": {},
   "outputs": [
    {
     "name": "stdout",
     "output_type": "stream",
     "text": [
      "test.label\t      train.label.nosplit    train.pro.nosplit\n",
      "test.mol\t      train.mol\t\t     valid.label\n",
      "test.mol.can\t      train.mol.can\t     valid.mol\n",
      "test.mol.can.re       train.mol.can.re\t     valid.mol.can\n",
      "test.pro\t      train.mol.nosplit      valid.mol.can.re\n",
      "test.pro.addspace     train.pro\t\t     valid.pro\n",
      "test.pro.map.subword  train.pro.addspace     valid.pro.addspace\n",
      "train.label\t      train.pro.map.subword  valid.pro.map.subword\n"
     ]
    }
   ],
   "source": [
    "! ls /blob/v-qizhipei/data/BindingDB/processed/EC50"
   ]
  },
  {
   "cell_type": "code",
   "execution_count": 4,
   "metadata": {},
   "outputs": [
    {
     "name": "stdout",
     "output_type": "stream",
     "text": [
      "6.494850021680094\n"
     ]
    },
    {
     "name": "stdout",
     "output_type": "stream",
     "text": [
      "O=c1n2c(c(O)n1-c1ccc([N+](=O)[O-])c3ccccc13)CC(O)C2\n",
      "MEVQLGLGRVYPRPPSKTYRGAFQNLFQSVREVIQNPGPRHPEAASAAPPGASLLLLQQQQQQQQQQQQQQQQQQQQQQQETSPRQQQQQQGEDGSPQAHRRGPTGYLVLDEEQQPSQPQSALECHPERGCVPEPGAAVAASKGLPQQLPAPPDEDDSAAPSTLSLLGPTFPGLSSCSADLKDILSEASTMQLLQQQQQEAVSEGSSSGRAREASGAPTSSKDNYLGGTSTISDNAKELCKAVSVSMGLGVEALEHLSPGEQLRGDCMYAPLLGVPPAVRPTPCAPLAECKGSLLDDSAGKSTEDTAEYSPFKGGYTKGLEGESLGCSGSAAAGSSGTLELPSTLSLYKSGALDEAAAYQSRDYYNFPLALAGPPPPPPPPHPHARIKLENPLDYGSAWAAAAAQCRYGDLASLHGAGAAGPGSGSPSAAASSSWHTLFTAEEGQLYGPCGGGGGGGGGGGGGGGGGGGGGGGEAGAVAPYGYTRPPQGLAGQESDFTAPDVWYPGGMVSRVPYPSPTCVKSEMGPWMDSYSGPYGDMRLETARDHVLPIDYYFPPQKTCLICGDEASGCHYGALTCGSCKVFFKRAAEGKQKYLCASRNDCTIDKFRRKNCPSCRLRKCYEAGMTLGARKLKKLGNLKLQEEGEASSTTSPTEETTQKLTVSHIEGYECQPIFLNVLEAIEPGVVCAGHDNNQPDSFAALLSSLNELGERQLVHVVKWAKALPGFRNLHVDDQMAVIQYSWMGLMVFAMGWRSFTNVNSRMLYFAPDLVFNEYRMHKSRMYSQCVRMRHLSQEFGWLQITPQEFLCMKALLLFSIIPVDGLKNQKFFDELRMNYIKELDRIIACKRKNPTSCSRRFYQLTKLLDSVQPIARELHQFTFDLLIKSHMVSVDFPEMMAEIISVQVPKILSGKVKPIYFHTQ\n"
     ]
    }
   ],
   "source": [
    "! head /blob/v-qizhipei/data/BindingDB/processed/EC50/test.label -n 1\n",
    "! head /blob/v-qizhipei/data/BindingDB/processed/EC50/test.mol.can -n 1\n",
    "! head /blob/v-qizhipei/data/BindingDB/processed/EC50/test.pro -n 1"
   ]
  },
  {
   "cell_type": "code",
   "execution_count": 5,
   "metadata": {},
   "outputs": [
    {
     "name": "stdout",
     "output_type": "stream",
     "text": [
      "23772 /blob/v-qizhipei/data/BindingDB/processed/EC50/train.label\n"
     ]
    }
   ],
   "source": [
    "! wc -l /blob/v-qizhipei/data/BindingDB/processed/EC50/train.label"
   ]
  },
  {
   "cell_type": "code",
   "execution_count": 1,
   "metadata": {},
   "outputs": [],
   "source": [
    "templates = [\n",
    "    \"The protein with FASTA sequence {protein_fasta} can bind with the molecule with SMILES representation {molecule_smiles} with an affinity of {affinity_numer}.\",\n",
    "    \"With an affinity score of {affinity_numer}, the protein {protein_fasta} can bind to the molecule {molecule_smiles}.\",\n",
    "    \"The protein {protein_fasta} binds to the molecule {molecule_smiles} with an affinity value of {affinity_numer}.\",\n",
    "    \"An affinity of {affinity_numer} is observed when the protein {protein_fasta} binds with the molecule {molecule_smiles}.\",\n",
    "    \"The binding of the protein {protein_fasta} and the molecule {molecule_smiles} results in an affinity score of {affinity_numer}.\",\n",
    "    \"An affinity of {affinity_numer} is achieved when the protein {protein_fasta} binds with the molecule {molecule_smiles}.\",\n",
    "    \"The protein with FASTA sequence {protein_fasta} and the molecule with SMILES representation {molecule_smiles} have a binding affinity of {affinity_numer}.\",\n",
    "    \"Binding affinity of {affinity_numer} is observed between the protein {protein_fasta} and the molecule {molecule_smiles}.\",\n",
    "    \"The protein {protein_fasta} and the molecule {molecule_smiles} bind with an affinity of {affinity_numer}.\",\n",
    "    \"With a binding affinity of {affinity_numer}, the protein {protein_fasta} and the molecule {molecule_smiles} show potential for interaction.\",\n",
    "    \"The protein {protein_fasta} and the molecule {molecule_smiles} can potentially interact with a binding affinity of {affinity_numer}.\",\n",
    "    \"The protein {protein_fasta} shows a binding affinity of {affinity_numer} with the molecule {molecule_smiles}.\",\n",
    "    \"The protein {protein_fasta} and the molecule {molecule_smiles} have a potential interaction with a binding affinity of {affinity_numer}.\",\n",
    "    \"With a binding affinity of {affinity_numer}, the interaction between the protein {protein_fasta} and the molecule {molecule_smiles} is possible.\",\n",
    "    \"An interaction between the protein {protein_fasta} and the molecule {molecule_smiles} shows a binding affinity of {affinity_numer}.\",\n",
    "    \"Potential interaction between the protein {protein_fasta} and the molecule {molecule_smiles} has an affinity score of {affinity_numer}.\",\n",
    "    \"Binding between the protein {protein_fasta} and the molecule {molecule_smiles} results in an affinity score of {affinity_numer}.\",\n",
    "    \"With {affinity_numer} as the binding affinity, interaction between the protein {protein_fasta} and the molecule {molecule_smiles} is observed.\",\n",
    "    \"The protein {protein_fasta} interacts with the molecule {molecule_smiles} showing a binding affinity of {affinity_numer}.\",\n",
    "    \"An affinity value of {affinity_numer} is noted when the protein {protein_fasta} binds with the molecule {molecule_smiles}.\"\n",
    "]\n"
   ]
  },
  {
   "cell_type": "code",
   "execution_count": 2,
   "metadata": {},
   "outputs": [],
   "source": [
    "with open('/blob/v-qizhipei/data/BindingDB/processed/EC50/train.label') as f:\n",
    "    train_label = f.readlines()\n",
    "\n",
    "with open('/blob/v-qizhipei/data/BindingDB/processed/EC50/train.mol.can') as f:\n",
    "    train_mol = f.readlines()\n",
    "    \n",
    "with open('/blob/v-qizhipei/data/BindingDB/processed/EC50/train.pro') as f:\n",
    "    train_pro = f.readlines()\n",
    "    \n",
    "    "
   ]
  },
  {
   "cell_type": "code",
   "execution_count": 20,
   "metadata": {},
   "outputs": [
    {
     "name": "stdout",
     "output_type": "stream",
     "text": [
      "len 23772\n",
      "max 11.0\n",
      "min 2.0\n"
     ]
    }
   ],
   "source": [
    "train_label_numes = [float(i.strip()) for i in train_label]\n",
    "\n",
    "print('len', len(train_label_numes))\n",
    "\n",
    "print('max', max(train_label_numes))\n",
    "print('min', min(train_label_numes))\n"
   ]
  },
  {
   "cell_type": "code",
   "execution_count": 3,
   "metadata": {},
   "outputs": [],
   "source": [
    "import random\n"
   ]
  },
  {
   "cell_type": "code",
   "execution_count": 12,
   "metadata": {},
   "outputs": [
    {
     "name": "stdout",
     "output_type": "stream",
     "text": [
      "47544\n"
     ]
    }
   ],
   "source": [
    "output = []\n",
    "random.seed(1)\n",
    "\n",
    "replicate = 2\n",
    "\n",
    "while replicate > 0:\n",
    "    replicate -= 1\n",
    "\n",
    "    for prot, mol, label in zip(train_pro, train_mol, train_label):\n",
    "        prot = prot.strip()\n",
    "        mol = mol.strip()\n",
    "        label = float(label.strip())\n",
    "        \n",
    "        template = random.choice(templates)\n",
    "        text = template.format(\n",
    "            protein_fasta=f'<protein>{prot}</protein>',\n",
    "            molecule_smiles=f'<mol>{mol}</mol>',\n",
    "            affinity_numer=f'{label:.4f}')\n",
    "        \n",
    "        output.append(text)\n",
    "        \n",
    "print(len(output))"
   ]
  },
  {
   "cell_type": "code",
   "execution_count": 13,
   "metadata": {},
   "outputs": [
    {
     "data": {
      "text/plain": [
       "'The binding of the protein <protein>MEVRPKESWNHADFVHCEDTESVPGKPSVNADEEVGGPQICRVCGDKATGYHFNVMTCEGCKGFFRRAMKRNARLRCPFRKGACEITRKTRRQCQACRLRKCLESGMKKEMIMSDEAVEERRALIKRKKSERTGTQPLGVQGLTEEQRMMIRELMDAQMKTFDTTFSHFKNFRLPGVLSSGCELPESLQAPSREEAAKWSQVRKDLCSLKVSLQLRGEDGSVWNYKPPADSGGKEIFSLLPHMADMSTYMFKGIISFAKVISYFRDLPIEDQISLLKGAAFELCQLRFNTVFNAETGTWECGRLSYCLEDTAGGFQQLLLEPMLKFHYMLKKLQLHEEEYVLMQAISLFSPDRPGVLQHRVVDQLQEQFAITLKSYIECNRPQPAHRFLFLKIMAMLTELRSINAQHTQRLLRIQDIHPFATPLMQELFGITGS</protein> and the molecule <mol>O=C1C(=C2Nc3ccccc3S(=O)(=O)N2)C(=O)N(CCC2CC2)c2ccc(F)cc21</mol> results in an affinity score of 5.2757.'"
      ]
     },
     "execution_count": 13,
     "metadata": {},
     "output_type": "execute_result"
    }
   ],
   "source": [
    "output[0]"
   ]
  },
  {
   "cell_type": "code",
   "execution_count": 14,
   "metadata": {},
   "outputs": [
    {
     "data": {
      "text/plain": [
       "'With a binding affinity of 4.8827, the protein <protein>MQGPWVLLLLGLRLQLSLGVIPAEEENPAFWNRQAAEALDAAKKLQPIQKVAKNLILFLGDGLGVPTVTATRILKGQKNGKLGPETPLAMDRFPYLALSKTYNVDRQVPDSAATATAYLCGVKANFQTIGLSAAARFNQCNTTRGNEVISVMNRAKQAGKSVGVVTTTRVQHASPAGTYAHTVNRNWYSDADMPASARQEGCQDIATQLISNMDIDVILGGGRKYMFPMGTPDPEYPADASQNGIRLDGKNLVQEWLAKHQGAWYVWNRTELMQASLDQSVTHLMGLFEPGDTKYEIHRDPTLDPSLMEMTEAALRLLSRNPRGFYLFVEGGRIDHGHHEGVAYQALTEAVMFDDAIERAGQLTSEEDTLTLVTADHSHVFSFGGYTLRGSSIFGLAPSKAQDSKAYTSILYGNGPGYVFNSGVRPDVNESESGSPDYQQQAAVPLSSETHGGEDVAVFARGPQAHLVHGVQEQSFVAHVMAFAACLEPYTACDLAPPACTTDAAHPVAASLPLLAGTLLLLGASAAP</protein> and the molecule <mol>COC1=CC(=CNNC(=S)NCCc2ccccc2)C(=O)C=C1</mol> show potential for interaction.'"
      ]
     },
     "execution_count": 14,
     "metadata": {},
     "output_type": "execute_result"
    }
   ],
   "source": [
    "output[-1]"
   ]
  },
  {
   "cell_type": "code",
   "execution_count": 15,
   "metadata": {},
   "outputs": [],
   "source": [
    "! mkdir -p /blob/shufxi/data/scitpt/bindingdb_ec50\n",
    "with open('/blob/shufxi/data/scitpt/bindingdb_ec50/train_x2.txt', 'w') as f:\n",
    "    f.write('\\n'.join(output))"
   ]
  },
  {
   "cell_type": "code",
   "execution_count": null,
   "metadata": {},
   "outputs": [],
   "source": []
  }
 ],
 "metadata": {
  "kernelspec": {
   "display_name": "sfm",
   "language": "python",
   "name": "python3"
  },
  "language_info": {
   "codemirror_mode": {
    "name": "ipython",
    "version": 3
   },
   "file_extension": ".py",
   "mimetype": "text/x-python",
   "name": "python",
   "nbconvert_exporter": "python",
   "pygments_lexer": "ipython3",
   "version": "3.9.18"
  }
 },
 "nbformat": 4,
 "nbformat_minor": 2
}
