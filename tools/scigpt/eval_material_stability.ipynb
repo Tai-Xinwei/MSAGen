{
 "cells": [
  {
   "cell_type": "code",
   "execution_count": 1,
   "metadata": {},
   "outputs": [
    {
     "name": "stderr",
     "output_type": "stream",
     "text": [
      "/home/renqianluo/.conda/envs/matkin/lib/python3.9/site-packages/torch_geometric/typing.py:72: UserWarning: An issue occurred while importing 'torch-scatter'. Disabling its usage. Stacktrace: /home/renqianluo/.conda/envs/matkin/lib/python3.9/site-packages/torch_scatter/_version_cuda.so: undefined symbol: _ZN3c1017RegisterOperatorsD1Ev\n",
      "  warnings.warn(f\"An issue occurred while importing 'torch-scatter'. \"\n",
      "/home/renqianluo/.conda/envs/matkin/lib/python3.9/site-packages/torch_geometric/typing.py:110: UserWarning: An issue occurred while importing 'torch-sparse'. Disabling its usage. Stacktrace: /home/renqianluo/.conda/envs/matkin/lib/python3.9/site-packages/torch_sparse/_version_cuda.so: undefined symbol: _ZN3c1017RegisterOperatorsD1Ev\n",
      "  warnings.warn(f\"An issue occurred while importing 'torch-sparse'. \"\n"
     ]
    }
   ],
   "source": [
    "import os\n",
    "import numpy as np\n",
    "from ase import Atoms\n",
    "from ase.io import read, write\n",
    "from kinetics.forcefield.potential import Potential\n",
    "from kinetics.forcefield.potential import DeepCalculator\n",
    "from ase.optimize import FIRE, LBFGS, BFGSLineSearch\n",
    "from ase.constraints import ExpCellFilter\n",
    "from numpy import mean, sqrt, square\n",
    "from numpy.linalg import norm\n",
    "from pymatgen.entries.compatibility import (\n",
    "    MaterialsProject2020Compatibility,\n",
    "    Compatibility,\n",
    ")\n",
    "from pymatgen.entries.computed_entries import ComputedStructureEntry, ComputedEntry\n",
    "from pymatgen.io.ase import AseAtomsAdaptor\n",
    "from ase.build import bulk\n",
    "from pymatgen.io.vasp.sets import MPRelaxSet\n",
    "from pymatgen.analysis.phase_diagram import PhaseDiagram\n",
    "from pymatgen.ext.matproj import MPRester\n",
    "from glob import glob\n",
    "from tqdm import tqdm\n"
   ]
  },
  {
   "cell_type": "code",
   "execution_count": 2,
   "metadata": {},
   "outputs": [],
   "source": [
    "\n",
    "def get_stability_score_simple(atoms, calc, fname):\n",
    "    atoms_original = atoms.copy()\n",
    "    atoms.calc = calc\n",
    "    ecf = ExpCellFilter(atoms)\n",
    "    optimizer = FIRE(ecf, logfile=\"/dev/null\")\n",
    "\n",
    "    optimizer.run(fmax=0.1, steps=500)\n",
    "\n",
    "    write(fname, atoms)\n",
    "\n",
    "    atoms.get_positions() - atoms_original.get_positions()\n",
    "\n",
    "    rmsd = norm(atoms.get_positions() - atoms_original.get_positions(), ord=2)\n",
    "\n",
    "    pymatgen_structure = AseAtomsAdaptor.get_structure(atoms)\n",
    "    potential_energy = atoms.get_potential_energy()\n",
    "    computed_entry = ComputedStructureEntry(\n",
    "        pymatgen_structure,\n",
    "        potential_energy,\n",
    "        parameters={\n",
    "            \"hubbards\": {\n",
    "                \"Co\": 3.32,\n",
    "                \"Cr\": 3.7,\n",
    "                \"Fe\": 5.3,\n",
    "                \"Mn\": 3.9,\n",
    "                \"Mo\": 4.38,\n",
    "                \"Ni\": 6.2,\n",
    "                \"V\": 3.25,\n",
    "                \"W\": 6.2,\n",
    "            },\n",
    "            \"run_type\": \"GGA+U\",\n",
    "        },\n",
    "    )  # parameters= MPRelaxSet(pymatgen_structure).CONFIG[\"INCAR\"][\"LDAUU\"])\n",
    "    processed = MaterialsProject2020Compatibility(check_potcar=False).process_entry(\n",
    "        computed_entry, verbose=False, clean=True\n",
    "    )\n",
    "    if processed == None:\n",
    "        my_entry = computed_entry\n",
    "        potential_energy = potential_energy\n",
    "    else:\n",
    "        my_entry = processed\n",
    "        potential_energy = processed.energy\n",
    "\n",
    "    # Extract elements from the entry's composition\n",
    "    elements = [str(element) for element in my_entry.composition.elements]\n",
    "\n",
    "    # Obtain all entries in the relevant chemical system using the Materials Project API\n",
    "    with MPRester(\"ffxHEifcif9pfKRF7DRn70iPcQDAvG0k\") as mpr:\n",
    "        # Get all entries in the chemical system of the entry\n",
    "        entries = mpr.get_entries_in_chemsys(elements)\n",
    "\n",
    "    # Construct the phase diagram\n",
    "    pd = PhaseDiagram(entries)\n",
    "\n",
    "    # Get the energy above the hull for your material\n",
    "    try:\n",
    "        e_above_hull = pd.get_e_above_hull(my_entry)\n",
    "    except:\n",
    "        e_above_hull = 0\n",
    "\n",
    "    return atoms, rmsd, e_above_hull\n"
   ]
  },
  {
   "cell_type": "code",
   "execution_count": 3,
   "metadata": {},
   "outputs": [],
   "source": [
    "path = \"/blob/hai1data/renqian/SFM/threedimargen/outputs/3dargenlan_v0.1_base_mp_nomad_qmdb_ddp_noniggli_layer24_head16_epoch50_warmup8000_lr1e-4_wd0.1_bs256/instructv1_mat_sample/\"\n",
    "files = glob(os.path.join(path, \"*.cif\"))"
   ]
  },
  {
   "cell_type": "code",
   "execution_count": 3,
   "metadata": {},
   "outputs": [
    {
     "name": "stdout",
     "output_type": "stream",
     "text": [
      "Loading the model from /blob/ml_la/renqian/SFM/threedimargen/data/materials_data/mattersim/model_200epochs_3.5M.pth\n"
     ]
    }
   ],
   "source": [
    "\n",
    "\n",
    "potential = Potential.load(load_path=\"/blob/ml_la/renqian/SFM/threedimargen/data/materials_data/mattersim/model_200epochs_3.5M.pth\", device=\"cuda:0\")\n",
    "calculator = DeepCalculator(potential, stress_weight=1 / 160)\n"
   ]
  },
  {
   "cell_type": "code",
   "execution_count": 5,
   "metadata": {},
   "outputs": [],
   "source": [
    "files = [\"/blob/ml_la/renqian/SFM/threedimargen/outputs/3dargenlan_v0.1_base_mp_nomad_qmdb_ddp_noniggli_layer24_head16_epoch50_warmup8000_lr1e-4_wd0.1_bs256/instructv1_mat_sample/10018_0.cif\"]"
   ]
  },
  {
   "cell_type": "code",
   "execution_count": 8,
   "metadata": {},
   "outputs": [
    {
     "name": "stderr",
     "output_type": "stream",
     "text": [
      "  0%|          | 0/1 [00:00<?, ?it/s]/tmp/ipykernel_4050996/690313303.py:4: FutureWarning: Import ExpCellFilter from ase.filters\n",
      "  ecf = ExpCellFilter(atoms)\n",
      "Retrieving ThermoDoc documents: 100%|██████████| 267/267 [00:00<00:00, 4827065.38it/s]\n",
      "100%|██████████| 1/1 [00:06<00:00,  6.11s/it]"
     ]
    },
    {
     "name": "stdout",
     "output_type": "stream",
     "text": [
      "For /blob/ml_la/renqian/SFM/threedimargen/outputs/3dargenlan_v0.1_base_mp_nomad_qmdb_ddp_noniggli_layer24_head16_epoch50_warmup8000_lr1e-4_wd0.1_bs256/instructv1_mat_sample/10018_0.cif, RMSD: 0.5886914339037816 Angstrom, e_hull: 0.28969373235196016 eV/atom.\n"
     ]
    },
    {
     "name": "stderr",
     "output_type": "stream",
     "text": [
      "\n"
     ]
    }
   ],
   "source": [
    "with open(\"stability_results.txt\", \"w\") as f:\n",
    "    for fname in tqdm(files):\n",
    "        atoms = read(fname)\n",
    "        new_f = fname.split(\".cif\")[0] + \"_relaxed.cif\"\n",
    "        _, rmsd, e_above_hull = get_stability_score_simple(atoms=atoms, calc=calculator, fname=new_f)\n",
    "\n",
    "        # Write the results to the text file\n",
    "        f.write(f\"For {fname}, RMSD: {rmsd} Angstrom, e_hull: {e_above_hull} eV/atom.\\n\")\n",
    "        print(f\"For {fname}, RMSD: {rmsd} Angstrom, e_hull: {e_above_hull} eV/atom.\")"
   ]
  },
  {
   "cell_type": "code",
   "execution_count": null,
   "metadata": {},
   "outputs": [],
   "source": []
  }
 ],
 "metadata": {
  "kernelspec": {
   "display_name": "Python 3 (ipykernel)",
   "language": "python",
   "name": "python3"
  },
  "language_info": {
   "codemirror_mode": {
    "name": "ipython",
    "version": 3
   },
   "file_extension": ".py",
   "mimetype": "text/x-python",
   "name": "python",
   "nbconvert_exporter": "python",
   "pygments_lexer": "ipython3",
   "version": "3.11.9"
  }
 },
 "nbformat": 4,
 "nbformat_minor": 4
}
