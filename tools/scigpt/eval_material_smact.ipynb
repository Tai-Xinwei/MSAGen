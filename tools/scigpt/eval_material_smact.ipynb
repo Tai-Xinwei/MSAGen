{
 "cells": [
  {
   "cell_type": "code",
   "execution_count": 1,
   "metadata": {},
   "outputs": [],
   "source": [
    "import os\n",
    "import glob\n",
    "import re\n",
    "import pymatgen as mg\n",
    "from pymatgen.core import Structure\n",
    "from tqdm import tqdm\n",
    "#from evaluate_text2material import parse_material_string, smact_validity\n"
   ]
  },
  {
   "cell_type": "code",
   "execution_count": 2,
   "metadata": {},
   "outputs": [],
   "source": [
    "import numpy as np\n",
    "import itertools\n",
    "import smact\n",
    "from smact.screening import pauling_test\n",
    "\n",
    "\n",
    "def smact_validity(\n",
    "    comp: tuple[int, ...] | tuple[str, ...],\n",
    "    count: tuple[int, ...],\n",
    "    use_pauling_test: bool = True,\n",
    "    include_alloys: bool = True,\n",
    "    include_cutoff: bool = False,\n",
    "    use_element_symbol: bool = False,\n",
    ") -> bool:\n",
    "    \"\"\"Computes SMACT validity.\n",
    "\n",
    "    Args:\n",
    "        comp: Tuple of atomic number or element names of elements in a crystal.\n",
    "        count: Tuple of counts of elements in a crystal.\n",
    "        use_pauling_test: Whether to use electronegativity test. That is, at least in one\n",
    "            combination of oxidation states, the more positive the oxidation state of a site,\n",
    "            the lower the electronegativity of the element for all pairs of sites.\n",
    "        include_alloys: if True, returns True without checking charge balance or electronegativity\n",
    "            if the crystal is an alloy (consisting only of metals) (default: True).\n",
    "        include_cutoff: assumes valid crystal if the combination of oxidation states is more\n",
    "            than 10^6 (default: False).\n",
    "\n",
    "    Returns:\n",
    "        True if the crystal is valid, False otherwise.\n",
    "    \"\"\"\n",
    "    assert len(comp) == len(count)\n",
    "    if use_element_symbol:\n",
    "        elem_symbols = comp\n",
    "    else:\n",
    "        elem_symbols = tuple([get_element_symbol(Z=elem) for elem in comp])  # type:ignore\n",
    "    space = smact.element_dictionary(elem_symbols)\n",
    "    smact_elems = [e[1] for e in space.items()]\n",
    "    electronegs = [e.pauling_eneg for e in smact_elems]\n",
    "    ox_combos = [e.oxidation_states for e in smact_elems]\n",
    "    if len(set(elem_symbols)) == 1:\n",
    "        return True\n",
    "    if include_alloys:\n",
    "        is_metal_list = [elem_s in smact.metals for elem_s in elem_symbols]\n",
    "        if all(is_metal_list):\n",
    "            return True\n",
    "\n",
    "    threshold = np.max(count)\n",
    "    compositions = []\n",
    "    n_comb = np.prod([len(ls) for ls in ox_combos])\n",
    "    # If the number of possible combinations is big, it'd take too much time to run the smact checker\n",
    "    # In this case, we assum that at least one of the combinations is valid\n",
    "    if n_comb > 1e6 and include_cutoff:\n",
    "        return True\n",
    "    for ox_states in itertools.product(*ox_combos):\n",
    "        stoichs = [(c,) for c in count]\n",
    "        # Test for charge balance\n",
    "        cn_e, cn_r = smact.neutral_ratios(ox_states, stoichs=stoichs, threshold=threshold)\n",
    "        # Electronegativity test\n",
    "        if cn_e:\n",
    "            if use_pauling_test:\n",
    "                try:\n",
    "                    electroneg_OK = pauling_test(ox_states, electronegs)\n",
    "                except TypeError:\n",
    "                    # if no electronegativity data, assume it is okay\n",
    "                    electroneg_OK = True\n",
    "            else:\n",
    "                electroneg_OK = True\n",
    "            if electroneg_OK:\n",
    "                for ratio in cn_r:\n",
    "                    compositions.append(tuple([elem_symbols, ox_states, ratio]))\n",
    "    compositions = [(i[0], i[2]) for i in compositions]\n",
    "    compositions = list(set(compositions))\n",
    "    if len(compositions) > 0:\n",
    "        return True\n",
    "    else:\n",
    "        return False"
   ]
  },
  {
   "cell_type": "code",
   "execution_count": null,
   "metadata": {},
   "outputs": [],
   "source": [
    "path = \"../../instruct_mat_7b_beam4_06282024\"\n",
    "path = \"../../instruct_mat_8b_beam4_07022024\"\n",
    "path = \"/msralaphilly2/ml-la/renqian/SFM/threedimargen/outputs/3dargenlan_v0.1_base_mp_nomad_qmdb_ddp_noniggli_layer24_head16_epoch50_warmup8000_lr1e-4_wd0.1_bs256/instructv1_mat_sample/\"\n",
    "# load data\n",
    "files = glob.glob(os.path.join(path, \"*.cif\"))\n",
    "print(len(files))"
   ]
  },
  {
   "cell_type": "code",
   "execution_count": 10,
   "metadata": {},
   "outputs": [],
   "source": [
    "import pickle as pkl\n",
    "import re\n",
    "#path = \"/msralaphilly2/ml-la/yinxia/wu2/backup/SFM_for_material.20240430/instruct_mat_7b_beam4_06282024.pkl\"\n",
    "#path = \"/msralaphilly2/ml-la/yinxia/wu2/backup/SFM_for_material.20240430/instruct_mat_8b_beam4_07022024.pkl\"\n",
    "#path = \"/msralaphilly2/ml-la/yinxia/wu2/backup/SFM_for_material.20240430/instruct_mat_7b_beam4_07082024.pkl\"\n",
    "path = \"/msralaphilly2/ml-la/yinxia/wu2/backup/SFM_for_material.20240430/instruct_mat_8b_beam4_07092024.pkl\"\n",
    "#path = \"/msralaphilly2/ml-la/yinxia/wu2/backup/SFM_for_material.20240430/instructv1_mat_sample.pkl\"\n",
    "with open(path, \"rb\") as f:\n",
    "    data = pkl.load(f)\n",
    "res = []\n",
    "for i in range(len(data)):\n",
    "    if len(data[i][1]) == 0:\n",
    "        continue\n",
    "    seq = data[i][1][0]\n",
    "    # extract sequence in seq before <sg*> tag\n",
    "    elements = re.findall(r\"([A-Z][a-z]*)\", seq)\n",
    "    res.append(elements)\n",
    " "
   ]
  },
  {
   "cell_type": "code",
   "execution_count": 11,
   "metadata": {},
   "outputs": [
    {
     "name": "stderr",
     "output_type": "stream",
     "text": [
      "100%|██████████| 20000/20000 [00:15<00:00, 1331.99it/s]"
     ]
    },
    {
     "name": "stdout",
     "output_type": "stream",
     "text": [
      "Success: 16716, Fail: 3284, Total: 20000\n",
      "Success rate: 0.8358\n"
     ]
    },
    {
     "name": "stderr",
     "output_type": "stream",
     "text": [
      "\n"
     ]
    }
   ],
   "source": [
    "from collections import Counter\n",
    "from tqdm import tqdm\n",
    "import numpy as np\n",
    "\n",
    "ret_mat = {}\n",
    "fail, success, total = 0, 0, 0\n",
    "total = len(res)\n",
    "for structure in tqdm(res):\n",
    "    comp, count = [], []\n",
    "    temp = Counter(structure)\n",
    "    for k, v in temp.items():\n",
    "        comp.append(k)\n",
    "        count.append(v)\n",
    "    count = np.array(count)\n",
    "    count = count / np.gcd.reduce(count)\n",
    "    count = count.astype(int)\n",
    "    try:\n",
    "        if smact_validity(tuple(comp), tuple(count), use_element_symbol=True):\n",
    "            k = tuple([tuple(comp), tuple(count)])\n",
    "            if k not in ret_mat:\n",
    "                ret_mat[k] = 0\n",
    "            ret_mat[k] += 1\n",
    "            success += 1\n",
    "        else:\n",
    "            fail += 1\n",
    "        #print(f\"Failed: {structure}\")\n",
    "    except Exception as e:\n",
    "        fail += 1\n",
    "print(f\"Success: {success}, Fail: {fail}, Total: {total}\")\n",
    "print(f\"Success rate: {success/total:.4f}\")"
   ]
  },
  {
   "cell_type": "code",
   "execution_count": null,
   "metadata": {},
   "outputs": [],
   "source": [
    "ret_mat = {}\n",
    "fail, success, total = 0, 0, 0\n",
    "\n",
    "for fname in tqdm(files):\n",
    "    # read cif\n",
    "    total += 1\n",
    "    try:\n",
    "        structure = Structure.from_file(fname)\n",
    "        #sg = structure.get_space_group_info()[1]\n",
    "        sg = fname.split(\"_\")[-1].split(\".\")[0]\n",
    "        comp, count = [], []\n",
    "        for k, v in structure.composition.as_dict().items():\n",
    "            comp.append(k)\n",
    "            count.append(int(v))\n",
    "        if smact_validity(tuple(comp), tuple(count), use_element_symbol=True):\n",
    "            k = tuple([tuple(comp), tuple(count)])\n",
    "            v = sg\n",
    "            if k not in ret_mat:\n",
    "                ret_mat[k] = {}\n",
    "            if v not in ret_mat[k]:\n",
    "                ret_mat[k][v] = 0\n",
    "            ret_mat[k][v] += 1\n",
    "            success += 1\n",
    "        else:\n",
    "            fail += 1\n",
    "    except Exception as e:\n",
    "        print(f\"{fname}\\n{e}\")\n",
    "        fail += 1\n",
    "print(f\"success: {success}, fail: {fail}, total: {total}\")\n",
    "print(f\"success rate: {success/total:.2f}\")"
   ]
  },
  {
   "cell_type": "code",
   "execution_count": 24,
   "metadata": {},
   "outputs": [
    {
     "name": "stdout",
     "output_type": "stream",
     "text": [
      "unique success: 9109, total: 20000\n",
      "unique success rate: 0.46\n"
     ]
    }
   ],
   "source": [
    "# unique materials\n",
    "unique_success = 0\n",
    "for k, v in ret_mat.items():\n",
    "    unique_success += v #len(v)\n",
    "\n",
    "print(f\"unique success: {unique_success}, total: {total}\")\n",
    "print(f\"unique success rate: {unique_success/total:.2f}\")"
   ]
  },
  {
   "cell_type": "code",
   "execution_count": 25,
   "metadata": {},
   "outputs": [
    {
     "name": "stdout",
     "output_type": "stream",
     "text": [
      "unique number: 7116\n",
      "unique rate: 0.36\n"
     ]
    }
   ],
   "source": [
    "print(f\"unique number: {len(ret_mat.keys())}\")\n",
    "print(f\"unique rate: {len(ret_mat.keys())/total:.2f}\")"
   ]
  }
 ],
 "metadata": {
  "kernelspec": {
   "display_name": "Python 3 (ipykernel)",
   "language": "python",
   "name": "python3"
  },
  "language_info": {
   "codemirror_mode": {
    "name": "ipython",
    "version": 3
   },
   "file_extension": ".py",
   "mimetype": "text/x-python",
   "name": "python",
   "nbconvert_exporter": "python",
   "pygments_lexer": "ipython3",
   "version": "3.11.9"
  }
 },
 "nbformat": 4,
 "nbformat_minor": 4
}
