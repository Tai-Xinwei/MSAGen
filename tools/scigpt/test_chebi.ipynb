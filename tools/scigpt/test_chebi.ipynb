{
 "cells": [
  {
   "cell_type": "code",
   "execution_count": 1,
   "metadata": {},
   "outputs": [
    {
     "name": "stdout",
     "output_type": "stream",
     "text": [
      "3300\n",
      "exmaples:\n",
      "COC(=O)/C=C1/CC[C@H]2[C@@H]3CCC4=CC(=O)CC[C@]4(C)[C@H]3C(=O)C[C@]12C\n",
      "CC(=O)N[C@@H]1[C@@H](O[C@@H]2O[C@@H](C)[C@@H](O)[C@@H](O)[C@@H]2O)[C@H](O[C@@H]2O[C@H](CO)[C@@H](O)[C@H](O)[C@H]2NC(C)=O)[C@@H](CO[C@@H]2O[C@@H](C)[C@@H](O)[C@@H](O)[C@@H]2O)O[C@H]1O\n",
      "COc1cccc2[nH]cc(C/C(=N/OS(=O)(=O)[O-])S[C@@H]3O[C@H](CO)[C@@H](O)[C@H](O)[C@H]3O)c12\n",
      "CN(C)C(=O)C(CCN1CCC(O)(c2ccc(Cl)cc2)CC1)(c1ccccc1)c1ccccc1\n",
      "Cc1ncc(C[n+]2c(C(O)CCC(=O)O)sc(CCOP(=O)(O)OP(=O)(O)O)c2C)c(N)n1\n",
      "OC[C@@H](O)[C@@H](O)[C@H](O)[C@@H](O)CO\n",
      "CCCCCCCCCCCCCCCC/C=C\\OC[C@@H](O)COP(=O)(O)O\n",
      "O=[As]([O-])(O)c1ccccc1\n",
      "CCCCCCCCCCCC(=O)OC(=O)CCCCCCCCCCC\n",
      "Cc1cccc2c(C(=O)O)cc([O-])cc12\n"
     ]
    }
   ],
   "source": [
    "raw_label_path = '/hai1/shufxi/data/tamgent/chebi/test.textmol.smi'\n",
    "label = []\n",
    "\n",
    "with open(raw_label_path, 'r') as f:\n",
    "    for line in f:\n",
    "        line = line.replace('<start-of-mol>', '')\n",
    "        line = line.replace('<end-of-mol>', '')\n",
    "        line = line.replace('<m>', '')\n",
    "        line = line.replace(' ', '')\n",
    "        label.append(line.strip())\n",
    "\n",
    "print(len(label))\n",
    "print('exmaples:')\n",
    "for i in range(10):\n",
    "    print(label[i])"
   ]
  },
  {
   "cell_type": "code",
   "execution_count": 2,
   "metadata": {},
   "outputs": [],
   "source": [
    "import numpy as np\n",
    "\n",
    "from rdkit import Chem\n",
    "from rdkit.Chem import MACCSkeys\n",
    "from rdkit import DataStructs\n",
    "from rdkit.Chem import AllChem\n",
    "\n",
    "from rdkit import RDLogger\n",
    "RDLogger.DisableLog('rdApp.*')"
   ]
  },
  {
   "cell_type": "code",
   "execution_count": 3,
   "metadata": {},
   "outputs": [],
   "source": [
    "label_mol = []\n",
    "for smiles in label:\n",
    "    mol = Chem.MolFromSmiles(smiles)\n",
    "    label_mol.append(mol)"
   ]
  },
  {
   "cell_type": "code",
   "execution_count": 4,
   "metadata": {},
   "outputs": [],
   "source": [
    "from tqdm import tqdm"
   ]
  },
  {
   "cell_type": "code",
   "execution_count": 16,
   "metadata": {},
   "outputs": [],
   "source": [
    "# ref: https://github.com/blender-nlp/MolT5/blob/main/evaluation/fingerprint_metrics.py\n",
    "\n",
    "def evaluate(pred, morgan_r=2):\n",
    "    assert len(pred) == len(label_mol), f\"{len(pred)} != {len(label_mol)}\"\n",
    "    \n",
    "    bad_mols = 0\n",
    "    MACCS_sims = []\n",
    "    morgan_sims = []\n",
    "    RDK_sims = []\n",
    "    exact_match = 0\n",
    "    \n",
    "    for i, gt_m in enumerate(tqdm(label_mol)):\n",
    "        ot_m = Chem.MolFromSmiles(pred[i])\n",
    "        \n",
    "        if ot_m is None:\n",
    "            bad_mols += 1\n",
    "            continue\n",
    "\n",
    "        MACCS_sims.append(DataStructs.FingerprintSimilarity(MACCSkeys.GenMACCSKeys(gt_m), MACCSkeys.GenMACCSKeys(ot_m), metric=DataStructs.TanimotoSimilarity))\n",
    "        RDK_sims.append(DataStructs.FingerprintSimilarity(Chem.RDKFingerprint(gt_m), Chem.RDKFingerprint(ot_m), metric=DataStructs.TanimotoSimilarity))\n",
    "        morgan_sims.append(DataStructs.TanimotoSimilarity(AllChem.GetMorganFingerprint(gt_m,morgan_r), AllChem.GetMorganFingerprint(ot_m, morgan_r)))\n",
    "\n",
    "        if Chem.MolToSmiles(gt_m) == Chem.MolToSmiles(ot_m):\n",
    "            exact_match += 1\n",
    "\n",
    "    validity_score = 1 - (bad_mols/len(pred))\n",
    "    maccs_sims_score = np.mean(MACCS_sims)\n",
    "    rdk_sims_score = np.mean(RDK_sims)\n",
    "    morgan_sims_score = np.mean(morgan_sims)\n",
    "    exact_match_score = exact_match/len(pred)\n",
    "    \n",
    "    return validity_score, maccs_sims_score, rdk_sims_score, morgan_sims_score, exact_match_score"
   ]
  },
  {
   "cell_type": "code",
   "execution_count": 17,
   "metadata": {},
   "outputs": [
    {
     "name": "stderr",
     "output_type": "stream",
     "text": [
      "  1%|▏         | 43/3300 [00:00<00:07, 428.08it/s]"
     ]
    },
    {
     "name": "stderr",
     "output_type": "stream",
     "text": [
      "100%|██████████| 3300/3300 [00:05<00:00, 551.03it/s]\n"
     ]
    },
    {
     "name": "stdout",
     "output_type": "stream",
     "text": [
      "step 999 done.\n"
     ]
    },
    {
     "name": "stderr",
     "output_type": "stream",
     "text": [
      "100%|██████████| 3300/3300 [00:10<00:00, 319.04it/s]\n"
     ]
    },
    {
     "name": "stdout",
     "output_type": "stream",
     "text": [
      "step 1999 done.\n"
     ]
    },
    {
     "name": "stderr",
     "output_type": "stream",
     "text": [
      "100%|██████████| 3300/3300 [00:08<00:00, 367.11it/s]\n"
     ]
    },
    {
     "name": "stdout",
     "output_type": "stream",
     "text": [
      "step 2999 done.\n"
     ]
    },
    {
     "name": "stderr",
     "output_type": "stream",
     "text": [
      "100%|██████████| 3300/3300 [00:09<00:00, 345.52it/s]\n"
     ]
    },
    {
     "name": "stdout",
     "output_type": "stream",
     "text": [
      "step 3999 done.\n"
     ]
    },
    {
     "name": "stderr",
     "output_type": "stream",
     "text": [
      "100%|██████████| 3300/3300 [00:10<00:00, 329.13it/s]\n"
     ]
    },
    {
     "name": "stdout",
     "output_type": "stream",
     "text": [
      "step 4999 done.\n"
     ]
    },
    {
     "name": "stderr",
     "output_type": "stream",
     "text": [
      "100%|██████████| 3300/3300 [00:09<00:00, 336.80it/s]\n"
     ]
    },
    {
     "name": "stdout",
     "output_type": "stream",
     "text": [
      "step 5999 done.\n"
     ]
    },
    {
     "name": "stderr",
     "output_type": "stream",
     "text": [
      "100%|██████████| 3300/3300 [00:09<00:00, 335.16it/s]\n"
     ]
    },
    {
     "name": "stdout",
     "output_type": "stream",
     "text": [
      "step 6999 done.\n"
     ]
    },
    {
     "name": "stderr",
     "output_type": "stream",
     "text": [
      "100%|██████████| 3300/3300 [00:09<00:00, 337.82it/s]\n"
     ]
    },
    {
     "name": "stdout",
     "output_type": "stream",
     "text": [
      "step 7999 done.\n"
     ]
    },
    {
     "name": "stderr",
     "output_type": "stream",
     "text": [
      "100%|██████████| 3300/3300 [00:09<00:00, 330.52it/s]\n"
     ]
    },
    {
     "name": "stdout",
     "output_type": "stream",
     "text": [
      "step 8999 done.\n"
     ]
    },
    {
     "name": "stderr",
     "output_type": "stream",
     "text": [
      "100%|██████████| 3300/3300 [00:09<00:00, 335.06it/s]\n"
     ]
    },
    {
     "name": "stdout",
     "output_type": "stream",
     "text": [
      "step 9999 done.\n"
     ]
    },
    {
     "name": "stderr",
     "output_type": "stream",
     "text": [
      "100%|██████████| 3300/3300 [00:09<00:00, 334.13it/s]\n"
     ]
    },
    {
     "name": "stdout",
     "output_type": "stream",
     "text": [
      "step 10999 done.\n"
     ]
    },
    {
     "name": "stderr",
     "output_type": "stream",
     "text": [
      "100%|██████████| 3300/3300 [00:10<00:00, 323.56it/s]\n"
     ]
    },
    {
     "name": "stdout",
     "output_type": "stream",
     "text": [
      "step 11999 done.\n"
     ]
    },
    {
     "name": "stderr",
     "output_type": "stream",
     "text": [
      "100%|██████████| 3300/3300 [00:10<00:00, 328.57it/s]\n"
     ]
    },
    {
     "name": "stdout",
     "output_type": "stream",
     "text": [
      "step 12999 done.\n"
     ]
    },
    {
     "name": "stderr",
     "output_type": "stream",
     "text": [
      "100%|██████████| 3300/3300 [00:09<00:00, 331.88it/s]\n"
     ]
    },
    {
     "name": "stdout",
     "output_type": "stream",
     "text": [
      "step 13999 done.\n"
     ]
    },
    {
     "name": "stderr",
     "output_type": "stream",
     "text": [
      "100%|██████████| 3300/3300 [00:09<00:00, 332.31it/s]\n"
     ]
    },
    {
     "name": "stdout",
     "output_type": "stream",
     "text": [
      "step 14999 done.\n"
     ]
    },
    {
     "name": "stderr",
     "output_type": "stream",
     "text": [
      "100%|██████████| 3300/3300 [00:10<00:00, 327.67it/s]"
     ]
    },
    {
     "name": "stdout",
     "output_type": "stream",
     "text": [
      "step 15999 done.\n"
     ]
    },
    {
     "name": "stderr",
     "output_type": "stream",
     "text": [
      "\n"
     ]
    }
   ],
   "source": [
    "scores = []\n",
    "steps = [999, 1999, 2999, 3999, 4999, 5999, 6999, 7999, 8999, 9999, 10999, 11999, 12999, 13999, 14999, 15999]\n",
    "done_steps = []\n",
    "for step in steps:\n",
    "    pred_file = f'/hai1/shufxi/scigpt/stageB/eval/chebi/pred_step{step}.txt'\n",
    "    pred = [l.strip() for l in open(pred_file, 'r').readlines()]\n",
    "    if not pred:\n",
    "        continue\n",
    "    done_steps.append(step+1)\n",
    "    scores.append(evaluate(pred))\n",
    "    print(f'step {step} done.')"
   ]
  },
  {
   "cell_type": "code",
   "execution_count": 7,
   "metadata": {},
   "outputs": [],
   "source": [
    "import matplotlib.pyplot as plt"
   ]
  },
  {
   "cell_type": "code",
   "execution_count": 18,
   "metadata": {},
   "outputs": [
    {
     "data": {
      "image/png": "[encoded data removed]",
      "text/plain": [
       "<Figure size 1200x500 with 1 Axes>"
      ]
     },
     "metadata": {},
     "output_type": "display_data"
    }
   ],
   "source": [
    "plt.figure(figsize=(12, 5))\n",
    "plt.plot(scores)\n",
    "plt.legend(['Validity', 'MACCS', 'RDK', 'Morgan', 'Exact Match'])\n",
    "plt.xticks(range(len(done_steps)), done_steps)\n",
    "plt.xlabel('Step')\n",
    "plt.ylabel('Score')\n",
    "plt.grid(True)\n",
    "plt.show()"
   ]
  },
  {
   "cell_type": "code",
   "execution_count": 19,
   "metadata": {},
   "outputs": [
    {
     "data": {
      "text/plain": [
       "[(0.9948484848484849,\n",
       "  0.09403689192307714,\n",
       "  0.050892139827992726,\n",
       "  0.044494858040860646,\n",
       "  0.0006060606060606061),\n",
       " (0.9936363636363637,\n",
       "  0.5405054170171152,\n",
       "  0.3831501656162467,\n",
       "  0.2868020654492128,\n",
       "  0.006363636363636364),\n",
       " (0.9954545454545455,\n",
       "  0.57149224295412,\n",
       "  0.4219308914968858,\n",
       "  0.3388341900062965,\n",
       "  0.019393939393939394),\n",
       " (0.9984848484848485,\n",
       "  0.6390454282191109,\n",
       "  0.49496892855871183,\n",
       "  0.39583337811210906,\n",
       "  0.03363636363636364),\n",
       " (0.9942424242424243,\n",
       "  0.6725186300597971,\n",
       "  0.522077304496055,\n",
       "  0.41751668019104016,\n",
       "  0.039696969696969696),\n",
       " (0.9981818181818182,\n",
       "  0.6924501196265848,\n",
       "  0.558429565181245,\n",
       "  0.44943888305214674,\n",
       "  0.056666666666666664),\n",
       " (0.9984848484848485,\n",
       "  0.7019813539036689,\n",
       "  0.5640700022474103,\n",
       "  0.46551865716581725,\n",
       "  0.06818181818181818),\n",
       " (0.9987878787878788,\n",
       "  0.7219623580467674,\n",
       "  0.5908620356267044,\n",
       "  0.485127459327713,\n",
       "  0.08272727272727273),\n",
       " (0.996969696969697,\n",
       "  0.7331805497446485,\n",
       "  0.599823112296718,\n",
       "  0.49851015917491603,\n",
       "  0.08212121212121212),\n",
       " (0.9957575757575757,\n",
       "  0.722674256158321,\n",
       "  0.5916742894670483,\n",
       "  0.4974035220821153,\n",
       "  0.09757575757575758),\n",
       " (0.9978787878787879,\n",
       "  0.7431795605891317,\n",
       "  0.6153039015851388,\n",
       "  0.5122902752972428,\n",
       "  0.09848484848484848),\n",
       " (0.9978787878787879,\n",
       "  0.7579457379506193,\n",
       "  0.6333408126321641,\n",
       "  0.5326862864811708,\n",
       "  0.11424242424242424),\n",
       " (0.996969696969697,\n",
       "  0.7704547391566997,\n",
       "  0.6507681336071127,\n",
       "  0.5544237174654122,\n",
       "  0.1290909090909091),\n",
       " (0.9975757575757576,\n",
       "  0.7683415739461842,\n",
       "  0.6511519757446746,\n",
       "  0.5572316132197794,\n",
       "  0.1290909090909091),\n",
       " (0.9975757575757576,\n",
       "  0.7805257389181693,\n",
       "  0.6684366509661404,\n",
       "  0.5698485347731131,\n",
       "  0.14303030303030304),\n",
       " (0.9981818181818182,\n",
       "  0.7772851692424775,\n",
       "  0.6692597579325481,\n",
       "  0.5679498069139164,\n",
       "  0.14303030303030304)]"
      ]
     },
     "execution_count": 19,
     "metadata": {},
     "output_type": "execute_result"
    }
   ],
   "source": [
    "scores"
   ]
  },
  {
   "cell_type": "code",
   "execution_count": null,
   "metadata": {},
   "outputs": [],
   "source": []
  }
 ],
 "metadata": {
  "kernelspec": {
   "display_name": "sfm",
   "language": "python",
   "name": "python3"
  },
  "language_info": {
   "codemirror_mode": {
    "name": "ipython",
    "version": 3
   },
   "file_extension": ".py",
   "mimetype": "text/x-python",
   "name": "python",
   "nbconvert_exporter": "python",
   "pygments_lexer": "ipython3",
   "version": "3.8.17"
  }
 },
 "nbformat": 4,
 "nbformat_minor": 2
}
