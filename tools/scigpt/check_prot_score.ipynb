{
 "cells": [
  {
   "cell_type": "code",
   "execution_count": 1,
   "metadata": {},
   "outputs": [
    {
     "name": "stderr",
     "output_type": "stream",
     "text": [
      "/anaconda/envs/sfm2/lib/python3.9/site-packages/tqdm/auto.py:21: TqdmWarning: IProgress not found. Please update jupyter and ipywidgets. See https://ipywidgets.readthedocs.io/en/stable/user_install.html\n",
      "  from .autonotebook import tqdm as notebook_tqdm\n"
     ]
    },
    {
     "name": "stdout",
     "output_type": "stream",
     "text": [
      "[2024-03-08 08:45:41,517] [INFO] [real_accelerator.py:133:get_accelerator] Setting ds_accelerator to cuda (auto detect)\n"
     ]
    }
   ],
   "source": [
    "from sfm.data.sci_data.SFMDecTokenizer import SFMDecTokenizer\n",
    "import torch\n",
    "import os"
   ]
  },
  {
   "cell_type": "code",
   "execution_count": 2,
   "metadata": {},
   "outputs": [
    {
     "name": "stderr",
     "output_type": "stream",
     "text": [
      "The tokenizer class you load from this checkpoint is not the same type as the class this function is called from. It may result in unexpected tokenization. \n",
      "The tokenizer class you load from this checkpoint is 'LlamaTokenizer'. \n",
      "The class this function is called from is 'SFMDecTokenizer'.\n",
      "You are using the default legacy behaviour of the <class 'sfm.data.sci_data.SFMDecTokenizer.SFMDecTokenizer'>. This is expected, and simply means that the `legacy` (previous) behavior will be used so nothing changes for you. If you want to use the new behaviour, set `legacy=False`. This should only be set if you understand what it means, and thouroughly read the reason why this was added as explained in https://github.com/huggingface/transformers/pull/24565\n"
     ]
    },
    {
     "name": "stdout",
     "output_type": "stream",
     "text": [
      "[\u001b[32m2024-03-08 08:50:15.312\u001b[0m][\u001b[36mINFO\u001b[0m]: Loading protein sentencepiece model from /blob/shufxi/data/scigpt/ur50bpe/bpe.model and /blob/shufxi/data/scigpt/ur50bpe/bpe.vocab\n",
      "[\u001b[32m2024-03-08 08:50:16.195\u001b[0m][\u001b[36mINFO\u001b[0m]: Loading DNA sentencepiece model from /blob/shufxi/data/scigpt/dnabpe/bpe.model and /blob/shufxi/data/scigpt/dnabpe/bpe.vocab\n",
      "[\u001b[32m2024-03-08 08:50:16.445\u001b[0m][\u001b[36mINFO\u001b[0m]: Loading RNA sentencepiece model from /blob/shufxi/data/scigpt/rnabpe/bpe.model and /blob/shufxi/data/scigpt/rnabpe/bpe.vocab\n",
      "[\u001b[32m2024-03-08 08:50:16.954\u001b[0m][\u001b[36mINFO\u001b[0m]: Tokenizer has 40014 tokens\n"
     ]
    }
   ],
   "source": [
    "tokenizer_home = '/hai1/ds_dataset/llama2/llama-2-7b'\n",
    "tokenizer = SFMDecTokenizer.from_pretrained(\n",
    "    tokenizer_home,\n",
    "    prot_spm_path='/blob/shufxi/data/scigpt/ur50bpe/bpe',\n",
    "    dna_spm_path='/blob/shufxi/data/scigpt/dnabpe/bpe',\n",
    "    rna_spm_path='/blob/shufxi/data/scigpt/rnabpe/bpe',\n",
    ")"
   ]
  },
  {
   "cell_type": "code",
   "execution_count": 3,
   "metadata": {},
   "outputs": [
    {
     "name": "stderr",
     "output_type": "stream",
     "text": [
      "Loading checkpoint shards: 100%|██████████| 2/2 [00:27<00:00, 13.52s/it]\n"
     ]
    },
    {
     "name": "stdout",
     "output_type": "stream",
     "text": [
      "layer0 embed_tokens.weight torch.Size([40014, 4096])\n",
      "01 self_attn.q_proj.weight torch.Size([4096, 4096])\n",
      "01 self_attn.k_proj.weight torch.Size([4096, 4096])\n",
      "01 self_attn.v_proj.weight torch.Size([4096, 4096])\n",
      "01 self_attn.o_proj.weight torch.Size([4096, 4096])\n",
      "01 mlp.gate_proj.weight torch.Size([11008, 4096])\n",
      "01 mlp.up_proj.weight torch.Size([11008, 4096])\n",
      "01 mlp.down_proj.weight torch.Size([4096, 11008])\n",
      "01 input_layernorm.weight torch.Size([4096])\n",
      "01 post_attention_layernorm.weight torch.Size([4096])\n",
      "02 self_attn.q_proj.weight torch.Size([4096, 4096])\n",
      "02 self_attn.k_proj.weight torch.Size([4096, 4096])\n",
      "02 self_attn.v_proj.weight torch.Size([4096, 4096])\n",
      "02 self_attn.o_proj.weight torch.Size([4096, 4096])\n",
      "02 mlp.gate_proj.weight torch.Size([11008, 4096])\n",
      "02 mlp.up_proj.weight torch.Size([11008, 4096])\n",
      "02 mlp.down_proj.weight torch.Size([4096, 11008])\n",
      "02 input_layernorm.weight torch.Size([4096])\n",
      "02 post_attention_layernorm.weight torch.Size([4096])\n",
      "03 self_attn.q_proj.weight torch.Size([4096, 4096])\n",
      "03 self_attn.k_proj.weight torch.Size([4096, 4096])\n",
      "03 self_attn.v_proj.weight torch.Size([4096, 4096])\n",
      "03 self_attn.o_proj.weight torch.Size([4096, 4096])\n",
      "03 mlp.gate_proj.weight torch.Size([11008, 4096])\n",
      "03 mlp.up_proj.weight torch.Size([11008, 4096])\n",
      "03 mlp.down_proj.weight torch.Size([4096, 11008])\n",
      "03 input_layernorm.weight torch.Size([4096])\n",
      "03 post_attention_layernorm.weight torch.Size([4096])\n",
      "04 self_attn.q_proj.weight torch.Size([4096, 4096])\n",
      "04 self_attn.k_proj.weight torch.Size([4096, 4096])\n",
      "04 self_attn.v_proj.weight torch.Size([4096, 4096])\n",
      "04 self_attn.o_proj.weight torch.Size([4096, 4096])\n",
      "04 mlp.gate_proj.weight torch.Size([11008, 4096])\n",
      "04 mlp.up_proj.weight torch.Size([11008, 4096])\n",
      "04 mlp.down_proj.weight torch.Size([4096, 11008])\n",
      "04 input_layernorm.weight torch.Size([4096])\n",
      "04 post_attention_layernorm.weight torch.Size([4096])\n",
      "05 self_attn.q_proj.weight torch.Size([4096, 4096])\n",
      "05 self_attn.k_proj.weight torch.Size([4096, 4096])\n",
      "05 self_attn.v_proj.weight torch.Size([4096, 4096])\n",
      "05 self_attn.o_proj.weight torch.Size([4096, 4096])\n",
      "05 mlp.gate_proj.weight torch.Size([11008, 4096])\n",
      "05 mlp.up_proj.weight torch.Size([11008, 4096])\n",
      "05 mlp.down_proj.weight torch.Size([4096, 11008])\n",
      "05 input_layernorm.weight torch.Size([4096])\n",
      "05 post_attention_layernorm.weight torch.Size([4096])\n",
      "06 self_attn.q_proj.weight torch.Size([4096, 4096])\n",
      "06 self_attn.k_proj.weight torch.Size([4096, 4096])\n",
      "06 self_attn.v_proj.weight torch.Size([4096, 4096])\n",
      "06 self_attn.o_proj.weight torch.Size([4096, 4096])\n",
      "06 mlp.gate_proj.weight torch.Size([11008, 4096])\n",
      "06 mlp.up_proj.weight torch.Size([11008, 4096])\n",
      "06 mlp.down_proj.weight torch.Size([4096, 11008])\n",
      "06 input_layernorm.weight torch.Size([4096])\n",
      "06 post_attention_layernorm.weight torch.Size([4096])\n",
      "07 self_attn.q_proj.weight torch.Size([4096, 4096])\n",
      "07 self_attn.k_proj.weight torch.Size([4096, 4096])\n",
      "07 self_attn.v_proj.weight torch.Size([4096, 4096])\n",
      "07 self_attn.o_proj.weight torch.Size([4096, 4096])\n",
      "07 mlp.gate_proj.weight torch.Size([11008, 4096])\n",
      "07 mlp.up_proj.weight torch.Size([11008, 4096])\n",
      "07 mlp.down_proj.weight torch.Size([4096, 11008])\n",
      "07 input_layernorm.weight torch.Size([4096])\n",
      "07 post_attention_layernorm.weight torch.Size([4096])\n",
      "08 self_attn.q_proj.weight torch.Size([4096, 4096])\n",
      "08 self_attn.k_proj.weight torch.Size([4096, 4096])\n",
      "08 self_attn.v_proj.weight torch.Size([4096, 4096])\n",
      "08 self_attn.o_proj.weight torch.Size([4096, 4096])\n",
      "08 mlp.gate_proj.weight torch.Size([11008, 4096])\n",
      "08 mlp.up_proj.weight torch.Size([11008, 4096])\n",
      "08 mlp.down_proj.weight torch.Size([4096, 11008])\n",
      "08 input_layernorm.weight torch.Size([4096])\n",
      "08 post_attention_layernorm.weight torch.Size([4096])\n",
      "09 self_attn.q_proj.weight torch.Size([4096, 4096])\n",
      "09 self_attn.k_proj.weight torch.Size([4096, 4096])\n",
      "09 self_attn.v_proj.weight torch.Size([4096, 4096])\n",
      "09 self_attn.o_proj.weight torch.Size([4096, 4096])\n",
      "09 mlp.gate_proj.weight torch.Size([11008, 4096])\n",
      "09 mlp.up_proj.weight torch.Size([11008, 4096])\n",
      "09 mlp.down_proj.weight torch.Size([4096, 11008])\n",
      "09 input_layernorm.weight torch.Size([4096])\n",
      "09 post_attention_layernorm.weight torch.Size([4096])\n",
      "10 self_attn.q_proj.weight torch.Size([4096, 4096])\n",
      "10 self_attn.k_proj.weight torch.Size([4096, 4096])\n",
      "10 self_attn.v_proj.weight torch.Size([4096, 4096])\n",
      "10 self_attn.o_proj.weight torch.Size([4096, 4096])\n",
      "10 mlp.gate_proj.weight torch.Size([11008, 4096])\n",
      "10 mlp.up_proj.weight torch.Size([11008, 4096])\n",
      "10 mlp.down_proj.weight torch.Size([4096, 11008])\n",
      "10 input_layernorm.weight torch.Size([4096])\n",
      "10 post_attention_layernorm.weight torch.Size([4096])\n",
      "11 self_attn.q_proj.weight torch.Size([4096, 4096])\n",
      "11 self_attn.k_proj.weight torch.Size([4096, 4096])\n",
      "11 self_attn.v_proj.weight torch.Size([4096, 4096])\n",
      "11 self_attn.o_proj.weight torch.Size([4096, 4096])\n",
      "11 mlp.gate_proj.weight torch.Size([11008, 4096])\n",
      "11 mlp.up_proj.weight torch.Size([11008, 4096])\n",
      "11 mlp.down_proj.weight torch.Size([4096, 11008])\n",
      "11 input_layernorm.weight torch.Size([4096])\n",
      "11 post_attention_layernorm.weight torch.Size([4096])\n",
      "12 self_attn.q_proj.weight torch.Size([4096, 4096])\n",
      "12 self_attn.k_proj.weight torch.Size([4096, 4096])\n",
      "12 self_attn.v_proj.weight torch.Size([4096, 4096])\n",
      "12 self_attn.o_proj.weight torch.Size([4096, 4096])\n",
      "12 mlp.gate_proj.weight torch.Size([11008, 4096])\n",
      "12 mlp.up_proj.weight torch.Size([11008, 4096])\n",
      "12 mlp.down_proj.weight torch.Size([4096, 11008])\n",
      "12 input_layernorm.weight torch.Size([4096])\n",
      "12 post_attention_layernorm.weight torch.Size([4096])\n",
      "13 self_attn.q_proj.weight torch.Size([4096, 4096])\n",
      "13 self_attn.k_proj.weight torch.Size([4096, 4096])\n",
      "13 self_attn.v_proj.weight torch.Size([4096, 4096])\n",
      "13 self_attn.o_proj.weight torch.Size([4096, 4096])\n",
      "13 mlp.gate_proj.weight torch.Size([11008, 4096])\n",
      "13 mlp.up_proj.weight torch.Size([11008, 4096])\n",
      "13 mlp.down_proj.weight torch.Size([4096, 11008])\n",
      "13 input_layernorm.weight torch.Size([4096])\n",
      "13 post_attention_layernorm.weight torch.Size([4096])\n",
      "14 self_attn.q_proj.weight torch.Size([4096, 4096])\n",
      "14 self_attn.k_proj.weight torch.Size([4096, 4096])\n",
      "14 self_attn.v_proj.weight torch.Size([4096, 4096])\n",
      "14 self_attn.o_proj.weight torch.Size([4096, 4096])\n",
      "14 mlp.gate_proj.weight torch.Size([11008, 4096])\n",
      "14 mlp.up_proj.weight torch.Size([11008, 4096])\n",
      "14 mlp.down_proj.weight torch.Size([4096, 11008])\n",
      "14 input_layernorm.weight torch.Size([4096])\n",
      "14 post_attention_layernorm.weight torch.Size([4096])\n",
      "15 self_attn.q_proj.weight torch.Size([4096, 4096])\n",
      "15 self_attn.k_proj.weight torch.Size([4096, 4096])\n",
      "15 self_attn.v_proj.weight torch.Size([4096, 4096])\n",
      "15 self_attn.o_proj.weight torch.Size([4096, 4096])\n",
      "15 mlp.gate_proj.weight torch.Size([11008, 4096])\n",
      "15 mlp.up_proj.weight torch.Size([11008, 4096])\n",
      "15 mlp.down_proj.weight torch.Size([4096, 11008])\n",
      "15 input_layernorm.weight torch.Size([4096])\n",
      "15 post_attention_layernorm.weight torch.Size([4096])\n",
      "16 self_attn.q_proj.weight torch.Size([4096, 4096])\n",
      "16 self_attn.k_proj.weight torch.Size([4096, 4096])\n",
      "16 self_attn.v_proj.weight torch.Size([4096, 4096])\n",
      "16 self_attn.o_proj.weight torch.Size([4096, 4096])\n",
      "16 mlp.gate_proj.weight torch.Size([11008, 4096])\n",
      "16 mlp.up_proj.weight torch.Size([11008, 4096])\n",
      "16 mlp.down_proj.weight torch.Size([4096, 11008])\n",
      "16 input_layernorm.weight torch.Size([4096])\n",
      "16 post_attention_layernorm.weight torch.Size([4096])\n",
      "17 self_attn.q_proj.weight torch.Size([4096, 4096])\n",
      "17 self_attn.k_proj.weight torch.Size([4096, 4096])\n",
      "17 self_attn.v_proj.weight torch.Size([4096, 4096])\n",
      "17 self_attn.o_proj.weight torch.Size([4096, 4096])\n",
      "17 mlp.gate_proj.weight torch.Size([11008, 4096])\n",
      "17 mlp.up_proj.weight torch.Size([11008, 4096])\n",
      "17 mlp.down_proj.weight torch.Size([4096, 11008])\n",
      "17 input_layernorm.weight torch.Size([4096])\n",
      "17 post_attention_layernorm.weight torch.Size([4096])\n",
      "18 self_attn.q_proj.weight torch.Size([4096, 4096])\n",
      "18 self_attn.k_proj.weight torch.Size([4096, 4096])\n",
      "18 self_attn.v_proj.weight torch.Size([4096, 4096])\n",
      "18 self_attn.o_proj.weight torch.Size([4096, 4096])\n",
      "18 mlp.gate_proj.weight torch.Size([11008, 4096])\n",
      "18 mlp.up_proj.weight torch.Size([11008, 4096])\n",
      "18 mlp.down_proj.weight torch.Size([4096, 11008])\n",
      "18 input_layernorm.weight torch.Size([4096])\n",
      "18 post_attention_layernorm.weight torch.Size([4096])\n",
      "19 self_attn.q_proj.weight torch.Size([4096, 4096])\n",
      "19 self_attn.k_proj.weight torch.Size([4096, 4096])\n",
      "19 self_attn.v_proj.weight torch.Size([4096, 4096])\n",
      "19 self_attn.o_proj.weight torch.Size([4096, 4096])\n",
      "19 mlp.gate_proj.weight torch.Size([11008, 4096])\n",
      "19 mlp.up_proj.weight torch.Size([11008, 4096])\n",
      "19 mlp.down_proj.weight torch.Size([4096, 11008])\n",
      "19 input_layernorm.weight torch.Size([4096])\n",
      "19 post_attention_layernorm.weight torch.Size([4096])\n",
      "20 self_attn.q_proj.weight torch.Size([4096, 4096])\n",
      "20 self_attn.k_proj.weight torch.Size([4096, 4096])\n",
      "20 self_attn.v_proj.weight torch.Size([4096, 4096])\n",
      "20 self_attn.o_proj.weight torch.Size([4096, 4096])\n",
      "20 mlp.gate_proj.weight torch.Size([11008, 4096])\n",
      "20 mlp.up_proj.weight torch.Size([11008, 4096])\n",
      "20 mlp.down_proj.weight torch.Size([4096, 11008])\n",
      "20 input_layernorm.weight torch.Size([4096])\n",
      "20 post_attention_layernorm.weight torch.Size([4096])\n",
      "21 self_attn.q_proj.weight torch.Size([4096, 4096])\n",
      "21 self_attn.k_proj.weight torch.Size([4096, 4096])\n",
      "21 self_attn.v_proj.weight torch.Size([4096, 4096])\n",
      "21 self_attn.o_proj.weight torch.Size([4096, 4096])\n",
      "21 mlp.gate_proj.weight torch.Size([11008, 4096])\n",
      "21 mlp.up_proj.weight torch.Size([11008, 4096])\n",
      "21 mlp.down_proj.weight torch.Size([4096, 11008])\n",
      "21 input_layernorm.weight torch.Size([4096])\n",
      "21 post_attention_layernorm.weight torch.Size([4096])\n",
      "22 self_attn.q_proj.weight torch.Size([4096, 4096])\n",
      "22 self_attn.k_proj.weight torch.Size([4096, 4096])\n",
      "22 self_attn.v_proj.weight torch.Size([4096, 4096])\n",
      "22 self_attn.o_proj.weight torch.Size([4096, 4096])\n",
      "22 mlp.gate_proj.weight torch.Size([11008, 4096])\n",
      "22 mlp.up_proj.weight torch.Size([11008, 4096])\n",
      "22 mlp.down_proj.weight torch.Size([4096, 11008])\n",
      "22 input_layernorm.weight torch.Size([4096])\n",
      "22 post_attention_layernorm.weight torch.Size([4096])\n",
      "23 self_attn.q_proj.weight torch.Size([4096, 4096])\n",
      "23 self_attn.k_proj.weight torch.Size([4096, 4096])\n",
      "23 self_attn.v_proj.weight torch.Size([4096, 4096])\n",
      "23 self_attn.o_proj.weight torch.Size([4096, 4096])\n",
      "23 mlp.gate_proj.weight torch.Size([11008, 4096])\n",
      "23 mlp.up_proj.weight torch.Size([11008, 4096])\n",
      "23 mlp.down_proj.weight torch.Size([4096, 11008])\n",
      "23 input_layernorm.weight torch.Size([4096])\n",
      "23 post_attention_layernorm.weight torch.Size([4096])\n",
      "24 self_attn.q_proj.weight torch.Size([4096, 4096])\n",
      "24 self_attn.k_proj.weight torch.Size([4096, 4096])\n",
      "24 self_attn.v_proj.weight torch.Size([4096, 4096])\n",
      "24 self_attn.o_proj.weight torch.Size([4096, 4096])\n",
      "24 mlp.gate_proj.weight torch.Size([11008, 4096])\n",
      "24 mlp.up_proj.weight torch.Size([11008, 4096])\n",
      "24 mlp.down_proj.weight torch.Size([4096, 11008])\n",
      "24 input_layernorm.weight torch.Size([4096])\n",
      "24 post_attention_layernorm.weight torch.Size([4096])\n",
      "25 self_attn.q_proj.weight torch.Size([4096, 4096])\n",
      "25 self_attn.k_proj.weight torch.Size([4096, 4096])\n",
      "25 self_attn.v_proj.weight torch.Size([4096, 4096])\n",
      "25 self_attn.o_proj.weight torch.Size([4096, 4096])\n",
      "25 mlp.gate_proj.weight torch.Size([11008, 4096])\n",
      "25 mlp.up_proj.weight torch.Size([11008, 4096])\n",
      "25 mlp.down_proj.weight torch.Size([4096, 11008])\n",
      "25 input_layernorm.weight torch.Size([4096])\n",
      "25 post_attention_layernorm.weight torch.Size([4096])\n",
      "26 self_attn.q_proj.weight torch.Size([4096, 4096])\n",
      "26 self_attn.k_proj.weight torch.Size([4096, 4096])\n",
      "26 self_attn.v_proj.weight torch.Size([4096, 4096])\n",
      "26 self_attn.o_proj.weight torch.Size([4096, 4096])\n",
      "26 mlp.gate_proj.weight torch.Size([11008, 4096])\n",
      "26 mlp.up_proj.weight torch.Size([11008, 4096])\n",
      "26 mlp.down_proj.weight torch.Size([4096, 11008])\n",
      "26 input_layernorm.weight torch.Size([4096])\n",
      "26 post_attention_layernorm.weight torch.Size([4096])\n",
      "27 self_attn.q_proj.weight torch.Size([4096, 4096])\n",
      "27 self_attn.k_proj.weight torch.Size([4096, 4096])\n",
      "27 self_attn.v_proj.weight torch.Size([4096, 4096])\n",
      "27 self_attn.o_proj.weight torch.Size([4096, 4096])\n",
      "27 mlp.gate_proj.weight torch.Size([11008, 4096])\n",
      "27 mlp.up_proj.weight torch.Size([11008, 4096])\n",
      "27 mlp.down_proj.weight torch.Size([4096, 11008])\n",
      "27 input_layernorm.weight torch.Size([4096])\n",
      "27 post_attention_layernorm.weight torch.Size([4096])\n",
      "28 self_attn.q_proj.weight torch.Size([4096, 4096])\n",
      "28 self_attn.k_proj.weight torch.Size([4096, 4096])\n",
      "28 self_attn.v_proj.weight torch.Size([4096, 4096])\n",
      "28 self_attn.o_proj.weight torch.Size([4096, 4096])\n",
      "28 mlp.gate_proj.weight torch.Size([11008, 4096])\n",
      "28 mlp.up_proj.weight torch.Size([11008, 4096])\n",
      "28 mlp.down_proj.weight torch.Size([4096, 11008])\n",
      "28 input_layernorm.weight torch.Size([4096])\n",
      "28 post_attention_layernorm.weight torch.Size([4096])\n",
      "29 self_attn.q_proj.weight torch.Size([4096, 4096])\n",
      "29 self_attn.k_proj.weight torch.Size([4096, 4096])\n",
      "29 self_attn.v_proj.weight torch.Size([4096, 4096])\n",
      "29 self_attn.o_proj.weight torch.Size([4096, 4096])\n",
      "29 mlp.gate_proj.weight torch.Size([11008, 4096])\n",
      "29 mlp.up_proj.weight torch.Size([11008, 4096])\n",
      "29 mlp.down_proj.weight torch.Size([4096, 11008])\n",
      "29 input_layernorm.weight torch.Size([4096])\n",
      "29 post_attention_layernorm.weight torch.Size([4096])\n",
      "30 self_attn.q_proj.weight torch.Size([4096, 4096])\n",
      "30 self_attn.k_proj.weight torch.Size([4096, 4096])\n",
      "30 self_attn.v_proj.weight torch.Size([4096, 4096])\n",
      "30 self_attn.o_proj.weight torch.Size([4096, 4096])\n",
      "30 mlp.gate_proj.weight torch.Size([11008, 4096])\n",
      "30 mlp.up_proj.weight torch.Size([11008, 4096])\n",
      "30 mlp.down_proj.weight torch.Size([4096, 11008])\n",
      "30 input_layernorm.weight torch.Size([4096])\n",
      "30 post_attention_layernorm.weight torch.Size([4096])\n",
      "31 self_attn.q_proj.weight torch.Size([4096, 4096])\n",
      "31 self_attn.k_proj.weight torch.Size([4096, 4096])\n",
      "31 self_attn.v_proj.weight torch.Size([4096, 4096])\n",
      "31 self_attn.o_proj.weight torch.Size([4096, 4096])\n",
      "31 mlp.gate_proj.weight torch.Size([11008, 4096])\n",
      "31 mlp.up_proj.weight torch.Size([11008, 4096])\n",
      "31 mlp.down_proj.weight torch.Size([4096, 11008])\n",
      "31 input_layernorm.weight torch.Size([4096])\n",
      "31 post_attention_layernorm.weight torch.Size([4096])\n",
      "32 self_attn.q_proj.weight torch.Size([4096, 4096])\n",
      "32 self_attn.k_proj.weight torch.Size([4096, 4096])\n",
      "32 self_attn.v_proj.weight torch.Size([4096, 4096])\n",
      "32 self_attn.o_proj.weight torch.Size([4096, 4096])\n",
      "32 mlp.gate_proj.weight torch.Size([11008, 4096])\n",
      "32 mlp.up_proj.weight torch.Size([11008, 4096])\n",
      "32 mlp.down_proj.weight torch.Size([4096, 11008])\n",
      "32 input_layernorm.weight torch.Size([4096])\n",
      "32 post_attention_layernorm.weight torch.Size([4096])\n",
      "33 norm.weight torch.Size([4096])\n",
      "33 lm_head.weight torch.Size([40014, 4096])\n",
      "33 num_head.fc1.weight torch.Size([16384, 4096])\n",
      "33 num_head.fc1.bias torch.Size([16384])\n",
      "33 num_head.fc2.weight torch.Size([1, 16384])\n",
      "33 num_head.fc2.bias torch.Size([1])\n"
     ]
    },
    {
     "data": {
      "text/plain": [
       "<All keys matched successfully>"
      ]
     },
     "execution_count": 3,
     "metadata": {},
     "output_type": "execute_result"
    }
   ],
   "source": [
    "from transformers import AutoTokenizer, AutoModelForCausalLM\n",
    "# ckpt_home = '/hai1/shufxi/scigpt/7bv2/stageB/global_step26999/'\n",
    "\n",
    "# ckpt_home = '/hai1/shufxi/scigpt/7bv3/stageB/global_step11999'\n",
    "# ckpt_home = '/blob/shufxi/scigpt/7bv3/inst/20240227121523/global_step3585/'\n",
    "# ckpt_home = '/blob/shufxi/scigpt/7bv3/prot/20240228025826/global_step11715'\n",
    "ckpt_home = '/hai1/shufxi/scigpt/7bv3/stageB.prot/global_step105720'\n",
    "\n",
    "def show_ckpt(name, ckpt):\n",
    "    for k, v in ckpt.items():\n",
    "        if 'dummy' not in k:\n",
    "            print(name, k, v.shape)\n",
    "\n",
    "model = AutoModelForCausalLM.from_pretrained(tokenizer_home)\n",
    "\n",
    "model_dict = model.state_dict()\n",
    "ckpt_dict = {}\n",
    "layer0 = torch.load(os.path.join(ckpt_home, \"layer_00-model_states.pt\"), map_location=torch.device(\"cpu\"))\n",
    "ckpt_dict['model.embed_tokens.weight'] = layer0['embed_tokens.weight']\n",
    "show_ckpt('layer0', layer0)\n",
    "\n",
    "for l in range(0, 32):\n",
    "    l_index = str(l + 1).zfill(2)\n",
    "    layer = torch.load(os.path.join(ckpt_home, f\"layer_{l_index}-model_states.pt\"), map_location=torch.device(\"cpu\"))\n",
    "    show_ckpt(l_index, layer)\n",
    "    for k in layer:\n",
    "        if \"dummy\" in k or 'rotary_emb' in k:\n",
    "            continue\n",
    "        ckpt_dict[f\"model.layers.{l}.{k}\"] = layer[k]\n",
    "layer = torch.load(os.path.join(ckpt_home, \"layer_33-model_states.pt\"), map_location=torch.device(\"cpu\"))\n",
    "show_ckpt(33, layer)\n",
    "ckpt_dict[\"model.norm.weight\"] = layer[\"norm.weight\"]\n",
    "\n",
    "layer = torch.load(os.path.join(ckpt_home, \"layer_34-model_states.pt\"), map_location=torch.device(\"cpu\"))\n",
    "show_ckpt(33, layer)\n",
    "ckpt_dict[\"lm_head.weight\"] = layer[\"lm_head.weight\"]\n",
    "model_dict.update(ckpt_dict)\n",
    "\n",
    "model.resize_token_embeddings(len(tokenizer))\n",
    "model.load_state_dict(model_dict)"
   ]
  },
  {
   "cell_type": "code",
   "execution_count": 4,
   "metadata": {},
   "outputs": [],
   "source": [
    "model = model.cuda()"
   ]
  },
  {
   "cell_type": "code",
   "execution_count": 49,
   "metadata": {},
   "outputs": [
    {
     "name": "stdout",
     "output_type": "stream",
     "text": [
      "<protein>MEITWGIKTTRFRCGITQTNASNRAWPGYSFSEHGSSAQATLQSISALASVLGIPDANIVMVSQVHGTGVSTLTVLPSRAGERVGTADIIVTNLRLAAPCIRVADCCGVVLYDTANHAVAVVHSGWRGTAAKAVHKALASMNDTYTTHPKNVLAWLSPCASANNYQVGNDVRQALPEWCTQDPAEPEKWYYDNHEAIKSQLISTGMVASNIQVCSHCTIADSRYHSYRRDKELSGRSVVFAVLL</protein>\n"
     ]
    }
   ],
   "source": [
    "short_prot = []\n",
    "with open('/hai1/kaiyuan/scigpt/ur50/data/sampled_200k_len300.txt', 'r') as f:\n",
    "    for line in f:\n",
    "        short_prot.append(line.strip())\n",
    "\n",
    "print(short_prot[0])"
   ]
  },
  {
   "cell_type": "code",
   "execution_count": 50,
   "metadata": {},
   "outputs": [
    {
     "data": {
      "text/plain": [
       "0.12034767121076584"
      ]
     },
     "execution_count": 50,
     "metadata": {},
     "output_type": "execute_result"
    },
    {
     "ename": "",
     "evalue": "",
     "output_type": "error",
     "traceback": [
      "\u001b[1;31mThe Kernel crashed while executing code in the current cell or a previous cell. \n",
      "\u001b[1;31mPlease review the code in the cell(s) to identify a possible cause of the failure. \n",
      "\u001b[1;31mClick <a href='https://aka.ms/vscodeJupyterKernelCrash'>here</a> for more info. \n",
      "\u001b[1;31mView Jupyter <a href='command:jupyter.viewOutput'>log</a> for further details."
     ]
    }
   ],
   "source": [
    "def compute_score(seq):\n",
    "    inputs = tokenizer(seq, return_tensors=\"pt\")\n",
    "    input_ids = inputs[\"input_ids\"].cuda()\n",
    "    attention_mask = inputs[\"attention_mask\"].cuda()\n",
    "    \n",
    "    with torch.no_grad():\n",
    "        outputs = model(input_ids, attention_mask=attention_mask)\n",
    "        logits = outputs.logits\n",
    "    \n",
    "    logits = logits[0, :-1, :]\n",
    "    label = input_ids[0, 1:]\n",
    "\n",
    "    loss = torch.nn.functional.cross_entropy(logits, label)\n",
    "    \n",
    "    return loss.item()\n",
    "\n",
    "compute_score(\"<protein>\")"
   ]
  },
  {
   "cell_type": "code",
   "execution_count": 20,
   "metadata": {},
   "outputs": [],
   "source": [
    "from tqdm import tqdm\n",
    "import random"
   ]
  },
  {
   "cell_type": "code",
   "execution_count": 22,
   "metadata": {},
   "outputs": [
    {
     "name": "stderr",
     "output_type": "stream",
     "text": [
      "  0%|          | 2/10000 [00:00<13:20, 12.50it/s]"
     ]
    },
    {
     "name": "stderr",
     "output_type": "stream",
     "text": [
      "100%|██████████| 10000/10000 [12:45<00:00, 13.07it/s]\n"
     ]
    }
   ],
   "source": [
    "dist = []\n",
    "sample = random.sample(short_prot, 10000)\n",
    "for seq in tqdm(sample):\n",
    "    dist.append(compute_score(seq))"
   ]
  },
  {
   "cell_type": "code",
   "execution_count": 23,
   "metadata": {},
   "outputs": [],
   "source": [
    "import matplotlib.pyplot as plt"
   ]
  },
  {
   "cell_type": "code",
   "execution_count": 24,
   "metadata": {},
   "outputs": [
    {
     "data": {
      "image/png": "[encoded data removed]",
      "text/plain": [
       "<Figure size 640x480 with 1 Axes>"
      ]
     },
     "metadata": {},
     "output_type": "display_data"
    }
   ],
   "source": [
    "plt.hist(dist, bins=30)  # Change the number of bins as needed\n",
    "plt.xlabel('Score')\n",
    "plt.ylabel('Frequency')\n",
    "plt.title('Histogram of Scores')\n",
    "plt.show()"
   ]
  },
  {
   "cell_type": "code",
   "execution_count": 26,
   "metadata": {},
   "outputs": [],
   "source": [
    "import numpy as np"
   ]
  },
  {
   "cell_type": "code",
   "execution_count": 27,
   "metadata": {},
   "outputs": [
    {
     "data": {
      "text/plain": [
       "6.462637454223633"
      ]
     },
     "execution_count": 27,
     "metadata": {},
     "output_type": "execute_result"
    }
   ],
   "source": [
    "np.mean(dist)"
   ]
  },
  {
   "cell_type": "code",
   "execution_count": 34,
   "metadata": {},
   "outputs": [
    {
     "data": {
      "text/plain": [
       "0.0933"
      ]
     },
     "execution_count": 34,
     "metadata": {},
     "output_type": "execute_result"
    }
   ],
   "source": [
    "len([d for d in dist if d < 5]) / len(dist)"
   ]
  },
  {
   "cell_type": "code",
   "execution_count": 35,
   "metadata": {},
   "outputs": [
    {
     "data": {
      "text/plain": [
       "2679"
      ]
     },
     "execution_count": 35,
     "metadata": {},
     "output_type": "execute_result"
    }
   ],
   "source": [
    "np.argmin(dist)"
   ]
  },
  {
   "cell_type": "code",
   "execution_count": 36,
   "metadata": {},
   "outputs": [
    {
     "data": {
      "text/plain": [
       "'<protein>IGRNMLTQIGCTLNFPISPIETVPVKLKPGMDGPKVKQWPLTEEKIKALTEICTEMEKEGKISKIGPENPYNTPIFAIKKKDSTKWRKLVDFRELNKRTQDFWEVQLGIPHPAGLKKKKSVTVLDVGDAYFSVPLDESFRKYTAFTIPSTNNETPGVRYQYNVLPQGWKGSPAIFQSSMTKILEPFRSKNPEIVIYQYMDDLYVGSDLEIGQHRTKIEELRAHLLSWGFTTPDKKHQKEPPFLWMGYELHP</protein>'"
      ]
     },
     "execution_count": 36,
     "metadata": {},
     "output_type": "execute_result"
    }
   ],
   "source": [
    "sample[np.argmin(dist)]"
   ]
  },
  {
   "cell_type": "code",
   "execution_count": 40,
   "metadata": {},
   "outputs": [],
   "source": [
    "order = np.argsort(dist)"
   ]
  },
  {
   "cell_type": "code",
   "execution_count": 41,
   "metadata": {},
   "outputs": [
    {
     "name": "stdout",
     "output_type": "stream",
     "text": [
      "7.938032627105713 <protein>MVYDLSIEPWRPFRVVTYDDKKDVPITDLTWSLDSTRIIFINQLVWAAYILVTEDHQALNVIG</protein>\n",
      "7.932953357696533 <protein>MYIHTPFISPCRNSFNQKIILLDTRRSSIEALKVSSSKDLESLIRGEYSLGAFIERKNYRVIPSPTLKYPGDGNYYKGGYISSNHKSLNTNSIQIELAYGVRSSESVAKLNAITFANAFLDFYNFHKFDLKV</protein>\n",
      "7.927764415740967 <protein>MNPLDVCYASPGTEVLIPTFEISSSGWSESVLICAGFENQACGTEDGRAVTFLAGGLDVSYPTKDNTGSQTVTFAIDGVTGQAQRLIRQAMDADAIIRATLRLYLSTDLSQPSQRPYYLVVSGGSFEGATIRVDGGYFNLIDTNFNRETFNALNAPCIKYL</protein>\n",
      "7.9024224281311035 <protein>AVNLQAERRGNPNHGGVYRISLAVGSVESRAACQINALTEAKKAPLGTLAIGRLVQAVGGAGRAETPRITRFKRNDPLPWHCTHVIQQ</protein>\n",
      "7.899400234222412 <protein>MAFNKRKLNSTELKLLYAVLPAEKPAYSKYRETIAGLTVIGYGRFGENNLILGNPEDEPDFTLPSSPVFSFGEMCYGDSCFEVTIHEEEEEKIEIEIRGAEAETLPESVIFDQINSIAFYSPRRVQPEYEPSRKIELIKGEFYLSFIISLRKIILTDLKTGYNALIPVSNFYNELMFVKNIRDPKTALNPRLLFEALGNYTDQDLADAFVYYNKLFRRATINPPQKKNSPPVKEGLLKKIFKGNQE</protein>\n",
      "7.870851039886475 <protein>LGIQPTEITGTDEATKLERELKRILDDVPELTELFGFRTKKAILQSDRSGITNASPQEGIEGTFPVGEGEAGEGLGLVDVGEQPGQALVEDKKAGTEPAKPISRVGRRGPKITFAEAPGRMDLAWVDGNNVVINSGP</protein>\n",
      "7.867485523223877 <protein>ACNFETGGPVTCGNSNVVVGCLSRNELTCVRTEVAIFSKLPEVWFNEKIEEATKKCRVTPTTPPPNDCCNNGDTINGDPAVPHSRPFIKNFSREAFIWQIRRYATNSDTLFNFETSKHRKA</protein>\n",
      "7.864279747009277 <protein>MKLQAFTFILEILLFQQVKCLPLYNQVLNSIIGSLFSRTDIFLIYDNAHHYRYSGIKTGTSGSKSLQESNLHSVLSSRDINGLFILDLSVSTFEFQSENLVHKQSSKCAAVIIHLQNSLDITKVSHQLTKLLTPTYGAATYKDEDYYILLTTPENVKLLLEQEFIKELKFKIILYHDPNHASLKAVTTCFYCSHGNPEILSLDREISEIVSKTVNGNNHEISRNFLYPDFTRNAFGHELQ</protein>\n",
      "7.851953029632568 <protein>MLGFEVYEVHLNYQACDLRKGDALAAYTKSRKRLIRDFSALGAKVFRDIFSVFLSTDPSSRISDIEAGFGYVFCYDGPGSHHDIITDCDWHNGRIGADADVVPQGGFTPFGAVPTGGASSGEAVVDEHCAVGNEAIFAYCYQLADKGVGLHAGARTHGYTGLNFHEGADENAVTESAVVDICGLDNGYIRTTRHISDDYGLICG</protein>\n",
      "7.82546329498291 <protein>MKKKPVDVFVFETNKFNLDYLKGVNIDNVLGGGLRCVLGHLQLLLDVTFSFGINPLKQLRALEPSICWVYHETGDTPDYSEFVYRIAPPGGFIWASGMGFVTAICKTTQLRPRLSVLVIPNDIVDENLQGGPVECCRSRAKNRAESAFIWEPDFCLHNRGLLGIRL</protein>\n"
     ]
    }
   ],
   "source": [
    "for idx in order[::-1][:10]:\n",
    "    print(dist[idx], sample[idx])"
   ]
  },
  {
   "cell_type": "code",
   "execution_count": 47,
   "metadata": {},
   "outputs": [
    {
     "name": "stdout",
     "output_type": "stream",
     "text": [
      "0.4509149193763733 <protein>IGRNMLTQIGCTLNFPISPIETVPVKLKPGMDGPKVKQWPLTEEKIKALTEICTEMEKEGKISKIGPENPYNTPIFAIKKKDSTKWRKLVDFRELNKRTQDFWEVQLGIPHPAGLKKKKSVTVLDVGDAYFSVPLDESFRKYTAFTIPSTNNETPGVRYQYNVLPQGWKGSPAIFQSSMTKILEPFRSKNPEIVIYQYMDDLYVGSDLEIGQHRTKIEELRAHLLSWGFTTPDKKHQKEPPFLWMGYELHP</protein>\n",
      "0.5071287751197815 <protein>KEALLDTGADDTVLEDINLPGRWKPKMIGGIGGFIKVRQYDQIPIEICGHKAVGTVLVGPTPVNIIGRNLLTQIGCTLNFPISPIETVPVKLKPGMDGPKVKQWPLTEEKIKALTAICDEMEKEGKITKIGPENPYNTPIFAIKKKDSTKWRKLVDFRELNKRTQDFWEVQLGIPHPAGLKKKKSVTVLDVGDAYFSV</protein>\n",
      "0.5204469561576843 <protein>EICTEMEKEGKISKIGPENPYNTPVFAIKKKDSTKWRKLVDFRELNKRTQDFWEVQLGIPHPAGLKKKKSVTVLDVGDAYFSVPLDKKFRKYTAFTIPSVNNETPGIRYQYNVLPQGWKGSPSIFQCSMTKILEPFRKQNPDIVIYQYMDDLYVGSDLEIGQHRTKIEELRQHLLRWGFTTPDKKHQKEP</protein>\n",
      "0.6676105856895447 <protein>ICIEMEKEGKISKIGPENPYNTPVFAIKKKDGTKWRKLVDFRELNKRTQDFWEVQLGIPHPAGLKKKKSVTVLDVGDAYFSVPLDENFRKYTAFTIPSINNETPGIRYQYNVLPQGWKGSPAIFQASMTRILEPFRTRNPEMVIYQYMDDLYVGSDLEIGQHRAKIEELREHLLRWGFTTPDKKHQKEPPFLWMGYELHPDKWTVQPITLPEKES</protein>\n",
      "0.7160831093788147 <protein>SGMVGTSLSILIRAELGHPGALIGDDQIYNVIVTAHAFVMIFFMVMPILIGGFGNWLVPLMLGAPDMAFPRMNNMSFWLLPPSLTLLLSSSIVENGVGTGWTVYPPLASGIAHAGASVDLAIFSLHLAGISSILGAVNFITTIINMRSTGITLDRMPLFVWSVVITAILLLLSLPVLAGAITMLLTDRNLNTSFFDP</protein>\n",
      "0.9488634467124939 <protein>PQITLWQRPLVTIKIGGQLKEALLDTGADDTVLEEINLPGKWKPKMIGGIGGFIKVRQYDQITIEICGHKAIGTVLVGPTPVNIIGRNLLTQLGCTLNFPIRPIATVPVKLKPGMDGPKV</protein>\n",
      "1.0349242687225342 <protein>TLWQRPLVTVKIGGQLKEALLDTGADDTVLEDIDLPGKWKPKMIGGIGGFIRVRQYDQVSMEICGKKAIGTVLVGPTPVNIIGRNMLTQIGCTLN</protein>\n",
      "1.2510852813720703 <protein>MDVEYGQYSVTLLVEGFPPSHAGTITVYEDSQPGTLNDFLGAMSEDDVRPEAMRRFELMVEEAARHAEEAKKNAGEAETSARNAGISASQAEESAANADTSAGDASESARQAAESAAAAKQSEEASSSSASAAAQKASESSQSAADAELSRKTAESAAGNAARDATTATEKARESAESAQSAEQSRIAAEEAVNRIPTVVGPPGPKGEQGPAGPQGPKGDKGERGDTGPVGATGERGPAGDAGPAGPQGRKVTGESGERPV</protein>\n",
      "1.3672233819961548 <protein>MMWRGSEDLFEEMWRGSEDLFEEMWRGSEDLFEEMWRGSEDLFEEMWRGSEDLFEEMWRGSEDLFEEMWRGSDDLFEEMWRGSDDLFEEMWRGSEDLFEEMWRGSEDLFEEMWRGSEDLFEEMWRGSEDLFQDVEGV</protein>\n",
      "1.3898003101348877 <protein>KPFYAILHRVDVGIVIDLEPARTEDPALSIAGAVQSQKLAVRAISHLQSLPGGDIKLLCDTVVESVRELTGYDRVMVYKFHEDEHGEVVAESKRSDLEPYIGLHYPATDIPQASRFLFKQNRVRMVVDCHATPVRVTQDESLMQPLCLVGSTLRAPHGCHAQYMANMGSIASLTLAVIINGNDEEAVGGGRNSMRLWGLVVGHHTSVRSIPFPLRYACEFL</protein>\n"
     ]
    },
    {
     "name": "stderr",
     "output_type": "stream",
     "text": [
      "Bad pipe message: %s [b\"\\x17\\xed9(\\xc1\\xd0\\xbb\\xaaJEG1\\\\\\x9d\\x8e\\xf7\\xbf2\\x00\\x00|\\xc0,\\xc00\\x00\\xa3\\x00\\x9f\\xcc\\xa9\\xcc\\xa8\\xcc\\xaa\\xc0\\xaf\\xc0\\xad\\xc0\\xa3\\xc0\\x9f\\xc0]\\xc0a\\xc0W\\xc0S\\xc0+\\xc0/\\x00\\xa2\\x00\\x9e\\xc0\\xae\\xc0\\xac\\xc0\\xa2\\xc0\\x9e\\xc0\\\\\\xc0`\\xc0V\\xc0R\\xc0$\\xc0(\\x00k\\x00j\\xc0#\\xc0'\\x00g\\x00@\\xc0\\n\\xc0\\x14\\x009\\x00\"]\n",
      "Bad pipe message: %s [b'\\t\\xc0\\x13\\x003\\x002\\x00\\x9d\\xc0\\xa1\\xc0\\x9d\\xc0Q\\x00\\x9c\\xc0\\xa0\\xc0\\x9c\\xc0P\\x00=\\x00<\\x005\\x00/\\x00\\x9a\\x00\\x99\\xc0\\x07\\xc0\\x11\\x00\\x96\\x00\\x05\\x00\\xff\\x01\\x00\\x00j\\x00\\x00\\x00\\x0e\\x00\\x0c']\n",
      "Bad pipe message: %s [b\"\\xf3Jv\\xd6\\x01}\\xe5tf\\xe4\\xad'\\xafBz\\xf3\\xd0\\xd9\\x00\\x00\\xa6\\xc0,\\xc00\"]\n",
      "Bad pipe message: %s [b'\\xcc\\x98\\xc4\\xea^Ld\\xf8\\xe8\\x8c;']\n",
      "Bad pipe message: %s [b'\\xc2\\xab\\t']\n",
      "Bad pipe message: %s [b'\\xbb\\x10\\xf4\\xa1\\xa7.\\xff0\\n>5\\xe5\\x1b\\x00\\x00>\\xc0\\x14\\xc0\\n\\x009\\x008\\x007\\x006\\xc0\\x0f\\xc0\\x05\\x005\\xc0\\x13\\xc0\\t\\x003\\x002\\x001\\x000\\xc0\\x0e\\xc0\\x04\\x00/\\x00\\x9a\\x00\\x99\\x00\\x98\\x00\\x97\\x00\\x96\\x00\\x07\\xc0\\x11\\xc0\\x07\\xc0\\x0c\\xc0\\x02\\x00\\x05\\x00\\x04\\x00\\xff\\x02\\x01\\x00\\x00C\\x00\\x00\\x00\\x0e\\x00\\x0c\\x00\\x00\\t127.0.0.1\\x00\\x0b\\x00\\x04\\x03\\x00\\x01\\x02\\x00\\n\\x00\\x1c\\x00\\x1a\\x00\\x17\\x00\\x19\\x00\\x1c\\x00\\x1b\\x00\\x18\\x00\\x1a\\x00\\x16\\x00\\x0e\\x00\\r\\x00\\x0b\\x00\\x0c\\x00\\t\\x00\\n\\x00#\\x00\\x00\\x00\\x0f\\x00']\n",
      "Bad pipe message: %s [b'\\x98\\xbd\\xa2*\\x9d\\xf6\\xb7\\x87>0\\xd8\\xbd\\xaf\\x1a#\\x11I|\\x00\\x00\\xa2\\xc0\\x14\\xc0\\n\\x009\\x008\\x007\\x006\\x00\\x88\\x00\\x87\\x00\\x86\\x00\\x85\\xc0\\x19\\x00:\\x00\\x89\\xc0\\x0f\\xc0\\x05\\x005\\x00\\x84\\xc0\\x13\\xc0\\t\\x003\\x002\\x001\\x000\\x00\\x9a\\x00\\x99\\x00\\x98\\x00\\x97\\x00E\\x00D\\x00C\\x00B\\xc0\\x18\\x004\\x00\\x9b\\x00F\\xc0\\x0e\\xc0\\x04\\x00/\\x00\\x96\\x00A\\x00\\x07\\xc0\\x11\\xc0\\x07\\xc0\\x16\\x00\\x18\\xc0\\x0c']\n",
      "Bad pipe message: %s [b\"\\xaa\\x83\\x1a\\t2[\\xe2\\x9d\\x8a\\xe3k\\xa7\\x0f)M9' \\x00\\x00\\xa2\\xc0\\x14\\xc0\\n\\x009\\x008\\x007\\x006\\x00\\x88\\x00\\x87\\x00\\x86\\x00\\x85\\xc0\\x19\\x00:\\x00\\x89\\xc0\\x0f\\xc0\\x05\\x005\\x00\\x84\\xc0\\x13\\xc0\\t\\x003\\x002\\x001\\x000\\x00\\x9a\\x00\\x99\\x00\\x98\\x00\\x97\\x00E\\x00D\\x00C\\x00B\\xc0\\x18\\x004\\x00\\x9b\\x00F\\xc0\\x0e\\xc0\\x04\\x00/\\x00\\x96\\x00A\\x00\\x07\\xc0\\x11\\xc0\\x07\\xc0\\x16\\x00\\x18\\xc0\\x0c\\xc0\\x02\\x00\\x05\\x00\\x04\\xc0\\x12\\xc0\\x08\\x00\\x16\\x00\\x13\\x00\\x10\\x00\\r\\xc0\\x17\\x00\\x1b\\xc0\\r\\xc0\\x03\\x00\\n\\x00\"]\n",
      "Bad pipe message: %s [b'\\x12\\x00\\x0f\\x00\\x0c\\x00\\x1a\\x00\\t\\x00\\x14\\x00\\x11\\x00\\x19\\x00\\x08\\x00\\x06\\x00']\n",
      "Bad pipe message: %s [b'\\x03\\xc0\\x10\\xc0\\x06\\xc0\\x15\\xc0\\x0b\\xc0\\x01\\x00\\x02\\x00\\x01\\x00\\xff\\x02\\x01\\x00\\x15\\x03']\n",
      "Bad pipe message: %s [b\"j~7\\x03=\\xc4CWU\\x92\\x17s\\xd6O\\xc7\\xf3X\\xed\\x00\\x00\\x86\\xc00\\xc0,\\xc0(\\xc0$\\xc0\\x14\\xc0\\n\\x00\\xa5\\x00\\xa3\\x00\\xa1\\x00\\x9f\\x00k\\x00j\\x00i\\x00h\\x009\\x008\\x007\\x006\\xc02\\xc0.\\xc0*\\xc0&\\xc0\\x0f\\xc0\\x05\\x00\\x9d\\x00=\\x005\\xc0/\\xc0+\\xc0'\\xc0#\\xc0\\x13\\xc0\\t\\x00\\xa4\\x00\\xa2\\x00\\xa0\\x00\\x9e\\x00g\\x00@\\x00?\\x00>\\x003\\x002\\x001\\x000\\xc01\\xc0-\\xc0)\\xc0%\\xc0\\x0e\\xc0\\x04\\x00\\x9c\\x00<\\x00/\\x00\\x9a\\x00\\x99\\x00\\x98\\x00\\x97\\x00\\x96\\x00\\x07\\xc0\\x11\\xc0\\x07\\xc0\\x0c\\xc0\\x02\\x00\\x05\\x00\\x04\\x00\\xff\\x02\\x01\\x00\\x00g\\x00\\x00\\x00\\x0e\\x00\\x0c\\x00\\x00\\t127.0.0.1\\x00\\x0b\\x00\\x04\\x03\\x00\\x01\\x02\\x00\\n\\x00\\x1c\"]\n",
      "Bad pipe message: %s [b\"\\x9f\\x8a\\xd3\\xbe\\xab\\x82\\x16\\xc8_D%F\\x95,\\xf4\\rfo\\x00\\x00\\xf4\\xc00\\xc0,\\xc0(\\xc0$\\xc0\\x14\\xc0\\n\\x00\\xa5\\x00\\xa3\\x00\\xa1\\x00\\x9f\\x00k\\x00j\\x00i\\x00h\\x009\\x008\\x007\\x006\\x00\\x88\\x00\\x87\\x00\\x86\\x00\\x85\\xc0\\x19\\x00\\xa7\\x00m\\x00:\\x00\\x89\\xc02\\xc0.\\xc0*\\xc0&\\xc0\\x0f\\xc0\\x05\\x00\\x9d\\x00=\\x005\\x00\\x84\\xc0/\\xc0+\\xc0'\\xc0#\\xc0\\x13\\xc0\\t\\x00\\xa4\\x00\\xa2\\x00\\xa0\\x00\\x9e\\x00g\\x00@\\x00?\\x00>\\x003\\x002\\x001\\x000\\x00\\x9a\\x00\\x99\\x00\\x98\\x00\\x97\\x00E\\x00D\\x00C\\x00B\\xc0\\x18\\x00\\xa6\\x00l\\x004\\x00\\x9b\\x00F\\xc01\\xc0-\\xc0)\\xc0%\\xc0\\x0e\\xc0\\x04\\x00\\x9c\\x00<\\x00/\\x00\\x96\\x00A\\x00\\x07\\xc0\\x11\\xc0\\x07\\xc0\\x16\\x00\\x18\\xc0\\x0c\\xc0\\x02\\x00\\x05\\x00\\x04\\xc0\\x12\\xc0\\x08\\x00\\x16\\x00\\x13\\x00\"]\n",
      "Bad pipe message: %s [b'\\r\\xc0\\x17\\x00\\x1b\\xc0\\r\\xc0\\x03\\x00\\n\\x00\\x15\\x00\\x12']\n",
      "Bad pipe message: %s [b'd.\\xf0x\\x8c\\x80\\x00\\xf0+\\x07Z\\xe9\\x81\\x8d\\x1a\\xc4\\x1dl\\x00\\x00|\\xc0,\\xc00\\x00\\xa3\\x00\\x9f\\xcc\\xa9\\xcc\\xa8\\xcc\\xaa\\xc0\\xaf\\xc0\\xad\\xc0\\xa3\\xc0\\x9f\\xc0]\\xc0a\\xc0W\\xc0S\\xc0+\\xc0/\\x00\\xa2\\x00\\x9e\\xc0\\xae\\xc0\\xac\\xc0\\xa2\\xc0\\x9e\\xc0\\\\\\xc0`\\xc0V\\xc0R\\xc0']\n",
      "Bad pipe message: %s [b\"(\\x00k\\x00j\\xc0#\\xc0'\\x00g\\x00@\\xc0\\n\\xc0\\x14\\x009\\x008\\xc0\\t\\xc0\\x13\\x003\\x002\\x00\\x9d\\xc0\\xa1\\xc0\\x9d\"]\n",
      "Bad pipe message: %s [b\"\\x19\\xec\\xf7\\xba\\xb1\\x15\\x9e\\xa9G\\xcdT\\xe8~z4U\\x8d3\\x00\\x00\\x86\\xc00\\xc0,\\xc0(\\xc0$\\xc0\\x14\\xc0\\n\\x00\\xa5\\x00\\xa3\\x00\\xa1\\x00\\x9f\\x00k\\x00j\\x00i\\x00h\\x009\\x008\\x007\\x006\\xc02\\xc0.\\xc0*\\xc0&\\xc0\\x0f\\xc0\\x05\\x00\\x9d\\x00=\\x005\\xc0/\\xc0+\\xc0'\\xc0#\\xc0\\x13\\xc0\\t\\x00\\xa4\\x00\\xa2\\x00\\xa0\\x00\\x9e\\x00g\\x00@\\x00?\\x00>\\x003\\x002\\x001\\x000\\xc0\"]\n",
      "Bad pipe message: %s [b'-\\xc0)\\xc0%\\xc0\\x0e\\xc0\\x04\\x00\\x9c\\x00<\\x00/\\x00\\x9a\\x00\\x99\\x00\\x98\\x00\\x97\\x00\\x96\\x00\\x07\\xc0\\x11\\xc0\\x07\\xc0\\x0c\\xc0\\x02\\x00\\x05\\x00\\x04\\x00\\xff\\x02\\x01\\x00\\x00g\\x00\\x00']\n",
      "Bad pipe message: %s [b\"\\xa2\\xb6o}J\\xfcG:\\xe1%/AJ\\xa2\\xd2%\\x18s\\x00\\x00\\xf4\\xc00\\xc0,\\xc0(\\xc0$\\xc0\\x14\\xc0\\n\\x00\\xa5\\x00\\xa3\\x00\\xa1\\x00\\x9f\\x00k\\x00j\\x00i\\x00h\\x009\\x008\\x007\\x006\\x00\\x88\\x00\\x87\\x00\\x86\\x00\\x85\\xc0\\x19\\x00\\xa7\\x00m\\x00:\\x00\\x89\\xc02\\xc0.\\xc0*\\xc0&\\xc0\\x0f\\xc0\\x05\\x00\\x9d\\x00=\\x005\\x00\\x84\\xc0/\\xc0+\\xc0'\\xc0#\\xc0\\x13\\xc0\\t\\x00\\xa4\\x00\\xa2\\x00\\xa0\\x00\\x9e\\x00g\\x00@\\x00?\\x00>\\x003\\x002\\x001\\x000\\x00\\x9a\\x00\\x99\\x00\\x98\\x00\\x97\\x00E\\x00D\\x00C\\x00B\\xc0\\x18\\x00\\xa6\\x00l\\x004\\x00\\x9b\\x00F\\xc01\\xc0-\\xc0)\\xc0%\\xc0\\x0e\\xc0\\x04\\x00\\x9c\\x00<\\x00/\\x00\\x96\\x00A\\x00\\x07\\xc0\\x11\\xc0\\x07\\xc0\\x16\\x00\\x18\\xc0\\x0c\\xc0\\x02\\x00\\x05\\x00\\x04\\xc0\\x12\"]\n",
      "Bad pipe message: %s [b'T8h\\xec[\\xb3\\xce\\xfa\\x13\\xba\\xd30\\xd3\\x14\\xc8G\\xff\\xac \\x91\\xebvs\\xdcCa\\xb4B7 \\xf6)_\\xe0\\x05/\\xe1\\xde\\\\\\x96\\x10@\\x87\\xe4\\xaa8\\xf7>\\xbdYz\\x00\\x08\\x13\\x02\\x13\\x03\\x13\\x01\\x00\\xff\\x01\\x00\\x00\\x8f\\x00\\x00\\x00\\x0e\\x00\\x0c\\x00\\x00\\t127.0.0.1\\x00\\x0b\\x00\\x04\\x03\\x00\\x01\\x02\\x00\\n\\x00\\x0c\\x00\\n\\x00\\x1d\\x00\\x17\\x00\\x1e\\x00\\x19\\x00\\x18\\x00#\\x00\\x00\\x00\\x16\\x00\\x00\\x00\\x17\\x00\\x00\\x00\\r\\x00\\x1e\\x00\\x1c\\x04\\x03\\x05\\x03\\x06\\x03\\x08\\x07\\x08\\x08\\x08\\t']\n",
      "Bad pipe message: %s [b'\\x08\\x0b\\x08\\x04\\x08\\x05\\x08']\n",
      "Bad pipe message: %s [b'\\x01\\x05\\x01\\x06\\x01']\n",
      "Bad pipe message: %s [b'=fz\\x8e\\xf7BVO\\xb3\\xb5\\n\\x0b62\\xca\\xb8\\x93\\xe4\\x00\\x00\\xa6\\xc0,\\xc00\\x00\\xa3\\x00\\x9f\\xcc\\xa9\\xcc\\xa8\\xcc\\xaa\\xc0\\xaf\\xc0\\xad\\xc0\\xa3\\xc0\\x9f\\xc0]\\xc0a\\xc0W\\xc0S\\xc0+\\xc0/\\x00\\xa2\\x00\\x9e\\xc0\\xae\\xc0\\xac\\xc0\\xa2\\xc0\\x9e']\n",
      "Bad pipe message: %s [b\"\\xc0`\\xc0V\\xc0R\\xc0$\\xc0(\\x00k\\x00j\\xc0s\\xc0w\\x00\\xc4\\x00\\xc3\\xc0#\\xc0'\\x00g\\x00@\\xc0r\\xc0v\\x00\\xbe\\x00\\xbd\\xc0\\n\\xc0\\x14\\x009\\x008\\x00\\x88\\x00\\x87\\xc0\\t\\xc0\\x13\\x003\\x002\\x00\\x9a\\x00\\x99\\x00E\\x00D\\xc0\\x07\\xc0\\x11\\xc0\\x08\\xc0\\x12\\x00\\x16\\x00\\x13\\x00\\x9d\\xc0\\xa1\\xc0\\x9d\\xc0Q\\x00\\x9c\\xc0\\xa0\\xc0\\x9c\\xc0P\\x00=\\x00\\xc0\\x00<\\x00\\xba\\x005\\x00\\x84\\x00/\\x00\\x96\\x00A\\x00\\x05\\x00\\n\\x00\\xff\\x01\\x00\\x00j\\x00\\x00\\x00\\x0e\\x00\\x0c\\x00\\x00\\t127.0.0.1\\x00\\x0b\\x00\\x04\\x03\\x00\\x01\\x02\\x00\\n\\x00\\x0c\\x00\\n\\x00\\x1d\\x00\\x17\\x00\\x1e\\x00\\x19\\x00\\x18\\x00#\\x00\\x00\\x00\\x16\\x00\\x00\\x00\\x17\\x00\\x00\\x00\\r\\x000\\x00.\\x04\\x03\\x05\\x03\\x06\\x03\\x08\\x07\\x08\"]\n",
      "Bad pipe message: %s [b'\\t\\x08\\n\\x08\\x0b\\x08\\x04']\n",
      "Bad pipe message: %s [b'\\x08\\x06\\x04\\x01\\x05\\x01\\x06', b'', b'\\x03\\x03']\n",
      "Bad pipe message: %s [b'']\n",
      "Bad pipe message: %s [b'', b'\\x02']\n",
      "Bad pipe message: %s [b'\\xa7k\\xd7\\xf1\\x08\\xa5s\\x85-\\xab\\xe1o-\\x8e=X\\xa3.\\x00\\x00\\xa2\\xc0\\x14\\xc0\\n\\x009\\x008\\x007\\x006\\x00\\x88\\x00\\x87\\x00\\x86\\x00\\x85\\xc0\\x19\\x00:\\x00\\x89\\xc0\\x0f\\xc0\\x05\\x005\\x00\\x84\\xc0\\x13\\xc0\\t\\x003\\x002\\x001\\x000\\x00\\x9a\\x00\\x99\\x00\\x98\\x00\\x97\\x00E\\x00D\\x00C\\x00B\\xc0\\x18\\x004\\x00\\x9b\\x00F\\xc0\\x0e\\xc0\\x04\\x00/\\x00\\x96\\x00A\\x00\\x07\\xc0\\x11\\xc0\\x07\\xc0\\x16\\x00\\x18\\xc0\\x0c\\xc0\\x02\\x00\\x05\\x00\\x04\\xc0\\x12\\xc0\\x08\\x00\\x16\\x00\\x13\\x00\\x10\\x00\\r\\xc0\\x17\\x00\\x1b\\xc0\\r\\xc0\\x03\\x00\\n\\x00\\x15\\x00\\x12\\x00\\x0f\\x00\\x0c\\x00\\x1a\\x00\\t\\x00\\x14\\x00\\x11\\x00\\x19\\x00\\x08\\x00\\x06\\x00\\x17\\x00\\x03\\xc0\\x10\\xc0\\x06\\xc0\\x15\\xc0\\x0b\\xc0\\x01\\x00\\x02\\x00\\x01\\x00\\xff\\x02\\x01\\x00\\x00C\\x00\\x00\\x00\\x0e\\x00\\x0c\\x00\\x00\\t127.']\n",
      "Bad pipe message: %s [b'\\x05\\x02\\x06']\n",
      "Bad pipe message: %s [b'0.1\\x00\\x0b\\x00\\x04\\x03\\x00\\x01\\x02\\x00\\n\\x00\\x1c\\x00\\x1a\\x00\\x17\\x00\\x19\\x00\\x1c\\x00\\x1b\\x00\\x18\\x00\\x1a\\x00\\x16\\x00\\x0e\\x00\\r\\x00\\x0b\\x00\\x0c\\x00\\t\\x00\\n\\x00#\\x00\\x00']\n",
      "Bad pipe message: %s [b'\\xf8{ib\\xc22\\xcc\\xef/\\xa7\\xb57\\x84\\xc6\\xaa\\xa7\\x8cN\\x00\\x00>\\xc0\\x14\\xc0\\n\\x009\\x008\\x007\\x006\\xc0\\x0f\\xc0\\x05\\x005\\xc0\\x13\\xc0\\t\\x003\\x002\\x001\\x000\\xc0\\x0e\\xc0\\x04\\x00/\\x00\\x9a\\x00\\x99\\x00\\x98\\x00\\x97\\x00\\x96\\x00\\x07\\xc0\\x11\\xc0\\x07\\xc0\\x0c\\xc0\\x02\\x00\\x05\\x00\\x04\\x00\\xff\\x02\\x01\\x00\\x00C\\x00\\x00\\x00\\x0e\\x00\\x0c\\x00\\x00\\t127.0.0.1\\x00\\x0b\\x00\\x04\\x03\\x00\\x01\\x02\\x00\\n\\x00\\x1c\\x00\\x1a\\x00\\x17\\x00\\x19\\x00\\x1c\\x00\\x1b\\x00\\x18\\x00\\x1a\\x00\\x16\\x00\\x0e\\x00\\r\\x00\\x0b\\x00\\x0c\\x00\\t\\x00\\n\\x00#\\x00\\x00\\x00\\x0f\\x00\\x01\\x01']\n",
      "Bad pipe message: %s [b'\\xca\\xf9\\xfa\\x03\\xb22\\xc8\\xf5\\x1f&x\\xf1\\x0c2\\x9feI\\t\\x00\\x00\\xa2\\xc0\\x14\\xc0\\n\\x009\\x008\\x007\\x006\\x00\\x88\\x00\\x87\\x00\\x86\\x00\\x85\\xc0\\x19\\x00:\\x00\\x89\\xc0\\x0f\\xc0\\x05\\x005\\x00\\x84\\xc0\\x13\\xc0\\t\\x003\\x002\\x001\\x000\\x00\\x9a\\x00\\x99\\x00\\x98\\x00\\x97\\x00E\\x00D\\x00C\\x00B\\xc0\\x18\\x004\\x00\\x9b\\x00F\\xc0\\x0e\\xc0\\x04']\n",
      "Bad pipe message: %s [b'\\x80\\x1b\\xae\\x8c\\x83\\xec\\r\\xc4\\x8c\\xe5\\x88Q\\xa5\\x13\\xe2M\\x0en\\x00\\x00\\x86\\xc00\\xc0,\\xc0(\\xc0$\\xc0\\x14\\xc0\\n\\x00\\xa5\\x00\\xa3\\x00\\xa1\\x00\\x9f\\x00k\\x00j\\x00i\\x00h\\x009\\x008\\x007\\x006\\xc02\\xc0.\\xc0*\\xc0&\\xc0\\x0f\\xc0\\x05\\x00\\x9d\\x00=\\x005\\xc0', b\"+\\xc0'\\xc0#\\xc0\\x13\\xc0\\t\\x00\\xa4\\x00\\xa2\\x00\\xa0\\x00\\x9e\\x00g\\x00@\\x00?\\x00>\\x003\\x002\\x001\\x000\\xc01\\xc0-\\xc0)\\xc0%\\xc0\\x0e\\xc0\\x04\\x00\"]\n",
      "Bad pipe message: %s [b\"\\x17\\x8c\\xe7\\x00z\\x86t\\x1b7\\xdbs\\xe4\\xf8\\xf1!\\x9c;A\\x00\\x00\\xf4\\xc00\\xc0,\\xc0(\\xc0$\\xc0\\x14\\xc0\\n\\x00\\xa5\\x00\\xa3\\x00\\xa1\\x00\\x9f\\x00k\\x00j\\x00i\\x00h\\x009\\x008\\x007\\x006\\x00\\x88\\x00\\x87\\x00\\x86\\x00\\x85\\xc0\\x19\\x00\\xa7\\x00m\\x00:\\x00\\x89\\xc02\\xc0.\\xc0*\\xc0&\\xc0\\x0f\\xc0\\x05\\x00\\x9d\\x00=\\x005\\x00\\x84\\xc0/\\xc0+\\xc0'\\xc0#\\xc0\\x13\\xc0\\t\\x00\\xa4\\x00\\xa2\\x00\\xa0\\x00\\x9e\\x00g\\x00@\\x00?\\x00>\\x003\\x002\\x001\\x000\\x00\\x9a\\x00\\x99\\x00\\x98\\x00\\x97\\x00E\\x00D\\x00C\\x00B\\xc0\\x18\\x00\\xa6\\x00l\\x004\\x00\\x9b\\x00F\\xc01\\xc0-\\xc0)\\xc0%\\xc0\\x0e\\xc0\\x04\\x00\\x9c\\x00<\\x00/\\x00\\x96\\x00A\\x00\\x07\\xc0\\x11\\xc0\\x07\\xc0\\x16\\x00\\x18\\xc0\\x0c\\xc0\\x02\\x00\\x05\\x00\\x04\\xc0\\x12\\xc0\\x08\\x00\\x16\\x00\\x13\\x00\\x10\\x00\\r\\xc0\"]\n",
      "Bad pipe message: %s [b'\\x1b\\xc0\\r\\xc0\\x03\\x00\\n\\x00\\x15\\x00\\x12\\x00\\x0f\\x00\\x0c\\x00\\x1a\\x00\\t\\x00\\x14\\x00']\n",
      "Bad pipe message: %s [b'\\x19\\x00\\x08\\x00\\x06\\x00\\x17\\x00\\x03\\xc0\\x10\\xc0\\x06\\xc0\\x15\\xc0']\n",
      "Bad pipe message: %s [b'\\x01\\x00;\\x00\\x02\\x00\\x01\\x00\\xff\\x02']\n",
      "Bad pipe message: %s [b'']\n"
     ]
    }
   ],
   "source": [
    "for idx in order[:10]:\n",
    "    print(dist[idx], sample[idx])"
   ]
  },
  {
   "cell_type": "code",
   "execution_count": 46,
   "metadata": {},
   "outputs": [
    {
     "data": {
      "text/plain": [
       "[<matplotlib.lines.Line2D at 0x7f2fdd0504f0>]"
      ]
     },
     "execution_count": 46,
     "metadata": {},
     "output_type": "execute_result"
    },
    {
     "data": {
      "image/png": "[encoded data removed]",
      "text/plain": [
       "<Figure size 640x480 with 1 Axes>"
      ]
     },
     "metadata": {},
     "output_type": "display_data"
    }
   ],
   "source": [
    "x = [len(s) for s in sample]\n",
    "plt.plot(x, dist, '.')"
   ]
  },
  {
   "cell_type": "code",
   "execution_count": null,
   "metadata": {},
   "outputs": [],
   "source": []
  }
 ],
 "metadata": {
  "kernelspec": {
   "display_name": "sfm2",
   "language": "python",
   "name": "python3"
  },
  "language_info": {
   "codemirror_mode": {
    "name": "ipython",
    "version": 3
   },
   "file_extension": ".py",
   "mimetype": "text/x-python",
   "name": "python",
   "nbconvert_exporter": "python",
   "pygments_lexer": "ipython3",
   "version": "3.9.18"
  }
 },
 "nbformat": 4,
 "nbformat_minor": 2
}
