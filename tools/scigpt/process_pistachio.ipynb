{
 "cells": [
  {
   "cell_type": "code",
   "execution_count": 1,
   "metadata": {},
   "outputs": [],
   "source": [
    "import json\n",
    "from tqdm import tqdm"
   ]
  },
  {
   "cell_type": "code",
   "execution_count": 2,
   "metadata": {},
   "outputs": [],
   "source": [
    "txt_templates = [  \n",
    "    \"In the presence of a suitable catalyst, {reactants} can undergo a transformation to yield {product}.\",  \n",
    "    \"{reactants} have the potential to chemically interact and form {product}.\",  \n",
    "    \"Through various chemical processes, {reactants} can be converted into {product}.\",  \n",
    "    \"Under certain conditions, {reactants} can combine to produce {product}.\",  \n",
    "    \"When subjected to specific temperatures and pressures, {reactants} can result in the formation of {product}.\",  \n",
    "    \"The chemical union of {reactants} can lead to the formation of {product}.\",  \n",
    "    \"A chemical reaction involving {reactants} has the potential to synthesize {product}.\",  \n",
    "    \"The interaction between {reactants} can facilitate the production of {product}.\",  \n",
    "    \"Under optimal conditions, {reactants} can yield {product} as a result of a chemical reaction.\",  \n",
    "    \"Through a series of chemical reactions, {reactants} can result in {product}.\",  \n",
    "    \"Upon reacting, {reactants} can give rise to {product}.\",  \n",
    "    \"{reactants} can be chemically combined to produce {product}.\",  \n",
    "    \"Through the process of chemical synthesis, {reactants} can lead to the formation of {product}.\",  \n",
    "    \"When chemically reacted, {reactants} can produce {product}.\",  \n",
    "    \"{reactants} have the ability to chemically transform into {product}.\",  \n",
    "    \"With the aid of a catalyst, {reactants} can react to form {product}.\",  \n",
    "    \"The combination of {reactants} can result in the generation of {product}.\",  \n",
    "    \"In a controlled environment, {reactants} can be manipulated to produce {product}.\",  \n",
    "    \"In a chemical reaction, {reactants} can be transformed into {product}.\",  \n",
    "    \"When properly catalyzed, {reactants} can yield {product}.\",\n",
    "    \"{product} can be synthesized from {reactants} using appropriate catalysts.\",  \n",
    "    \"The retrosynthesis of {product} can be achieved from {reactants}.\",  \n",
    "    \"The compound {product} can be obtained from the precursors {reactants}.\",  \n",
    "    \"The successful synthesis of {product} can be achieved through the reaction of {reactants}.\",  \n",
    "    \"For the preparation of {product}, {reactants} can be used as starting materials.\",  \n",
    "    \"{product} can be derived from {reactants} under suitable reaction conditions.\",  \n",
    "    \"The production of {product} involves the use of {reactants} as raw materials.\",  \n",
    "    \"The chemical formation of {product} can be planned starting from {reactants}.\",  \n",
    "    \"The strategy for the synthesis of {product} involves the use of {reactants}.\",  \n",
    "    \"The construction of {product} can be accomplished from {reactants}.\",  \n",
    "    \"Through the process of retrosynthesis, {product} can be traced back to {reactants}.\",  \n",
    "    \"{reactants} are the key components in the synthetic pathway leading to {product}.\",  \n",
    "    \"The synthesis of {product} can be traced back to {reactants} through a series of chemical reactions.\",  \n",
    "    \"{reactants} serve as the precursor compounds for the synthesis of {product}.\",  \n",
    "    \"The retrosynthetic analysis suggests that {product} can be derived from {reactants}.\",  \n",
    "    \"{product} can be synthesized by manipulating the chemical structure of {reactants}.\",  \n",
    "    \"The retrosynthesis plan for {product} involves the use of {reactants} as starting materials.\",  \n",
    "    \"The synthetic pathway to {product} involves the transformation of {reactants}.\",  \n",
    "    \"{reactants} can be reassembled to produce {product} in a synthetic process.\",  \n",
    "    \"Through the application of retrosynthetic principles, {product} can be synthesized from {reactants}.\"  \n",
    "]  \n",
    "\n"
   ]
  },
  {
   "cell_type": "code",
   "execution_count": 3,
   "metadata": {},
   "outputs": [
    {
     "data": {
      "text/plain": [
       "40"
      ]
     },
     "execution_count": 3,
     "metadata": {},
     "output_type": "execute_result"
    }
   ],
   "source": [
    "len(txt_templates)"
   ]
  },
  {
   "cell_type": "code",
   "execution_count": 4,
   "metadata": {},
   "outputs": [],
   "source": [
    "import random\n",
    "random.seed(42)"
   ]
  },
  {
   "cell_type": "code",
   "execution_count": 5,
   "metadata": {},
   "outputs": [
    {
     "name": "stderr",
     "output_type": "stream",
     "text": [
      "56784240it [00:34, 1633268.12it/s]\n"
     ]
    }
   ],
   "source": [
    "raw_jsonl_path = '/blob/guoqing/pistachio_2023Q2_v2_o_smiles_preprocessed/train_augmentation_20.jsonl'\n",
    "\n",
    "raw_data = []\n",
    "with open(raw_jsonl_path, 'r') as f:\n",
    "    lines = f.readlines()\n",
    "    for lineno, line in tqdm(enumerate(lines)):\n",
    "        aug_id = lineno % 20\n",
    "        if aug_id < 3: # keep 3/20 = 15% of the data\n",
    "            raw_data.append(json.loads(line))"
   ]
  },
  {
   "cell_type": "code",
   "execution_count": 6,
   "metadata": {},
   "outputs": [
    {
     "data": {
      "text/plain": [
       "8517636"
      ]
     },
     "execution_count": 6,
     "metadata": {},
     "output_type": "execute_result"
    }
   ],
   "source": [
    "len(raw_data)"
   ]
  },
  {
   "cell_type": "code",
   "execution_count": 8,
   "metadata": {},
   "outputs": [
    {
     "data": {
      "text/plain": [
       "{'psmiles': 'c1c(-c2cnc(O[C@H]3C[C@H](C(OCc4ccccc4)=O)C3)cc2)cc(F)c(C=O)c1',\n",
       " 'rsmiles': 'c1c(B(O)O)cc(F)c(C=O)c1.c1(Br)cnc(O[C@H]2C[C@H](C(OCc3ccccc3)=O)C2)cc1'}"
      ]
     },
     "execution_count": 8,
     "metadata": {},
     "output_type": "execute_result"
    }
   ],
   "source": [
    "raw_data[0]"
   ]
  },
  {
   "cell_type": "code",
   "execution_count": 9,
   "metadata": {},
   "outputs": [
    {
     "name": "stderr",
     "output_type": "stream",
     "text": [
      "100%|██████████| 8517636/8517636 [00:05<00:00, 1423258.45it/s]\n"
     ]
    }
   ],
   "source": [
    "result = []\n",
    "for i, data in enumerate(tqdm(raw_data)):\n",
    "    # for 5% data, use text tampltes, otherwise, just concatenate reactants and products\n",
    "    if random.random() < 0.05:\n",
    "        template = random.choice(txt_templates)\n",
    "        result.append(template.format(reactants='<reactants>'+data['rsmiles']+'</reactants>', product='<product>'+data['psmiles']+'</product>'))\n",
    "    else:\n",
    "        if i % 2 == 0:\n",
    "            result.append(f'<product>{data[\"psmiles\"]}</product><reactants>{data[\"rsmiles\"]}</reactants>')\n",
    "        else:\n",
    "            result.append(f'<reactants>{data[\"rsmiles\"]}</reactants><product>{data[\"psmiles\"]}</product>')"
   ]
  },
  {
   "cell_type": "code",
   "execution_count": 10,
   "metadata": {},
   "outputs": [],
   "source": [
    "\n",
    "random.shuffle(result)"
   ]
  },
  {
   "cell_type": "code",
   "execution_count": 11,
   "metadata": {},
   "outputs": [
    {
     "name": "stdout",
     "output_type": "stream",
     "text": [
      "<reactants>CC(=O)N1CC2CC2(c2ccc([N+]([O-])=O)cc2)C1</reactants><product>CC(=O)N1CC2CC2(c2ccc(N)cc2)C1</product>\n",
      "<reactants>c1c(NCCOCCOCCOCCN)c2c(cc1)C(=O)N(C1C(=O)NC(=O)CC1)C2=O.C(CN1CCN(c2ccc(-c3c4c([nH]n3)cnc(-c3c(OC)cccc3F)n4)cc2)CC1)(=O)O</reactants><product>c1c(NCCOCCOCCOCCNC(CN2CCN(c3ccc(-c4c5c([nH]n4)cnc(-c4c(OC)cccc4F)n5)cc3)CC2)=O)c2c(cc1)C(=O)N(C1C(=O)NC(=O)CC1)C2=O</product>\n",
      "<reactants>n1c(N)c2c(nc1)n([C@@H]1O[C@H](COP(OP(O)(=O)OCC(C)(C)[C@@H](O)C(NCCC(NCCSC(=O)/C=C/CC)=O)=O)(=O)O)[C@@H](OP(O)(=O)O)[C@H]1O)cn2.N[C@H](C(O)=O)CC(C)C</reactants><product>N(C)c1nc(NC(C)C)nc(NC)n1</product>\n",
      "<reactants>n1n([C@@H]2CC[C@@H](CO)CC2)cc2cc(NC(OC(C)(C)C)=O)c(OC)cc12</reactants><product>n1n([C@@H]2CC[C@@H](C=O)CC2)cc2cc(NC(OC(C)(C)C)=O)c(OC)cc12</product>\n",
      "<reactants>O=C(O)/C=C\\C(O)=O.[Ca]1OC(=O)O1</reactants><product>O1C(=O)C=CC(=O)O[Ca]1</product>\n",
      "The combination of <reactants>[C@@H](N[C@@H](C)c1ccccc1)(C1CC1)C</reactants> can result in the generation of <product>[C@@H](N)(C1CC1)C</product>.\n",
      "<reactants>C[C@H]([C@H]1C(=O)N[C@H]2Cc3c4ccc(OC)c(CSCCN)c4[nH]c3S(=O)C[C@H](NC(=O)CNC(=O)[C@@H]([C@H](CC)C)NC(=O)CNC2=O)C(=O)N[C@@H](CC(=O)N)C(=O)N2C[C@H](O)C[C@@H]2C(=O)N1)[C@@H](O)CO.C(CCN1C(=O)C=CC1=O)(=O)O</reactants><product>C[C@H]([C@H]1C(=O)N[C@H]2Cc3c4ccc(OC)c(CSCCNC(CCN5C(=O)C=CC5=O)=O)c4[nH]c3S(=O)C[C@H](NC(=O)CNC(=O)[C@@H]([C@H](CC)C)NC(=O)CNC2=O)C(=O)N[C@@H](CC(=O)N)C(=O)N2C[C@H](O)C[C@@H]2C(=O)N1)[C@@H](O)CO</product>\n",
      "<product>c1ccc(S(=O)(=O)N(c2cc(C3=NCC(=O)Nc4c5c(cccc5)[nH]c43)ccc2)S(c2ccccc2)(=O)=O)cc1</product><reactants>c1ccc(S(=O)(=O)N(c2cc(C3=NCC(=O)Nc4c5c(cccc5)n(C(OCC)=O)c43)ccc2)S(c2ccccc2)(=O)=O)cc1</reactants>\n",
      "<product>c1cc(OCCN2CCC2)ccc1C1C(c2cccc(O)c2)=C(C)c2cc(O)ccc2O1</product><reactants>c1cc(I)ccc1C1C(c2cccc(OC3CCCCO3)c2)=C(C)c2cc(OC3OCCCC3)ccc2O1.OCCN1CCC1</reactants>\n",
      "<reactants>O=C(O)Cc1ccc(CBr)cc1.Sc1c(OC)cccc1</reactants><product>O=C(O)Cc1ccc(CSc2c(OC)cccc2)cc1</product>\n",
      "<reactants>O(c1ccc(C=NO)cc1C)C</reactants><product>O(c1ccc(CN)cc1C)C</product>\n",
      "<product>c1cccc([P+](c2ccccc2)(CC2=Cc3c(ccc(-c4ccc(C)cc4)c3)OCC2)c2ccccc2)c1</product><reactants>c1cccc(P(c2ccccc2)c2ccccc2)c1.C(C1=Cc2c(ccc(-c3ccc(C)cc3)c2)OCC1)Br</reactants>\n",
      "<product>C(C)([C@@H]1[C@]2(C)[C@H]([C@@H]3CCC4=CC(=O)CC[C@]4(C)[C@H]3[C@](O)(C)C2)CC1)=O</product><reactants>C1(C)([C@@H]2[C@]3(C)[C@H]([C@@H]4CC=C5CC6(OCCO6)CC[C@]5(C)[C@H]4[C@](O)(C)C3)CC2)OCCO1</reactants>\n",
      "<product>c1(COC(=O)N2C3CC(F)(F)C2C[C@H]3C(=O)OCC)ccccc1</product><reactants>c1(COC(=O)N2C3CC(=O)C2C[C@H]3C(=O)OCC)ccccc1.FS(F)(F)N(CC)CC</reactants>\n",
      "<product>C1OC(=O)N(Cc2c(Oc3cc(CC(OCC)=O)ccc3)ccc(C)c2)C1</product><reactants>C1OC(=O)NC1.C(c1c(Oc2cc(CC(OCC)=O)ccc2)ccc(C)c1)Br</reactants>\n",
      "<reactants>c1c(N)c(C(NCCC#N)=O)nn1C1OCCCC1.C(=O)(c1cccc(OC)c1)O</reactants><product>c1c(NC(=O)c2cccc(OC)c2)c(C(NCCC#N)=O)nn1C1OCCCC1</product>\n",
      "<product>C1CC(Oc2cc(F)ccc2Cl)(C#N)CCN1</product><reactants>C1CC(Oc2cc(F)ccc2Cl)(C#N)CCN1C(=O)OC(C)(C)C</reactants>\n",
      "Under optimal conditions, <reactants>[C@@H](C(C)C)(NC)C(=O)OCc1ccccc1.C(c1ccc(OC(OC(C)(C)C)=O)cc1)=O</reactants> can yield <product>[C@@H](C(C)C)(N(C)Cc1ccc(OC(OC(C)(C)C)=O)cc1)C(=O)OCc1ccccc1</product> as a result of a chemical reaction.\n",
      "<reactants>c1c(-c2nc3c(nc2Cl)ccc(C(=O)Cl)c3)ccc(F)c1.NCCCc1ncc[nH]1</reactants><product>c1c(-c2nc3c(nc2Cl)ccc(C(NCCCc2ncc[nH]2)=O)c3)ccc(F)c1</product>\n",
      "<reactants>C1[C@@H](C(C)C)C(=O)C[C@H](C)C1.[SiH](CC)(CC)CC</reactants><product>C1C(C(C)C)C(O[Si](CC)(CC)CC)CC(C)C1</product>\n",
      "<product>c1c(C#N)c(F)ccc1CCN1CC(F)C1</product><reactants>c1c(C#N)c(F)ccc1CC=O.N1CC(F)C1</reactants>\n",
      "<product>n12cc(COc3cc(NCc4c(C)cc(C(N)=N)cc4C)ncn3)nc1ccc(Cl)c2</product><reactants>n12cc(COc3cc(NCc4c(C)cc(C#N)cc4C)ncn3)nc1ccc(Cl)c2.[NH4+]</reactants>\n",
      "<reactants>c1(F)c2nc(-c3cc(C(C)=O)cc(-c4cc5c(oc(-c6ccc(F)cc6)c5C(NC)=O)cc4N(S(=O)(=O)C)C)c3)oc2ccc1.NO</reactants><product>c1(F)c2nc(-c3cc(/C(C)=N\\O)cc(-c4cc5c(oc(-c6ccc(F)cc6)c5C(NC)=O)cc4N(S(=O)(=O)C)C)c3)oc2ccc1</product>\n",
      "<product>C1(C(=O)OCC)(CO)CCC(c2nc3c(-c4cn(-c5ccccc5)nc4)cnn3c(N(COCC[Si](C)(C)C)COCC[Si](C)(C)C)c2Br)CC1</product><reactants>C1(C(=O)OCC)(CO)CCC(c2nc3c(-c4cn(-c5ccccc5)nc4)cnn3c(N(COCC[Si](C)(C)C)COCC[Si](C)(C)C)c2)CC1.BrN1C(=O)CCC1=O</reactants>\n",
      "<product>c1c2cc(OCOC)cc(B3OC(C)(C)C(C)(C)O3)c2c(F)c(F)c1</product><reactants>c1c2cc(OCOC)cc(OS(=O)(C(F)(F)F)=O)c2c(F)c(F)c1.B1(B2OC(C)(C)C(C)(C)O2)OC(C)(C)C(C)(C)O1</reactants>\n",
      "<reactants>c1cc(COc2nc(-c3cccs3)ncc2)ccc1.BrN1C(=O)CCC1=O</reactants><product>c1cc(COc2nc(-c3ccc(Br)s3)ncc2)ccc1</product>\n",
      "<product>C1N(Cc2ccccc2)CCCC1</product><reactants>C(N(CC)CC)C.c1c(Cl)ccc(C=O)c1.C(C)(=O)O[BH-](OC(=O)C)OC(C)=O</reactants>\n",
      "<reactants>O(C(CNC(=O)C1(CSC(C)(C)C)CCc2ccccc2C1)=O)Cc1ccccc1</reactants><product>O(C(CNC(=O)C1(CS)CCc2ccccc2C1)=O)Cc1ccccc1</product>\n",
      "<product>O=C(OC)C(N(C(OCCCC)=O)C)CC=C(C)C</product><reactants>O=C(OC)CN(C(OC(C)(C)C)=O)C.CC(C)N(C(C)C)[Li].C(C=C(C)C)Br</reactants>\n",
      "<product>c1c(CC(OC)=O)ccc(C)c1C</product><reactants>c1c(CC#N)ccc(C)c1C.OC.O</reactants>\n"
     ]
    }
   ],
   "source": [
    "# print some examples\n",
    "for i in range(30):\n",
    "    print(result[i])"
   ]
  },
  {
   "cell_type": "code",
   "execution_count": 12,
   "metadata": {},
   "outputs": [
    {
     "name": "stderr",
     "output_type": "stream",
     "text": [
      "100%|██████████| 8517636/8517636 [00:19<00:00, 438080.93it/s]\n"
     ]
    }
   ],
   "source": [
    "# save to file\n",
    "save_path = '/blob/shufxi/data/scigpt/pistachio_2023Q2_v2_o_smiles/train.txt'\n",
    "\n",
    "# ensure folder exits\n",
    "import os\n",
    "os.makedirs(os.path.dirname(save_path), exist_ok=True)\n",
    "\n",
    "with open(save_path, 'w') as f:\n",
    "    for line in tqdm(result):\n",
    "        f.write(line+'\\n')"
   ]
  },
  {
   "cell_type": "code",
   "execution_count": null,
   "metadata": {},
   "outputs": [],
   "source": []
  }
 ],
 "metadata": {
  "kernelspec": {
   "display_name": "sfm",
   "language": "python",
   "name": "python3"
  },
  "language_info": {
   "codemirror_mode": {
    "name": "ipython",
    "version": 3
   },
   "file_extension": ".py",
   "mimetype": "text/x-python",
   "name": "python",
   "nbconvert_exporter": "python",
   "pygments_lexer": "ipython3",
   "version": "3.9.18"
  }
 },
 "nbformat": 4,
 "nbformat_minor": 2
}
