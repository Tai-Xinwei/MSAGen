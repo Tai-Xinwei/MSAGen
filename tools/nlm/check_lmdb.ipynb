{
 "cells": [
  {
   "cell_type": "code",
   "execution_count": 2,
   "metadata": {},
   "outputs": [],
   "source": [
    "import lmdb\n",
    "from pathlib import Path"
   ]
  },
  {
   "cell_type": "code",
   "execution_count": 3,
   "metadata": {},
   "outputs": [],
   "source": [
    "def find_leaf_directories(root_dir):\n",
    "    ret = []\n",
    "    has_subdir = False\n",
    "    for subdir in root_dir.iterdir():\n",
    "        if subdir.is_dir():\n",
    "            has_subdir = True\n",
    "            ret.extend(find_leaf_directories(subdir))\n",
    "    if not has_subdir:\n",
    "        ret.append(root_dir)\n",
    "    return ret"
   ]
  },
  {
   "cell_type": "code",
   "execution_count": 4,
   "metadata": {},
   "outputs": [
    {
     "name": "stdout",
     "output_type": "stream",
     "text": [
      "[PosixPath('/nlm/SFMData/pretrain/20240724/train_split_lmdb/DNA/mammals_binary_mammals0_30.lmdb'), PosixPath('/nlm/SFMData/pretrain/20240724/train_split_lmdb/DNA/mammals_binary_mammals120_150.lmdb'), PosixPath('/nlm/SFMData/pretrain/20240724/train_split_lmdb/DNA/mammals_binary_mammals150_180.lmdb'), PosixPath('/nlm/SFMData/pretrain/20240724/train_split_lmdb/DNA/mammals_binary_mammals180_-1.lmdb'), PosixPath('/nlm/SFMData/pretrain/20240724/train_split_lmdb/DNA/mammals_binary_mammals30_60.lmdb'), PosixPath('/nlm/SFMData/pretrain/20240724/train_split_lmdb/DNA/mammals_binary_mammals60_90.lmdb'), PosixPath('/nlm/SFMData/pretrain/20240724/train_split_lmdb/DNA/mammals_binary_mammals90_120.lmdb'), PosixPath('/nlm/SFMData/pretrain/20240724/train_split_lmdb/DNA/vertebrate_others_binary_vertebrate_others0_60.lmdb'), PosixPath('/nlm/SFMData/pretrain/20240724/train_split_lmdb/DNA/vertebrate_others_binary_vertebrate_others120_180.lmdb'), PosixPath('/nlm/SFMData/pretrain/20240724/train_split_lmdb/DNA/vertebrate_others_binary_vertebrate_others180_240.lmdb'), PosixPath('/nlm/SFMData/pretrain/20240724/train_split_lmdb/DNA/vertebrate_others_binary_vertebrate_others240_300.lmdb'), PosixPath('/nlm/SFMData/pretrain/20240724/train_split_lmdb/DNA/vertebrate_others_binary_vertebrate_others300_-1.lmdb'), PosixPath('/nlm/SFMData/pretrain/20240724/train_split_lmdb/DNA/vertebrate_others_binary_vertebrate_others60_120.lmdb'), PosixPath('/nlm/SFMData/pretrain/20240724/train_split_lmdb/RNA/refseq_rna.lmdb'), PosixPath('/nlm/SFMData/pretrain/20240724/train_split_lmdb/SlimPajama_train_sample_300B_part00.lmdb'), PosixPath('/nlm/SFMData/pretrain/20240724/train_split_lmdb/antibody_full_seq_rmdup.sample30m.train.pended.20240731.ab.npy.lmdb'), PosixPath('/nlm/SFMData/pretrain/20240724/train_split_lmdb/binary_train_pmc.npy.lmdb'), PosixPath('/nlm/SFMData/pretrain/20240724/train_split_lmdb/binary_train_pubmed.npy.lmdb'), PosixPath('/nlm/SFMData/pretrain/20240724/train_split_lmdb/binary_train_wrapped_pmc_0_100.npy.lmdb'), PosixPath('/nlm/SFMData/pretrain/20240724/train_split_lmdb/binary_train_wrapped_pmc_100_200.npy.lmdb'), PosixPath('/nlm/SFMData/pretrain/20240724/train_split_lmdb/binary_train_wrapped_pmc_200_300.npy.lmdb'), PosixPath('/nlm/SFMData/pretrain/20240724/train_split_lmdb/binary_train_wrapped_pmc_300_400.npy.lmdb'), PosixPath('/nlm/SFMData/pretrain/20240724/train_split_lmdb/binary_train_wrapped_pmc_400_500.npy.lmdb'), PosixPath('/nlm/SFMData/pretrain/20240724/train_split_lmdb/binary_train_wrapped_pmc_500_600.npy.lmdb'), PosixPath('/nlm/SFMData/pretrain/20240724/train_split_lmdb/binary_train_wrapped_pmc_600_700.npy.lmdb'), PosixPath('/nlm/SFMData/pretrain/20240724/train_split_lmdb/binary_train_wrapped_pmc_700_800.npy.lmdb'), PosixPath('/nlm/SFMData/pretrain/20240724/train_split_lmdb/binary_train_wrapped_pmc_800_900.npy.lmdb'), PosixPath('/nlm/SFMData/pretrain/20240724/train_split_lmdb/binary_train_wrapped_pmc_900_1000.npy.lmdb'), PosixPath('/nlm/SFMData/pretrain/20240724/train_split_lmdb/binary_train_wrapped_pubmed_0_200.npy.lmdb'), PosixPath('/nlm/SFMData/pretrain/20240724/train_split_lmdb/binary_train_wrapped_pubmed_200_400.npy.lmdb'), PosixPath('/nlm/SFMData/pretrain/20240724/train_split_lmdb/binary_train_wrapped_pubmed_400_600.npy.lmdb'), PosixPath('/nlm/SFMData/pretrain/20240724/train_split_lmdb/binary_train_wrapped_pubmed_600_800.npy.lmdb'), PosixPath('/nlm/SFMData/pretrain/20240724/train_split_lmdb/binary_train_wrapped_pubmed_800_1115.npy.lmdb'), PosixPath('/nlm/SFMData/pretrain/20240724/train_split_lmdb/material.lmdb'), PosixPath('/nlm/SFMData/pretrain/20240724/train_split_lmdb/mgy_clusters.pended.seq.lmdb_train.npy.part0.lmdb'), PosixPath('/nlm/SFMData/pretrain/20240724/train_split_lmdb/mgy_clusters.pended.seq.lmdb_train.npy.part1.lmdb'), PosixPath('/nlm/SFMData/pretrain/20240724/train_split_lmdb/mgy_clusters.pended.seq.lmdb_train.npy.part2.lmdb'), PosixPath('/nlm/SFMData/pretrain/20240724/train_split_lmdb/text_and_material.lmdb'), PosixPath('/nlm/SFMData/pretrain/20240724/train_split_lmdb/train_c4.npy.lmdb'), PosixPath('/nlm/SFMData/pretrain/20240724/train_split_lmdb/train_patent.npy.lmdb'), PosixPath('/nlm/SFMData/pretrain/20240724/train_split_lmdb/train_scitext.npy.lmdb'), PosixPath('/nlm/SFMData/pretrain/20240724/train_split_lmdb/train_table.npy.lmdb'), PosixPath('/nlm/SFMData/pretrain/20240724/train_split_lmdb/train_text2prot.npy.lmdb'), PosixPath('/nlm/SFMData/pretrain/20240724/train_split_lmdb/ur90_uniref90_2024_02.pended.train.seq.lmdb'), PosixPath('/nlm/SFMData/pretrain/20240724/train_split_lmdb/SlimPajama_train_sample_300B_part00'), PosixPath('/nlm/SFMData/pretrain/20240724/train_split_lmdb/SlimPajama_train_sample_300B_part01'), PosixPath('/nlm/SFMData/pretrain/20240724/train_split_lmdb/v6_processed_general_cmpd_text_train.npy.lmdb'), PosixPath('/nlm/SFMData/pretrain/20240724/train_split_lmdb/v6_processed_general_cmpd_train.npy.lmdb'), PosixPath('/nlm/SFMData/pretrain/20240724/train_split_lmdb/v6_processed_reagent_train.npy.lmdb'), PosixPath('/nlm/SFMData/pretrain/20240724/train_split_lmdb/v6_zinc_sub10_train.npy.lmdb'), PosixPath('/nlm/SFMData/pretrain/20240724/train_split_lmdb/v6_zinc_sub11_train.npy.lmdb'), PosixPath('/nlm/SFMData/pretrain/20240724/train_split_lmdb/v6_zinc_sub12_train.npy.lmdb'), PosixPath('/nlm/SFMData/pretrain/20240724/train_split_lmdb/v6_zinc_sub13_train.npy.lmdb'), PosixPath('/nlm/SFMData/pretrain/20240724/train_split_lmdb/v6_zinc_sub14_train.npy.lmdb'), PosixPath('/nlm/SFMData/pretrain/20240724/train_split_lmdb/v6_zinc_sub15_train.npy.lmdb'), PosixPath('/nlm/SFMData/pretrain/20240724/train_split_lmdb/v6_zinc_sub16_train.npy.lmdb'), PosixPath('/nlm/SFMData/pretrain/20240724/train_split_lmdb/v6_zinc_sub17_train.npy.lmdb'), PosixPath('/nlm/SFMData/pretrain/20240724/train_split_lmdb/v6_zinc_sub18_train.npy.lmdb'), PosixPath('/nlm/SFMData/pretrain/20240724/train_split_lmdb/v6_zinc_sub19_train.npy.lmdb'), PosixPath('/nlm/SFMData/pretrain/20240724/train_split_lmdb/v6_zinc_sub1_train.npy.lmdb'), PosixPath('/nlm/SFMData/pretrain/20240724/train_split_lmdb/v6_zinc_sub20_train.npy.lmdb'), PosixPath('/nlm/SFMData/pretrain/20240724/train_split_lmdb/v6_zinc_sub21_train.npy.lmdb'), PosixPath('/nlm/SFMData/pretrain/20240724/train_split_lmdb/v6_zinc_sub22_train.npy.lmdb'), PosixPath('/nlm/SFMData/pretrain/20240724/train_split_lmdb/v6_zinc_sub23_train.npy.lmdb'), PosixPath('/nlm/SFMData/pretrain/20240724/train_split_lmdb/v6_zinc_sub24_train.npy.lmdb'), PosixPath('/nlm/SFMData/pretrain/20240724/train_split_lmdb/v6_zinc_sub25_train.npy.lmdb'), PosixPath('/nlm/SFMData/pretrain/20240724/train_split_lmdb/v6_zinc_sub26_train.npy.lmdb'), PosixPath('/nlm/SFMData/pretrain/20240724/train_split_lmdb/v6_zinc_sub2_train.npy.lmdb'), PosixPath('/nlm/SFMData/pretrain/20240724/train_split_lmdb/v6_zinc_sub3_train.npy.lmdb'), PosixPath('/nlm/SFMData/pretrain/20240724/train_split_lmdb/v6_zinc_sub4_train.npy.lmdb'), PosixPath('/nlm/SFMData/pretrain/20240724/train_split_lmdb/v6_zinc_sub5_train.npy.lmdb'), PosixPath('/nlm/SFMData/pretrain/20240724/train_split_lmdb/v6_zinc_sub6_train.npy.lmdb'), PosixPath('/nlm/SFMData/pretrain/20240724/train_split_lmdb/v6_zinc_sub7_train.npy.lmdb'), PosixPath('/nlm/SFMData/pretrain/20240724/train_split_lmdb/v6_zinc_sub8_train.npy.lmdb'), PosixPath('/nlm/SFMData/pretrain/20240724/train_split_lmdb/v6_zinc_sub9_train.npy.lmdb')]\n"
     ]
    }
   ],
   "source": [
    "train_data_home = Path('/nlm/SFMData/pretrain/20240724/train_split_lmdb/')\n",
    "\n",
    "# find all leaf directories\n",
    "data_folders = find_leaf_directories(train_data_home)\n",
    "print(data_folders)"
   ]
  },
  {
   "cell_type": "code",
   "execution_count": 3,
   "metadata": {},
   "outputs": [],
   "source": [
    "def check(pth):\n",
    "    # check if the path contains 'data.mdb'\n",
    "    if not (pth / 'data.mdb').exists():\n",
    "        print(f'{pth} does not contain data.mdb')\n",
    "        return False\n",
    "\n",
    "    try:\n",
    "        env = lmdb.open(str(pth), subdir=True, readonly=True, lock=False, readahead=False)\n",
    "        txn = env.begin(write=False)\n",
    "        meta = txn.get(\"metadata\".encode())\n",
    "    except Exception as e:\n",
    "        print(f'Error in {pth}: {e}')\n",
    "        return False\n",
    "\n",
    "    return True"
   ]
  },
  {
   "cell_type": "code",
   "execution_count": 5,
   "metadata": {},
   "outputs": [
    {
     "name": "stdout",
     "output_type": "stream",
     "text": [
      "Checking /nlm/SFMData/pretrain/20240724/train_split_lmdb/DNA/mammals_binary_mammals0_30.lmdb\n",
      "Success\n",
      "================\n",
      "Checking /nlm/SFMData/pretrain/20240724/train_split_lmdb/DNA/mammals_binary_mammals120_150.lmdb\n",
      "Success\n",
      "================\n",
      "Checking /nlm/SFMData/pretrain/20240724/train_split_lmdb/DNA/mammals_binary_mammals150_180.lmdb\n",
      "Success\n",
      "================\n",
      "Checking /nlm/SFMData/pretrain/20240724/train_split_lmdb/DNA/mammals_binary_mammals180_-1.lmdb\n"
     ]
    },
    {
     "name": "stdout",
     "output_type": "stream",
     "text": [
      "Success\n",
      "================\n",
      "Checking /nlm/SFMData/pretrain/20240724/train_split_lmdb/DNA/mammals_binary_mammals30_60.lmdb\n",
      "Success\n",
      "================\n",
      "Checking /nlm/SFMData/pretrain/20240724/train_split_lmdb/DNA/mammals_binary_mammals60_90.lmdb\n",
      "Success\n",
      "================\n",
      "Checking /nlm/SFMData/pretrain/20240724/train_split_lmdb/DNA/mammals_binary_mammals90_120.lmdb\n",
      "Success\n",
      "================\n",
      "Checking /nlm/SFMData/pretrain/20240724/train_split_lmdb/DNA/vertebrate_others_binary_vertebrate_others0_60.lmdb\n",
      "Success\n",
      "================\n",
      "Checking /nlm/SFMData/pretrain/20240724/train_split_lmdb/DNA/vertebrate_others_binary_vertebrate_others120_180.lmdb\n",
      "Success\n",
      "================\n",
      "Checking /nlm/SFMData/pretrain/20240724/train_split_lmdb/DNA/vertebrate_others_binary_vertebrate_others180_240.lmdb\n",
      "Success\n",
      "================\n",
      "Checking /nlm/SFMData/pretrain/20240724/train_split_lmdb/DNA/vertebrate_others_binary_vertebrate_others240_300.lmdb\n",
      "Success\n",
      "================\n",
      "Checking /nlm/SFMData/pretrain/20240724/train_split_lmdb/DNA/vertebrate_others_binary_vertebrate_others300_-1.lmdb\n",
      "Success\n",
      "================\n",
      "Checking /nlm/SFMData/pretrain/20240724/train_split_lmdb/DNA/vertebrate_others_binary_vertebrate_others60_120.lmdb\n",
      "Success\n",
      "================\n",
      "Checking /nlm/SFMData/pretrain/20240724/train_split_lmdb/RNA/refseq_rna.lmdb\n",
      "Success\n",
      "================\n",
      "Checking /nlm/SFMData/pretrain/20240724/train_split_lmdb/SlimPajama_train_sample_300B_part00.lmdb\n",
      "/nlm/SFMData/pretrain/20240724/train_split_lmdb/SlimPajama_train_sample_300B_part00.lmdb does not contain data.mdb\n",
      "Failed\n",
      "================\n",
      "Checking /nlm/SFMData/pretrain/20240724/train_split_lmdb/antibody_full_seq_rmdup.sample30m.train.pended.20240731.ab.npy.lmdb\n",
      "Skip due to kernel error\n",
      "Checking /nlm/SFMData/pretrain/20240724/train_split_lmdb/binary_train_pmc.npy.lmdb\n",
      "Success\n",
      "================\n",
      "Checking /nlm/SFMData/pretrain/20240724/train_split_lmdb/binary_train_pubmed.npy.lmdb\n",
      "Success\n",
      "================\n",
      "Checking /nlm/SFMData/pretrain/20240724/train_split_lmdb/binary_train_wrapped_pmc_0_100.npy.lmdb\n",
      "Success\n",
      "================\n",
      "Checking /nlm/SFMData/pretrain/20240724/train_split_lmdb/binary_train_wrapped_pmc_100_200.npy.lmdb\n",
      "Success\n",
      "================\n",
      "Checking /nlm/SFMData/pretrain/20240724/train_split_lmdb/binary_train_wrapped_pmc_200_300.npy.lmdb\n",
      "Success\n",
      "================\n",
      "Checking /nlm/SFMData/pretrain/20240724/train_split_lmdb/binary_train_wrapped_pmc_300_400.npy.lmdb\n",
      "Success\n",
      "================\n",
      "Checking /nlm/SFMData/pretrain/20240724/train_split_lmdb/binary_train_wrapped_pmc_400_500.npy.lmdb\n",
      "Success\n",
      "================\n",
      "Checking /nlm/SFMData/pretrain/20240724/train_split_lmdb/binary_train_wrapped_pmc_500_600.npy.lmdb\n",
      "Success\n",
      "================\n",
      "Checking /nlm/SFMData/pretrain/20240724/train_split_lmdb/binary_train_wrapped_pmc_600_700.npy.lmdb\n",
      "Success\n",
      "================\n",
      "Checking /nlm/SFMData/pretrain/20240724/train_split_lmdb/binary_train_wrapped_pmc_700_800.npy.lmdb\n",
      "Success\n",
      "================\n",
      "Checking /nlm/SFMData/pretrain/20240724/train_split_lmdb/binary_train_wrapped_pmc_800_900.npy.lmdb\n",
      "Success\n",
      "================\n",
      "Checking /nlm/SFMData/pretrain/20240724/train_split_lmdb/binary_train_wrapped_pmc_900_1000.npy.lmdb\n",
      "Success\n",
      "================\n",
      "Checking /nlm/SFMData/pretrain/20240724/train_split_lmdb/binary_train_wrapped_pubmed_0_200.npy.lmdb\n",
      "Success\n",
      "================\n",
      "Checking /nlm/SFMData/pretrain/20240724/train_split_lmdb/binary_train_wrapped_pubmed_200_400.npy.lmdb\n",
      "Success\n",
      "================\n",
      "Checking /nlm/SFMData/pretrain/20240724/train_split_lmdb/binary_train_wrapped_pubmed_400_600.npy.lmdb\n",
      "Success\n",
      "================\n",
      "Checking /nlm/SFMData/pretrain/20240724/train_split_lmdb/binary_train_wrapped_pubmed_600_800.npy.lmdb\n",
      "Success\n",
      "================\n",
      "Checking /nlm/SFMData/pretrain/20240724/train_split_lmdb/binary_train_wrapped_pubmed_800_1115.npy.lmdb\n",
      "Success\n",
      "================\n",
      "Checking /nlm/SFMData/pretrain/20240724/train_split_lmdb/material.lmdb\n",
      "/nlm/SFMData/pretrain/20240724/train_split_lmdb/material.lmdb does not contain data.mdb\n",
      "Failed\n",
      "================\n",
      "Checking /nlm/SFMData/pretrain/20240724/train_split_lmdb/mgy_clusters.pended.seq.lmdb_train.npy.part0.lmdb\n",
      "Error in /nlm/SFMData/pretrain/20240724/train_split_lmdb/mgy_clusters.pended.seq.lmdb_train.npy.part0.lmdb: mdb_get: MDB_PAGE_NOTFOUND: Requested page not found\n",
      "Failed\n",
      "================\n",
      "Checking /nlm/SFMData/pretrain/20240724/train_split_lmdb/mgy_clusters.pended.seq.lmdb_train.npy.part1.lmdb\n",
      "Error in /nlm/SFMData/pretrain/20240724/train_split_lmdb/mgy_clusters.pended.seq.lmdb_train.npy.part1.lmdb: mdb_get: MDB_CORRUPTED: Located page was wrong type\n",
      "Failed\n",
      "================\n",
      "Checking /nlm/SFMData/pretrain/20240724/train_split_lmdb/mgy_clusters.pended.seq.lmdb_train.npy.part2.lmdb\n",
      "Error in /nlm/SFMData/pretrain/20240724/train_split_lmdb/mgy_clusters.pended.seq.lmdb_train.npy.part2.lmdb: mdb_get: MDB_CORRUPTED: Located page was wrong type\n",
      "Failed\n",
      "================\n",
      "Checking /nlm/SFMData/pretrain/20240724/train_split_lmdb/text_and_material.lmdb\n",
      "Success\n",
      "================\n",
      "Checking /nlm/SFMData/pretrain/20240724/train_split_lmdb/train_c4.npy.lmdb\n",
      "Success\n",
      "================\n",
      "Checking /nlm/SFMData/pretrain/20240724/train_split_lmdb/train_patent.npy.lmdb\n",
      "Success\n",
      "================\n",
      "Checking /nlm/SFMData/pretrain/20240724/train_split_lmdb/train_scitext.npy.lmdb\n",
      "Success\n",
      "================\n",
      "Checking /nlm/SFMData/pretrain/20240724/train_split_lmdb/train_table.npy.lmdb\n",
      "Success\n",
      "================\n",
      "Checking /nlm/SFMData/pretrain/20240724/train_split_lmdb/train_text2prot.npy.lmdb\n",
      "Success\n",
      "================\n",
      "Checking /nlm/SFMData/pretrain/20240724/train_split_lmdb/ur90_uniref90_2024_02.pended.train.seq.lmdb\n",
      "Error in /nlm/SFMData/pretrain/20240724/train_split_lmdb/ur90_uniref90_2024_02.pended.train.seq.lmdb: mdb_get: MDB_CORRUPTED: Located page was wrong type\n",
      "Failed\n",
      "================\n",
      "Checking /nlm/SFMData/pretrain/20240724/train_split_lmdb/SlimPajama_train_sample_300B_part00\n",
      "Success\n",
      "================\n",
      "Checking /nlm/SFMData/pretrain/20240724/train_split_lmdb/SlimPajama_train_sample_300B_part01\n",
      "Success\n",
      "================\n",
      "Checking /nlm/SFMData/pretrain/20240724/train_split_lmdb/v6_processed_general_cmpd_text_train.npy.lmdb\n",
      "Success\n",
      "================\n",
      "Checking /nlm/SFMData/pretrain/20240724/train_split_lmdb/v6_processed_general_cmpd_train.npy.lmdb\n",
      "Success\n",
      "================\n",
      "Checking /nlm/SFMData/pretrain/20240724/train_split_lmdb/v6_processed_reagent_train.npy.lmdb\n",
      "Success\n",
      "================\n",
      "Checking /nlm/SFMData/pretrain/20240724/train_split_lmdb/v6_zinc_sub10_train.npy.lmdb\n",
      "Success\n",
      "================\n",
      "Checking /nlm/SFMData/pretrain/20240724/train_split_lmdb/v6_zinc_sub11_train.npy.lmdb\n",
      "Success\n",
      "================\n",
      "Checking /nlm/SFMData/pretrain/20240724/train_split_lmdb/v6_zinc_sub12_train.npy.lmdb\n",
      "Success\n",
      "================\n",
      "Checking /nlm/SFMData/pretrain/20240724/train_split_lmdb/v6_zinc_sub13_train.npy.lmdb\n",
      "Success\n",
      "================\n",
      "Checking /nlm/SFMData/pretrain/20240724/train_split_lmdb/v6_zinc_sub14_train.npy.lmdb\n",
      "Success\n",
      "================\n",
      "Checking /nlm/SFMData/pretrain/20240724/train_split_lmdb/v6_zinc_sub15_train.npy.lmdb\n",
      "Success\n",
      "================\n",
      "Checking /nlm/SFMData/pretrain/20240724/train_split_lmdb/v6_zinc_sub16_train.npy.lmdb\n",
      "Success\n",
      "================\n",
      "Checking /nlm/SFMData/pretrain/20240724/train_split_lmdb/v6_zinc_sub17_train.npy.lmdb\n",
      "Success\n",
      "================\n",
      "Checking /nlm/SFMData/pretrain/20240724/train_split_lmdb/v6_zinc_sub18_train.npy.lmdb\n",
      "Success\n",
      "================\n",
      "Checking /nlm/SFMData/pretrain/20240724/train_split_lmdb/v6_zinc_sub19_train.npy.lmdb\n",
      "Success\n",
      "================\n",
      "Checking /nlm/SFMData/pretrain/20240724/train_split_lmdb/v6_zinc_sub1_train.npy.lmdb\n",
      "Success\n",
      "================\n",
      "Checking /nlm/SFMData/pretrain/20240724/train_split_lmdb/v6_zinc_sub20_train.npy.lmdb\n",
      "Success\n",
      "================\n",
      "Checking /nlm/SFMData/pretrain/20240724/train_split_lmdb/v6_zinc_sub21_train.npy.lmdb\n",
      "Success\n",
      "================\n",
      "Checking /nlm/SFMData/pretrain/20240724/train_split_lmdb/v6_zinc_sub22_train.npy.lmdb\n",
      "Success\n",
      "================\n",
      "Checking /nlm/SFMData/pretrain/20240724/train_split_lmdb/v6_zinc_sub23_train.npy.lmdb\n",
      "Success\n",
      "================\n",
      "Checking /nlm/SFMData/pretrain/20240724/train_split_lmdb/v6_zinc_sub24_train.npy.lmdb\n",
      "Success\n",
      "================\n",
      "Checking /nlm/SFMData/pretrain/20240724/train_split_lmdb/v6_zinc_sub25_train.npy.lmdb\n",
      "Success\n",
      "================\n",
      "Checking /nlm/SFMData/pretrain/20240724/train_split_lmdb/v6_zinc_sub26_train.npy.lmdb\n",
      "Success\n",
      "================\n",
      "Checking /nlm/SFMData/pretrain/20240724/train_split_lmdb/v6_zinc_sub2_train.npy.lmdb\n",
      "Success\n",
      "================\n",
      "Checking /nlm/SFMData/pretrain/20240724/train_split_lmdb/v6_zinc_sub3_train.npy.lmdb\n",
      "Success\n",
      "================\n",
      "Checking /nlm/SFMData/pretrain/20240724/train_split_lmdb/v6_zinc_sub4_train.npy.lmdb\n",
      "Success\n",
      "================\n",
      "Checking /nlm/SFMData/pretrain/20240724/train_split_lmdb/v6_zinc_sub5_train.npy.lmdb\n",
      "Success\n",
      "================\n",
      "Checking /nlm/SFMData/pretrain/20240724/train_split_lmdb/v6_zinc_sub6_train.npy.lmdb\n",
      "Success\n",
      "================\n",
      "Checking /nlm/SFMData/pretrain/20240724/train_split_lmdb/v6_zinc_sub7_train.npy.lmdb\n",
      "Success\n",
      "================\n",
      "Checking /nlm/SFMData/pretrain/20240724/train_split_lmdb/v6_zinc_sub8_train.npy.lmdb\n",
      "Success\n",
      "================\n",
      "Checking /nlm/SFMData/pretrain/20240724/train_split_lmdb/v6_zinc_sub9_train.npy.lmdb\n",
      "Success\n",
      "================\n"
     ]
    }
   ],
   "source": [
    "\n",
    "\n",
    "for pth in data_folders:\n",
    "    print(\"Checking\", pth)\n",
    "    if \"antibody_full_seq_rmdup\" in str(pth):\n",
    "        print(\"Skip due to kernel error\")\n",
    "        continue\n",
    "    if check(pth):\n",
    "        print(\"Success\")\n",
    "    else:\n",
    "        print('Failed')\n",
    "    print(\"================\")"
   ]
  },
  {
   "cell_type": "code",
   "execution_count": 6,
   "metadata": {},
   "outputs": [
    {
     "data": {
      "text/plain": [
       "True"
      ]
     },
     "execution_count": 6,
     "metadata": {},
     "output_type": "execute_result"
    }
   ],
   "source": [
    "check(Path('/nlm/SFMData/pretrain/20240724/train_split_lmdb/material.lmdb'))"
   ]
  },
  {
   "cell_type": "code",
   "execution_count": 8,
   "metadata": {},
   "outputs": [
    {
     "name": "stdout",
     "output_type": "stream",
     "text": [
      "/nlm/SFMData/pretrain/20240724/train_split_lmdb/antibody_full_seq_rmdup.sample30m.train.pended.20240731.ab.npy.lmdb does not contain data.mdb\n"
     ]
    },
    {
     "ename": "",
     "evalue": "",
     "output_type": "error",
     "traceback": [
      "\u001b[1;31mThe Kernel crashed while executing code in the current cell or a previous cell. \n",
      "\u001b[1;31mPlease review the code in the cell(s) to identify a possible cause of the failure. \n",
      "\u001b[1;31mClick <a href='https://aka.ms/vscodeJupyterKernelCrash'>here</a> for more info. \n",
      "\u001b[1;31mView Jupyter <a href='command:jupyter.viewOutput'>log</a> for further details."
     ]
    }
   ],
   "source": [
    "check(Path('/nlm/SFMData/pretrain/20240724/train_split_lmdb/antibody_full_seq_rmdup.sample30m.train.pended.20240731.ab.npy.lmdb'))\n",
    "\n",
    "check(Path('/nlm/SFMData/pretrain/20240724/train_split_lmdb/antibody_full_seq_rmdup.sample30m.train.pended.20240731.ab.train.npy.lmdb'))\n"
   ]
  },
  {
   "cell_type": "code",
   "execution_count": 8,
   "metadata": {},
   "outputs": [
    {
     "data": {
      "text/plain": [
       "True"
      ]
     },
     "execution_count": 8,
     "metadata": {},
     "output_type": "execute_result"
    }
   ],
   "source": [
    "check(Path('/nlm/SFMData/pretrain/20240724/train_split_lmdb/antibody.lmdb'))"
   ]
  },
  {
   "cell_type": "code",
   "execution_count": null,
   "metadata": {},
   "outputs": [],
   "source": []
  }
 ],
 "metadata": {
  "kernelspec": {
   "display_name": "sfm",
   "language": "python",
   "name": "python3"
  },
  "language_info": {
   "codemirror_mode": {
    "name": "ipython",
    "version": 3
   },
   "file_extension": ".py",
   "mimetype": "text/x-python",
   "name": "python",
   "nbconvert_exporter": "python",
   "pygments_lexer": "ipython3",
   "version": "3.11.9"
  }
 },
 "nbformat": 4,
 "nbformat_minor": 2
}
