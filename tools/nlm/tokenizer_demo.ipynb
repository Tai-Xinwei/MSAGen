{
    "cells": [
     {
      "cell_type": "code",
      "execution_count": 1,
      "metadata": {},
      "outputs": [
       {
        "name": "stdout",
        "output_type": "stream",
        "text": [
         "[2024-07-25 03:46:07,493] [INFO] [real_accelerator.py:191:get_accelerator] Setting ds_accelerator to cuda (auto detect)\n"
        ]
       }
      ],
      "source": [
       "from sfm.data.sci_data.NlmTokenizer import NlmTokenizer, NlmLlama3Tokenizer"
      ]
     },
     {
      "cell_type": "code",
      "execution_count": 2,
      "metadata": {},
      "outputs": [
       {
        "name": "stderr",
        "output_type": "stream",
        "text": [
         "The tokenizer class you load from this checkpoint is not the same type as the class this function is called from. It may result in unexpected tokenization. \n",
         "The tokenizer class you load from this checkpoint is 'LlamaTokenizer'. \n",
         "The class this function is called from is 'NlmTokenizer'.\n"
        ]
       },
       {
        "name": "stdout",
        "output_type": "stream",
        "text": [
         "[\u001b[32m2024-07-25 03:46:09.700\u001b[0m][\u001b[36mINFO\u001b[0m]: Tokenizer has 38078 tokens\n"
        ]
       }
      ],
      "source": [
       "tokenzier = NlmTokenizer.from_pretrained('/nlm/Mixtral-8x7B-v0.1')\n",
       "\n",
       "# tokenizer = NlmLlama3Tokenizer.from_pretrained('/hai1/Meta-Llama-3-8B/')\n"
      ]
     },
     {
      "cell_type": "code",
      "execution_count": 3,
      "metadata": {},
      "outputs": [
       {
        "data": {
         "text/plain": [
          "32000"
         ]
        },
        "execution_count": 3,
        "metadata": {},
        "output_type": "execute_result"
       }
      ],
      "source": [
       "tokenzier.pad_token_id"
      ]
     },
     {
      "cell_type": "code",
      "execution_count": 4,
      "metadata": {},
      "outputs": [
       {
        "data": {
         "text/plain": [
          "2"
         ]
        },
        "execution_count": 4,
        "metadata": {},
        "output_type": "execute_result"
       }
      ],
      "source": [
       "tokenzier.eos_token_id"
      ]
     },
     {
      "cell_type": "code",
      "execution_count": 4,
      "metadata": {},
      "outputs": [],
      "source": [
       "def tokenize(text):\n",
       "    tokens = tokenzier.tokenize(text)\n",
       "    ids = tokenzier.convert_tokens_to_ids(tokens)\n",
       "    print(\"tokens:\", tokens)\n",
       "    print(\"ids:\", ids)"
      ]
     },
     {
      "cell_type": "code",
      "execution_count": 6,
      "metadata": {},
      "outputs": [
       {
        "name": "stdout",
        "output_type": "stream",
        "text": [
         "tokens: ['▁The', '▁quick', '▁brown', '▁f', 'ox', '▁j', 'umps', '▁over', '▁the', '▁lazy', '▁dog']\n",
         "ids: [415, 2936, 9060, 285, 1142, 461, 10575, 754, 272, 17898, 3914]\n"
        ]
       }
      ],
      "source": [
       "tokenize(\"The quick brown fox jumps over the lazy dog\")"
      ]
     },
     {
      "cell_type": "code",
      "execution_count": 7,
      "metadata": {},
      "outputs": [
       {
        "name": "stdout",
        "output_type": "stream",
        "text": [
         "tokens: ['<mol>', '<m>c', '<m>1', '<m>c', '<m>c', '<m>c', '<m>c', '<m>c', '<m>1', '</mol>']\n",
         "ids: [32001, 32127, 32131, 32127, 32127, 32127, 32127, 32127, 32131, 32002]\n"
        ]
       }
      ],
      "source": [
       "tokenize(\"<mol>c1ccccc1</mol>\")"
      ]
     },
     {
      "cell_type": "code",
      "execution_count": 8,
      "metadata": {},
      "outputs": [
       {
        "name": "stdout",
        "output_type": "stream",
        "text": [
         "tokens: ['<cf1>', '<i>Ho', '4', '<i>Ga', '1', '<i>B', '1', '<i>O', '4', '.', '3', '<sg1>', '</cf1>']\n",
         "ids: [32029, 33594, 28781, 33558, 28740, 33532, 28740, 33535, 28781, 28723, 28770, 33643, 32030]\n"
        ]
       }
      ],
      "source": [
       "tokenize(\"<cf1>Ho 4 Ga 1 B 1 O 4 . 3 <sg1></cf1>\")"
      ]
     },
     {
      "cell_type": "code",
      "execution_count": 9,
      "metadata": {},
      "outputs": [
       {
        "name": "stdout",
        "output_type": "stream",
        "text": [
         "tokens: ['<cf2>', '<i>Bi', '4', '<i>Pb', '3', '<i>Se', '1', '<i>O', '1', '2', '</cf2>']\n",
         "ids: [32031, 33610, 28781, 33609, 28770, 33561, 28740, 33535, 28740, 28750, 32032]\n"
        ]
       }
      ],
      "source": [
       "tokenize(\"<cf2>Bi 4 Pb 3 Se 1 O 1 2</cf2>\")"
      ]
     },
     {
      "cell_type": "code",
      "execution_count": 10,
      "metadata": {},
      "outputs": [
       {
        "name": "stdout",
        "output_type": "stream",
        "text": [
         "tokens: ['<fcf>', '<i>Bi', '<i>Bi', '<i>Bi', '<i>Bi', '<i>Pb', '<i>Pb', '<i>Pb', '<i>Se', '<i>O', '<i>O', '<i>O', '<i>O', '<i>O', '<i>O', '<i>O', '<i>O', '<i>O', '<i>O', '<i>O', '<i>O', '<sg6>', '</fcf>']\n",
         "ids: [32033, 33610, 33610, 33610, 33610, 33609, 33609, 33609, 33561, 33535, 33535, 33535, 33535, 33535, 33535, 33535, 33535, 33535, 33535, 33535, 33535, 33648, 32034]\n"
        ]
       }
      ],
      "source": [
       "tokenize(\"<fcf>Bi Bi Bi Bi Pb Pb Pb Se O O O O O O O O O O O O <sg6></fcf>\")"
      ]
     },
     {
      "cell_type": "code",
      "execution_count": 11,
      "metadata": {},
      "outputs": [
       {
        "name": "stdout",
        "output_type": "stream",
        "text": [
         "tokens: ['<protein>', '<a>M', '<a>K', '<a>Q', '<a>H', '<a>K', '</protein>']\n",
         "ids: [32007, 33885, 33883, 33889, 33880, 33883, 32008]\n"
        ]
       }
      ],
      "source": [
       "tokenize(\"<protein>MKQHK</protein>\")"
      ]
     },
     {
      "cell_type": "code",
      "execution_count": 12,
      "metadata": {},
      "outputs": [
       {
        "name": "stdout",
        "output_type": "stream",
        "text": [
         "tokens: ['<dna>', '<d>A', '<d>A', '<d>T', '<d>T', '<d>C', '<d>C', '<d>G', '<d>G', '</dna>']\n",
         "ids: [32009, 33899, 33899, 33903, 33903, 33901, 33901, 33905, 33905, 32010]\n"
        ]
       }
      ],
      "source": [
       "tokenize(\"<dna>AATTCCGG</dna>\")"
      ]
     },
     {
      "cell_type": "code",
      "execution_count": 6,
      "metadata": {},
      "outputs": [
       {
        "name": "stdout",
        "output_type": "stream",
        "text": [
         "tokens: ['<dna6mer>', '<d>AAAAAA', '<d>T', '<d>T', '</dna6mer>']\n",
         "ids: [32035, 33982, 33903, 33903, 32036]\n"
        ]
       }
      ],
      "source": [
       "tokenize(\"<dna6mer>AAAAAATT</dna6mer>\")"
      ]
     },
     {
      "cell_type": "code",
      "execution_count": 9,
      "metadata": {},
      "outputs": [
       {
        "name": "stdout",
        "output_type": "stream",
        "text": [
         "tokens: ['<product>', '<m>C', '<m>C', '<m>O', '<m>O', '</product>', '<reactants>', '<m>C', '<m>C', '</reactants>', '<reagent>', '<m>Cl', '</reagent>']\n",
         "ids: [32017, 32128, 32128, 32132, 32132, 32018, 32019, 32128, 32128, 32020, 32027, 32142, 32028]\n"
        ]
       }
      ],
      "source": [
       "tokenize(\"<product>CCOO</product><reactants>CC</reactants><reagent>Cl</reagent>\")"
      ]
     },
     {
      "cell_type": "code",
      "execution_count": 12,
      "metadata": {},
      "outputs": [
       {
        "name": "stdout",
        "output_type": "stream",
        "text": [
         "tokens: ['<antibody>', '<a>M', '<a>A', '<a>A', '</antibody>']\n",
         "ids: [32021, 33885, 33873, 33873, 32022]\n"
        ]
       }
      ],
      "source": [
       "tokenize(\"<antibody>MAA</antibody>\")"
      ]
     },
     {
      "cell_type": "code",
      "execution_count": 13,
      "metadata": {},
      "outputs": [
       {
        "name": "stdout",
        "output_type": "stream",
        "text": [
         "tokens: ['▁Inst', 'ruction', ':', '<protein>', '<a>M', '<a>E', '<a>E', '</protein>', '▁', '<0x0A>', '<0x0A>', '<0x0A>', 'Response', ':', '<mol>', '<m>C', '<m>C', '</mol>']\n",
         "ids: [3133, 3112, 28747, 32007, 33885, 33877, 33877, 32008, 28705, 13, 13, 13, 2963, 28747, 32001, 32128, 32128, 32002]\n"
        ]
       }
      ],
      "source": [
       "tokenize(\"Instruction: <protein>MEE</protein>\\n\\n\\nResponse: <mol>CC</mol>\")"
      ]
     },
     {
      "cell_type": "code",
      "execution_count": null,
      "metadata": {},
      "outputs": [],
      "source": []
     }
    ],
    "metadata": {
     "kernelspec": {
      "display_name": "sfm_moe",
      "language": "python",
      "name": "python3"
     },
     "language_info": {
      "codemirror_mode": {
       "name": "ipython",
       "version": 3
      },
      "file_extension": ".py",
      "mimetype": "text/x-python",
      "name": "python",
      "nbconvert_exporter": "python",
      "pygments_lexer": "ipython3",
      "version": "3.11.9"
     }
    },
    "nbformat": 4,
    "nbformat_minor": 2
   }
