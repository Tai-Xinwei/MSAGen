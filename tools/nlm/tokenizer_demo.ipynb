{
 "cells": [
  {
   "cell_type": "code",
   "execution_count": 7,
   "metadata": {},
   "outputs": [],
   "source": [
    "from sfm.data.sci_data.NlmTokenizer import NlmTokenizer, NlmLlama3Tokenizer"
   ]
  },
  {
   "cell_type": "code",
   "execution_count": 8,
   "metadata": {},
   "outputs": [
    {
     "name": "stderr",
     "output_type": "stream",
     "text": [
      "The tokenizer class you load from this checkpoint is not the same type as the class this function is called from. It may result in unexpected tokenization. \n",
      "The tokenizer class you load from this checkpoint is 'PreTrainedTokenizerFast'. \n",
      "The class this function is called from is 'NlmLlama3Tokenizer'.\n",
      "Special tokens have been added in the vocabulary, make sure the associated word embeddings are fine-tuned or trained.\n"
     ]
    }
   ],
   "source": [
    "# tokenzier = NlmTokenizer.from_pretrained('/hai1/shufxi/Mixtral-8x7B-v0.1')\n",
    "\n",
    "tokenizer = NlmLlama3Tokenizer.from_pretrained('/hai1/Meta-Llama-3-8B/')\n"
   ]
  },
  {
   "cell_type": "code",
   "execution_count": 10,
   "metadata": {},
   "outputs": [],
   "source": [
    "def tokenize(text):\n",
    "    tokens = tokenzier.tokenize(text)\n",
    "    ids = tokenzier.convert_tokens_to_ids(tokens)\n",
    "    print(\"tokens:\", tokens)\n",
    "    print(\"ids:\", ids)"
   ]
  },
  {
   "cell_type": "code",
   "execution_count": 11,
   "metadata": {},
   "outputs": [
    {
     "name": "stdout",
     "output_type": "stream",
     "text": [
      "tokens: ['▁The', '▁quick', '▁brown', '▁f', 'ox', '▁j', 'umps', '▁over', '▁the', '▁lazy', '▁dog']\n",
      "ids: [415, 2936, 9060, 285, 1142, 461, 10575, 754, 272, 17898, 3914]\n"
     ]
    }
   ],
   "source": [
    "tokenize(\"The quick brown fox jumps over the lazy dog\")"
   ]
  },
  {
   "cell_type": "code",
   "execution_count": 12,
   "metadata": {},
   "outputs": [
    {
     "name": "stdout",
     "output_type": "stream",
     "text": [
      "tokens: ['<mol>', '<m>c', '<m>1', '<m>c', '<m>c', '<m>c', '<m>c', '<m>c', '<m>1', '</mol>']\n",
      "ids: [32001, 32127, 32131, 32127, 32127, 32127, 32127, 32127, 32131, 32002]\n"
     ]
    }
   ],
   "source": [
    "tokenize(\"<mol>c1ccccc1</mol>\")"
   ]
  },
  {
   "cell_type": "code",
   "execution_count": 13,
   "metadata": {},
   "outputs": [
    {
     "name": "stdout",
     "output_type": "stream",
     "text": [
      "tokens: ['<protein>', '<a>M', '<a>K', '<a>Q', '<a>H', '<a>K', '</protein>']\n",
      "ids: [32007, 33885, 33883, 33889, 33880, 33883, 32008]\n"
     ]
    }
   ],
   "source": [
    "tokenize(\"<protein>MKQHK</protein>\")"
   ]
  },
  {
   "cell_type": "code",
   "execution_count": 14,
   "metadata": {},
   "outputs": [
    {
     "name": "stdout",
     "output_type": "stream",
     "text": [
      "tokens: ['<protein>', '<a>M', '<a>K', '<a>Q', '<a>H', '<a>K', '</protein>']\n",
      "ids: [32007, 33885, 33883, 33889, 33880, 33883, 32008]\n"
     ]
    }
   ],
   "source": [
    "tokenize(\"<protein>MKQHK</protein>\")"
   ]
  },
  {
   "cell_type": "code",
   "execution_count": 16,
   "metadata": {},
   "outputs": [
    {
     "name": "stdout",
     "output_type": "stream",
     "text": [
      "tokens: ['<dna>', '<d>A', '<d>T', '<d>C', '<d>G', '</dna>']\n",
      "ids: [32009, 33899, 33903, 33901, 33905, 32010]\n"
     ]
    }
   ],
   "source": [
    "tokenize(\"<dna>ATCG</dna>\")"
   ]
  },
  {
   "cell_type": "code",
   "execution_count": 9,
   "metadata": {},
   "outputs": [
    {
     "name": "stdout",
     "output_type": "stream",
     "text": [
      "tokens: ['<rna>', '<r>A', '<r>U', '<r>C', '<r>G', '</rna>']\n",
      "ids: [32011, 33900, 33908, 33902, 33906, 32012]\n"
     ]
    }
   ],
   "source": [
    "tokenize(\"<rna>AUCG</rna>\")"
   ]
  },
  {
   "cell_type": "code",
   "execution_count": 10,
   "metadata": {},
   "outputs": [
    {
     "name": "stdout",
     "output_type": "stream",
     "text": [
      "tokens: ['<material>', '<i>Cu', '<i>S', '<i>O', '<i>4', '</material>']\n",
      "ids: [32005, 33556, 33543, 33535, 33935, 32006]\n"
     ]
    }
   ],
   "source": [
    "tokenize(\"<material>Cu S O 4 </material>\")"
   ]
  },
  {
   "cell_type": "code",
   "execution_count": null,
   "metadata": {},
   "outputs": [],
   "source": []
  }
 ],
 "metadata": {
  "kernelspec": {
   "display_name": "sfm_moe",
   "language": "python",
   "name": "python3"
  },
  "language_info": {
   "codemirror_mode": {
    "name": "ipython",
    "version": 3
   },
   "file_extension": ".py",
   "mimetype": "text/x-python",
   "name": "python",
   "nbconvert_exporter": "python",
   "pygments_lexer": "ipython3",
   "version": "3.10.13"
  }
 },
 "nbformat": 4,
 "nbformat_minor": 2
}
