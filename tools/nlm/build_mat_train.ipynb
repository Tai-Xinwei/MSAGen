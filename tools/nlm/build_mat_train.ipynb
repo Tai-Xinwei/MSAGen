{
 "cells": [
  {
   "cell_type": "code",
   "execution_count": 18,
   "metadata": {},
   "outputs": [],
   "source": [
    "import re\n",
    "\n",
    "def get_length(formula):\n",
    "    groups = re.findall(r\"([A-Z][a-z]?) ?(\\d+)\", formula)\n",
    "    cnt = 0\n",
    "    for atom, count in groups:\n",
    "        cnt += int(count)\n",
    "    return cnt\n",
    "\n",
    "def convert_formula_to_counts(formula):\n",
    "    groups = re.findall(r\"([A-Z][a-z]?)(\\d+)\", formula)\n",
    "    counts = {}\n",
    "    for atom, count in groups:\n",
    "        counts[atom] = int(count) if count else 1\n",
    "    return counts\n",
    "\n",
    "def flatten_to_formula(flatten):\n",
    "    # A A B B B <sgx> -> A 2 B 3 <sgx>\n",
    "    groups = re.search(r\"(.+) (<sg.+>)\", flatten)\n",
    "    if not groups:\n",
    "        return None\n",
    "    flatten = groups.group(1)\n",
    "    sg = groups.group(2)\n",
    "    elements = flatten.split()\n",
    "    counts = {}\n",
    "    for element in elements:\n",
    "        if element in counts:\n",
    "            counts[element] += 1\n",
    "        else:\n",
    "            counts[element] = 1\n",
    "    formula = \" \".join(f\"{element} {count}\" for element, count in counts.items())\n",
    "    formula = f\"{formula} {sg}\"\n",
    "    return formula\n",
    "    \n",
    "\n",
    "def formula_to_flatten(formula):\n",
    "    # A2B3 -> A A B B B\n",
    "    groups = re.findall(r\"([A-Z][a-z]*)(\\d*)\", formula)\n",
    "    elements = [atom for atom, count in groups for _ in range(int(count))]\n",
    "    flatten = \" \".join(elements)\n",
    "    return flatten"
   ]
  },
  {
   "cell_type": "code",
   "execution_count": 19,
   "metadata": {},
   "outputs": [],
   "source": [
    "train_data = set() # all in A a.b B c.d format"
   ]
  },
  {
   "cell_type": "code",
   "execution_count": 20,
   "metadata": {},
   "outputs": [],
   "source": [
    "import re\n",
    "exist_train_path = \"/msralaphilly2/ml-la/shufxi/data/scigpt/CrystalLLM/train.txt\"\n",
    "with open(exist_train_path, \"r\") as f:\n",
    "    for line in f:\n",
    "        line = line.strip()\n",
    "        line = line.replace(\"<material>\", \"\").replace(\"</material>\", \"\")\n",
    "        if not re.search(r\"(.+?) <sg.+>\", line):\n",
    "            continue\n",
    "        formula = flatten_to_formula(line)\n",
    "        if formula:\n",
    "            train_data.add(formula)"
   ]
  },
  {
   "cell_type": "code",
   "execution_count": 21,
   "metadata": {},
   "outputs": [],
   "source": [
    "val_path = \"/msralaphilly2/ml-la/shufxi/data/scigpt/CrystalLLM/valid.txt\"\n",
    "val_data = set()\n",
    "with open(val_path, \"r\") as f:\n",
    "    for line in f:\n",
    "        line = line.strip()\n",
    "        line = line.replace(\"<material>\", \"\").replace(\"</material>\", \"\")\n",
    "        if not re.search(r\"(.+?) <sg.+>\", line):\n",
    "            continue\n",
    "        formula = flatten_to_formula(line)\n",
    "        if formula:\n",
    "            val_data.add(formula)"
   ]
  },
  {
   "cell_type": "code",
   "execution_count": 22,
   "metadata": {},
   "outputs": [
    {
     "name": "stdout",
     "output_type": "stream",
     "text": [
      "1108731\n",
      "['Li 1 Pd 1 Sb 1 <sg216>', 'Ce 1 Co 1 Er 2 <sg225>', 'Ba 2 O 2 Se 2 Sr 2 <sg63>', 'Nb 1 Si 1 Y 1 <sg216>', 'Lu 32 <sg99>', 'Al 3 Cu 3 Er 3 <sg189>', 'Cu 1 Te 2 Zr 6 <sg189>', 'Au 3 Zn 1 <sg225>', 'Th 1 Tl 3 Tm 2 <sg164>', 'Al 1 Pm 1 <sg123>']\n",
      "['Mg 3 B 1 Se 1 Cl 3 <sg176>', 'U 1 S 2 <sg62>', 'Ag 1 P 3 Pb 1 O 9 <sg1>', 'Nb 1 Pb 2 S 8 Br 1 <sg1>', 'Ag 3 P 3 O 10 <sg12>', 'Li 2 Tm 3 Te 5 Br 1 <sg15>', 'Ca 1 Te 1 P 2 S 7 <sg62>', 'Ni 1 H 10 C 14 S 10 N 1 O 2 <sg2>', 'Sr 1 Eu 2 S 1 Cl 2 <sg139>', 'Cr 2 Ni 1 Te 1 F 6 <sg14>']\n"
     ]
    }
   ],
   "source": [
    "print(len(train_data))\n",
    "print(list(train_data)[:10])\n",
    "print(list(val_data)[:10])"
   ]
  },
  {
   "cell_type": "code",
   "execution_count": 23,
   "metadata": {},
   "outputs": [
    {
     "name": "stderr",
     "output_type": "stream",
     "text": [
      "  0%|          | 3/18643 [00:00<12:57, 23.97it/s]"
     ]
    },
    {
     "name": "stderr",
     "output_type": "stream",
     "text": [
      "100%|██████████| 18643/18643 [10:06<00:00, 30.73it/s]\n"
     ]
    }
   ],
   "source": [
    "import glob\n",
    "from tqdm import tqdm\n",
    "data_folder = \"/home/renqianluo/ef_p_sg_w\"\n",
    "for file in tqdm(glob.glob(f\"{data_folder}/*\")):\n",
    "    with open(file, \"r\") as f:\n",
    "        for line in f:\n",
    "            line = line.strip().split(\"_\")\n",
    "            formula = line[0]\n",
    "            for e in line[2:]:\n",
    "                if e.isdigit():\n",
    "                    sg = e\n",
    "            groups = re.findall(r\"([A-Z][a-z]*)(\\d+)\", formula)\n",
    "            formula = []\n",
    "            for atom, count in groups:\n",
    "                formula.append(atom)\n",
    "                formula.append(count)\n",
    "            formula.append(f\"<sg{sg}>\")\n",
    "            formula = \" \".join(formula)\n",
    "            if formula not in val_data:\n",
    "                train_data.add(formula)"
   ]
  },
  {
   "cell_type": "code",
   "execution_count": 24,
   "metadata": {},
   "outputs": [
    {
     "name": "stdout",
     "output_type": "stream",
     "text": [
      "15800183\n",
      "['Bi 4 Pb 3 Se 1 O 12 <sg6>', 'Nb 1 Si 1 Y 1 <sg216>', 'Lu 32 <sg99>', 'Ba 5 Al 4 S 7 I 2 <sg1>', 'Na 1 B 5 H 8 O 13 <sg15>', 'Yb 1 Ni 3 Sb 1 O 7 <sg1>', 'Eu 1 Lu 2 Sb 1 O 7 <sg63>', 'Ga 1 Tc 8 S 24 Cl 13 <sg148>', 'Si 3 Ru 1 Pt 1 <sg221>', 'Yb 2 Sm 5 H 1 S 10 <sg12>']\n",
      "['As 3 Cs 1 Y 4 <sg123>', 'As 6 Pd 2 S 17 <sg14>', 'Bi 3 As 3 S 1 O 13 <sg11>', 'Tl 2 Zn 1 P 2 O 52 <sg14>', 'Lu 2 Cd 2 P 4 O 11 <sg15>', 'Ce 1 Pt 7 W 2 O 73 <sg2>', 'As 1 Ca 1 Rh 6 Sb 3 <sg187>', 'Tb 1 Ho 1 Ru 1 Au 1 <sg216>', 'Mg 1 Co 4 As 1 O 52 <sg14>', 'Au 3 H 1 <sg225>']\n"
     ]
    }
   ],
   "source": [
    "print(len(train_data))\n",
    "print(list(train_data)[:10])\n",
    "print(list(train_data)[-10:])"
   ]
  },
  {
   "cell_type": "code",
   "execution_count": 25,
   "metadata": {},
   "outputs": [],
   "source": [
    "import pandas as pd\n",
    "df=pd.read_csv(\"/msralaphilly2/ml-la/yinxia/wu2/shared/SFM/material/structures2/deduplicate_structures.csv\", sep=\",\", header=0)"
   ]
  },
  {
   "cell_type": "code",
   "execution_count": 4,
   "metadata": {},
   "outputs": [
    {
     "name": "stderr",
     "output_type": "stream",
     "text": [
      "100%|██████████| 39859005/39859005 [04:36<00:00, 144392.21it/s]\n"
     ]
    }
   ],
   "source": [
    "import re\n",
    "from tqdm import tqdm\n",
    "ddf = []\n",
    "for line in tqdm(df[\"structure\"]):\n",
    "    formula = []\n",
    "    for e in line.split():\n",
    "        if e.startswith(\"<i>\"):\n",
    "            formula.append(e.replace(\"<i>\", \"\").replace(\"</i>\", \"\"))\n",
    "        if re.search(r\"<sg.+>\", e):\n",
    "            sg = e\n",
    "    formula.append(sg)\n",
    "    formula = \" \".join(formula)\n",
    "    ddf.append(formula)\n",
    "ddf = pd.DataFrame(ddf, columns=[\"formula\"])\n",
    "print(len(ddf))\n",
    "dedup_ddf = ddf.drop_duplicates(subset=[\"formula\"])\n",
    "print(len(dedup_ddf))"
   ]
  },
  {
   "cell_type": "code",
   "execution_count": 26,
   "metadata": {},
   "outputs": [
    {
     "name": "stderr",
     "output_type": "stream",
     "text": [
      "100%|██████████| 39859005/39859005 [04:49<00:00, 137857.99it/s]\n"
     ]
    }
   ],
   "source": [
    "import re\n",
    "from tqdm import tqdm\n",
    "for line in tqdm(df[\"structure\"]):\n",
    "    formula = []\n",
    "    for e in line.split():\n",
    "        if e.startswith(\"<i>\"):\n",
    "            formula.append(e.replace(\"<i>\", \"\").replace(\"</i>\", \"\"))\n",
    "        if re.search(r\"<sg.+>\", e):\n",
    "            sg = e\n",
    "    formula.append(sg)\n",
    "    formula = \" \".join(formula)\n",
    "    if formula not in val_data:\n",
    "        train_data.add(formula)\n"
   ]
  },
  {
   "cell_type": "code",
   "execution_count": 27,
   "metadata": {},
   "outputs": [
    {
     "name": "stdout",
     "output_type": "stream",
     "text": [
      "28617570\n",
      "['Bi 4 Pb 3 Se 1 O 12 <sg6>', 'Nb 1 Si 1 Y 1 <sg216>', 'Lu 32 <sg99>', 'Ho 4 Ga 1 B 1 O 4.3 <sg1>', 'Eu 1 Lu 2 Sb 1 O 7 <sg63>', 'Si 3 Ru 1 Pt 1 <sg221>', 'Ce 4 Eu 1 Cr 1 S 4.3 <sg1>', 'Cu 3 Sb 4 Pd 2 O 11 <sg2>', 'Ba 2 Na 3 Ta 1 S 6 <sg70>', 'V 4 Hg 2 S 11 <sg12>']\n",
      "['Y 1 Co 2 Rh 1 O 5 <sg15>', 'Eu 7 Tl 2 Br 17 N 3.2 <sg12>', 'Ho 2 Fe 1 Mo 1 S 6 <sg123>', 'As 3 Cs 1 Y 4 <sg123>', 'As 6 Pd 2 S 17 <sg14>', 'Bi 3 As 3 S 1 O 13 <sg11>', 'Tl 2 Hg 1 N 2 O 7 <sg55>', 'Ce 1 Pt 7 W 2 O 73 <sg2>', 'Na 2 Tm 8 Pb 6 O 19 <sg12>', 'Au 3 H 1 <sg225>']\n"
     ]
    }
   ],
   "source": [
    "print(len(train_data))\n",
    "print(list(train_data)[:10])\n",
    "print(list(train_data)[-10:])"
   ]
  },
  {
   "cell_type": "code",
   "execution_count": 28,
   "metadata": {},
   "outputs": [
    {
     "name": "stderr",
     "output_type": "stream",
     "text": [
      "100%|██████████| 28617570/28617570 [00:54<00:00, 521110.06it/s]\n"
     ]
    }
   ],
   "source": [
    "from tqdm import tqdm\n",
    "with open(\"/msralaphilly2/ml-la/yinxia/wu2/shared/SFM/material/structures2/train_cf_sg.txt\", \"w\") as f:\n",
    "    for formula in tqdm(train_data):\n",
    "        res = []\n",
    "        line = formula.split()\n",
    "        for i in range(0, len(line)-1, 2):\n",
    "            res.append(line[i])\n",
    "            res += line[i+1]\n",
    "        res.append(line[-1])\n",
    "        res = \" \".join(res)\n",
    "        res = f\"<cf1>{res}</cf1>\"\n",
    "        f.write(res + \"\\n\")"
   ]
  },
  {
   "cell_type": "code",
   "execution_count": 29,
   "metadata": {},
   "outputs": [
    {
     "name": "stderr",
     "output_type": "stream",
     "text": [
      "  0%|          | 53932/28617570 [00:00<00:52, 539303.80it/s]"
     ]
    },
    {
     "name": "stderr",
     "output_type": "stream",
     "text": [
      "100%|██████████| 28617570/28617570 [00:49<00:00, 582715.38it/s]\n"
     ]
    }
   ],
   "source": [
    "from tqdm import tqdm\n",
    "with open(\"/msralaphilly2/ml-la/yinxia/wu2/shared/SFM/material/structures2/train_cf.txt\", \"w\") as f:\n",
    "    for formula in tqdm(train_data):\n",
    "        res = []\n",
    "        line = formula.split()\n",
    "        for i in range(0, len(line)-1, 2):\n",
    "            res.append(line[i])\n",
    "            res += line[i+1]\n",
    "        res = \" \".join(res)\n",
    "        res = f\"<cf2>{res}</cf2>\"\n",
    "        f.write(res + \"\\n\")"
   ]
  },
  {
   "cell_type": "code",
   "execution_count": 30,
   "metadata": {},
   "outputs": [
    {
     "name": "stderr",
     "output_type": "stream",
     "text": [
      "100%|██████████| 28617570/28617570 [01:41<00:00, 282171.37it/s]\n"
     ]
    }
   ],
   "source": [
    "from tqdm import tqdm\n",
    "with open(\"/msralaphilly2/ml-la/yinxia/wu2/shared/SFM/material/structures2/train_fcf_sg.txt\", \"w\") as f:\n",
    "    for formula in tqdm(train_data):\n",
    "        if \".\" in formula:\n",
    "            continue\n",
    "        length = get_length(formula)\n",
    "        if length > 100:\n",
    "            continue\n",
    "        res = []\n",
    "        line = formula.split()\n",
    "        for i in range(0, len(line)-1, 2):\n",
    "            res += [line[i]] * int(line[i+1])\n",
    "        res.append(line[-1])\n",
    "        res = \" \".join(res)\n",
    "        res = f\"<fcf>{res}</fcf>\"\n",
    "        f.write(res + \"\\n\")"
   ]
  },
  {
   "cell_type": "code",
   "execution_count": 2,
   "metadata": {},
   "outputs": [],
   "source": [
    "with open(\"/msralaphilly2/ml-la/yinxia/wu2/shared/SFM/material/structures2/text_to_material_fcf_sg.txt\", \"w\") as fw:\n",
    "    with open(\"/msralaphilly2/ml-la/shufxi/data/scigpt/text2material/train.txt\", \"r\") as fr:\n",
    "        for line in fr:\n",
    "            line = line.strip()\n",
    "            line = line.replace(\"<material>\", \"<fcf>\").replace(\"</material>\", \"</fcf>\")\n",
    "            fw.write(line + \"\\n\")"
   ]
  },
  {
   "cell_type": "code",
   "execution_count": 4,
   "metadata": {},
   "outputs": [],
   "source": [
    "import re\n",
    "\n",
    "def flatten_to_formula(flatten, sg=True):\n",
    "    # A A B B B <sgx> -> A 2 B 3 <sgx>\n",
    "    groups = re.search(r\"(.+) (<sg.+>)\", flatten)\n",
    "    if not groups:\n",
    "        return None\n",
    "    flatten = groups.group(1)\n",
    "    sg = groups.group(2)\n",
    "    elements = flatten.split()\n",
    "    counts = {}\n",
    "    for element in elements:\n",
    "        if element in counts:\n",
    "            counts[element] += 1\n",
    "        else:\n",
    "            counts[element] = 1\n",
    "    formula = []\n",
    "    for element, count in counts.items():\n",
    "        formula.append(element)\n",
    "        formula += str(count)\n",
    "    formula = \" \".join(formula)\n",
    "    if sg:\n",
    "        formula = f\"{formula} {sg}\"\n",
    "    return formula\n",
    "\n",
    "\n",
    "files = [\"/msralaphilly2/ml-la/shufxi/data/scigpt/text2material/train.txt\",\n",
    "         \"/msralaphilly2/ml-la/shufxi/data/scigpt/materials_project_data/train_x10.txt\"]\n",
    "\n",
    "with open(\"/msralaphilly2/ml-la/yinxia/wu2/shared/SFM/material/text_and_material_cf_sg.txt\", \"w\") as fw:\n",
    "    for fname in files:\n",
    "        with open(fname, \"r\") as fr:\n",
    "            for line in fr:\n",
    "                line = line.strip()\n",
    "                groups = re.search(r\"(<material>(.*)</material>)\", line).groups()\n",
    "                seq = groups[0]\n",
    "                fcf = groups[1]\n",
    "                formula = flatten_to_formula(fcf)\n",
    "                if formula:\n",
    "                    new_seq = f\"<cf1>{formula}</cf1>\"\n",
    "                    new_line = line.replace(seq, new_seq)\n",
    "                    fw.write(new_line + \"\\n\")\n",
    "\n",
    "with open(\"/msralaphilly2/ml-la/yinxia/wu2/shared/SFM/material/text_and_material_fcf_sg.txt\", \"w\") as fw:\n",
    "    for fname in files:\n",
    "        with open(fname, \"r\") as fr:\n",
    "            for line in fr:\n",
    "                line = line.strip()\n",
    "                new_line = line.replace(\"<material>\", \"<fcf>\").replace(\"</material>\", \"</fcf>\")\n",
    "                fw.write(new_line + \"\\n\")\n"
   ]
  },
  {
   "cell_type": "code",
   "execution_count": null,
   "metadata": {},
   "outputs": [],
   "source": [
    "from glob import glob\n",
    "from tqdm import tqdm\n",
    "import re\n",
    "\n",
    "def get_length(formula):\n",
    "    groups = re.findall(r\"([A-Z][a-z]*) ?(\\d*)\", formula)\n",
    "    cnt = 0\n",
    "    for atom, count in groups:\n",
    "        cnt += int(count)\n",
    "    return cnt\n",
    "\n",
    "\n",
    "lengths = []\n",
    "for fname in tqdm(glob(\"/home/renqianluo/ef_p_sg_w/*\")):\n",
    "    with open(fname, \"r\") as f:\n",
    "        for line in f:\n",
    "            line = line.strip().split(\"_\")\n",
    "            formula = line[0]\n",
    "            cnt = get_length(formula)\n",
    "            lengths.append(cnt)"
   ]
  },
  {
   "cell_type": "code",
   "execution_count": 22,
   "metadata": {},
   "outputs": [
    {
     "name": "stdout",
     "output_type": "stream",
     "text": [
      "18507.974002273728\n",
      "5483014.800388767\n",
      "12.0\n",
      "0th percentile: 1.0\n",
      "10th percentile: 6.0\n",
      "20th percentile: 8.0\n",
      "30th percentile: 9.0\n",
      "40th percentile: 11.0\n",
      "50th percentile: 12.0\n",
      "60th percentile: 17.0\n",
      "70th percentile: 25.0\n",
      "80th percentile: 39.0\n",
      "90th percentile: 62.0\n",
      "100th percentile: 5255288521.0\n"
     ]
    }
   ],
   "source": [
    "# get statistics of the lengths\n",
    "import numpy as np\n",
    "print(np.mean(lengths))\n",
    "print(np.std(lengths))\n",
    "print(np.median(lengths))\n",
    "for i in range(0, 110, 10):\n",
    "    print(f\"{i}th percentile: {np.percentile(lengths, i)}\")"
   ]
  },
  {
   "cell_type": "code",
   "execution_count": 23,
   "metadata": {},
   "outputs": [
    {
     "name": "stdout",
     "output_type": "stream",
     "text": [
      "90th percentile: 62.0\n",
      "91th percentile: 69.0\n",
      "92th percentile: 79.0\n",
      "93th percentile: 90.0\n",
      "94th percentile: 111.0\n",
      "95th percentile: 164.0\n",
      "96th percentile: 271.0\n",
      "97th percentile: 850.0\n",
      "98th percentile: 4809.0\n",
      "99th percentile: 28113.0\n",
      "100th percentile: 5255288521.0\n"
     ]
    }
   ],
   "source": [
    "for i in range(90, 101, 1):\n",
    "    print(f\"{i}th percentile: {np.percentile(lengths, i)}\")"
   ]
  },
  {
   "cell_type": "code",
   "execution_count": 24,
   "metadata": {},
   "outputs": [
    {
     "data": {
      "image/png": "[encoded data removed]",
      "text/plain": [
       "<Figure size 640x480 with 1 Axes>"
      ]
     },
     "metadata": {},
     "output_type": "display_data"
    },
    {
     "data": {
      "text/plain": [
       "<Figure size 640x480 with 0 Axes>"
      ]
     },
     "metadata": {},
     "output_type": "display_data"
    }
   ],
   "source": [
    "# distribution of lengths\n",
    "import matplotlib.pyplot as plt\n",
    "plt.hist(lengths, bins=10)\n",
    "plt.xlabel(\"Length\")\n",
    "plt.ylabel(\"Count\")\n",
    "plt.title(\"Distribution of lengths\")\n",
    "plt.show()\n",
    "plt.savefig(\"lengths.png\")"
   ]
  }
 ],
 "metadata": {
  "kernelspec": {
   "display_name": "sfm_moe",
   "language": "python",
   "name": "python3"
  },
  "language_info": {
   "codemirror_mode": {
    "name": "ipython",
    "version": 3
   },
   "file_extension": ".py",
   "mimetype": "text/x-python",
   "name": "python",
   "nbconvert_exporter": "python",
   "pygments_lexer": "ipython3",
   "version": "3.11.9"
  }
 },
 "nbformat": 4,
 "nbformat_minor": 2
}
