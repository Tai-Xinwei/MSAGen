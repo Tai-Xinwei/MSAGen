{
 "cells": [
  {
   "cell_type": "code",
   "execution_count": 28,
   "metadata": {},
   "outputs": [],
   "source": [
    "# -*- coding: utf-8 -*-\n",
    "instructions = [\n",
    "    \"/msralaphilly2/ml-la/renqian/SFM/threedimargen/data/materials_data/instruct/base1b/instruct_task_20240807/1b_dialogue_1v1_bs2048_steps_20000/all/test.comp_to_material.tsv.response.valid.inst.txt\",\n",
    "    \"/msralaphilly2/ml-la/renqian/SFM/threedimargen/data/materials_data/instruct/base8b/instruct_task_20240807/8b_dialogue_1v1_bs2048_steps_20000/all/test.comp_to_material.tsv.response.valid.inst.txt\",\n",
    "    \"/msralaphilly2/ml-la/renqian/SFM/threedimargen/data/materials_data/instruct/8x7b/7755/test.comp_to_material.response.valid.inst.txt.0.75\"\n",
    "]\n",
    "\n",
    "responses = [\n",
    "    \"/msralaphilly2/ml-la/renqian/SFM/threedimargen/data/materials_data/instruct/base1b/instruct_task_20240807/1b_dialogue_1v1_bs2048_steps_20000/all/test.comp_to_material.tsv.response.valid.txt\",\n",
    "    \"/msralaphilly2/ml-la/renqian/SFM/threedimargen/data/materials_data/instruct/base8b/instruct_task_20240807/8b_dialogue_1v1_bs2048_steps_20000/all/test.comp_to_material.tsv.response.valid.txt\",\n",
    "    \"/msralaphilly2/ml-la/renqian/SFM/threedimargen/data/materials_data/instruct/8x7b/7755/test.comp_to_material.response.valid.txt.0.75\",\n",
    "]"
   ]
  },
  {
   "cell_type": "code",
   "execution_count": 40,
   "metadata": {},
   "outputs": [
    {
     "name": "stdout",
     "output_type": "stream",
     "text": [
      "42693\n",
      "['Bi2Ir1Pd1<sg164>', 'Nd2Sn2<sg63>', 'Ag1As2Mn1<sg166>', 'Sb2Sc2<sg109>', 'B3C5U4<sg25>', 'As2Sc1Sn1<sg164>', 'Bi3Th1<sg123>', 'Ac1Eu2<sg191>', 'Ge2Hf2<sg63>', 'Ca1Hg2<sg139>']\n",
      "35093\n"
     ]
    }
   ],
   "source": [
    "train_file = \"/msralaphilly2/ml-la/yinxia/wu2/shared/SFM/SFM.overall.data/SFMMolInstruct.20240807/BulkModulus/train.bulk.tsv\"\n",
    "import pandas as pd\n",
    "from collections import Counter\n",
    "train_data = []\n",
    "with open(train_file, \"r\") as f:\n",
    "    data = pd.read_csv(f, sep=\"\\t\", header=None)\n",
    "    for row in data.iterrows():\n",
    "        inst = row[1][0]\n",
    "        seq = row[1][1]\n",
    "        seq = seq.replace(\"<material>\", \"\").replace(\"</material>\", \"\").strip().split()\n",
    "        elements = seq[:-1]\n",
    "        sg = seq[-1]\n",
    "        elements = Counter(elements)\n",
    "        formula = \"\"\n",
    "        for key in sorted(elements.keys()):\n",
    "            formula += f\"{key}{elements[key]}\"\n",
    "        formula += sg\n",
    "        train_data.append(formula)\n",
    "print(len(train_data))\n",
    "print(train_data[:10])\n",
    "train_data = set(train_data)\n",
    "print(len(train_data))"
   ]
  },
  {
   "cell_type": "code",
   "execution_count": 41,
   "metadata": {},
   "outputs": [],
   "source": [
    "from collections import Counter\n",
    "import re\n",
    "import periodictable\n",
    "\n",
    "\n",
    "chemical_elements = [element.symbol for element in periodictable.elements][1:]\n",
    "\n",
    "pattern = re.compile(r'\\b(' + '|'.join(chemical_elements) + r')\\b')  \n",
    "\n",
    "\n",
    "file_indices = {\n",
    "    0: \"SFM-Seq 1B\",\n",
    "    1: \"SFM-Seq 8B\",\n",
    "    2: \"SFM-Seq 8x7B\"\n",
    "}\n",
    "\n",
    "\n",
    "def evaluate(index, novelty=False):\n",
    "    metrics = []\n",
    "    total = 0\n",
    "    novelty = 0\n",
    "    with open(instructions[index], \"r\") as f:\n",
    "        insts = f.readlines()\n",
    "    with open(responses[index], \"r\") as f:\n",
    "        resps = f.readlines()\n",
    "    for inst, resp in zip(insts, resps):\n",
    "        seq = resp.split()[:-1]\n",
    "        sg = resp.split()[-1]\n",
    "        temp = Counter(seq)\n",
    "        formula = \"\"\n",
    "        for key in sorted(temp.keys()):\n",
    "            formula += f\"{key}{temp[key]}\"\n",
    "        formula += sg\n",
    "\n",
    "        total += 1\n",
    "        if novelty and (formula in train_data):\n",
    "            continue\n",
    "        novelty += 1\n",
    "\n",
    "        # determine elements in inst\n",
    "        elements_in_inst = set(pattern.findall(inst))\n",
    "        if len(elements_in_inst) == 0:\n",
    "            continue\n",
    "        # determine elements in seq\n",
    "        elements_in_seq = set(resp.split()[:-1])\n",
    "        # determine elements appeard in both\n",
    "        elements_in_both = set(elements_in_inst) & set(elements_in_seq)\n",
    "        metric = len(set(elements_in_both)) / len(set(elements_in_inst))\n",
    "        metrics.append(metric)\n",
    "\n",
    "    print(f\"{file_indices[index]} {sum(metrics) / len(metrics)}\")\n",
    "    if novelty:\n",
    "        print(f\"Total: {total}\")\n",
    "        print(f\"Novel: {novelty}\")\n",
    "        print(f\"Novel rate: {novelty}/{total} = {novelty/total:.4f}\")\n",
    "    return       \n",
    "                "
   ]
  },
  {
   "cell_type": "code",
   "execution_count": 36,
   "metadata": {},
   "outputs": [
    {
     "name": "stdout",
     "output_type": "stream",
     "text": [
      "SFM-Seq 1B 0.9794822554712099\n",
      "SFM-Seq 8B 0.9844021495745603\n",
      "SFM-Seq 8x7B 0.9767859469641964\n"
     ]
    }
   ],
   "source": [
    "evaluate(0)\n",
    "evaluate(1)\n",
    "evaluate(2)"
   ]
  },
  {
   "cell_type": "code",
   "execution_count": 42,
   "metadata": {},
   "outputs": [
    {
     "name": "stdout",
     "output_type": "stream",
     "text": [
      "SFM-Seq 1B 0.9792372166906258\n",
      "Total: 11069\n",
      "Novel: 10751\n",
      "Novel rate: 10751/11069 = 0.9713\n",
      "SFM-Seq 8B 0.9838287871150727\n",
      "Total: 12792\n",
      "Novel: 12218\n",
      "Novel rate: 12218/12792 = 0.9551\n",
      "SFM-Seq 8x7B 0.9759970097066786\n",
      "Total: 25631\n",
      "Novel: 24306\n",
      "Novel rate: 24306/25631 = 0.9483\n"
     ]
    }
   ],
   "source": [
    "evaluate(0, True)\n",
    "evaluate(1, True)\n",
    "evaluate(2, True)"
   ]
  }
 ],
 "metadata": {
  "kernelspec": {
   "display_name": "sfm",
   "language": "python",
   "name": "python3"
  },
  "language_info": {
   "codemirror_mode": {
    "name": "ipython",
    "version": 3
   },
   "file_extension": ".py",
   "mimetype": "text/x-python",
   "name": "python",
   "nbconvert_exporter": "python",
   "pygments_lexer": "ipython3",
   "version": "3.11.9"
  }
 },
 "nbformat": 4,
 "nbformat_minor": 2
}
