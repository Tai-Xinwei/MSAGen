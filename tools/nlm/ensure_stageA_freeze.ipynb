{
 "cells": [
  {
   "cell_type": "code",
   "execution_count": 3,
   "metadata": {},
   "outputs": [],
   "source": [
    "import torch"
   ]
  },
  {
   "cell_type": "code",
   "execution_count": 28,
   "metadata": {},
   "outputs": [],
   "source": [
    "base_first_layer = torch.load('/nlm/Mixtral-8x7B-v0.1/layer_00-model_states.pt')\n",
    "base_last_layer = torch.load('/nlm/Mixtral-8x7B-v0.1/layer_34-model_states.pt')\n",
    "base_middle_layer = torch.load('/nlm/Mixtral-8x7B-v0.1/layer_16-model_states.pt')"
   ]
  },
  {
   "cell_type": "code",
   "execution_count": 6,
   "metadata": {},
   "outputs": [
    {
     "data": {
      "text/plain": [
       "dict_keys(['embed_tokens.weight'])"
      ]
     },
     "execution_count": 6,
     "metadata": {},
     "output_type": "execute_result"
    }
   ],
   "source": [
    "base_first_layer.keys()"
   ]
  },
  {
   "cell_type": "code",
   "execution_count": 17,
   "metadata": {},
   "outputs": [
    {
     "data": {
      "text/plain": [
       "torch.Size([32000, 4096])"
      ]
     },
     "execution_count": 17,
     "metadata": {},
     "output_type": "execute_result"
    }
   ],
   "source": [
    "base_first_layer['embed_tokens.weight'].shape"
   ]
  },
  {
   "cell_type": "code",
   "execution_count": 22,
   "metadata": {},
   "outputs": [],
   "source": [
    "tuned_first_layer = torch.load('/nlm/shufxi/nlm/8x7b_v2/stageA/global_step40000/layer_00-model_states.pt', map_location='cpu')\n",
    "tuned_last_layer = torch.load('/nlm/shufxi/nlm/8x7b_v2/stageA/global_step40000/layer_34-model_states.pt', map_location='cpu')\n",
    "tuned_middle_layer = torch.load('/nlm/shufxi/nlm/8x7b_v2/stageA/global_step40000/layer_16-model_states.pt', map_location='cpu')"
   ]
  },
  {
   "cell_type": "code",
   "execution_count": 13,
   "metadata": {},
   "outputs": [
    {
     "data": {
      "text/plain": [
       "odict_keys(['dummy.weight', 'dummy.bias', 'embed_tokens.weight'])"
      ]
     },
     "execution_count": 13,
     "metadata": {},
     "output_type": "execute_result"
    }
   ],
   "source": [
    "tuned_first_layer.keys()"
   ]
  },
  {
   "cell_type": "code",
   "execution_count": 19,
   "metadata": {},
   "outputs": [
    {
     "data": {
      "text/plain": [
       "torch.Size([38078, 4096])"
      ]
     },
     "execution_count": 19,
     "metadata": {},
     "output_type": "execute_result"
    }
   ],
   "source": [
    "tuned_first_layer['embed_tokens.weight'].shape"
   ]
  },
  {
   "cell_type": "code",
   "execution_count": 23,
   "metadata": {},
   "outputs": [
    {
     "data": {
      "text/plain": [
       "tensor(0., dtype=torch.bfloat16)"
      ]
     },
     "execution_count": 23,
     "metadata": {},
     "output_type": "execute_result"
    }
   ],
   "source": [
    "(base_first_layer['embed_tokens.weight'] - tuned_first_layer['embed_tokens.weight'][:32000]).abs().max()"
   ]
  },
  {
   "cell_type": "code",
   "execution_count": 29,
   "metadata": {},
   "outputs": [
    {
     "name": "stdout",
     "output_type": "stream",
     "text": [
      "dict_keys(['lm_head.weight'])\n",
      "odict_keys(['lm_head.weight', 'dummy.weight', 'dummy.bias'])\n"
     ]
    }
   ],
   "source": [
    "print(base_last_layer.keys())\n",
    "print(tuned_last_layer.keys())"
   ]
  },
  {
   "cell_type": "code",
   "execution_count": 30,
   "metadata": {},
   "outputs": [
    {
     "data": {
      "text/plain": [
       "tensor(0., dtype=torch.bfloat16)"
      ]
     },
     "execution_count": 30,
     "metadata": {},
     "output_type": "execute_result"
    }
   ],
   "source": [
    "(base_last_layer['lm_head.weight']-tuned_last_layer['lm_head.weight'][:32000]).abs().max()"
   ]
  },
  {
   "cell_type": "code",
   "execution_count": 31,
   "metadata": {},
   "outputs": [
    {
     "name": "stdout",
     "output_type": "stream",
     "text": [
      "self_attn.q_proj.weight tensor(0., dtype=torch.bfloat16)\n",
      "self_attn.k_proj.weight tensor(0., dtype=torch.bfloat16)\n",
      "self_attn.v_proj.weight tensor(0., dtype=torch.bfloat16)\n",
      "self_attn.o_proj.weight tensor(0., dtype=torch.bfloat16)\n",
      "block_sparse_moe.experts.0.w1.weight tensor(0., dtype=torch.bfloat16)\n",
      "block_sparse_moe.experts.0.w2.weight tensor(0., dtype=torch.bfloat16)\n",
      "block_sparse_moe.experts.0.w3.weight tensor(0., dtype=torch.bfloat16)\n",
      "block_sparse_moe.experts.1.w1.weight tensor(0., dtype=torch.bfloat16)\n",
      "block_sparse_moe.experts.1.w2.weight tensor(0., dtype=torch.bfloat16)\n",
      "block_sparse_moe.experts.1.w3.weight tensor(0., dtype=torch.bfloat16)\n",
      "block_sparse_moe.experts.2.w1.weight tensor(0., dtype=torch.bfloat16)\n",
      "block_sparse_moe.experts.2.w2.weight tensor(0., dtype=torch.bfloat16)\n",
      "block_sparse_moe.experts.2.w3.weight tensor(0., dtype=torch.bfloat16)\n",
      "block_sparse_moe.experts.3.w1.weight tensor(0., dtype=torch.bfloat16)\n",
      "block_sparse_moe.experts.3.w2.weight tensor(0., dtype=torch.bfloat16)\n",
      "block_sparse_moe.experts.3.w3.weight tensor(0., dtype=torch.bfloat16)\n",
      "block_sparse_moe.experts.4.w1.weight tensor(0., dtype=torch.bfloat16)\n",
      "block_sparse_moe.experts.4.w2.weight tensor(0., dtype=torch.bfloat16)\n",
      "block_sparse_moe.experts.4.w3.weight tensor(0., dtype=torch.bfloat16)\n",
      "block_sparse_moe.experts.5.w1.weight tensor(0., dtype=torch.bfloat16)\n",
      "block_sparse_moe.experts.5.w2.weight tensor(0., dtype=torch.bfloat16)\n",
      "block_sparse_moe.experts.5.w3.weight tensor(0., dtype=torch.bfloat16)\n",
      "block_sparse_moe.experts.6.w1.weight tensor(0., dtype=torch.bfloat16)\n",
      "block_sparse_moe.experts.6.w2.weight tensor(0., dtype=torch.bfloat16)\n",
      "block_sparse_moe.experts.6.w3.weight tensor(0., dtype=torch.bfloat16)\n",
      "block_sparse_moe.experts.7.w1.weight tensor(0., dtype=torch.bfloat16)\n",
      "block_sparse_moe.experts.7.w2.weight tensor(0., dtype=torch.bfloat16)\n",
      "block_sparse_moe.experts.7.w3.weight tensor(0., dtype=torch.bfloat16)\n",
      "block_sparse_moe.gate.weight tensor(0., dtype=torch.bfloat16)\n",
      "input_layernorm.weight tensor(0., dtype=torch.bfloat16)\n",
      "post_attention_layernorm.weight tensor(0., dtype=torch.bfloat16)\n"
     ]
    }
   ],
   "source": [
    "for k in base_middle_layer.keys():\n",
    "    print(k, (base_middle_layer[k] - tuned_middle_layer[k]).abs().max())"
   ]
  },
  {
   "cell_type": "code",
   "execution_count": 33,
   "metadata": {},
   "outputs": [
    {
     "data": {
      "text/plain": [
       "tensor([[-0.0182, -0.2148,  0.8242,  ...,  1.1875, -0.7305,  1.7188],\n",
       "        [-0.7227,  0.5312, -1.0625,  ..., -0.3926,  0.3535, -0.6172],\n",
       "        [ 0.1396,  0.6562, -0.5273,  ...,  1.4844,  1.2500,  1.8359],\n",
       "        ...,\n",
       "        [ 1.9531, -0.4746,  0.6797,  ..., -0.9414, -1.4375, -0.0403],\n",
       "        [-0.6055,  1.2734, -1.0312,  ..., -0.6016,  0.3887,  0.8984],\n",
       "        [ 1.4453, -0.7461, -0.8008,  ...,  0.0771, -0.7031, -0.2656]],\n",
       "       dtype=torch.bfloat16)"
      ]
     },
     "execution_count": 33,
     "metadata": {},
     "output_type": "execute_result"
    }
   ],
   "source": [
    "tuned_first_layer['embed_tokens.weight'][32000:, :10]"
   ]
  },
  {
   "cell_type": "code",
   "execution_count": null,
   "metadata": {},
   "outputs": [],
   "source": []
  }
 ],
 "metadata": {
  "kernelspec": {
   "display_name": "sfm",
   "language": "python",
   "name": "python3"
  },
  "language_info": {
   "codemirror_mode": {
    "name": "ipython",
    "version": 3
   },
   "file_extension": ".py",
   "mimetype": "text/x-python",
   "name": "python",
   "nbconvert_exporter": "python",
   "pygments_lexer": "ipython3",
   "version": "3.11.9"
  }
 },
 "nbformat": 4,
 "nbformat_minor": 2
}
