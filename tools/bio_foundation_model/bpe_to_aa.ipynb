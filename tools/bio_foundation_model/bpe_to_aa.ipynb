{
 "cells": [
  {
   "cell_type": "code",
   "execution_count": 1,
   "metadata": {},
   "outputs": [],
   "source": [
    "vocab_path = '/blob/shufxi/data/biofm/ur50bpe/ur50bpe.vocab'\n",
    "\n",
    "bpe_vocab = []\n",
    "with open(vocab_path, 'r') as f:\n",
    "    for line in f:\n",
    "        bpe_vocab.append(line.strip())"
   ]
  },
  {
   "cell_type": "code",
   "execution_count": 3,
   "metadata": {},
   "outputs": [
    {
     "data": {
      "text/plain": [
       "['<unk>', '<s>', '</s>', '<pad>', 'M', 'L', 'A', 'S', 'V', 'R']"
      ]
     },
     "execution_count": 3,
     "metadata": {},
     "output_type": "execute_result"
    }
   ],
   "source": [
    "bpe_vocab[:10]"
   ]
  },
  {
   "cell_type": "code",
   "execution_count": 26,
   "metadata": {},
   "outputs": [
    {
     "name": "stdout",
     "output_type": "stream",
     "text": [
      "XXXXXXXXXXXXXXXX\n",
      "AAAAAA\n",
      "SSSSSS\n",
      "QQQQQQ\n",
      "GGGGGG\n",
      "PPPPPP\n",
      "QQQQQQQ\n",
      "HTGEKPY\n",
      "AAAAAAA\n",
      "XXXXXXXXXXX\n",
      "DDDDDDD\n",
      "PPPPPPP\n",
      "AAAAAAAAAA\n",
      "NNNNNN\n",
      "SSSSSSS\n",
      "EEEEEEEE\n",
      "EEEEEE\n",
      "QQQQQQQQQQQQ\n",
      "QQQQQQQQ\n",
      "GGGGGGG\n",
      "XXXXXXX\n",
      "QQQQQQQQQQ\n",
      "TTTTTTTT\n",
      "AAAAAAAA\n",
      "NNNNNNNNNN\n",
      "DDDDDD\n",
      "SSSSSSSSSSS\n",
      "QQQQQQQQQQQQQQQQ\n",
      "TTTTTT\n",
      "GAGKTT\n",
      "GGGGGGGG\n",
      "HTGEKPF\n",
      "RSRSRS\n",
      "QQQQQQQQQ\n",
      "LLLLLL\n",
      "KKKKKKK\n",
      "SSSSSSSSS\n",
      "AAAAAAAAA\n",
      "PPPPPPPPP\n",
      "EEEEEEE\n",
      "SSSSSSSS\n",
      "TGSGKT\n",
      "GKSTLL\n",
      "NNNNNNNN\n",
      "KKKKKK\n"
     ]
    }
   ],
   "source": [
    "aa_vocab = set()\n",
    "bpe_len = []\n",
    "for bpe in bpe_vocab:\n",
    "    if bpe.startswith('<'):\n",
    "        bpe_len.append(0)\n",
    "    else:\n",
    "        bpe_len.append(len(bpe))\n",
    "        if len(bpe) > 5:\n",
    "            print(bpe)\n",
    "        \n",
    "        aa_vocab.update(bpe)"
   ]
  },
  {
   "cell_type": "code",
   "execution_count": 34,
   "metadata": {},
   "outputs": [],
   "source": [
    "aa_vocab = sorted(list(aa_vocab))"
   ]
  },
  {
   "cell_type": "code",
   "execution_count": 35,
   "metadata": {},
   "outputs": [
    {
     "data": {
      "text/plain": [
       "24"
      ]
     },
     "execution_count": 35,
     "metadata": {},
     "output_type": "execute_result"
    }
   ],
   "source": [
    "len(aa_vocab)"
   ]
  },
  {
   "cell_type": "code",
   "execution_count": 36,
   "metadata": {},
   "outputs": [
    {
     "name": "stdout",
     "output_type": "stream",
     "text": [
      "16\n"
     ]
    }
   ],
   "source": [
    "label_len = max(bpe_len)\n",
    "print(label_len)"
   ]
  },
  {
   "cell_type": "code",
   "execution_count": 37,
   "metadata": {},
   "outputs": [],
   "source": [
    "bpe_to_aa = []\n",
    "\n",
    "for bpe in bpe_vocab:\n",
    "    label = [-1] * label_len\n",
    "    if not bpe.startswith('<'):\n",
    "        for i, c in enumerate(bpe):\n",
    "            label[i] = aa_vocab.index(c)\n",
    "    bpe_to_aa.append(label)\n"
   ]
  },
  {
   "cell_type": "code",
   "execution_count": 42,
   "metadata": {},
   "outputs": [
    {
     "data": {
      "text/plain": [
       "[[-1, -1, -1, -1, -1, -1, -1, -1, -1, -1, -1, -1, -1, -1, -1, -1],\n",
       " [-1, -1, -1, -1, -1, -1, -1, -1, -1, -1, -1, -1, -1, -1, -1, -1],\n",
       " [-1, -1, -1, -1, -1, -1, -1, -1, -1, -1, -1, -1, -1, -1, -1, -1],\n",
       " [-1, -1, -1, -1, -1, -1, -1, -1, -1, -1, -1, -1, -1, -1, -1, -1],\n",
       " [11, -1, -1, -1, -1, -1, -1, -1, -1, -1, -1, -1, -1, -1, -1, -1],\n",
       " [10, -1, -1, -1, -1, -1, -1, -1, -1, -1, -1, -1, -1, -1, -1, -1],\n",
       " [0, -1, -1, -1, -1, -1, -1, -1, -1, -1, -1, -1, -1, -1, -1, -1],\n",
       " [16, -1, -1, -1, -1, -1, -1, -1, -1, -1, -1, -1, -1, -1, -1, -1],\n",
       " [19, -1, -1, -1, -1, -1, -1, -1, -1, -1, -1, -1, -1, -1, -1, -1],\n",
       " [15, -1, -1, -1, -1, -1, -1, -1, -1, -1, -1, -1, -1, -1, -1, -1],\n",
       " [4, -1, -1, -1, -1, -1, -1, -1, -1, -1, -1, -1, -1, -1, -1, -1],\n",
       " [6, -1, -1, -1, -1, -1, -1, -1, -1, -1, -1, -1, -1, -1, -1, -1],\n",
       " [17, -1, -1, -1, -1, -1, -1, -1, -1, -1, -1, -1, -1, -1, -1, -1],\n",
       " [8, -1, -1, -1, -1, -1, -1, -1, -1, -1, -1, -1, -1, -1, -1, -1],\n",
       " [9, -1, -1, -1, -1, -1, -1, -1, -1, -1, -1, -1, -1, -1, -1, -1],\n",
       " [3, -1, -1, -1, -1, -1, -1, -1, -1, -1, -1, -1, -1, -1, -1, -1],\n",
       " [14, -1, -1, -1, -1, -1, -1, -1, -1, -1, -1, -1, -1, -1, -1, -1],\n",
       " [5, -1, -1, -1, -1, -1, -1, -1, -1, -1, -1, -1, -1, -1, -1, -1],\n",
       " [13, -1, -1, -1, -1, -1, -1, -1, -1, -1, -1, -1, -1, -1, -1, -1],\n",
       " [12, -1, -1, -1, -1, -1, -1, -1, -1, -1, -1, -1, -1, -1, -1, -1]]"
      ]
     },
     "execution_count": 42,
     "metadata": {},
     "output_type": "execute_result"
    }
   ],
   "source": [
    "bpe_to_aa[:20]"
   ]
  },
  {
   "cell_type": "code",
   "execution_count": 39,
   "metadata": {},
   "outputs": [
    {
     "name": "stdout",
     "output_type": "stream",
     "text": [
      "16384\n",
      "16384\n",
      "16384\n",
      "24\n",
      "['A', 'B', 'C', 'D', 'E', 'F', 'G', 'H', 'I', 'K', 'L', 'M', 'N', 'P', 'Q', 'R', 'S', 'T', 'U', 'V', 'W', 'X', 'Y', 'Z']\n"
     ]
    }
   ],
   "source": [
    "print(len(bpe_vocab))\n",
    "print(len(bpe_to_aa))\n",
    "print(len(bpe_len))\n",
    "print(len(aa_vocab))\n",
    "print(aa_vocab)"
   ]
  },
  {
   "cell_type": "code",
   "execution_count": 44,
   "metadata": {},
   "outputs": [
    {
     "data": {
      "text/plain": [
       "array([-1, -1, -1, -1, -1, -1, -1, -1, -1, -1, -1, -1, -1, -1, -1, -1])"
      ]
     },
     "execution_count": 44,
     "metadata": {},
     "output_type": "execute_result"
    }
   ],
   "source": [
    "np.array(bpe_to_aa)[0]"
   ]
  },
  {
   "cell_type": "code",
   "execution_count": 41,
   "metadata": {},
   "outputs": [],
   "source": [
    "import numpy as np\n",
    "\n",
    "np.savez(\n",
    "    '/blob/shufxi/data/biofm/ur50bpe/ur50bpe.bpe2aa.npz',\n",
    "    bpe_to_aa= np.array(bpe_to_aa),\n",
    "    bpe_len=np.array(bpe_len),\n",
    "    aa_vocab=np.array(aa_vocab)\n",
    ")"
   ]
  },
  {
   "cell_type": "code",
   "execution_count": null,
   "metadata": {},
   "outputs": [],
   "source": []
  }
 ],
 "metadata": {
  "kernelspec": {
   "display_name": "sfm",
   "language": "python",
   "name": "python3"
  },
  "language_info": {
   "codemirror_mode": {
    "name": "ipython",
    "version": 3
   },
   "file_extension": ".py",
   "mimetype": "text/x-python",
   "name": "python",
   "nbconvert_exporter": "python",
   "pygments_lexer": "ipython3",
   "version": "3.9.18"
  }
 },
 "nbformat": 4,
 "nbformat_minor": 2
}
